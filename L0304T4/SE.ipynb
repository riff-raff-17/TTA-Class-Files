{
 "cells": [
  {
   "cell_type": "code",
   "execution_count": 1,
   "id": "34bd7a20",
   "metadata": {},
   "outputs": [
    {
     "name": "stdout",
     "output_type": "stream",
     "text": [
      "{'UGOT_9FCC': '192.168.1.242', 'UGOT_9FDC': '192.168.1.5'}\n",
      "192.168.1.5:50051\n"
     ]
    }
   ],
   "source": [
    "from ugot import ugot\n",
    "import time\n",
    "\n",
    "got = ugot.UGOT()\n",
    "\n",
    "# scan\n",
    "print(got.scan_device())\n",
    "\n",
    "# initialize\n",
    "got.initialize('192.168.1.5')"
   ]
  },
  {
   "cell_type": "code",
   "execution_count": 2,
   "id": "041bc193",
   "metadata": {},
   "outputs": [
    {
     "name": "stdout",
     "output_type": "stream",
     "text": [
      "{'UGOT_3B5A': '192.168.1.182', 'UGOT_9FDC': '192.168.1.5'}\n"
     ]
    }
   ],
   "source": [
    "got.screen_display_background(0)\n",
    "\n",
    "#0 Black; 1 White; 2 Purple; 3 Red; 4 Orange; 5 Yellow; 6 Green; 7 Cyan; 8 Blue\n",
    "\n",
    "while True:\n",
    "    \n",
    "    command = input(\"What do you want to test? \\n1: Light \\n2: Speech \\n3: Motors/Servos \\nOthers: Quit \\n>\")\n",
    "    \n",
    "    if command == '1':\n",
    "        got.screen_print_text_newline(\"Selected lights\", 1)\n",
    "        got.show_light_rgb([0], 0, 0, 255)\n",
    "        got.turn_off_lights()\n",
    "        time.sleep(0.5)\n",
    "        got.show_light_rgb([1], 0, 0, 255)\n",
    "        got.turn_off_lights()\n",
    "        time.sleep(0.5)\n",
    "    elif command == '2':\n",
    "        got.screen_print_text_newline(\"Selected speech\", 1)\n",
    "        got.play_audio_tts('Speech test in progress...', 0, True)\n",
    "        got.play_audio_tts('Speech test finished!', 0, True)\n",
    "        \n",
    "    elif command == '3':\n",
    "        got.screen_print_text_newline(\"Selected motors/servos\", 1)\n",
    "        got.wheelleg_start_balancing()\n",
    "        #...\n",
    "        got.wheelleg_stop_balancing()\n",
    "        \n",
    "    else:\n",
    "        got.screen_print_text_newline(\"Finished\", 1)\n",
    "        got.screen_clear()\n",
    "        break"
   ]
  },
  {
   "cell_type": "code",
   "execution_count": 4,
   "id": "e4ca58de",
   "metadata": {},
   "outputs": [
    {
     "name": "stdout",
     "output_type": "stream",
     "text": [
      "What do you want to test? \n",
      "1:Light \n",
      "2: Speech \n",
      "3: Motors/Servos \n",
      "Others: Quite\n"
     ]
    }
   ],
   "source": []
  }
 ],
 "metadata": {
  "kernelspec": {
   "display_name": "Python 3 (ipykernel)",
   "language": "python",
   "name": "python3"
  },
  "language_info": {
   "codemirror_mode": {
    "name": "ipython",
    "version": 3
   },
   "file_extension": ".py",
   "mimetype": "text/x-python",
   "name": "python",
   "nbconvert_exporter": "python",
   "pygments_lexer": "ipython3",
   "version": "3.11.7"
  }
 },
 "nbformat": 4,
 "nbformat_minor": 5
}
