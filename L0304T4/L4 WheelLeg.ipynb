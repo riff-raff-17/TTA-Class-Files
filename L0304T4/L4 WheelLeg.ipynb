{
 "cells": [
  {
   "cell_type": "code",
   "execution_count": null,
   "id": "23cbb52e",
   "metadata": {},
   "outputs": [],
   "source": [
    "from ugot import ugot\n",
    "import pynput\n",
    "import time\n",
    "\n",
    "got = ugot.UGOT()\n",
    "\n",
    "got.initialize('0.0.0.0')"
   ]
  },
  {
   "cell_type": "code",
   "execution_count": null,
   "id": "b7049f28",
   "metadata": {},
   "outputs": [],
   "source": [
    "got.wheelleg_restory()\n",
    "\n",
    "got.wheelleg_start_balancing()\n",
    "\n",
    "got.play_audio_tts('hello', 0, True)\n",
    "\n",
    "got.show_light_rgb([0,1,2,3], 0, 0, 255)\n",
    "\n",
    "got.wheelleg_move_speed_times(0, 30, 50, 1)\n",
    "\n",
    "got.turn_off_lights()"
   ]
  },
  {
   "cell_type": "code",
   "execution_count": 1,
   "id": "fc08c1af",
   "metadata": {},
   "outputs": [
    {
     "name": "stdout",
     "output_type": "stream",
     "text": [
      "0\n",
      "1\n",
      "2\n",
      "3\n"
     ]
    }
   ],
   "source": [
    "for i in range(4):\n",
    "    #move forwards\n",
    "    #turn leftb"
   ]
  },
  {
   "cell_type": "code",
   "execution_count": 5,
   "id": "09977326",
   "metadata": {},
   "outputs": [
    {
     "name": "stdout",
     "output_type": "stream",
     "text": [
      "hello woah       \n"
     ]
    }
   ],
   "source": [
    "def on_press(key):\n",
    "    try:\n",
    "        if key.char == 'w':\n",
    "            got.wheelleg_move_speed(0, 30)\n",
    "    except AttributeError:\n",
    "        print('special key {0} pressed'.format(\n",
    "            key))\n",
    "\n",
    "def on_release(key):\n",
    "    try:\n",
    "        if key.char == 'w':\n",
    "            got.wheelleg_stop_balancing()\n",
    "    except AttributeError:\n",
    "        print('special key {0} pressed'.format(\n",
    "            key))\n",
    "\n",
    "    if key == Key.esc:\n",
    "        # Stop listener\n",
    "        return False\n",
    "    \n",
    "        \n",
    "with Listener(\n",
    "        on_press=on_press,\n",
    "        on_release=on_release) as listener:\n",
    "    listener.join()\n"
   ]
  }
 ],
 "metadata": {
  "kernelspec": {
   "display_name": "Python 3 (ipykernel)",
   "language": "python",
   "name": "python3"
  },
  "language_info": {
   "codemirror_mode": {
    "name": "ipython",
    "version": 3
   },
   "file_extension": ".py",
   "mimetype": "text/x-python",
   "name": "python",
   "nbconvert_exporter": "python",
   "pygments_lexer": "ipython3",
   "version": "3.11.7"
  }
 },
 "nbformat": 4,
 "nbformat_minor": 5
}
