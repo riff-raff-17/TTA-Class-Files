{
 "cells": [
  {
   "cell_type": "code",
   "execution_count": null,
   "id": "094489e6",
   "metadata": {},
   "outputs": [],
   "source": [
    "from ugot import ugot\n",
    "import pynput\n",
    "import time\n",
    "\n",
    "got = ugot.UGOT()\n",
    "\n",
    "got.initialize('192.168.1.189')"
   ]
  },
  {
   "cell_type": "code",
   "execution_count": null,
   "id": "34bd47c3",
   "metadata": {},
   "outputs": [],
   "source": [
    "command = input(\"Enter your command >\")"
   ]
  },
  {
   "cell_type": "code",
   "execution_count": null,
   "id": "0ab873dc",
   "metadata": {},
   "outputs": [],
   "source": [
    "if command == 'lights':\n",
    "    show_light_rgb([0, 3], 255, 0, 0)"
   ]
  },
  {
   "cell_type": "code",
   "execution_count": null,
   "id": "e34a30cb",
   "metadata": {},
   "outputs": [],
   "source": [
    "got.screen_display_background(0)\n",
    "\n",
    "while True:\n",
    "    \n",
    "    command = input(\"What is your command? \\n1: Lights \\n2: Speech \\n3: Movement \\nq: quit \\n>\")\n",
    "    \n",
    "    if command == '1':\n",
    "        got.screen_print_text_newline(\"Turn on lights\", 1)\n",
    "        got.show_light_rgb([0, 1,2,3], 255, 255, 0)\n",
    "        time.sleep(3)\n",
    "        got.turn_off_lights()\n",
    "    elif command == '2':\n",
    "        got.screen_print_text_newline()\n",
    "        got.play_audio_tts('This is what I say', voice_type=0, wait=True)\n",
    "    elif command == '3'\n",
    "        got.screen_print_text_newline()\n",
    "        \n",
    "    else:\n",
    "        got.screen_print_text_newline(\"Testing finished!\", 1)\n",
    "        time.sleep(3)\n",
    "        got.screen_clear()\n",
    "        break"
   ]
  },
  {
   "cell_type": "code",
   "execution_count": 7,
   "id": "ced66aea",
   "metadata": {},
   "outputs": [
    {
     "name": "stdout",
     "output_type": "stream",
     "text": [
      "What is your command? \n",
      "1: Lights \n",
      "2: Speech \n",
      "3: Movement \n",
      "q: quit \n",
      ">q\n"
     ]
    }
   ],
   "source": [
    "command = input(\"What is your command? \\n1: Lights \\n2: Speech \\n3: Movement \\nq: quit \\n>\")"
   ]
  }
 ],
 "metadata": {
  "kernelspec": {
   "display_name": "Python 3 (ipykernel)",
   "language": "python",
   "name": "python3"
  },
  "language_info": {
   "codemirror_mode": {
    "name": "ipython",
    "version": 3
   },
   "file_extension": ".py",
   "mimetype": "text/x-python",
   "name": "python",
   "nbconvert_exporter": "python",
   "pygments_lexer": "ipython3",
   "version": "3.11.7"
  }
 },
 "nbformat": 4,
 "nbformat_minor": 5
}
