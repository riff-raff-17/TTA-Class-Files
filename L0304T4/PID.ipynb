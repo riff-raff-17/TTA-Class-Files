{
 "cells": [
  {
   "cell_type": "code",
   "execution_count": null,
   "id": "343975c5",
   "metadata": {},
   "outputs": [],
   "source": [
    "from ugot import ugot\n",
    "import time\n",
    "\n",
    "got = ugot.UGOT()\n",
    "\n",
    "got.initialize('0.0.0.0')"
   ]
  },
  {
   "cell_type": "code",
   "execution_count": null,
   "id": "cea6e9b0",
   "metadata": {},
   "outputs": [],
   "source": [
    "got.load_models(['line_recognition'])\n",
    "\n",
    "got.set_track_recognition_line(0)\n",
    "\n",
    "while True:\n",
    "    #get the line results\n",
    "    line_list = got.get_single_track_total_info()\n",
    "    \n",
    "    #offset value\n",
    "    offset = line_list[0]\n",
    "    pid = int(0.2 * offset)\n",
    "    \n",
    "    line_type = line_list[1]\n",
    "    \n",
    "    if line_type == 0:\n",
    "        got.mecanum_stop()\n",
    "        break\n",
    "    elif line_type == 3:\n",
    "        got.play_audio_tts(data, voice_type=0, wait=True)\n",
    "    \n",
    "    \n",
    "    if offset > 0:\n",
    "        got.mecanum_turn_speed(2, pid)\n",
    "        got.mecanum_move_xyz(0, 20, pid)\n",
    "    elif offset < 0:\n",
    "        got.mecanum_turn_speed(3, -pid)\n",
    "        got.mecanum_move_xyz(0, 20, pid)\n",
    "    else:\n",
    "        got.mecanum_stop()"
   ]
  }
 ],
 "metadata": {
  "kernelspec": {
   "display_name": "Python 3 (ipykernel)",
   "language": "python",
   "name": "python3"
  },
  "language_info": {
   "codemirror_mode": {
    "name": "ipython",
    "version": 3
   },
   "file_extension": ".py",
   "mimetype": "text/x-python",
   "name": "python",
   "nbconvert_exporter": "python",
   "pygments_lexer": "ipython3",
   "version": "3.11.7"
  }
 },
 "nbformat": 4,
 "nbformat_minor": 5
}
