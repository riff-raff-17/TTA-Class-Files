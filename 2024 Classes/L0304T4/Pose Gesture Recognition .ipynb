{
 "cells": [
  {
   "cell_type": "code",
   "execution_count": null,
   "id": "48baaa37",
   "metadata": {},
   "outputs": [],
   "source": [
    "from ugot import ugot\n",
    "import time\n",
    "import random\n",
    "\n",
    "got = ugot.UGOT()\n",
    "\n",
    "got.initialize('192.168.1.198')"
   ]
  },
  {
   "cell_type": "code",
   "execution_count": null,
   "id": "8e48b9dd",
   "metadata": {},
   "outputs": [],
   "source": [
    "got.load_models(['human_pose', 'gesture'])\n",
    "\n",
    "options = [\"Stone\", \"Cloth\", \"Scissor\"]\n",
    "\n",
    "cheating = input(\"Which version to use? (1) Legit (2) Cheating >\")\n",
    "\n",
    "if cheating == \"1\":\n",
    "    while True:\n",
    "        gesture = got.get_gesture_result()\n",
    "\n",
    "        player_choice = gesture\n",
    "        computer_choice = random.choice(options)\n",
    "\n",
    "        if player_choice in options:\n",
    "            if (player_choice == \"Stone\" and computer_choice == \"Scissor\") or \\\n",
    "            (player_choice == \"Scissor\" and computer_choice == \"Cloth\") or \\\n",
    "            (player_choice == \"Cloth\" and computer_choice == \"Stone\"):\n",
    "                got.play_audio_tts(f\"You win! I played {computer_choice}\", voice_type=0, wait=True)\n",
    "\n",
    "            elif player_choice == computer_choice:\n",
    "                got.play_audio_tts(f\"We tied! I played {computer_choice}\", voice_type=0, wait=True)\n",
    "\n",
    "            else:\n",
    "                got.play_audio_tts(f\"You lost! I played {computer_choice}\", voice_type=0, wait=True)\n",
    "\n",
    "elif cheating == \"2\":\n",
    "    while True:\n",
    "        gesture = got.get_gesture_result()\n",
    "\n",
    "        if gesture == \"Stone\":\n",
    "            got.play_audio_tts(\"I play paper! You lose!\", voice_type=0, wait=True)\n",
    "        elif gesture == \"Scissor\":\n",
    "            got.play_audio_tts(\"I play rock! You lose!\", voice_type=0, wait=True)\n",
    "        elif gesture == \"Cloth\":\n",
    "            got.play_audio_tts(\"I play scissors! You lose!\", voice_type=0, wait=True)"
   ]
  },
  {
   "cell_type": "code",
   "execution_count": null,
   "id": "c2c02468",
   "metadata": {},
   "outputs": [],
   "source": [
    "options = [\"Stone\", \"Cloth\", \"Scissor\"]\n",
    "\n",
    "while True:\n",
    "    gesture = got.get_gesture_result()\n",
    "    \n",
    "    player_choice = gesture\n",
    "    computer_choice = random.choice(options)\n",
    "    \n",
    "    if player_choice in options:\n",
    "        if (player_choice == \"Stone\" and computer_choice == \"Scissor\") or \\\n",
    "        (player_choice == \"Scissor\" and computer_choice == \"Cloth\") or \\\n",
    "        (player_choice == \"Cloth\" and computer_choice == \"Stone\"):\n",
    "            got.play_audio_tts(f\"You win! I played {computer_choice}\", voice_type=0, wait=True)\n",
    "\n",
    "        elif player_choice == computer_choice:\n",
    "            got.play_audio_tts(f\"We tied! I played {computer_choice}\", voice_type=0, wait=True)\n",
    "\n",
    "        else:\n",
    "            got.play_audio_tts(f\"You lost! I played {computer_choice}\", voice_type=0, wait=True)"
   ]
  }
 ],
 "metadata": {
  "kernelspec": {
   "display_name": "Python 3 (ipykernel)",
   "language": "python",
   "name": "python3"
  },
  "language_info": {
   "codemirror_mode": {
    "name": "ipython",
    "version": 3
   },
   "file_extension": ".py",
   "mimetype": "text/x-python",
   "name": "python",
   "nbconvert_exporter": "python",
   "pygments_lexer": "ipython3",
   "version": "3.11.7"
  }
 },
 "nbformat": 4,
 "nbformat_minor": 5
}
