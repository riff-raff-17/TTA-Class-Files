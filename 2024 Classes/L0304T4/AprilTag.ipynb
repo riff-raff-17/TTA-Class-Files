{
 "cells": [
  {
   "cell_type": "code",
   "execution_count": null,
   "id": "36f3f149",
   "metadata": {},
   "outputs": [],
   "source": [
    "from ugot import ugot\n",
    "import time\n",
    "\n",
    "got = ugot.UGOT()\n",
    "\n",
    "got.initialize('0.0.0.0')"
   ]
  },
  {
   "cell_type": "code",
   "execution_count": null,
   "id": "423d05e7",
   "metadata": {},
   "outputs": [],
   "source": [
    "got.load_models(['apriltag_qrcode'])\n",
    "\n",
    "while True:\n",
    "    qr_code = got.get_apriltag_total_info()\n",
    "    \n",
    "    if len(qr_code) == 0:\n",
    "         got.screen_print_text_newline(\"No QR Code found\", 1)\n",
    "    else:\n",
    "        got.screen_print_text_newline(f\"QR Code ID: {qr_code[0][0]}\", 1)\n",
    "    \n",
    "    time.sleep(1)\n",
    "    \n",
    "    got.screen_clear()"
   ]
  },
  {
   "cell_type": "code",
   "execution_count": null,
   "id": "46dccf61",
   "metadata": {},
   "outputs": [],
   "source": [
    "got.load_models(['apriltag_qrcode'])\n",
    "\n",
    "while True:\n",
    "    qr_code = got.get_apriltag_total_info()\n",
    "    \n",
    "    if len(qr_code) == 0:\n",
    "        got.mecanum_stop()\n",
    "    elif qr_code[0][1] > 350:\n",
    "        got.mecanum_turn_speed(2, 20)\n",
    "    elif qr_code[0][1] < 300:\n",
    "        got.mecanum_turn_speed(3, 20)\n",
    "    elif qr_code[0][6] > 0.15:\n",
    "        mecanum_move_speed(0, 15)\n",
    "    else:\n",
    "        got.mecanum_stop()\n",
    "        got.play_audio_tts('I have reached my destination', \n",
    "                       voice_type=0, wait=True)\n",
    "        break\n",
    "        "
   ]
  }
 ],
 "metadata": {
  "kernelspec": {
   "display_name": "Python 3 (ipykernel)",
   "language": "python",
   "name": "python3"
  },
  "language_info": {
   "codemirror_mode": {
    "name": "ipython",
    "version": 3
   },
   "file_extension": ".py",
   "mimetype": "text/x-python",
   "name": "python",
   "nbconvert_exporter": "python",
   "pygments_lexer": "ipython3",
   "version": "3.11.7"
  }
 },
 "nbformat": 4,
 "nbformat_minor": 5
}
