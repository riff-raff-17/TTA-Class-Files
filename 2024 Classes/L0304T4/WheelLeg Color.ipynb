{
 "cells": [
  {
   "cell_type": "code",
   "execution_count": null,
   "id": "a86b887d",
   "metadata": {},
   "outputs": [],
   "source": [
    "from ugot import ugot\n",
    "import time\n",
    "\n",
    "got = ugot.UGOT()\n",
    "\n",
    "got.initialize('192.168.1.182')"
   ]
  },
  {
   "cell_type": "code",
   "execution_count": null,
   "id": "387edcd1",
   "metadata": {},
   "outputs": [],
   "source": [
    "got.load_models(['color_recognition'])\n",
    "got.wheelleg_start_balancing()\n",
    "got.wheelleg_set_chassis_height(3)\n",
    "\n",
    "time.sleep(2)\n",
    "'''\n",
    "while True:\n",
    "    distance = got.read_distance_data(61)\n",
    "    \n",
    "    if distance > 50:\n",
    "        got.wheelleg_move_speed(0, 20)\n",
    "\n",
    "    elif distance < 30:\n",
    "        got.wheelleg_move_speed(1, 20)\n",
    "\n",
    "    else:\n",
    "        got.wheelleg_stop_balancing()\n",
    "        break\n",
    "        \n",
    "got.play_audio_tts('I have reached my destination!', voice_type=0, wait=True)\n",
    "\n",
    "'''\n",
    "\n",
    "while True:\n",
    "    got.screen_clear()\n",
    "    content = got.get_color_total_info()\n",
    "    got.screen_print_text(content[0], 1)\n",
    "    \n",
    " \n",
    "    elif content[0] == 'Red' and content[5] > 200 and content[2]  >= 400:\n",
    "        got.wheelleg_turn_speed(3, 25)\n",
    "    elif content[0] == 'Red' and content[5] > 200 and 200 < content[2] < 400:\n",
    "        got.wheelleg_move_speed(0, 20)\n",
    "    else:\n",
    "        got.wheelleg_stop_balancing()"
   ]
  }
 ],
 "metadata": {
  "kernelspec": {
   "display_name": "Python 3 (ipykernel)",
   "language": "python",
   "name": "python3"
  },
  "language_info": {
   "codemirror_mode": {
    "name": "ipython",
    "version": 3
   },
   "file_extension": ".py",
   "mimetype": "text/x-python",
   "name": "python",
   "nbconvert_exporter": "python",
   "pygments_lexer": "ipython3",
   "version": "3.11.7"
  }
 },
 "nbformat": 4,
 "nbformat_minor": 5
}
