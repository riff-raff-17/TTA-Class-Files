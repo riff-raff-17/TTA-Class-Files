{
 "cells": [
  {
   "cell_type": "code",
   "execution_count": 3,
   "id": "20247150",
   "metadata": {},
   "outputs": [],
   "source": [
    "import random\n",
    "import webbrowser as wb"
   ]
  },
  {
   "cell_type": "code",
   "execution_count": 5,
   "id": "86b34e2d",
   "metadata": {},
   "outputs": [],
   "source": [
    "winstreak = 0"
   ]
  },
  {
   "cell_type": "code",
   "execution_count": 20,
   "id": "0ac1d122",
   "metadata": {},
   "outputs": [
    {
     "name": "stdout",
     "output_type": "stream",
     "text": [
      "Can you guess what number I'm thinking of?\n",
      "What's the highest number I can go? >1\n",
      "How many guesses should you get? >1\n",
      "What's your guess? >1\n",
      "Correct! \n",
      "You guessed the number in 1 tries!\n",
      "Congrats! Would you like to play again? y/n >n\n",
      "Thanks for playing!\n"
     ]
    }
   ],
   "source": [
    "def rps():\n",
    "    global winstreak\n",
    "    moves = ['rock', 'paper', 'scissors']\n",
    "    computer = random.choice(moves)\n",
    "    \n",
    "    print(\"Let's play some RPS!\")\n",
    "    \n",
    "    valid = False\n",
    "    \n",
    "    while not valid:\n",
    "        choice = input(\"What do you play? >\")\n",
    "        choice = choice.lower()\n",
    "        \n",
    "        if choice in moves:\n",
    "            valid = True\n",
    "            if (choice == 'rock' and computer == 'scissors') or (choice == 'paper' and computer == 'rock') or (choice =='scissors' and computer == 'paper'):\n",
    "                print('The computer chose ' + computer + '! You win!!!')\n",
    "                winstreak += 1\n",
    "                print(\"Your winstreak is: \" + str(winstreak))\n",
    "\n",
    "            elif choice == computer:\n",
    "                print('The computer chose ' + computer + \"! You tied!!\")\n",
    "                print(\"Your winstreak is: \" + str(winstreak))\n",
    "            else:\n",
    "                print('The computer chose ' + computer + \"! You lose!\")\n",
    "                winstreak = 0\n",
    "                print(\"Your winstreak is: \" + str(winstreak))\n",
    "        else:\n",
    "            print(\"Please choose a valid move!\")\n",
    "            \n",
    "    again = input(\"Would you like to play again? y/n >\")\n",
    "    if 'y' in again:\n",
    "        rps()\n",
    "    else:\n",
    "        print(\"Thanks for playing!\")\n",
    "            \n",
    "            \n",
    "def number_guessing():\n",
    "    print(\"Can you guess what number I'm thinking of?\")\n",
    "    \n",
    "    rnge = int(input(\"What's the highest number I can go? >\"))\n",
    "    guess_num = int(input(\"How many guesses should you get? >\"))\n",
    "    \n",
    "    secret = random.randint(1, rnge)\n",
    "    correct = False\n",
    "    guess_count = 0\n",
    "    guess_left = guess_num\n",
    "    \n",
    "    while guess_left > 0:\n",
    "        try: \n",
    "            guess = int(input(\"What's your guess? >\"))\n",
    "        \n",
    "            if guess > secret:\n",
    "                guess_left -= 1\n",
    "                guess_count += 1\n",
    "                print(f\"Too high! You have {guess_left} guesses left.\")\n",
    "            elif guess < secret:\n",
    "                guess_left -= 1\n",
    "                guess_count += 1\n",
    "                print(f\"Too low! You have {guess_left} guesses left.\")\n",
    "            elif guess == secret:\n",
    "                guess_count += 1\n",
    "                print(f\"Correct! \\nYou guessed the number in {guess_count} tries!\")\n",
    "                break\n",
    "                \n",
    "        except:\n",
    "            print(\"Please enter a valid number\")\n",
    "            \n",
    "    if guess_left == 0:\n",
    "        again = input(f\"Too bad! The number was {secret}. Would you like to try again? y/n >\")\n",
    "    else:\n",
    "        again = input(\"Congrats! Would you like to play again? y/n >\")\n",
    "        \n",
    "    if 'y' in again:\n",
    "        number_guessing()\n",
    "    else:\n",
    "        print(\"Thanks for playing!\")\n",
    "\n",
    "number_guessing()"
   ]
  },
  {
   "cell_type": "code",
   "execution_count": 12,
   "id": "7a1a53d5",
   "metadata": {},
   "outputs": [
    {
     "name": "stdout",
     "output_type": "stream",
     "text": [
      "What should I call you? >f\n",
      "Welcome back, f. This is Siri. What would you like to do today? Say help for a list of commands.\n",
      "> help\n",
      "Here is a list of commands: \n",
      "Youtube: Search for youtube videos\n",
      "Google: Use the search engine \n",
      "Quit: Exit the chatbot\n",
      "RPS: Play rock paper scissors \n",
      "Number: Play a number guessing game\n",
      "> w\n",
      "Sorry, I don't quite understand that.\n",
      "> quit\n",
      "Goodbye!\n"
     ]
    }
   ],
   "source": [
    "name = input(\"What should I call you? >\")\n",
    "\n",
    "print(f\"Welcome back, {name}.\", \"This is Siri. What would you like to do today? \\\n",
    "Say help for a list of commands.\")\n",
    "\n",
    "while True:\n",
    "    prompt = input(\"> \")\n",
    "    prompt = prompt.lower()\n",
    "    \n",
    "    if 'quit' in prompt:\n",
    "        print(\"Goodbye!\")\n",
    "        break\n",
    "        \n",
    "    elif 'help' in prompt:\n",
    "        print('Here is a list of commands: \\nYoutube: Search for youtube videos' + \n",
    "             '\\nGoogle: Use the search engine \\nQuit: Exit the chatbot' + \n",
    "             '\\nRPS: Play rock paper scissors \\nNumber: Play a number guessing game')\n",
    "        \n",
    "    elif 'youtube' in prompt:\n",
    "        search = input(\"What do you want to search for? >\")\n",
    "        print(f\"You have searched for {search}!\")\n",
    "        wb.open(\"https://www.youtube.com/results?search_query=\" + search)\n",
    "        \n",
    "    elif 'google' in prompt:\n",
    "        search = input('What do you want to search for? >')\n",
    "        wb.open(\"https://www.google.com/search?q=\" + search)\n",
    "    \n",
    "    elif 'rps' in prompt:\n",
    "        rps()\n",
    "        \n",
    "    elif 'number' in prompt:\n",
    "        number_guessing()\n",
    "    \n",
    "    else:\n",
    "        print(\"Sorry, I don't quite understand that.\")\n",
    "        \n",
    "        "
   ]
  },
  {
   "cell_type": "code",
   "execution_count": 7,
   "id": "345c1ae9",
   "metadata": {},
   "outputs": [
    {
     "name": "stdout",
     "output_type": "stream",
     "text": [
      "> HELLO\n"
     ]
    },
    {
     "data": {
      "text/plain": [
       "'hello'"
      ]
     },
     "execution_count": 7,
     "metadata": {},
     "output_type": "execute_result"
    }
   ],
   "source": []
  }
 ],
 "metadata": {
  "kernelspec": {
   "display_name": "Python 3 (ipykernel)",
   "language": "python",
   "name": "python3"
  },
  "language_info": {
   "codemirror_mode": {
    "name": "ipython",
    "version": 3
   },
   "file_extension": ".py",
   "mimetype": "text/x-python",
   "name": "python",
   "nbconvert_exporter": "python",
   "pygments_lexer": "ipython3",
   "version": "3.11.7"
  }
 },
 "nbformat": 4,
 "nbformat_minor": 5
}
