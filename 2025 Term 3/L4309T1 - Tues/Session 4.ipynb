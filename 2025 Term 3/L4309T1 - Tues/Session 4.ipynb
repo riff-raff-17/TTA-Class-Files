{
 "cells": [
  {
   "cell_type": "code",
   "execution_count": null,
   "id": "dd684545",
   "metadata": {},
   "outputs": [],
   "source": [
    "from ugot import ugot\n",
    "got = ugot.UGOT()\n",
    "got.initialize('192.168.1.220')"
   ]
  },
  {
   "cell_type": "code",
   "execution_count": null,
   "id": "7dba0065",
   "metadata": {},
   "outputs": [],
   "source": [
    "running = True\n",
    "\n",
    "while running:\n",
    "    direction, prompt = got.start_audio_asr_doa(duration=2)\n",
    "    # Direction: Left/Right/Front/Behind\n",
    "    print(f'Direction: {direction} | Prompt: {prompt}')\n",
    "    got.play_audio_tts(prompt, voice_type=0, wait=True)\n",
    "\n",
    "    if 'exit' in prompt.lower():\n",
    "        running = False\n",
    "        got.play_audio_tts(\"Exiting robot. Have a nice day!\", voice_type=0, wait=True)\n",
    "        break\n",
    "\n",
    "    if direction == 'Left':\n",
    "        got.mecanum_translate_speed_times(angle=-90, speed=30, times=50, unit=1)\n",
    "    elif direction == \"Right\":\n",
    "        got.mecanum_translate_speed_times(angle=90, speed=30, times=50, unit=1)\n",
    "    elif direction == \"Front\":\n",
    "        got.mecanum_translate_speed_times(angle=0, speed=30, times=50, unit=1)\n",
    "    elif direction == \"Back\":\n",
    "        got.mecanum_translate_speed_times(angle=-180, speed=30, times=50, unit=1)"
   ]
  },
  {
   "cell_type": "code",
   "execution_count": null,
   "id": "03b986c2",
   "metadata": {},
   "outputs": [],
   "source": [
    "import re\n",
    "\n",
    "def parse_command(speech):\n",
    "    pattern = r\"\\b(forward|backward|left|right)\\s+(\\d+(?:\\.\\d+)?)\\b\"\n",
    "    match = re.search(pattern, speech.lower())\n",
    "    if match:\n",
    "        return match.group(1), int(match.group(2))\n",
    "    return None, None\n",
    "\n",
    "def drive_with_speech():\n",
    "    print(\"Voice controlled driving activated. Say 'exit' to stop.\")\n",
    "    while True:\n",
    "        # Listen for up to 3 seconds\n",
    "        _, speech = got.start_audio_asr_doa(duration=3)\n",
    "        print(f\"Recognized: {speech!r}\")\n",
    "\n",
    "        if not speech:\n",
    "            got.play_audio_tts(\"I didn't hear anything. Please repeat.\", voice_type=0, wait=True)\n",
    "            continue\n",
    "\n",
    "        # Exit condition\n",
    "        if any(i in speech.lower() for i in ('exit', 'quit', 'rage quit', 'self destruct')):\n",
    "            got.play_audio_tts(\"Shutting down voice control. Goodbye!\", voice_type=0, wait=True)\n",
    "            break\n",
    "\n",
    "        cmd, dist = parse_command(speech)\n",
    "        if cmd:\n",
    "            got.play_audio_tts(f\"Moving {cmd} {dist}\", voice_type=0, wait=True)\n",
    "            if cmd == 'left':\n",
    "                got.mecanum_translate_speed_times(angle=-90, speed=30, times=50, unit=1)\n",
    "            elif cmd == \"right\":\n",
    "                got.mecanum_translate_speed_times(angle=90, speed=30, times=50, unit=1)\n",
    "            elif cmd == \"forward\":\n",
    "                got.mecanum_translate_speed_times(angle=0, speed=30, times=50, unit=1)\n",
    "            elif cmd == \"backward\":\n",
    "                got.mecanum_translate_speed_times(angle=-180, speed=30, times=50, unit=1)\n",
    "        else:\n",
    "            got.play_audio_tts(\"Command not recognized. Please say something like forward 5\",\n",
    "                               voice_type=0, wait=True)\n",
    "\n",
    "drive_with_speech()"
   ]
  },
  {
   "cell_type": "code",
   "execution_count": null,
   "id": "e59dffe8",
   "metadata": {},
   "outputs": [],
   "source": [
    "prompt = got.start_audio_asr()\n",
    "\n",
    "print(prompt)\n",
    "\n",
    "got.start_audio_nlp(prompt, wait=True)"
   ]
  }
 ],
 "metadata": {
  "kernelspec": {
   "display_name": "TTA",
   "language": "python",
   "name": "python3"
  },
  "language_info": {
   "codemirror_mode": {
    "name": "ipython",
    "version": 3
   },
   "file_extension": ".py",
   "mimetype": "text/x-python",
   "name": "python",
   "nbconvert_exporter": "python",
   "pygments_lexer": "ipython3",
   "version": "3.12.9"
  }
 },
 "nbformat": 4,
 "nbformat_minor": 5
}
