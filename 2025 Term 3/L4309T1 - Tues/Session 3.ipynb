{
 "cells": [
  {
   "cell_type": "code",
   "execution_count": null,
   "id": "bd9b08fe",
   "metadata": {},
   "outputs": [
    {
     "data": {
      "text/plain": [
       "9"
      ]
     },
     "execution_count": 3,
     "metadata": {},
     "output_type": "execute_result"
    }
   ],
   "source": [
    "def addition(par1, par2):\n",
    "    results = par1 + par2\n",
    "    return results\n",
    "\n",
    "addition(par1=5, par2=4)"
   ]
  },
  {
   "cell_type": "code",
   "execution_count": null,
   "id": "d124306b",
   "metadata": {},
   "outputs": [
    {
     "data": {
      "text/plain": [
       "13"
      ]
     },
     "execution_count": 1,
     "metadata": {},
     "output_type": "execute_result"
    }
   ],
   "source": [
    "def multiplication(par1, par2, par3):\n",
    "    results = par1 * par2 * par3\n",
    "    return results\n",
    "\n",
    "multiplication(1,3)"
   ]
  },
  {
   "cell_type": "code",
   "execution_count": null,
   "id": "7ad69f01",
   "metadata": {},
   "outputs": [
    {
     "data": {
      "text/plain": [
       "'Error: Division by zero is ILLEGAL dont do it'"
      ]
     },
     "execution_count": 12,
     "metadata": {},
     "output_type": "execute_result"
    }
   ],
   "source": [
    "# lambda functions\n",
    "addition = lambda par1, par2 : par1 + par2\n",
    "subtraction = lambda par1, par2 : par1 - par2\n",
    "division = lambda par1, par2 : par1 / par2 if par2 != 0 else \"Error: Division by zero is ILLEGAL\"\n",
    "multiplication = lambda par1, par2 : par1 * par2\n",
    "square_root = lambda par1 : par1 ** 0.5\n",
    "\n",
    "division(4, 0)"
   ]
  },
  {
   "cell_type": "code",
   "execution_count": null,
   "id": "8ff3ece3",
   "metadata": {},
   "outputs": [
    {
     "name": "stdout",
     "output_type": "stream",
     "text": [
      "Simple Lambda Calculator\n",
      "Print 'exit' to quit.\n",
      "\n",
      "Invalid operator: '+'\n",
      "\n",
      "= 7.0\n",
      "\n",
      "Goodbye!\n"
     ]
    }
   ],
   "source": [
    "def calculator():\n",
    "    # Define all operations as lambdas in a dict\n",
    "    operations = {\n",
    "        \"+\" : lambda par1, par2 : par1 + par2,\n",
    "        \"-\" : lambda par1, par2 : par1 - par2,\n",
    "        \"/\" : lambda par1, par2 : par1 / par2 if par2 != 0 else \"Error: Division by zero is ILLEGAL\",\n",
    "        \"*\" : lambda par1, par2 : par1 * par2,\n",
    "        'square_root' : lambda par1 : par1 ** 0.5,\n",
    "    }\n",
    "    \n",
    "    print(\"Simple Lambda Calculator\")\n",
    "    print(\"Print 'exit' to quit.\\n\")\n",
    "\n",
    "    while True:\n",
    "        expr = input(\"Enter calculation (e.g. 3 + 4): \").strip() \n",
    "\n",
    "        if expr.lower() == 'exit':\n",
    "            print(\"Goodbye!\")\n",
    "            break\n",
    "        \n",
    "        try:\n",
    "            # Parse input into parts\n",
    "            # number operator number\n",
    "            n1, op, n2 = expr.split()\n",
    "            n1, n2 = float(n1), float(n2)\n",
    "\n",
    "            # Look up and execute the lambda\n",
    "            if op in operations:\n",
    "                result = operations[op](n1, n2)\n",
    "                print(f\"= {result}\\n\")\n",
    "            else:\n",
    "                print(f\"Invalid operator: '{op}'\\n\")\n",
    "\n",
    "        except ValueError:\n",
    "            print(\"Invalid format. Please write [number] [operator] [number] e.g. 3 + 4\")\n",
    "\n",
    "calculator()"
   ]
  },
  {
   "cell_type": "code",
   "execution_count": 31,
   "id": "41b6a6fb",
   "metadata": {},
   "outputs": [
    {
     "name": "stdout",
     "output_type": "stream",
     "text": [
      "192.168.1.177:50051\n"
     ]
    }
   ],
   "source": [
    "from ugot import ugot\n",
    "got = ugot.UGOT() \n",
    "got.initialize('192.168.1.177')"
   ]
  },
  {
   "cell_type": "code",
   "execution_count": null,
   "id": "4f8e4301",
   "metadata": {},
   "outputs": [
    {
     "name": "stdout",
     "output_type": "stream",
     "text": [
      "---UGOT ChatBot---\n",
      "Type 'exit' to quit!\n"
     ]
    }
   ],
   "source": [
    "import time\n",
    "\n",
    "print(\"---UGOT ChatBot---\")\n",
    "print(\"Type 'exit' to quit!\")\n",
    "\n",
    "while True:\n",
    "    prompt = input(\"What would you like to ask?\").lower().strip()\n",
    "\n",
    "    if 'exit' in prompt:\n",
    "        got.play_audio_tts(\"Goodbye!\", 0, True)\n",
    "        break\n",
    "\n",
    "    got.start_audio_nlp(prompt, wait=True)"
   ]
  },
  {
   "cell_type": "code",
   "execution_count": null,
   "id": "1d545ab8",
   "metadata": {},
   "outputs": [
    {
     "name": "stdout",
     "output_type": "stream",
     "text": [
      "I know who you are\n"
     ]
    }
   ],
   "source": [
    "_, speech = got.start_audio_asr_doa(duration=6)\n",
    "\n",
    "print(speech)\n",
    "\n",
    "got.play_audio_tts(speech, 0, wait=True)"
   ]
  },
  {
   "cell_type": "code",
   "execution_count": 33,
   "id": "d6dcee49",
   "metadata": {},
   "outputs": [
    {
     "name": "stdout",
     "output_type": "stream",
     "text": [
      "Has been something a bit more healthier\n"
     ]
    }
   ],
   "source": [
    "_, speech = got.start_audio_asr_doa(duration=6)\n",
    "\n",
    "print(speech)\n",
    "\n",
    "got.start_audio_nlp(speech, wait=True)"
   ]
  }
 ],
 "metadata": {
  "kernelspec": {
   "display_name": "TTA",
   "language": "python",
   "name": "python3"
  },
  "language_info": {
   "codemirror_mode": {
    "name": "ipython",
    "version": 3
   },
   "file_extension": ".py",
   "mimetype": "text/x-python",
   "name": "python",
   "nbconvert_exporter": "python",
   "pygments_lexer": "ipython3",
   "version": "3.12.9"
  }
 },
 "nbformat": 4,
 "nbformat_minor": 5
}
