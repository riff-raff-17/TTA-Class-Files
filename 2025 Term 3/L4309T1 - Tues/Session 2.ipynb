{
 "cells": [
  {
   "cell_type": "code",
   "execution_count": 14,
   "id": "754bcb0f",
   "metadata": {},
   "outputs": [
    {
     "name": "stdout",
     "output_type": "stream",
     "text": [
      "Chess is a Strategy game with a rating of 8\n",
      "7 Wonders is a Strategy game with a rating of 9\n"
     ]
    }
   ],
   "source": [
    "class Game:\n",
    "    def __init__(self, title, fun_rating, genre):\n",
    "        self.title = title\n",
    "        self.fun_rating = fun_rating\n",
    "        self.genre = genre\n",
    "\n",
    "    def describe(self):\n",
    "        print(f\"{self.title} is a {self.genre} game with a rating of {self.fun_rating}\")\n",
    "\n",
    "game1 = Game(\"Chess\", 8, \"Strategy\")\n",
    "game1.describe()\n",
    "game2 = Game(\"7 Wonders\", 9, \"Strategy\")\n",
    "game2.describe()"
   ]
  },
  {
   "cell_type": "code",
   "execution_count": 15,
   "id": "dd208af9",
   "metadata": {},
   "outputs": [
    {
     "name": "stdout",
     "output_type": "stream",
     "text": [
      "Mario Kart World is a Racing game with a rating of 9.5 that you can play on Switch 2\n"
     ]
    }
   ],
   "source": [
    "class VideoGame(Game):\n",
    "    def __init__(self, title, fun_rating, genre, platform):\n",
    "        super().__init__(title, fun_rating, genre)\n",
    "        self.platform = platform\n",
    "\n",
    "    def describe(self):\n",
    "        print(f\"{self.title} is a {self.genre} game with a rating of {self.fun_rating} \\\n",
    "that you can play on {self.platform}\")\n",
    "        \n",
    "vg = VideoGame(\"Mario Kart World\", 9.5, \"Racing\", \"Switch 2\")\n",
    "vg.describe()"
   ]
  },
  {
   "cell_type": "code",
   "execution_count": 16,
   "id": "9f950ea8",
   "metadata": {},
   "outputs": [
    {
     "name": "stdout",
     "output_type": "stream",
     "text": [
      "Ninja is a Fighting game with a rating of 10 that you can play with 2 kids\n"
     ]
    }
   ],
   "source": [
    "class PartyGame(Game):\n",
    "    def __init__(self, title, fun_rating, genre, players):\n",
    "        super().__init__(title, fun_rating, genre)\n",
    "        self.players = players\n",
    "    \n",
    "    def describe(self):\n",
    "        print(f\"{self.title} is a {self.genre} game with a rating of {self.fun_rating} \\\n",
    "that you can play with {self.players} kids\")\n",
    "        \n",
    "PG1 = PartyGame(\"Ninja\", 10, \"Fighting\", 2)\n",
    "PG1.describe()"
   ]
  },
  {
   "cell_type": "code",
   "execution_count": 18,
   "id": "c1f07527",
   "metadata": {},
   "outputs": [
    {
     "name": "stdout",
     "output_type": "stream",
     "text": [
      "AnyAwesomeAustin: Hello! My name is AnyAwesomeAustin. Type something to start chatting or press 'bye' to exit.\n",
      "You: hi\n",
      "AnyAwesomeAustin: Hello! Nice to meet you!\n",
      "You: Bye\n",
      "AnyAwesomeAustin: Goodbye! Have a nice day\n"
     ]
    }
   ],
   "source": [
    "class ChatBot:\n",
    "    def __init__(self, name=\"ChatBot\"):\n",
    "        self.name = name\n",
    "        self.responses = {\n",
    "            \"hi\" : \"Hello! Nice to meet you!\",\n",
    "            \"how are you\": \"I'm a computer, I don't have feelings, but I'm doing great!\",\n",
    "            \"how old are you\" : \"I am 0 years old!\",\n",
    "            \"what is your name\" : f\"My name is {self.name}\",\n",
    "            \"bye\" : \"Goodbye! Have a nice day\"\n",
    "        }\n",
    "\n",
    "    def get_response(self, user_input):\n",
    "        user_input = user_input.lower().strip()\n",
    "        return self.responses.get(user_input, \"I'm not sure how to respond to that.\")\n",
    "    \n",
    "    def chat(self):\n",
    "        print(f\"{self.name}: Hello! My name is {self.name}. Type something to start chatting \\\n",
    "or press 'bye' to exit.\")\n",
    "        while True:\n",
    "            user_input = input(\"You: \")\n",
    "            response = self.get_response(user_input)\n",
    "            print(f\"You: {user_input}\")\n",
    "            print(f\"{self.name}: {response}\")\n",
    "            if user_input.lower().strip() == \"bye\":\n",
    "                break\n",
    "\n",
    "bot = ChatBot(\"AnyAwesomeAustin\")\n",
    "bot.chat()"
   ]
  },
  {
   "cell_type": "code",
   "execution_count": null,
   "id": "556d6984",
   "metadata": {},
   "outputs": [],
   "source": []
  }
 ],
 "metadata": {
  "kernelspec": {
   "display_name": "TTA",
   "language": "python",
   "name": "python3"
  },
  "language_info": {
   "codemirror_mode": {
    "name": "ipython",
    "version": 3
   },
   "file_extension": ".py",
   "mimetype": "text/x-python",
   "name": "python",
   "nbconvert_exporter": "python",
   "pygments_lexer": "ipython3",
   "version": "3.12.9"
  }
 },
 "nbformat": 4,
 "nbformat_minor": 5
}
