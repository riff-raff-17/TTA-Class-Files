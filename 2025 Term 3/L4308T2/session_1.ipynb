{
 "cells": [
  {
   "cell_type": "code",
   "execution_count": null,
   "id": "10fab093",
   "metadata": {},
   "outputs": [
    {
     "name": "stdout",
     "output_type": "stream",
     "text": [
      "Loading Brawlstars: |██████████████████████████████| 100%\n"
     ]
    },
    {
     "data": {
      "text/plain": [
       "'You start playing Brawlstars.'"
      ]
     },
     "execution_count": 22,
     "metadata": {},
     "output_type": "execute_result"
    }
   ],
   "source": [
    "import time\n",
    "import sys\n",
    "\n",
    "class Game:\n",
    "    \"\"\"Base class for all games\"\"\"\n",
    "    def __init__(self, title, genre, rating=0):\n",
    "        self.title = title # for example, \"Chess\" or \"Mario Kart\"\n",
    "        self.genre = genre # e.g. \"Strategy\" or \"Racing\" \n",
    "        self.rating = rating # user rating / 10\n",
    "\n",
    "    def info(self):\n",
    "        \"\"\"Return a summary of the game\"\"\"\n",
    "        return f\"{self.title} (Genre: {self.genre}, Rating: {self.rating}/10)\"\n",
    "\n",
    "    def play(self):\n",
    "        return f\"You start playing {self.title}.\"\n",
    "\n",
    "    def rate(self, score):\n",
    "        \"\"\"Rate the game (1-10)\"\"\"\n",
    "        if 1 <= score <= 10:\n",
    "            self.rating = score\n",
    "            return f\"You rated {self.title} {self.rating}/10\"\n",
    "        else:\n",
    "            raise ValueError(\"Rating must be between 1 and 10\")\n",
    "        \n",
    "class Brawlstars(Game):\n",
    "    \"\"\"Xuanyou's favorite\"\"\"\n",
    "    def __init__(self):\n",
    "        super().__init__(title=\"Brawlstars\", genre=\"Fighting\", rating=9.6)\n",
    "        self.max_players = 6\n",
    "\n",
    "    def play(self):\n",
    "        # Print a loading bar\n",
    "        total_steps = 30\n",
    "        print(f\"Loading {self.title}:\", end=\" \", flush=True)\n",
    "        for step in range(total_steps + 1):\n",
    "            percent = int(100 * step / total_steps)\n",
    "            bar = '█' * step + '-' * (total_steps - step)\n",
    "            # \\r to return to start of line and overwrite\n",
    "            sys.stdout.write(f\"\\rLoading {self.title}: |{bar}| {percent}%\")\n",
    "            sys.stdout.flush()\n",
    "            time.sleep(0.05)\n",
    "        print()  # newline after loading bar\n",
    "\n",
    "        # After loading, launch the game\n",
    "        return super().play()\n",
    "\n",
    "Brawlstars().play()"
   ]
  }
 ],
 "metadata": {
  "kernelspec": {
   "display_name": "TTA",
   "language": "python",
   "name": "python3"
  },
  "language_info": {
   "codemirror_mode": {
    "name": "ipython",
    "version": 3
   },
   "file_extension": ".py",
   "mimetype": "text/x-python",
   "name": "python",
   "nbconvert_exporter": "python",
   "pygments_lexer": "ipython3",
   "version": "3.12.9"
  }
 },
 "nbformat": 4,
 "nbformat_minor": 5
}
