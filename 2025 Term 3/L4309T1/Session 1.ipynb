{
 "cells": [
  {
   "cell_type": "code",
   "execution_count": 1,
   "id": "c6f53f6f",
   "metadata": {},
   "outputs": [
    {
     "name": "stdout",
     "output_type": "stream",
     "text": [
      "192.168.1.217:50051\n"
     ]
    }
   ],
   "source": [
    "from ugot import ugot\n",
    "got = ugot.UGOT()\n",
    "got.initialize(\"192.168.1.217\")"
   ]
  },
  {
   "cell_type": "code",
   "execution_count": null,
   "id": "0aca46f0",
   "metadata": {},
   "outputs": [],
   "source": [
    "# 0 forwards, 1 backwards\n",
    "got.mecanum_move_speed_times(0, 30, 50, 1)\n",
    "\n",
    "# 2 left, 3 right\n",
    "got.mecanum_turn_speed_times(2, 45, 90, 2)\n"
   ]
  },
  {
   "cell_type": "code",
   "execution_count": null,
   "id": "208ac328",
   "metadata": {},
   "outputs": [],
   "source": [
    "# Drawing a square\n",
    "\n",
    "def squares(n_squares):\n",
    "    for i in range(4 * n_squares):\n",
    "        got.mecanum_move_speed_times(0, 30, 50, 1)\n",
    "        got.mecanum_turn_speed_times(2, 45, 90, 2)\n",
    "\n",
    "squares(10)"
   ]
  },
  {
   "cell_type": "code",
   "execution_count": null,
   "id": "ce62661f",
   "metadata": {},
   "outputs": [],
   "source": [
    "import time\n",
    "\n",
    "got.mechanical_arms_restory()\n",
    "time.sleep(1)\n",
    "got.mechanical_joint_control(angle1=0, angle2=-45, angle3=-45, duration=500)\n",
    "time.sleep(1)\n",
    "got.mechanical_clamp_release()\n",
    "time.sleep(1)\n",
    "got.mechanical_clamp_close()"
   ]
  }
 ],
 "metadata": {
  "kernelspec": {
   "display_name": "TTA",
   "language": "python",
   "name": "python3"
  },
  "language_info": {
   "codemirror_mode": {
    "name": "ipython",
    "version": 3
   },
   "file_extension": ".py",
   "mimetype": "text/x-python",
   "name": "python",
   "nbconvert_exporter": "python",
   "pygments_lexer": "ipython3",
   "version": "3.12.9"
  }
 },
 "nbformat": 4,
 "nbformat_minor": 5
}
