{
 "cells": [
  {
   "cell_type": "code",
   "execution_count": null,
   "id": "bcf9341b",
   "metadata": {},
   "outputs": [],
   "source": [
    "from ugot import ugot\n",
    "got = ugot.UGOT()\n",
    "got.initialize('192.168.1.162')"
   ]
  },
  {
   "cell_type": "code",
   "execution_count": null,
   "id": "2beffcdb",
   "metadata": {},
   "outputs": [],
   "source": [
    "got.mecanum_move_speed_times(direction=0, speed=30, times=20, unit=1)\n",
    "got.mecanum_turn_speed_times(turn=2, speed=45, times=90, unit=2) # 2 = left, 3 = right\n",
    "\n",
    "for i in range(4):\n",
    "    # forward\n",
    "    got.mecanum_move_speed_times(direction=0, speed=30, times=20, unit=1)\n",
    "    # go left\n",
    "    got.mecanum_turn_speed_times(turn=2, speed=45, times=90, unit=2)"
   ]
  },
  {
   "cell_type": "code",
   "execution_count": null,
   "id": "4b0bd471",
   "metadata": {},
   "outputs": [],
   "source": [
    "import time\n",
    "\n",
    "got.mechanical_clamp_release() \n",
    "got.mechanical_joint_control(angle1=0, angle2=-45, angle3=-45, duration=500)\n",
    "time.sleep(1)\n",
    "got.mechanical_clamp_close()\n",
    "time.sleep(0.5)\n",
    "got.mechanical_joint_control(angle1=0, angle2=50, angle3=50, duration=500)\n",
    "time.sleep(0.75)\n",
    "got.mechanical_joint_control(angle1=0, angle2=0, angle3=0, duration=150)\n",
    "got.mechanical_clamp_close()"
   ]
  },
  {
   "cell_type": "code",
   "execution_count": 7,
   "id": "15d48fa5",
   "metadata": {},
   "outputs": [
    {
     "data": {
      "text/plain": [
       "{'key': 'value', 'josh': 'person'}"
      ]
     },
     "execution_count": 7,
     "metadata": {},
     "output_type": "execute_result"
    }
   ],
   "source": [
    "dict1 = {\"key\": \"value\"}\n",
    "\n",
    "# Looking up in a dictionary\n",
    "dict1[\"key\"]\n",
    "\n",
    "\n",
    "dict1[\"josh\"] = \"person\"\n",
    "\n",
    "dict1"
   ]
  },
  {
   "cell_type": "code",
   "execution_count": null,
   "id": "0909b084",
   "metadata": {},
   "outputs": [
    {
     "name": "stdout",
     "output_type": "stream",
     "text": [
      "Hello! I am a chatbot. What would you like to do?       \n",
      "Type 'help' for a list of commands.       \n",
      "Type 'exit' to exit the chatbot\n",
      "\n",
      "Chatbot: Here are the available commands:\n",
      "Bye! Have a great time!\n"
     ]
    }
   ],
   "source": [
    "# Basic chatbot\n",
    "command_lib = {\n",
    "    \"exit\": \"Leaves the chatbot\",\n",
    "    \"help\": \"Displays the list of available commands\",\n",
    "}\n",
    "\n",
    "print(\"Hello! I am a chatbot. What would you like to do? \\\n",
    "      \\nType 'help' for a list of commands. \\\n",
    "      \\nType 'exit' to exit the chatbot\")\n",
    "\n",
    "while True:\n",
    "    prompt = input(\"You: \")\n",
    "    low = prompt.lower()\n",
    "\n",
    "    if 'exit' in low:\n",
    "        print(\"Bye! Have a great time!\")\n",
    "        break\n",
    "\n",
    "    elif 'help' in low:\n",
    "        print(\"\\nChatbot: Here are the available commands:\")\n",
    "        for command, description in command_lib.items():\n",
    "            print(f\"- {command}: {description}\")"
   ]
  }
 ],
 "metadata": {
  "kernelspec": {
   "display_name": "TTA",
   "language": "python",
   "name": "python3"
  },
  "language_info": {
   "codemirror_mode": {
    "name": "ipython",
    "version": 3
   },
   "file_extension": ".py",
   "mimetype": "text/x-python",
   "name": "python",
   "nbconvert_exporter": "python",
   "pygments_lexer": "ipython3",
   "version": "3.12.9"
  }
 },
 "nbformat": 4,
 "nbformat_minor": 5
}
