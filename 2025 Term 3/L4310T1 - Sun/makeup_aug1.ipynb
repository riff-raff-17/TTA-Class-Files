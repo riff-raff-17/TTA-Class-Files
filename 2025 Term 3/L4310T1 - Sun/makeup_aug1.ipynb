{
 "cells": [
  {
   "cell_type": "code",
   "execution_count": 23,
   "id": "2741b50a",
   "metadata": {},
   "outputs": [
    {
     "name": "stdout",
     "output_type": "stream",
     "text": [
      "Sending to Ollama...\n",
      "Done!\n",
      "Determining the \"hardest\" math question is subjective, as it depends on personal perspectives and expertise. However, some of the most famous and notoriously difficult problems in mathematics include:\n",
      "\n",
      "* The Riemann Hypothesis (circa 1859): A problem regarding the distribution of prime numbers that remains unsolved.\n",
      "* The P versus NP problem (1971): A question about the computational complexity of solving problems efficiently.\n",
      "* The Birch and Swinnerton-Dyer Conjecture (1965): A problem in number theory related to elliptic curves.\n",
      "\n",
      "These problems have resisted solutions for over a century, with some remaining unsolved despite significant contributions from top mathematicians.\n"
     ]
    }
   ],
   "source": [
    "import requests\n",
    "import ollama\n",
    "import platform\n",
    "import subprocess\n",
    "\n",
    "MODEL_OLLAMA = \"llama3.2\"\n",
    "\n",
    "def chat_with_llama(prompt):\n",
    "    print(\"Sending to Ollama...\")\n",
    "    response = ollama.chat(model=MODEL_OLLAMA, messages=[{\"role\":\"user\", \"content\":prompt}])\n",
    "    reply = response[\"message\"][\"content\"]\n",
    "    print(\"Done!\")\n",
    "    return reply\n",
    "\n",
    "def speak(text):\n",
    "    system = platform.system()\n",
    "    if system == \"Darwin\":\n",
    "        subprocess.run([\"say\", text])\n",
    "    elif system==\"Windows\":\n",
    "        powershell_script = f\"\"\"\n",
    "        Add-Type -AssembleName System.Speech\n",
    "        $speak = New-Object System.Speech.Synthesis.SpeechSynthesizer\n",
    "        $speak.Speak(\"{text}\")\n",
    "        \"\"\"\n",
    "        subprocess.run([\"powershell\", \"-Command\", powershell_script])\n",
    "\n",
    "response = chat_with_llama(\"What is the hardest math question? Answer in one paragraph or less.\")\n",
    "print(response)\n",
    "speak(response)"
   ]
  },
  {
   "cell_type": "code",
   "execution_count": null,
   "id": "bfa8b5ac",
   "metadata": {},
   "outputs": [],
   "source": []
  }
 ],
 "metadata": {
  "kernelspec": {
   "display_name": ".venv",
   "language": "python",
   "name": "python3"
  },
  "language_info": {
   "codemirror_mode": {
    "name": "ipython",
    "version": 3
   },
   "file_extension": ".py",
   "mimetype": "text/x-python",
   "name": "python",
   "nbconvert_exporter": "python",
   "pygments_lexer": "ipython3",
   "version": "3.13.5"
  }
 },
 "nbformat": 4,
 "nbformat_minor": 5
}
