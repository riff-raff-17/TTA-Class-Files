{
 "cells": [
  {
   "cell_type": "code",
   "execution_count": null,
   "id": "d11e5bb6",
   "metadata": {},
   "outputs": [],
   "source": [
    "# Basic chatbot\n",
    "command_lib = {\n",
    "    \"exit\": \"Leaves the chatbot\",\n",
    "    \"help\": \"Displays the list of available commands\",\n",
    "}\n",
    "\n",
    "print(\"Hello! I am a chatbot. What would you like to do? \\\n",
    "      \\nType 'help' for a list of commands. \\\n",
    "      \\nType 'exit' to exit the chatbot\")\n",
    "\n",
    "while True:\n",
    "    prompt = input(\"You: \")\n",
    "    low = prompt.lower()\n",
    "\n",
    "    if 'exit' in low:\n",
    "        print(\"Bye! Have a great time!\")\n",
    "        break\n",
    "\n",
    "    elif 'help' in low:\n",
    "        print(\"\\nChatbot: Here are the available commands:\")\n",
    "        for command, description in command_lib.items():\n",
    "            print(f\"- {command}: {description}\")"
   ]
  },
  {
   "cell_type": "code",
   "execution_count": null,
   "id": "ad8892ed",
   "metadata": {},
   "outputs": [],
   "source": [
    "def addition(par1, par2):\n",
    "    results = par1 + par2\n",
    "    return results\n",
    "\n",
    "addition(par1=5, par2=3)\n",
    "\n",
    "def multiplication(par1, par2, par3):\n",
    "    results = par1 * par2 * par3\n",
    "    return results\n",
    "\n",
    "multiplication(par1=5, par2=10, par3=100)"
   ]
  },
  {
   "cell_type": "code",
   "execution_count": null,
   "id": "48362209",
   "metadata": {},
   "outputs": [
    {
     "data": {
      "text/plain": [
       "1.5915494309189535"
      ]
     },
     "execution_count": 6,
     "metadata": {},
     "output_type": "execute_result"
    }
   ],
   "source": [
    "addition = lambda par1, par2: par1 + par2\n",
    "\n",
    "addition(5, 3)\n",
    "\n",
    "multiplication = lambda par1, par2: par1 * par2\n",
    "\n",
    "multiplication(5, 3)\n",
    "\n",
    "division = lambda par1, par2: par1 / par2\n"
   ]
  },
  {
   "cell_type": "code",
   "execution_count": null,
   "id": "8fdd5460",
   "metadata": {},
   "outputs": [
    {
     "name": "stdout",
     "output_type": "stream",
     "text": [
      "Simple Lambda Calculator!\n",
      "Type 'exit' to quit.\n",
      "\n",
      "= 8.0\n",
      "\n"
     ]
    }
   ],
   "source": [
    "def calculator():\n",
    "    # Define all operations as lambdas in a dict\n",
    "    operations = {\n",
    "        \"+\" : lambda x, y: x + y,\n",
    "        \"-\" : lambda x, y: x - y,\n",
    "        \"*\" : lambda x, y: x * y,\n",
    "        \"/\" : lambda x, y: x / y if y != 0 else \"Error: Division by zero is not allowed!\"\n",
    "    }\n",
    "\n",
    "    print(\"Simple Lambda Calculator!\")\n",
    "    print(\"Type 'exit' to quit.\\n\")\n",
    "\n",
    "    while True:\n",
    "        expr = input(\"Enter calculation (e.g. 3 + 4): \").strip()\n",
    "\n",
    "        if expr.lower() == 'exit':\n",
    "            print(\"Goodbye!\")\n",
    "            break\n",
    "\n",
    "        try:\n",
    "            # Parse input into parts\n",
    "            x, op, y = expr.split()\n",
    "            x, y = float(x), float(y)\n",
    "\n",
    "            # Look up and execute the lambda\n",
    "            if op in operations:\n",
    "                result = operations[op](x, y)\n",
    "                print(f\"= {result}\\n\")\n",
    "            else:\n",
    "                print(f\"Invalid operator: '{op}'\\n\")\n",
    "\n",
    "        except ValueError:\n",
    "            print(\"Invalid format. Please write: [number] [operator] [number] e.g. 3 + 4\")\n",
    "\n",
    "\n",
    "calculator()"
   ]
  },
  {
   "cell_type": "code",
   "execution_count": null,
   "id": "e6c47144",
   "metadata": {},
   "outputs": [
    {
     "name": "stdout",
     "output_type": "stream",
     "text": [
      "Welcome to the number guessing game!\n",
      "I'm thinking of a number between 1 and 100. You have 10 attempts left.\n"
     ]
    },
    {
     "ename": "TypeError",
     "evalue": "argument of type 'int' is not iterable",
     "output_type": "error",
     "traceback": [
      "\u001b[31m---------------------------------------------------------------------------\u001b[39m",
      "\u001b[31mTypeError\u001b[39m                                 Traceback (most recent call last)",
      "\u001b[36mCell\u001b[39m\u001b[36m \u001b[39m\u001b[32mIn[261]\u001b[39m\u001b[32m, line 37\u001b[39m\n\u001b[32m     33\u001b[39m     \u001b[38;5;28;01melse\u001b[39;00m:\n\u001b[32m     34\u001b[39m         \u001b[38;5;66;03m# This is if you run out of attempts\u001b[39;00m\n\u001b[32m     35\u001b[39m         \u001b[38;5;28mprint\u001b[39m(\u001b[33mf\u001b[39m\u001b[33m\"\u001b[39m\u001b[33mGame over! The number was \u001b[39m\u001b[38;5;132;01m{\u001b[39;00mtarget\u001b[38;5;132;01m}\u001b[39;00m\u001b[33m\"\u001b[39m)\n\u001b[32m---> \u001b[39m\u001b[32m37\u001b[39m \u001b[43mplay_guessing_game\u001b[49m\u001b[43m(\u001b[49m\u001b[43m)\u001b[49m\n",
      "\u001b[36mCell\u001b[39m\u001b[36m \u001b[39m\u001b[32mIn[261]\u001b[39m\u001b[32m, line 19\u001b[39m, in \u001b[36mplay_guessing_game\u001b[39m\u001b[34m(max_attempts)\u001b[39m\n\u001b[32m     16\u001b[39m     \u001b[38;5;28mprint\u001b[39m(\u001b[33m\"\u001b[39m\u001b[33mPlease enter a valid integer.\u001b[39m\u001b[33m\"\u001b[39m)\n\u001b[32m     17\u001b[39m     \u001b[38;5;28;01mcontinue\u001b[39;00m\n\u001b[32m---> \u001b[39m\u001b[32m19\u001b[39m \u001b[38;5;28;01mif\u001b[39;00m \u001b[33;43m\"\u001b[39;49m\u001b[33;43m \u001b[39;49m\u001b[33;43m\"\u001b[39;49m\u001b[43m \u001b[49m\u001b[38;5;129;43;01min\u001b[39;49;00m\u001b[43m \u001b[49m\u001b[43mguess\u001b[49m:\n\u001b[32m     20\u001b[39m     \u001b[38;5;28mprint\u001b[39m(\u001b[33mf\u001b[39m\u001b[33m\"\u001b[39m\u001b[33mCongrats! You guessed in \u001b[39m\u001b[38;5;132;01m{\u001b[39;00mattempts\u001b[38;5;132;01m}\u001b[39;00m\u001b[33m attempts. You get 10 iphones in your dreams\u001b[39m\u001b[33m\"\u001b[39m)\n\u001b[32m     21\u001b[39m     \u001b[38;5;28;01mbreak\u001b[39;00m\n",
      "\u001b[31mTypeError\u001b[39m: argument of type 'int' is not iterable"
     ]
    }
   ],
   "source": [
    "import random\n",
    "\n",
    "def play_guessing_game(max_attempts=10):\n",
    "    # Pick a random number between 1 and 100\n",
    "    target = random.randint(1, 100)\n",
    "    attempts = 0\n",
    "\n",
    "    print(\"Welcome to the number guessing game!\")\n",
    "    print(f\"I'm thinking of a number between 1 and 100. You have {max_attempts} attempts left.\")\n",
    "\n",
    "    # Loop until the player guesses correctly or runs out of attempts\n",
    "    while attempts < max_attempts:\n",
    "        try:\n",
    "            guess = int(input(f\"Attempt {attempts+1}/{max_attempts} - Enter your guess: \"))\n",
    "        except ValueError:\n",
    "            print(\"Please enter a valid integer.\")\n",
    "            continue\n",
    "            \n",
    "        attempts += 1\n",
    "\n",
    "        if guess < target:\n",
    "            print(\"Too low!\")\n",
    "        elif guess > target:\n",
    "            print(\"Too high!\")\n",
    "        else:\n",
    "            print(f\"Congrats! You guessed in {attempts} attempts. You get 10 iphones in your dreams\")\n",
    "            break\n",
    "\n",
    "    else:\n",
    "        # This is if you run out of attempts\n",
    "        print(f\"Game over! The number was {target}\")\n",
    "\n",
    "play_guessing_game()"
   ]
  },
  {
   "cell_type": "code",
   "execution_count": null,
   "id": "a6518155",
   "metadata": {},
   "outputs": [],
   "source": [
    "\n",
    "target = random.randint(1, 100)"
   ]
  }
 ],
 "metadata": {
  "kernelspec": {
   "display_name": "TTA",
   "language": "python",
   "name": "python3"
  },
  "language_info": {
   "codemirror_mode": {
    "name": "ipython",
    "version": 3
   },
   "file_extension": ".py",
   "mimetype": "text/x-python",
   "name": "python",
   "nbconvert_exporter": "python",
   "pygments_lexer": "ipython3",
   "version": "3.12.9"
  }
 },
 "nbformat": 4,
 "nbformat_minor": 5
}
