{
 "cells": [
  {
   "cell_type": "code",
   "execution_count": 9,
   "id": "f80f3e58",
   "metadata": {},
   "outputs": [],
   "source": [
    "class Garden:\n",
    "    def __init__(self, plants=[''], soil_content='rich', \n",
    "    size='small', gardener='andy', name=\"andydandy's garden\"):\n",
    "        self.plants = plants\n",
    "        self.soil_content = soil_content\n",
    "        self.size = size\n",
    "        self.gardener = gardener\n",
    "        self.name = name\n",
    "\n",
    "    def plant(self, plant):\n",
    "        # Gardener plants something\n",
    "        plants.append(plant)\n",
    "        print(f\"{gardener} plants {plant} in {name}\")\n",
    "    \n",
    "    def __repr__(self):\n",
    "        return f\"plants={plants}, soil content={soil_content}, size={size},\\\n",
    "gardener={gardener}, name={name}\"\n",
    "\n",
    "andydandy_garden = Garden(plants=['carrots'])\n"
   ]
  },
  {
   "cell_type": "code",
   "execution_count": null,
   "id": "50fed193",
   "metadata": {},
   "outputs": [],
   "source": [
    "class UGOTCommandCenter:\n",
    "    def __init__(self, got):\n",
    "        self.got = got\n",
    "        self.running = False\n",
    "\n",
    "        # List of simple commands\n",
    "        self.command_list = [\"forward\", \"backward\", \"left\", \"right\"]\n",
    "\n",
    "        # Map command names to handler methods\n",
    "        self._handlers = {\n",
    "            'exit' : self._handle_exit,\n",
    "            'help' : self._handle_help,\n",
    "            'forward' : self._handle_forward,\n",
    "            'backward' : self._handle_backward,\n",
    "            'left' : self._handle_left,\n",
    "            'right' : self._handle_right\n",
    "        }\n",
    "\n",
    "    def _handle_exit(self):\n",
    "        print(\"Exiting robot...\")\n",
    "        self.running = False\n",
    "    \n",
    "    def _handle_help(self):\n",
    "        print(\"Here are the available commands:\")\n",
    "        for name in self.command_list:\n",
    "            print(f\"- {name}\")\n",
    "\n",
    "    def _handle_forward(self, times):\n",
    "        self.got.mecanum_move_speed_times(direction=0, speed=30, times=times, unit=1)\n",
    "\n",
    "    def _handle_backward(self, times):\n",
    "        self.got.mecanum_move_speed_times(direction=1, speed=30, times=times, unit=1)\n",
    "\n",
    "    def _handle_left(self, times):\n",
    "        self.got.mecanum_turn_speed_times(turn=2, speed=30, times=times, unit=2)\n",
    "        \n",
    "    def _handle_right(self, times):\n",
    "        self.got.mecanum_turn_speed_times(turn=3, speed=30, times=times, unit=2)\n",
    "\n",
    "    def run(self):\n",
    "        self.running = True\n",
    "\n",
    "        print(\"Welcome to UGOT!\")\n",
    "        while self.running:\n",
    "            line = input(\"What are your commands? > \").strip().lower()\n",
    "            if not line:\n",
    "                continue\n",
    "\n",
    "            tokens = line.split()\n",
    "            i = 0\n",
    "            while i < len(tokens):\n",
    "                cmd = tokens[i]\n",
    "                handler = self._handlers.get(cmd)\n",
    "                if handler is None:\n",
    "                    print(f\"Unknown command: {cmd}\")\n",
    "                    i += 1\n",
    "                else:\n",
    "                    # exit and help do not have an integer following them\n",
    "                    if cmd in ('exit', 'help'):\n",
    "                        handler()\n",
    "                        i+=1\n",
    "                    else:\n",
    "                        # movement and turning need numbers\n",
    "                        if i + 1 < len(tokens) and tokens[i+1].isdigit():\n",
    "                            arg  = int(tokens[i+1])\n",
    "                            handler(arg)\n",
    "                            i += 2\n",
    "                        else:\n",
    "                            print(f\"Command '{cmd}' needs number\")\n",
    "                            i+=1\n"
   ]
  },
  {
   "cell_type": "code",
   "execution_count": null,
   "id": "7ea3f881",
   "metadata": {},
   "outputs": [
    {
     "data": {
      "text/plain": [
       "['Forward', 'left', '90']"
      ]
     },
     "execution_count": 12,
     "metadata": {},
     "output_type": "execute_result"
    }
   ],
   "source": [
    "from ugot import ugot\n",
    "got = ugot.UGOT()\n",
    "got.initialize('0.0.0.0')\n",
    "\n",
    "center = UGOTCommandCenter(got)\n",
    "center.run()"
   ]
  },
  {
   "cell_type": "code",
   "execution_count": 35,
   "id": "bdb47d5c",
   "metadata": {},
   "outputs": [
    {
     "name": "stdout",
     "output_type": "stream",
     "text": [
      "192.168.1.129:50051\n",
      "Hello\n"
     ]
    }
   ],
   "source": [
    "from ugot import ugot\n",
    "got = ugot.UGOT()\n",
    "got.initialize('192.168.1.129')\n",
    "\n",
    "command = got.start_audio_asr()\n",
    "print(command)\n",
    "got.play_audio_tts(command, voice_type=0, wait=True)"
   ]
  },
  {
   "cell_type": "code",
   "execution_count": 31,
   "id": "8effc503",
   "metadata": {},
   "outputs": [
    {
     "name": "stdout",
     "output_type": "stream",
     "text": [
      "\n"
     ]
    }
   ],
   "source": [
    "\n",
    "command = got.start_audio_asr()\n",
    "print(command)\n",
    "got.play_audio_tts(command, voice_type=0, wait=True)"
   ]
  },
  {
   "cell_type": "code",
   "execution_count": 29,
   "id": "5e6d6f9e",
   "metadata": {},
   "outputs": [
    {
     "name": "stdout",
     "output_type": "stream",
     "text": [
      "192.168.1.105:50051\n",
      "\n"
     ]
    }
   ],
   "source": [
    "from ugot import ugot\n",
    "got = ugot.UGOT()\n",
    "got.initialize('192.168.1.105')\n",
    "\n",
    "command = got.start_audio_asr()\n",
    "print(command)\n",
    "got.start_audio_nlp(command, wait=False)"
   ]
  }
 ],
 "metadata": {
  "kernelspec": {
   "display_name": "TTA",
   "language": "python",
   "name": "python3"
  },
  "language_info": {
   "codemirror_mode": {
    "name": "ipython",
    "version": 3
   },
   "file_extension": ".py",
   "mimetype": "text/x-python",
   "name": "python",
   "nbconvert_exporter": "python",
   "pygments_lexer": "ipython3",
   "version": "3.12.9"
  }
 },
 "nbformat": 4,
 "nbformat_minor": 5
}
