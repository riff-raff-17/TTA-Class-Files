{
 "cells": [
  {
   "cell_type": "code",
   "execution_count": 15,
   "id": "452f3d39",
   "metadata": {},
   "outputs": [
    {
     "name": "stdout",
     "output_type": "stream",
     "text": [
      "192.168.1.217:50051\n"
     ]
    }
   ],
   "source": [
    "from ugot import ugot\n",
    "got = ugot.UGOT()\n",
    "got.initialize('192.168.1.217')"
   ]
  },
  {
   "cell_type": "code",
   "execution_count": 10,
   "id": "8d2d3017",
   "metadata": {},
   "outputs": [
    {
     "name": "stdout",
     "output_type": "stream",
     "text": [
      "Direction: Left Prompt: Please exit the robot\n"
     ]
    }
   ],
   "source": [
    "# direction: Front/Behind/Left/Right\n",
    "direction, prompt = got.start_audio_asr_doa(duration=3)\n",
    "\n",
    "print(f\"Direction: {direction} Prompt: {prompt}\")"
   ]
  },
  {
   "cell_type": "code",
   "execution_count": 16,
   "id": "15987b6b",
   "metadata": {},
   "outputs": [
    {
     "name": "stdout",
     "output_type": "stream",
     "text": [
      "Direction: Left Prompt: \n",
      "Direction: Left Prompt: It's tracking\n",
      "Direction: Left Prompt: \n",
      "Direction: Front Prompt: Making on run\n",
      "Direction: Behind Prompt: And\n"
     ]
    },
    {
     "ename": "KeyboardInterrupt",
     "evalue": "",
     "output_type": "error",
     "traceback": [
      "\u001b[31m---------------------------------------------------------------------------\u001b[39m",
      "\u001b[31mKeyboardInterrupt\u001b[39m                         Traceback (most recent call last)",
      "\u001b[36mCell\u001b[39m\u001b[36m \u001b[39m\u001b[32mIn[16]\u001b[39m\u001b[32m, line 4\u001b[39m\n\u001b[32m      1\u001b[39m running = \u001b[38;5;28;01mTrue\u001b[39;00m\n\u001b[32m      3\u001b[39m \u001b[38;5;28;01mwhile\u001b[39;00m running:\n\u001b[32m----> \u001b[39m\u001b[32m4\u001b[39m     direction, prompt = \u001b[43mgot\u001b[49m\u001b[43m.\u001b[49m\u001b[43mstart_audio_asr_doa\u001b[49m\u001b[43m(\u001b[49m\u001b[43mduration\u001b[49m\u001b[43m=\u001b[49m\u001b[32;43m3\u001b[39;49m\u001b[43m)\u001b[49m\n\u001b[32m      5\u001b[39m     \u001b[38;5;28mprint\u001b[39m(\u001b[33mf\u001b[39m\u001b[33m\"\u001b[39m\u001b[33mDirection: \u001b[39m\u001b[38;5;132;01m{\u001b[39;00mdirection\u001b[38;5;132;01m}\u001b[39;00m\u001b[33m Prompt: \u001b[39m\u001b[38;5;132;01m{\u001b[39;00mprompt\u001b[38;5;132;01m}\u001b[39;00m\u001b[33m\"\u001b[39m)\n\u001b[32m      6\u001b[39m     got.play_audio_tts(direction, voice_type=\u001b[32m0\u001b[39m, wait=\u001b[38;5;28;01mTrue\u001b[39;00m)\n",
      "\u001b[36mFile \u001b[39m\u001b[32m/opt/anaconda3/envs/TTA/lib/python3.12/site-packages/ugot/ugot.py:3205\u001b[39m, in \u001b[36mUGOT.start_audio_asr_doa\u001b[39m\u001b[34m(self, duration)\u001b[39m\n\u001b[32m   3203\u001b[39m     begin_vad = \u001b[32m3000\u001b[39m\n\u001b[32m   3204\u001b[39m     end_vad = \u001b[32m1500\u001b[39m\n\u001b[32m-> \u001b[39m\u001b[32m3205\u001b[39m result = \u001b[38;5;28;43mself\u001b[39;49m\u001b[43m.\u001b[49m\u001b[43mAUDIO\u001b[49m\u001b[43m.\u001b[49m\u001b[43mgetAsrAndDoa\u001b[49m\u001b[43m(\u001b[49m\u001b[43mbegin_vad\u001b[49m\u001b[43m \u001b[49m\u001b[43m=\u001b[49m\u001b[43m \u001b[49m\u001b[43mbegin_vad\u001b[49m\u001b[43m,\u001b[49m\u001b[43m \u001b[49m\u001b[43mend_vad\u001b[49m\u001b[43m \u001b[49m\u001b[43m=\u001b[49m\u001b[43m \u001b[49m\u001b[43mend_vad\u001b[49m\u001b[43m,\u001b[49m\u001b[43m \u001b[49m\u001b[43mduration\u001b[49m\u001b[43m \u001b[49m\u001b[43m=\u001b[49m\u001b[43m \u001b[49m\u001b[43mduration\u001b[49m\u001b[43m \u001b[49m\u001b[43m*\u001b[49m\u001b[43m \u001b[49m\u001b[32;43m1000\u001b[39;49m\u001b[43m)\u001b[49m\n\u001b[32m   3206\u001b[39m asr_result = \u001b[33m'\u001b[39m\u001b[33m'\u001b[39m\n\u001b[32m   3207\u001b[39m direction = \u001b[33m'\u001b[39m\u001b[33m'\u001b[39m\n",
      "\u001b[36mFile \u001b[39m\u001b[32m/opt/anaconda3/envs/TTA/lib/python3.12/site-packages/ugot/src/audio_client.py:41\u001b[39m, in \u001b[36mAudioClient.getAsrAndDoa\u001b[39m\u001b[34m(self, begin_vad, end_vad, duration)\u001b[39m\n\u001b[32m     38\u001b[39m input_data.end_vad = end_vad\n\u001b[32m     39\u001b[39m input_data.duration = duration\n\u001b[32m---> \u001b[39m\u001b[32m41\u001b[39m response = \u001b[38;5;28;43mself\u001b[39;49m\u001b[43m.\u001b[49m\u001b[43mclient\u001b[49m\u001b[43m.\u001b[49m\u001b[43mgetAsrAndDoa\u001b[49m\u001b[43m(\u001b[49m\u001b[43minput_data\u001b[49m\u001b[43m)\u001b[49m\n\u001b[32m     42\u001b[39m \u001b[38;5;28;01mreturn\u001b[39;00m response.data\n",
      "\u001b[36mFile \u001b[39m\u001b[32m/opt/anaconda3/envs/TTA/lib/python3.12/site-packages/grpc/_channel.py:1178\u001b[39m, in \u001b[36m_UnaryUnaryMultiCallable.__call__\u001b[39m\u001b[34m(self, request, timeout, metadata, credentials, wait_for_ready, compression)\u001b[39m\n\u001b[32m   1166\u001b[39m \u001b[38;5;28;01mdef\u001b[39;00m\u001b[38;5;250m \u001b[39m\u001b[34m__call__\u001b[39m(\n\u001b[32m   1167\u001b[39m     \u001b[38;5;28mself\u001b[39m,\n\u001b[32m   1168\u001b[39m     request: Any,\n\u001b[32m   (...)\u001b[39m\u001b[32m   1173\u001b[39m     compression: Optional[grpc.Compression] = \u001b[38;5;28;01mNone\u001b[39;00m,\n\u001b[32m   1174\u001b[39m ) -> Any:\n\u001b[32m   1175\u001b[39m     (\n\u001b[32m   1176\u001b[39m         state,\n\u001b[32m   1177\u001b[39m         call,\n\u001b[32m-> \u001b[39m\u001b[32m1178\u001b[39m     ) = \u001b[38;5;28;43mself\u001b[39;49m\u001b[43m.\u001b[49m\u001b[43m_blocking\u001b[49m\u001b[43m(\u001b[49m\n\u001b[32m   1179\u001b[39m \u001b[43m        \u001b[49m\u001b[43mrequest\u001b[49m\u001b[43m,\u001b[49m\u001b[43m \u001b[49m\u001b[43mtimeout\u001b[49m\u001b[43m,\u001b[49m\u001b[43m \u001b[49m\u001b[43mmetadata\u001b[49m\u001b[43m,\u001b[49m\u001b[43m \u001b[49m\u001b[43mcredentials\u001b[49m\u001b[43m,\u001b[49m\u001b[43m \u001b[49m\u001b[43mwait_for_ready\u001b[49m\u001b[43m,\u001b[49m\u001b[43m \u001b[49m\u001b[43mcompression\u001b[49m\n\u001b[32m   1180\u001b[39m \u001b[43m    \u001b[49m\u001b[43m)\u001b[49m\n\u001b[32m   1181\u001b[39m     \u001b[38;5;28;01mreturn\u001b[39;00m _end_unary_response_blocking(state, call, \u001b[38;5;28;01mFalse\u001b[39;00m, \u001b[38;5;28;01mNone\u001b[39;00m)\n",
      "\u001b[36mFile \u001b[39m\u001b[32m/opt/anaconda3/envs/TTA/lib/python3.12/site-packages/grpc/_channel.py:1162\u001b[39m, in \u001b[36m_UnaryUnaryMultiCallable._blocking\u001b[39m\u001b[34m(self, request, timeout, metadata, credentials, wait_for_ready, compression)\u001b[39m\n\u001b[32m   1145\u001b[39m state.target = _common.decode(\u001b[38;5;28mself\u001b[39m._target)\n\u001b[32m   1146\u001b[39m call = \u001b[38;5;28mself\u001b[39m._channel.segregated_call(\n\u001b[32m   1147\u001b[39m     cygrpc.PropagationConstants.GRPC_PROPAGATE_DEFAULTS,\n\u001b[32m   1148\u001b[39m     \u001b[38;5;28mself\u001b[39m._method,\n\u001b[32m   (...)\u001b[39m\u001b[32m   1160\u001b[39m     \u001b[38;5;28mself\u001b[39m._registered_call_handle,\n\u001b[32m   1161\u001b[39m )\n\u001b[32m-> \u001b[39m\u001b[32m1162\u001b[39m event = \u001b[43mcall\u001b[49m\u001b[43m.\u001b[49m\u001b[43mnext_event\u001b[49m\u001b[43m(\u001b[49m\u001b[43m)\u001b[49m\n\u001b[32m   1163\u001b[39m _handle_event(event, state, \u001b[38;5;28mself\u001b[39m._response_deserializer)\n\u001b[32m   1164\u001b[39m \u001b[38;5;28;01mreturn\u001b[39;00m state, call\n",
      "\u001b[36mFile \u001b[39m\u001b[32msrc/python/grpcio/grpc/_cython/_cygrpc/channel.pyx.pxi:388\u001b[39m, in \u001b[36mgrpc._cython.cygrpc.SegregatedCall.next_event\u001b[39m\u001b[34m()\u001b[39m\n",
      "\u001b[36mFile \u001b[39m\u001b[32msrc/python/grpcio/grpc/_cython/_cygrpc/channel.pyx.pxi:211\u001b[39m, in \u001b[36mgrpc._cython.cygrpc._next_call_event\u001b[39m\u001b[34m()\u001b[39m\n",
      "\u001b[36mFile \u001b[39m\u001b[32msrc/python/grpcio/grpc/_cython/_cygrpc/channel.pyx.pxi:205\u001b[39m, in \u001b[36mgrpc._cython.cygrpc._next_call_event\u001b[39m\u001b[34m()\u001b[39m\n",
      "\u001b[36mFile \u001b[39m\u001b[32msrc/python/grpcio/grpc/_cython/_cygrpc/completion_queue.pyx.pxi:78\u001b[39m, in \u001b[36mgrpc._cython.cygrpc._latent_event\u001b[39m\u001b[34m()\u001b[39m\n",
      "\u001b[36mFile \u001b[39m\u001b[32msrc/python/grpcio/grpc/_cython/_cygrpc/completion_queue.pyx.pxi:61\u001b[39m, in \u001b[36mgrpc._cython.cygrpc._internal_latent_event\u001b[39m\u001b[34m()\u001b[39m\n",
      "\u001b[36mFile \u001b[39m\u001b[32msrc/python/grpcio/grpc/_cython/_cygrpc/completion_queue.pyx.pxi:42\u001b[39m, in \u001b[36mgrpc._cython.cygrpc._next\u001b[39m\u001b[34m()\u001b[39m\n",
      "\u001b[31mKeyboardInterrupt\u001b[39m: "
     ]
    }
   ],
   "source": [
    "running = True\n",
    "\n",
    "while running:\n",
    "    direction, prompt = got.start_audio_asr_doa(duration=3)\n",
    "    print(f\"Direction: {direction} Prompt: {prompt}\")\n",
    "    got.play_audio_tts(direction, voice_type=0, wait=True)\n",
    "\n",
    "    if 'exit' in prompt.lower():\n",
    "        running = False\n",
    "        got.play_audio_tts(\"Exiting robot...\", voice_type=0, wait=True)\n",
    "        break\n",
    "\n",
    "    if direction == 'Left':\n",
    "        got.mecanum_turn_speed_times(turn=2, speed=45, times=90, unit=2)\n",
    "    elif direction == \"Right\":\n",
    "        got.mecanum_turn_speed_times(turn=3, speed=45, times=90, unit=2)\n",
    "    elif direction == \"Front\":\n",
    "        got.mecanum_move_speed_times(direction=0, speed=30, times=50, unit=1)\n",
    "    elif direction == \"Behind\":\n",
    "        got.mecanum_move_speed_times(direction=1, speed=30, times=50, unit=1)"
   ]
  },
  {
   "cell_type": "code",
   "execution_count": null,
   "id": "4da30830",
   "metadata": {},
   "outputs": [],
   "source": [
    "running = True\n",
    "\n",
    "while running:\n",
    "    direction, prompt = got.start_audio_asr_doa(duration=3)\n",
    "    print(f\"Direction: {direction} Prompt: {prompt}\")\n",
    "    got.play_audio_tts(direction, voice_type=0, wait=True)\n",
    "\n",
    "    if 'exit' in prompt.lower():\n",
    "        running = False\n",
    "        got.play_audio_tts(\"Exiting robot...\", voice_type=0, wait=True)\n",
    "        break\n",
    "\n",
    "    if \"left\" in prompt.lower():\n",
    "        got.mecanum_turn_speed_times(turn=2, speed=45, times=90, unit=2)\n",
    "    elif \"right\" in prompt.lower():\n",
    "        got.mecanum_turn_speed_times(turn=3, speed=45, times=90, unit=2)\n",
    "    elif 'front' in prompt.lower():\n",
    "        got.mecanum_move_speed_times(direction=0, speed=30, times=50, unit=1)\n",
    "    elif 'behind' in prompt.lower():\n",
    "        got.mecanum_move_speed_times(direction=1, speed=30, times=50, unit=1)"
   ]
  },
  {
   "cell_type": "code",
   "execution_count": null,
   "id": "9813980c",
   "metadata": {},
   "outputs": [
    {
     "name": "stdout",
     "output_type": "stream",
     "text": [
      "Hello there I'm looking for you to go forward 10 cm in a row\n"
     ]
    },
    {
     "data": {
      "text/plain": [
       "('forward', 10)"
      ]
     },
     "execution_count": 14,
     "metadata": {},
     "output_type": "execute_result"
    }
   ],
   "source": [
    "import re\n",
    "\n",
    "def parse_command(speech):\n",
    "    pattern = r\"\\b(forward|backward|left|right)\\s+(\\d+(?:\\.\\d+)?)\\b\"\n",
    "    match = re.search(pattern=pattern, string=speech.lower())\n",
    "    if match:\n",
    "         return match.group(1), int(match.group(2))\n",
    "    return None, None\n",
    "\n",
    "# direction, prompt = got.start_audio_asr_doa(duration=6)\n",
    "# print(prompt)\n",
    "# parse_command(prompt)\n",
    "\n",
    "def drive_with_speech():\n",
    "    print(\"Voice control activated. Say 'exit' to stop.\")\n",
    "    while True:\n",
    "        _, prompt = got.start_audio_asr_doa(duration=6)\n",
    "        print(f\"Recognized: {prompt!r}\")\n",
    "\n",
    "        if not prompt:\n",
    "            got.play_audio_tts(\"Didn't hear. Please repeat\", voice_type=0, wait=True)\n",
    "            continue\n",
    "\n",
    "        if any(i in prompt.lower() for i in ('exit', 'quit', 'self destruct', 'you are dumb')):\n",
    "            got.play_audio_tts(\"Exiting robot...\", voice_type=0, wait=True)\n",
    "            break\n",
    "\n",
    "        direction, dist = parse_command(prompt)\n",
    "        TEST_MODE = True\n",
    "        if TEST_MODE:\n",
    "            print(f\"Would move {direction} for {dist} units\")\n",
    "        else:\n",
    "            if \"left\" == direction:\n",
    "                got.mecanum_turn_speed_times(turn=2, speed=45, times=dist, unit=2)\n",
    "            elif \"right\" == direction:\n",
    "                got.mecanum_turn_speed_times(turn=3, speed=45, times=dist, unit=2)\n",
    "            elif 'forward' == direction:\n",
    "                got.mecanum_move_speed_times(direction=0, speed=30, times=dist, unit=1)\n",
    "            elif 'backward' == direction:\n",
    "                got.mecanum_move_speed_times(direction=1, speed=30, times=dist, unit=1)\n",
    "\n",
    "drive_with_speech()"
   ]
  },
  {
   "cell_type": "code",
   "execution_count": null,
   "id": "5c510cf4",
   "metadata": {},
   "outputs": [],
   "source": []
  }
 ],
 "metadata": {
  "kernelspec": {
   "display_name": "TTA",
   "language": "python",
   "name": "python3"
  },
  "language_info": {
   "codemirror_mode": {
    "name": "ipython",
    "version": 3
   },
   "file_extension": ".py",
   "mimetype": "text/x-python",
   "name": "python",
   "nbconvert_exporter": "python",
   "pygments_lexer": "ipython3",
   "version": "3.12.9"
  }
 },
 "nbformat": 4,
 "nbformat_minor": 5
}
