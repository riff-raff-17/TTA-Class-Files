{
 "cells": [
  {
   "cell_type": "code",
   "execution_count": null,
   "id": "452f3d39",
   "metadata": {},
   "outputs": [],
   "source": [
    "from ugot import ugot\n",
    "got = ugot.UGOT()\n",
    "got.initialize('192.168.1.217')"
   ]
  },
  {
   "cell_type": "code",
   "execution_count": null,
   "id": "8d2d3017",
   "metadata": {},
   "outputs": [],
   "source": [
    "# direction: Front/Behind/Left/Right\n",
    "direction, prompt = got.start_audio_asr_doa(duration=3)\n",
    "\n",
    "print(f\"Direction: {direction} Prompt: {prompt}\")"
   ]
  },
  {
   "cell_type": "code",
   "execution_count": null,
   "id": "15987b6b",
   "metadata": {},
   "outputs": [],
   "source": [
    "running = True\n",
    "\n",
    "while running:\n",
    "    direction, prompt = got.start_audio_asr_doa(duration=3)\n",
    "    print(f\"Direction: {direction} Prompt: {prompt}\")\n",
    "    got.play_audio_tts(direction, voice_type=0, wait=True)\n",
    "\n",
    "    if 'exit' in prompt.lower():\n",
    "        running = False\n",
    "        got.play_audio_tts(\"Exiting robot...\", voice_type=0, wait=True)\n",
    "        break\n",
    "\n",
    "    if direction == 'Left':\n",
    "        got.mecanum_turn_speed_times(turn=2, speed=45, times=90, unit=2)\n",
    "    elif direction == \"Right\":\n",
    "        got.mecanum_turn_speed_times(turn=3, speed=45, times=90, unit=2)\n",
    "    elif direction == \"Front\":\n",
    "        got.mecanum_move_speed_times(direction=0, speed=30, times=50, unit=1)\n",
    "    elif direction == \"Behind\":\n",
    "        got.mecanum_move_speed_times(direction=1, speed=30, times=50, unit=1)"
   ]
  },
  {
   "cell_type": "code",
   "execution_count": null,
   "id": "4da30830",
   "metadata": {},
   "outputs": [],
   "source": [
    "running = True\n",
    "\n",
    "while running:\n",
    "    direction, prompt = got.start_audio_asr_doa(duration=3)\n",
    "    print(f\"Direction: {direction} Prompt: {prompt}\")\n",
    "    got.play_audio_tts(direction, voice_type=0, wait=True)\n",
    "\n",
    "    if 'exit' in prompt.lower():\n",
    "        running = False\n",
    "        got.play_audio_tts(\"Exiting robot...\", voice_type=0, wait=True)\n",
    "        break\n",
    "\n",
    "    if \"left\" in prompt.lower():\n",
    "        got.mecanum_turn_speed_times(turn=2, speed=45, times=90, unit=2)\n",
    "    elif \"right\" in prompt.lower():\n",
    "        got.mecanum_turn_speed_times(turn=3, speed=45, times=90, unit=2)\n",
    "    elif 'front' in prompt.lower():\n",
    "        got.mecanum_move_speed_times(direction=0, speed=30, times=50, unit=1)\n",
    "    elif 'behind' in prompt.lower():\n",
    "        got.mecanum_move_speed_times(direction=1, speed=30, times=50, unit=1)"
   ]
  },
  {
   "cell_type": "code",
   "execution_count": null,
   "id": "9813980c",
   "metadata": {},
   "outputs": [],
   "source": [
    "import re\n",
    "\n",
    "def parse_command(speech):\n",
    "    pattern = r\"\\b(forward|backward|left|right)\\s+(\\d+(?:\\.\\d+)?)\\b\"\n",
    "    match = re.search(pattern=pattern, string=speech.lower())\n",
    "    if match:\n",
    "         return match.group(1), int(match.group(2))\n",
    "    return None, None\n",
    "\n",
    "# direction, prompt = got.start_audio_asr_doa(duration=6)\n",
    "# print(prompt)\n",
    "# parse_command(prompt)\n",
    "\n",
    "def drive_with_speech():\n",
    "    print(\"Voice control activated. Say 'exit' to stop.\")\n",
    "    while True:\n",
    "        _, prompt = got.start_audio_asr_doa(duration=6)\n",
    "        print(f\"Recognized: {prompt!r}\")\n",
    "\n",
    "        if not prompt:\n",
    "            got.play_audio_tts(\"Didn't hear. Please repeat\", voice_type=0, wait=True)\n",
    "            continue\n",
    "\n",
    "        if any(i in prompt.lower() for i in ('exit', 'quit', 'self destruct', 'you are dumb')):\n",
    "            got.play_audio_tts(\"Exiting robot...\", voice_type=0, wait=True)\n",
    "            break\n",
    "\n",
    "        direction, dist = parse_command(prompt)\n",
    "        TEST_MODE = True\n",
    "        if TEST_MODE:\n",
    "            print(f\"Would move {direction} for {dist} units\")\n",
    "        else:\n",
    "            if \"left\" == direction:\n",
    "                got.mecanum_turn_speed_times(turn=2, speed=45, times=dist, unit=2)\n",
    "            elif \"right\" == direction:\n",
    "                got.mecanum_turn_speed_times(turn=3, speed=45, times=dist, unit=2)\n",
    "            elif 'forward' == direction:\n",
    "                got.mecanum_move_speed_times(direction=0, speed=30, times=dist, unit=1)\n",
    "            elif 'backward' == direction:\n",
    "                got.mecanum_move_speed_times(direction=1, speed=30, times=dist, unit=1)\n",
    "\n",
    "drive_with_speech()"
   ]
  },
  {
   "cell_type": "code",
   "execution_count": null,
   "id": "5c510cf4",
   "metadata": {},
   "outputs": [],
   "source": []
  }
 ],
 "metadata": {
  "kernelspec": {
   "display_name": "TTA",
   "language": "python",
   "name": "python3"
  },
  "language_info": {
   "codemirror_mode": {
    "name": "ipython",
    "version": 3
   },
   "file_extension": ".py",
   "mimetype": "text/x-python",
   "name": "python",
   "nbconvert_exporter": "python",
   "pygments_lexer": "ipython3",
   "version": "3.12.9"
  }
 },
 "nbformat": 4,
 "nbformat_minor": 5
}
