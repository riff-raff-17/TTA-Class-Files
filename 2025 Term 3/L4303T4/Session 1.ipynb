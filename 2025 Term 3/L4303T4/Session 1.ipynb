{
 "cells": [
  {
   "cell_type": "code",
   "execution_count": null,
   "id": "1f692392",
   "metadata": {},
   "outputs": [
    {
     "data": {
      "text/plain": [
       "Ant(name=Charles, colony=Blue Bellies Ants, size=Small)"
      ]
     },
     "execution_count": 23,
     "metadata": {},
     "output_type": "execute_result"
    }
   ],
   "source": [
    "# Base class\n",
    "class Ant:\n",
    "    def __init__(self, name, colony, size):\n",
    "        self.name = name\n",
    "        self.colony = colony\n",
    "        self.size = size\n",
    "\n",
    "    def role(self):\n",
    "        \"\"\"What this ant does in the colony\"\"\"\n",
    "        return f\"{self.name} is an ant in colony '{self.colony}'.\"\n",
    "\n",
    "    def __repr__(self):\n",
    "        return f\"Ant(name={self.name}, colony={self.colony}, size={self.size})\"\n",
    "\n",
    "# Subclass: WorkerAnt\n",
    "class WorkerAnt(Ant):\n",
    "    def __init__(self, name, colony, size, load_capacity):\n",
    "        super().__init__(name, colony, size)\n",
    "        self.load_capacity = load_capacity\n",
    "\n",
    "    def role(self):\n",
    "        return f\"{self.name} gathers food (capacity: {self.load_capacity} grams)\"\n",
    "\n",
    "    def carry(self, weight):\n",
    "        if weight <= self.load_capacity:\n",
    "            return f\"{self.name} picks up {weight} grams of food.\"\n",
    "        else:\n",
    "            return f\"{self.name} can't pick that up! It's too heavy!\"\n",
    "\n",
    "    def __repr__(self):\n",
    "        return f\"WorkerAnt(name={self.name}, colony={self.colony}, size={self.size}, \\\n",
    "capacity={self.load_capacity})\"\n",
    "\n",
    "Worker1 = WorkerAnt(name=\"Dob\", colony=\"Yellow Crazy Ants\", size=\"Big\", load_capacity=10)\n",
    "Ant1 = Ant(\"Charles\", \"Blue Bellies Ants\", \"Small\")\n",
    "\n",
    "Worker1.carry(10)"
   ]
  },
  {
   "cell_type": "markdown",
   "id": "d3b9da8e",
   "metadata": {},
   "source": []
  },
  {
   "cell_type": "code",
   "execution_count": null,
   "id": "d63da8e8",
   "metadata": {},
   "outputs": [],
   "source": []
  }
 ],
 "metadata": {
  "kernelspec": {
   "display_name": "TTA",
   "language": "python",
   "name": "python3"
  },
  "language_info": {
   "codemirror_mode": {
    "name": "ipython",
    "version": 3
   },
   "file_extension": ".py",
   "mimetype": "text/x-python",
   "name": "python",
   "nbconvert_exporter": "python",
   "pygments_lexer": "ipython3",
   "version": "3.12.9"
  }
 },
 "nbformat": 4,
 "nbformat_minor": 5
}
