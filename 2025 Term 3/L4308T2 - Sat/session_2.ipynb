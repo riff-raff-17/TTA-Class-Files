{
 "cells": [
  {
   "cell_type": "code",
   "execution_count": 4,
   "id": "94fa7390",
   "metadata": {},
   "outputs": [
    {
     "name": "stdout",
     "output_type": "stream",
     "text": [
      "Mclaren Fast 2025 with a speed of 300\n"
     ]
    }
   ],
   "source": [
    "class Car:\n",
    "    def __init__(self, make, model, year, speed):\n",
    "        self.make = make\n",
    "        self.model = model\n",
    "        self.year = year\n",
    "        self.speed = speed\n",
    "    \n",
    "    def describe(self):\n",
    "        print(f\"{self.make} {self.model} {self.year} with a speed of {self.speed}\")\n",
    "\n",
    "car1 = Car(\"Mclaren\", \"Fast\", 2025, 300)\n",
    "car1.describe()"
   ]
  },
  {
   "cell_type": "code",
   "execution_count": null,
   "id": "bd54d818",
   "metadata": {},
   "outputs": [],
   "source": [
    "class ElectricCar(Car):\n",
    "    def __init__(self, make, model, year, speed, battery_range):\n",
    "        super().__init__(make, model, year, speed)\n",
    "        self.battery_range = battery_range\n",
    "\n",
    "    def describe(self):\n",
    "        super().describe()\n",
    "        print(f\"This electric car has a battery range of {self.battery_range} km\")\n",
    "\n",
    "\n"
   ]
  }
 ],
 "metadata": {
  "kernelspec": {
   "display_name": "TTA",
   "language": "python",
   "name": "python3"
  },
  "language_info": {
   "codemirror_mode": {
    "name": "ipython",
    "version": 3
   },
   "file_extension": ".py",
   "mimetype": "text/x-python",
   "name": "python",
   "nbconvert_exporter": "python",
   "pygments_lexer": "ipython3",
   "version": "3.12.9"
  }
 },
 "nbformat": 4,
 "nbformat_minor": 5
}
