{
 "cells": [
  {
   "cell_type": "code",
   "execution_count": 12,
   "id": "9441a6d4",
   "metadata": {},
   "outputs": [
    {
     "name": "stdout",
     "output_type": "stream",
     "text": [
      "Hi! I am a ChatBot. What would you like to do? \n",
      "Type 'help' for a list of commands. \n",
      "Type 'exit' to exit the chatbot.'\n",
      "You: hello\n",
      "Hello! How are you doing\n",
      "You: d\n",
      "I see!\n",
      "You: help\n",
      "\n",
      "ChatBot: Here are the available commands:\n",
      "- exit: Exits the chatbot\n",
      "- help: Displays the list of available commands.\n",
      "You: exit\n",
      "See you!\n"
     ]
    }
   ],
   "source": [
    "#Basic chatbot\n",
    "\n",
    "#Dictionary to hold all the commands\n",
    "commands = {\n",
    "    \"exit\": \"Exits the chatbot\",\n",
    "    \"help\": \"Displays the list of available commands.\",\n",
    "}\n",
    "\n",
    "print(\"Hi! I am a ChatBot. What would you like to do? \\nType \\'help\\' for a list of commands. \\\n",
    "\\nType \\'exit\\' to exit the chatbot.'\")\n",
    "\n",
    "while True:\n",
    "    prompt = input(\"You: \")\n",
    "    low = prompt.lower()\n",
    "    \n",
    "    if 'exit' in low:\n",
    "        print(\"See you!\")\n",
    "        break\n",
    "        \n",
    "    elif 'help' in low:\n",
    "        print(\"\\nChatBot: Here are the available commands:\")\n",
    "        for command, description in commands.items():\n",
    "            print(f\"- {command}: {description}\")\n",
    "            \n",
    "    elif 'hello' in low:\n",
    "        print(\"Hello! How are you doing?\")\n",
    "        input(\"You: \")\n",
    "        print(\"I see!\")\n",
    "        \n",
    "    else:\n",
    "        print(\"I don't understand that command.\")"
   ]
  },
  {
   "cell_type": "code",
   "execution_count": 22,
   "id": "a21c70e8",
   "metadata": {},
   "outputs": [],
   "source": [
    "#Function for adding a user\n",
    "def add_user(users):\n",
    "    adding = True\n",
    "    \n",
    "    while adding:\n",
    "        new_username = input(\"Add username here >\")\n",
    "\n",
    "        if new_username in users: \n",
    "            print(\"Error: user already exists!\")\n",
    "        else:\n",
    "            new_password = input(\"Add password here >\")\n",
    "            users[new_username] = new_password\n",
    "            adding = False"
   ]
  },
  {
   "cell_type": "code",
   "execution_count": 21,
   "id": "8223fd5b",
   "metadata": {},
   "outputs": [
    {
     "name": "stdout",
     "output_type": "stream",
     "text": [
      "Please enter your username >rafa\n",
      "Please enter your password >password\n",
      "Welcome, rafa!\n",
      "\n",
      "Hi! I am a ChatBot. What would you like to do? \n",
      "Type 'help' for a list of commands. \n",
      "Type 'exit' to exit the chatbot.'\n",
      "You: add user\n",
      "Add username here >rafa\n",
      "Add password here >1234\n",
      "Error: user already exists!\n",
      "Add username here >whee\n",
      "Add password here >eee\n",
      "New user added sucessfully!\n"
     ]
    },
    {
     "ename": "KeyboardInterrupt",
     "evalue": "Interrupted by user",
     "output_type": "error",
     "traceback": [
      "\u001b[0;31m---------------------------------------------------------------------------\u001b[0m",
      "\u001b[0;31mKeyboardInterrupt\u001b[0m                         Traceback (most recent call last)",
      "Cell \u001b[0;32mIn[21], line 32\u001b[0m\n\u001b[1;32m     28\u001b[0m \u001b[38;5;28mprint\u001b[39m(\u001b[38;5;124m\"\u001b[39m\u001b[38;5;130;01m\\n\u001b[39;00m\u001b[38;5;124mHi! I am a ChatBot. What would you like to do? \u001b[39m\u001b[38;5;130;01m\\n\u001b[39;00m\u001b[38;5;124mType \u001b[39m\u001b[38;5;130;01m\\'\u001b[39;00m\u001b[38;5;124mhelp\u001b[39m\u001b[38;5;130;01m\\'\u001b[39;00m\u001b[38;5;124m for a list of commands. \u001b[39m\u001b[38;5;130;01m\\\u001b[39;00m\n\u001b[1;32m     29\u001b[0m \u001b[38;5;130;01m\\n\u001b[39;00m\u001b[38;5;124mType \u001b[39m\u001b[38;5;130;01m\\'\u001b[39;00m\u001b[38;5;124mexit\u001b[39m\u001b[38;5;130;01m\\'\u001b[39;00m\u001b[38;5;124m to exit the chatbot.\u001b[39m\u001b[38;5;124m'\u001b[39m\u001b[38;5;124m\"\u001b[39m)\n\u001b[1;32m     31\u001b[0m \u001b[38;5;28;01mwhile\u001b[39;00m \u001b[38;5;28;01mTrue\u001b[39;00m:\n\u001b[0;32m---> 32\u001b[0m     prompt \u001b[38;5;241m=\u001b[39m \u001b[38;5;28minput\u001b[39m(\u001b[38;5;124m\"\u001b[39m\u001b[38;5;124mYou: \u001b[39m\u001b[38;5;124m\"\u001b[39m)\n\u001b[1;32m     33\u001b[0m     low \u001b[38;5;241m=\u001b[39m prompt\u001b[38;5;241m.\u001b[39mlower()\n\u001b[1;32m     35\u001b[0m     \u001b[38;5;28;01mif\u001b[39;00m \u001b[38;5;124m'\u001b[39m\u001b[38;5;124mexit\u001b[39m\u001b[38;5;124m'\u001b[39m \u001b[38;5;129;01min\u001b[39;00m low:\n",
      "File \u001b[0;32m~/anaconda3/lib/python3.11/site-packages/ipykernel/kernelbase.py:1262\u001b[0m, in \u001b[0;36mKernel.raw_input\u001b[0;34m(self, prompt)\u001b[0m\n\u001b[1;32m   1260\u001b[0m     msg \u001b[38;5;241m=\u001b[39m \u001b[38;5;124m\"\u001b[39m\u001b[38;5;124mraw_input was called, but this frontend does not support input requests.\u001b[39m\u001b[38;5;124m\"\u001b[39m\n\u001b[1;32m   1261\u001b[0m     \u001b[38;5;28;01mraise\u001b[39;00m StdinNotImplementedError(msg)\n\u001b[0;32m-> 1262\u001b[0m \u001b[38;5;28;01mreturn\u001b[39;00m \u001b[38;5;28mself\u001b[39m\u001b[38;5;241m.\u001b[39m_input_request(\n\u001b[1;32m   1263\u001b[0m     \u001b[38;5;28mstr\u001b[39m(prompt),\n\u001b[1;32m   1264\u001b[0m     \u001b[38;5;28mself\u001b[39m\u001b[38;5;241m.\u001b[39m_parent_ident[\u001b[38;5;124m\"\u001b[39m\u001b[38;5;124mshell\u001b[39m\u001b[38;5;124m\"\u001b[39m],\n\u001b[1;32m   1265\u001b[0m     \u001b[38;5;28mself\u001b[39m\u001b[38;5;241m.\u001b[39mget_parent(\u001b[38;5;124m\"\u001b[39m\u001b[38;5;124mshell\u001b[39m\u001b[38;5;124m\"\u001b[39m),\n\u001b[1;32m   1266\u001b[0m     password\u001b[38;5;241m=\u001b[39m\u001b[38;5;28;01mFalse\u001b[39;00m,\n\u001b[1;32m   1267\u001b[0m )\n",
      "File \u001b[0;32m~/anaconda3/lib/python3.11/site-packages/ipykernel/kernelbase.py:1305\u001b[0m, in \u001b[0;36mKernel._input_request\u001b[0;34m(self, prompt, ident, parent, password)\u001b[0m\n\u001b[1;32m   1302\u001b[0m \u001b[38;5;28;01mexcept\u001b[39;00m \u001b[38;5;167;01mKeyboardInterrupt\u001b[39;00m:\n\u001b[1;32m   1303\u001b[0m     \u001b[38;5;66;03m# re-raise KeyboardInterrupt, to truncate traceback\u001b[39;00m\n\u001b[1;32m   1304\u001b[0m     msg \u001b[38;5;241m=\u001b[39m \u001b[38;5;124m\"\u001b[39m\u001b[38;5;124mInterrupted by user\u001b[39m\u001b[38;5;124m\"\u001b[39m\n\u001b[0;32m-> 1305\u001b[0m     \u001b[38;5;28;01mraise\u001b[39;00m \u001b[38;5;167;01mKeyboardInterrupt\u001b[39;00m(msg) \u001b[38;5;28;01mfrom\u001b[39;00m \u001b[38;5;28;01mNone\u001b[39;00m\n\u001b[1;32m   1306\u001b[0m \u001b[38;5;28;01mexcept\u001b[39;00m \u001b[38;5;167;01mException\u001b[39;00m:\n\u001b[1;32m   1307\u001b[0m     \u001b[38;5;28mself\u001b[39m\u001b[38;5;241m.\u001b[39mlog\u001b[38;5;241m.\u001b[39mwarning(\u001b[38;5;124m\"\u001b[39m\u001b[38;5;124mInvalid Message:\u001b[39m\u001b[38;5;124m\"\u001b[39m, exc_info\u001b[38;5;241m=\u001b[39m\u001b[38;5;28;01mTrue\u001b[39;00m)\n",
      "\u001b[0;31mKeyboardInterrupt\u001b[0m: Interrupted by user"
     ]
    }
   ],
   "source": [
    "users = {'rafa': 'password'}\n",
    "\n",
    "\n",
    "#NEW: Logging in to chatbot\n",
    "logged_in = False\n",
    "\n",
    "while not logged_in:\n",
    "    username = input(\"Please enter your username >\")\n",
    "    password = input(\"Please enter your password >\")\n",
    "    \n",
    "    if username in users:\n",
    "        if users[username] == password:\n",
    "            print(f\"Welcome, {username}!\")\n",
    "            logged_in = True\n",
    "        else:\n",
    "            print(\"Invalid username or password\")\n",
    "    else:\n",
    "        print(\"Invalid username or password\")\n",
    "   \n",
    "\n",
    "    \n",
    "#Same as before --------------------------\n",
    "\n",
    "#Dictionary to hold all the commands\n",
    "commands = {\n",
    "    \"exit\": \"Exits the chatbot\",\n",
    "    \"help\": \"Displays the list of available commands\",\n",
    "    \"add user\": \"Adds a new user to the chatbot\"\n",
    "}\n",
    "\n",
    "print(\"\\nHi! I am a ChatBot. What would you like to do? \\nType \\'help\\' for a list of commands. \\\n",
    "\\nType \\'exit\\' to exit the chatbot.'\")\n",
    "\n",
    "while True:\n",
    "    prompt = input(\"You: \")\n",
    "    low = prompt.lower()\n",
    "    \n",
    "    if 'exit' in low:\n",
    "        print(\"See you!\")\n",
    "        break\n",
    "        \n",
    "    elif 'help' in low:\n",
    "        print(\"\\nChatBot: Here are the available commands:\")\n",
    "        for command, description in commands.items():\n",
    "            print(f\"- {command}: {description}\")\n",
    "            \n",
    "    elif 'hello' in low:\n",
    "        print(\"Hello! How are you doing?\")\n",
    "        input(\"You: \")\n",
    "        print(\"I see!\")\n",
    "        \n",
    "    elif \"add user\" in low:\n",
    "        add_user(users)\n",
    "        print(\"New user added sucessfully!\")\n",
    "        \n",
    "    else:\n",
    "        print(\"I don't understand that command.\")\n"
   ]
  },
  {
   "cell_type": "code",
   "execution_count": 19,
   "id": "8e5ff6c0",
   "metadata": {},
   "outputs": [
    {
     "data": {
      "text/plain": [
       "True"
      ]
     },
     "execution_count": 19,
     "metadata": {},
     "output_type": "execute_result"
    }
   ],
   "source": []
  }
 ],
 "metadata": {
  "kernelspec": {
   "display_name": "Python 3 (ipykernel)",
   "language": "python",
   "name": "python3"
  },
  "language_info": {
   "codemirror_mode": {
    "name": "ipython",
    "version": 3
   },
   "file_extension": ".py",
   "mimetype": "text/x-python",
   "name": "python",
   "nbconvert_exporter": "python",
   "pygments_lexer": "ipython3",
   "version": "3.11.7"
  }
 },
 "nbformat": 4,
 "nbformat_minor": 5
}
