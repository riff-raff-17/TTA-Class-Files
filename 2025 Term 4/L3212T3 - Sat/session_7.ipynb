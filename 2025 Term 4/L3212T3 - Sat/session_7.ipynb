{
 "cells": [
  {
   "cell_type": "code",
   "execution_count": null,
   "id": "947fcfe8",
   "metadata": {},
   "outputs": [],
   "source": [
    "from ugot import ugot\n",
    "got = ugot.UGOT()\n",
    "got.initialize('192.168.1.220')\n",
    "print(\"Done\")"
   ]
  },
  {
   "cell_type": "code",
   "execution_count": null,
   "id": "0cceb58f",
   "metadata": {},
   "outputs": [],
   "source": [
    "'''Robot Command Center'''\n",
    "\n",
    "while True:\n",
    "    command = input(\"What is your command?\").lower().strip()\n",
    "    print(f\"Your wish is {command}\")\n",
    "\n",
    "    if \"forward\" in command:\n",
    "        got.mecanum_translate_speed_times(angle=0, speed=30, times=50, unit=1)\n",
    "    elif \"backward\" in command:\n",
    "        got.mecanum_translate_speed_times(angle=180, speed=30, times=50, unit=1)\n",
    "    elif \"right\" in command:\n",
    "        got.mecanum_translate_speed_times(angle=90, speed=30, times=50, unit=1)\n",
    "    elif \"left\" in command:\n",
    "        got.mecanum_translate_speed_times(angle=-90, speed=30, times=50, unit=1)\n",
    "    elif \"quit\" in command:\n",
    "        print(\"bye bye\")\n",
    "        break"
   ]
  },
  {
   "cell_type": "code",
   "execution_count": null,
   "id": "bcb80dc3",
   "metadata": {},
   "outputs": [],
   "source": [
    "import time\n",
    "\n",
    "got.mechanical_arms_restory()\n",
    "got.mechanical_clamp_release()\n",
    "time.sleep(1)\n",
    "\n",
    "got.mechanical_joint_control(angle1=0, angle2=-45, angle3=-45, duration=400)\n",
    "time.sleep(0.5)\n",
    "got.mechanical_clamp_close()\n",
    "time.sleep(0.5)\n",
    "got.mechanical_joint_control(angle1=0, angle2=80, angle3=80, duration=400)\n",
    "time.sleep(0.5)\n",
    "got.mechanical_joint_control(angle1=0, angle2=0, angle3=0, duration=80)\n",
    "got.mechanical_clamp_release()"
   ]
  }
 ],
 "metadata": {
  "kernelspec": {
   "display_name": ".venv",
   "language": "python",
   "name": "python3"
  },
  "language_info": {
   "codemirror_mode": {
    "name": "ipython",
    "version": 3
   },
   "file_extension": ".py",
   "mimetype": "text/x-python",
   "name": "python",
   "nbconvert_exporter": "python",
   "pygments_lexer": "ipython3",
   "version": "3.13.9"
  }
 },
 "nbformat": 4,
 "nbformat_minor": 5
}
