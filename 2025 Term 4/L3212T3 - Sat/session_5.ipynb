{
 "cells": [
  {
   "cell_type": "code",
   "execution_count": 12,
   "id": "4025fe3d",
   "metadata": {},
   "outputs": [
    {
     "name": "stdout",
     "output_type": "stream",
     "text": [
      "0.09076016634916195\n",
      "Dylan's Age 1: 2 Dylan's Age 2: 1\n"
     ]
    }
   ],
   "source": [
    "import random\n",
    "\n",
    "# random FLOAT between 0 and 1\n",
    "num = random.random()\n",
    "print(num)\n",
    "\n",
    "# random integer\n",
    "rand_int1 = random.randint(1, 6)\n",
    "rand_int2 = random.randint(1, 6)\n",
    "print(\"Dylan's Age 1:\", rand_int1, \"Dylan's Age 2:\", rand_int2)"
   ]
  },
  {
   "cell_type": "code",
   "execution_count": 30,
   "id": "57b317c7",
   "metadata": {},
   "outputs": [
    {
     "name": "stdout",
     "output_type": "stream",
     "text": [
      "You chose: paper\n",
      "Computer chose: rock\n",
      "💯 🔥 You won 🔥 💯\n"
     ]
    }
   ],
   "source": [
    "import random\n",
    "\n",
    "# List of possible moves\n",
    "options = [\"rock\", \"paper\", \"scissors\"]\n",
    "\n",
    "computer = options[random.randint(0, 2)]\n",
    "\n",
    "player = input(\"Choose rock, paper, or scissors: \").strip().lower()\n",
    "\n",
    "print(\"You chose:\", player)\n",
    "print(\"Computer chose:\", computer)\n",
    "\n",
    "# Who won?\n",
    "if player == computer:\n",
    "    print(\"It is a draw ._.\")\n",
    "\n",
    "elif (player == 'paper' and computer == \"rock\") or \\\n",
    "    (player == 'scissors' and computer == \"paper\") or \\\n",
    "    (player == 'rock' and computer == \"scissors\"):\n",
    "    print(\"💯 🔥 You won 🔥 💯\")\n",
    "\n",
    "else:\n",
    "    print(\"You lose rip bozo 😔\")\n"
   ]
  },
  {
   "cell_type": "code",
   "execution_count": 26,
   "id": "ae7ca26b",
   "metadata": {},
   "outputs": [
    {
     "name": "stderr",
     "output_type": "stream",
     "text": [
      "Exception ignored in: <function AudioClient.__del__ at 0x1113a54e0>\n",
      "Traceback (most recent call last):\n",
      "  File \"/Users/rafa/Desktop/GitHub/TTA-Class-Files/2025 Term 4/L3212T3 - Sat/.venv/lib/python3.13/site-packages/ugot/src/audio_client.py\", line 105, in __del__\n",
      "    self.stopPlayAudio()\n",
      "  File \"/Users/rafa/Desktop/GitHub/TTA-Class-Files/2025 Term 4/L3212T3 - Sat/.venv/lib/python3.13/site-packages/ugot/src/audio_client.py\", line 77, in stopPlayAudio\n",
      "    response = self.client.stopPlayAudio(input_data)\n",
      "  File \"/Users/rafa/Desktop/GitHub/TTA-Class-Files/2025 Term 4/L3212T3 - Sat/.venv/lib/python3.13/site-packages/grpc/_channel.py\", line 1178, in __call__\n",
      "    state, call = self._blocking(\n",
      "  File \"/Users/rafa/Desktop/GitHub/TTA-Class-Files/2025 Term 4/L3212T3 - Sat/.venv/lib/python3.13/site-packages/grpc/_channel.py\", line 1165, in _blocking\n",
      "    event = call.next_event()\n",
      "  File \"src/python/grpcio/grpc/_cython/_cygrpc/channel.pyx.pxi\", line 388, in grpc._cython.cygrpc.SegregatedCall.next_event\n",
      "  File \"src/python/grpcio/grpc/_cython/_cygrpc/channel.pyx.pxi\", line 211, in grpc._cython.cygrpc._next_call_event\n",
      "  File \"src/python/grpcio/grpc/_cython/_cygrpc/channel.pyx.pxi\", line 205, in grpc._cython.cygrpc._next_call_event\n",
      "  File \"src/python/grpcio/grpc/_cython/_cygrpc/completion_queue.pyx.pxi\", line 97, in grpc._cython.cygrpc._latent_event\n",
      "  File \"src/python/grpcio/grpc/_cython/_cygrpc/completion_queue.pyx.pxi\", line 81, in grpc._cython.cygrpc._internal_latent_event\n",
      "  File \"src/python/grpcio/grpc/_cython/_cygrpc/completion_queue.pyx.pxi\", line 77, in grpc._cython.cygrpc._interpret_event\n",
      "  File \"src/python/grpcio/grpc/_cython/_cygrpc/tag.pyx.pxi\", line 71, in grpc._cython.cygrpc._BatchOperationTag.event\n",
      "  File \"src/python/grpcio/grpc/_cython/_cygrpc/operation.pyx.pxi\", line 138, in grpc._cython.cygrpc.ReceiveInitialMetadataOperation.un_c\n",
      "  File \"src/python/grpcio/grpc/_cython/_cygrpc/metadata.pyx.pxi\", line 69, in grpc._cython.cygrpc._metadata\n",
      "  File \"src/python/grpcio/grpc/_cython/_cygrpc/metadata.pyx.pxi\", line 70, in genexpr\n",
      "  File \"src/python/grpcio/grpc/_cython/_cygrpc/metadata.pyx.pxi\", line 64, in grpc._cython.cygrpc._metadatum\n",
      "  File \"<string>\", line 1, in <lambda>\n",
      "KeyboardInterrupt: \n"
     ]
    },
    {
     "name": "stdout",
     "output_type": "stream",
     "text": [
      "192.168.1.110:50051\n",
      "Done!\n"
     ]
    }
   ],
   "source": [
    "from ugot import ugot\n",
    "got = ugot.UGOT()\n",
    "got.initialize('192.168.1.110')\n",
    "print(\"Done!\")"
   ]
  },
  {
   "cell_type": "code",
   "execution_count": 20,
   "id": "98fc8d70",
   "metadata": {},
   "outputs": [
    {
     "ename": "KeyboardInterrupt",
     "evalue": "",
     "output_type": "error",
     "traceback": [
      "\u001b[31m---------------------------------------------------------------------------\u001b[39m",
      "\u001b[31mKeyboardInterrupt\u001b[39m                         Traceback (most recent call last)",
      "\u001b[36mCell\u001b[39m\u001b[36m \u001b[39m\u001b[32mIn[20]\u001b[39m\u001b[32m, line 2\u001b[39m\n\u001b[32m      1\u001b[39m \u001b[38;5;28;01mwhile\u001b[39;00m \u001b[38;5;28;01mTrue\u001b[39;00m:\n\u001b[32m----> \u001b[39m\u001b[32m2\u001b[39m     distance = \u001b[43mgot\u001b[49m\u001b[43m.\u001b[49m\u001b[43mread_distance_data\u001b[49m\u001b[43m(\u001b[49m\u001b[32;43m21\u001b[39;49m\u001b[43m)\u001b[49m\n\u001b[32m      3\u001b[39m     \u001b[38;5;28;01mif\u001b[39;00m distance > \u001b[32m20\u001b[39m:\n\u001b[32m      4\u001b[39m         got.mecanum_move_speed(direction=\u001b[32m0\u001b[39m, speed=\u001b[32m30\u001b[39m)\n",
      "\u001b[36mFile \u001b[39m\u001b[32m~/Desktop/GitHub/TTA-Class-Files/2025 Term 4/L3212T3 - Sat/.venv/lib/python3.13/site-packages/ugot/ugot.py:3623\u001b[39m, in \u001b[36mUGOT.read_distance_data\u001b[39m\u001b[34m(self, id)\u001b[39m\n\u001b[32m   3612\u001b[39m \u001b[38;5;250m\u001b[39m\u001b[33;03m\"\"\"\u001b[39;00m\n\u001b[32m   3613\u001b[39m \u001b[33;03mRead sensor data\u001b[39;00m\n\u001b[32m   3614\u001b[39m \n\u001b[32m   (...)\u001b[39m\u001b[32m   3619\u001b[39m \u001b[33;03m    Distance (int) in centimeters, or -1 if no data is obtained\u001b[39;00m\n\u001b[32m   3620\u001b[39m \u001b[33;03m\"\"\"\u001b[39;00m\n\u001b[32m   3621\u001b[39m logging.debug(\u001b[33m'\u001b[39m\u001b[33mread_distance_sensor id:\u001b[39m\u001b[38;5;132;01m{}\u001b[39;00m\u001b[33m'\u001b[39m.format(\u001b[38;5;28mid\u001b[39m))\n\u001b[32m-> \u001b[39m\u001b[32m3623\u001b[39m data = \u001b[38;5;28;43mself\u001b[39;49m\u001b[43m.\u001b[49m\u001b[43mSENSOR\u001b[49m\u001b[43m.\u001b[49m\u001b[43mgetDistanceSensorValue\u001b[49m\u001b[43m(\u001b[49m\u001b[38;5;28;43mid\u001b[39;49m\u001b[43m)\u001b[49m\n\u001b[32m   3624\u001b[39m \u001b[38;5;28;01mif\u001b[39;00m data \u001b[38;5;129;01mis\u001b[39;00m \u001b[38;5;129;01mnot\u001b[39;00m \u001b[38;5;28;01mNone\u001b[39;00m:\n\u001b[32m   3625\u001b[39m     \u001b[38;5;28;01mif\u001b[39;00m data.deviceId == \u001b[38;5;28mstr\u001b[39m(\u001b[38;5;28mid\u001b[39m):\n",
      "\u001b[36mFile \u001b[39m\u001b[32m~/Desktop/GitHub/TTA-Class-Files/2025 Term 4/L3212T3 - Sat/.venv/lib/python3.13/site-packages/ugot/src/sensor_client.py:27\u001b[39m, in \u001b[36mSensorClient.getDistanceSensorValue\u001b[39m\u001b[34m(self, sensor_id)\u001b[39m\n\u001b[32m     24\u001b[39m input_data = sensor_pb2.DistanceSensorRequest()\n\u001b[32m     25\u001b[39m input_data.deviceId = \u001b[38;5;28mstr\u001b[39m(sensor_id)\n\u001b[32m---> \u001b[39m\u001b[32m27\u001b[39m response = \u001b[38;5;28;43mself\u001b[39;49m\u001b[43m.\u001b[49m\u001b[43mclient\u001b[49m\u001b[43m.\u001b[49m\u001b[43mgetDistanceSensorValue\u001b[49m\u001b[43m(\u001b[49m\u001b[43minput_data\u001b[49m\u001b[43m)\u001b[49m\n\u001b[32m     28\u001b[39m \u001b[38;5;28;01mif\u001b[39;00m response.code != \u001b[32m0\u001b[39m:\n\u001b[32m     29\u001b[39m     response.data.value = -\u001b[32m1\u001b[39m\n",
      "\u001b[36mFile \u001b[39m\u001b[32m~/Desktop/GitHub/TTA-Class-Files/2025 Term 4/L3212T3 - Sat/.venv/lib/python3.13/site-packages/grpc/_channel.py:1178\u001b[39m, in \u001b[36m_UnaryUnaryMultiCallable.__call__\u001b[39m\u001b[34m(self, request, timeout, metadata, credentials, wait_for_ready, compression)\u001b[39m\n\u001b[32m   1169\u001b[39m \u001b[38;5;28;01mdef\u001b[39;00m\u001b[38;5;250m \u001b[39m\u001b[34m__call__\u001b[39m(\n\u001b[32m   1170\u001b[39m     \u001b[38;5;28mself\u001b[39m,\n\u001b[32m   1171\u001b[39m     request: Any,\n\u001b[32m   (...)\u001b[39m\u001b[32m   1176\u001b[39m     compression: Optional[grpc.Compression] = \u001b[38;5;28;01mNone\u001b[39;00m,\n\u001b[32m   1177\u001b[39m ) -> Any:\n\u001b[32m-> \u001b[39m\u001b[32m1178\u001b[39m     state, call = \u001b[38;5;28;43mself\u001b[39;49m\u001b[43m.\u001b[49m\u001b[43m_blocking\u001b[49m\u001b[43m(\u001b[49m\n\u001b[32m   1179\u001b[39m \u001b[43m        \u001b[49m\u001b[43mrequest\u001b[49m\u001b[43m,\u001b[49m\u001b[43m \u001b[49m\u001b[43mtimeout\u001b[49m\u001b[43m,\u001b[49m\u001b[43m \u001b[49m\u001b[43mmetadata\u001b[49m\u001b[43m,\u001b[49m\u001b[43m \u001b[49m\u001b[43mcredentials\u001b[49m\u001b[43m,\u001b[49m\u001b[43m \u001b[49m\u001b[43mwait_for_ready\u001b[49m\u001b[43m,\u001b[49m\u001b[43m \u001b[49m\u001b[43mcompression\u001b[49m\n\u001b[32m   1180\u001b[39m \u001b[43m    \u001b[49m\u001b[43m)\u001b[49m\n\u001b[32m   1181\u001b[39m     \u001b[38;5;28;01mreturn\u001b[39;00m _end_unary_response_blocking(state, call, \u001b[38;5;28;01mFalse\u001b[39;00m, \u001b[38;5;28;01mNone\u001b[39;00m)\n",
      "\u001b[36mFile \u001b[39m\u001b[32m~/Desktop/GitHub/TTA-Class-Files/2025 Term 4/L3212T3 - Sat/.venv/lib/python3.13/site-packages/grpc/_channel.py:1165\u001b[39m, in \u001b[36m_UnaryUnaryMultiCallable._blocking\u001b[39m\u001b[34m(self, request, timeout, metadata, credentials, wait_for_ready, compression)\u001b[39m\n\u001b[32m   1148\u001b[39m state.target = _common.decode(\u001b[38;5;28mself\u001b[39m._target)\n\u001b[32m   1149\u001b[39m call = \u001b[38;5;28mself\u001b[39m._channel.segregated_call(\n\u001b[32m   1150\u001b[39m     cygrpc.PropagationConstants.GRPC_PROPAGATE_DEFAULTS,\n\u001b[32m   1151\u001b[39m     \u001b[38;5;28mself\u001b[39m._method,\n\u001b[32m   (...)\u001b[39m\u001b[32m   1163\u001b[39m     \u001b[38;5;28mself\u001b[39m._registered_call_handle,\n\u001b[32m   1164\u001b[39m )\n\u001b[32m-> \u001b[39m\u001b[32m1165\u001b[39m event = \u001b[43mcall\u001b[49m\u001b[43m.\u001b[49m\u001b[43mnext_event\u001b[49m\u001b[43m(\u001b[49m\u001b[43m)\u001b[49m\n\u001b[32m   1166\u001b[39m _handle_event(event, state, \u001b[38;5;28mself\u001b[39m._response_deserializer)\n\u001b[32m   1167\u001b[39m \u001b[38;5;28;01mreturn\u001b[39;00m state, call\n",
      "\u001b[36mFile \u001b[39m\u001b[32msrc/python/grpcio/grpc/_cython/_cygrpc/channel.pyx.pxi:388\u001b[39m, in \u001b[36mgrpc._cython.cygrpc.SegregatedCall.next_event\u001b[39m\u001b[34m()\u001b[39m\n",
      "\u001b[36mFile \u001b[39m\u001b[32msrc/python/grpcio/grpc/_cython/_cygrpc/channel.pyx.pxi:211\u001b[39m, in \u001b[36mgrpc._cython.cygrpc._next_call_event\u001b[39m\u001b[34m()\u001b[39m\n",
      "\u001b[36mFile \u001b[39m\u001b[32msrc/python/grpcio/grpc/_cython/_cygrpc/channel.pyx.pxi:205\u001b[39m, in \u001b[36mgrpc._cython.cygrpc._next_call_event\u001b[39m\u001b[34m()\u001b[39m\n",
      "\u001b[36mFile \u001b[39m\u001b[32msrc/python/grpcio/grpc/_cython/_cygrpc/completion_queue.pyx.pxi:97\u001b[39m, in \u001b[36mgrpc._cython.cygrpc._latent_event\u001b[39m\u001b[34m()\u001b[39m\n",
      "\u001b[36mFile \u001b[39m\u001b[32msrc/python/grpcio/grpc/_cython/_cygrpc/completion_queue.pyx.pxi:80\u001b[39m, in \u001b[36mgrpc._cython.cygrpc._internal_latent_event\u001b[39m\u001b[34m()\u001b[39m\n",
      "\u001b[36mFile \u001b[39m\u001b[32msrc/python/grpcio/grpc/_cython/_cygrpc/completion_queue.pyx.pxi:61\u001b[39m, in \u001b[36mgrpc._cython.cygrpc._next\u001b[39m\u001b[34m()\u001b[39m\n",
      "\u001b[31mKeyboardInterrupt\u001b[39m: "
     ]
    }
   ],
   "source": [
    "\n",
    "while True:\n",
    "    distance = got.read_distance_data(21)\n",
    "    if distance > 20:\n",
    "        got.mecanum_move_speed(direction=0, speed=30)\n",
    "        got.show_light_rgb([0, 1, 2, 3], red=0, green=255, blue=0)\n",
    "    else:\n",
    "        got.mecanum_stop()\n",
    "        got.show_light_rgb([0, 1, 2, 3], red=255, green=0, blue=0)"
   ]
  },
  {
   "cell_type": "code",
   "execution_count": null,
   "id": "031ed64c",
   "metadata": {},
   "outputs": [],
   "source": []
  },
  {
   "cell_type": "code",
   "execution_count": null,
   "id": "bd9910de",
   "metadata": {},
   "outputs": [],
   "source": []
  }
 ],
 "metadata": {
  "kernelspec": {
   "display_name": ".venv",
   "language": "python",
   "name": "python3"
  },
  "language_info": {
   "codemirror_mode": {
    "name": "ipython",
    "version": 3
   },
   "file_extension": ".py",
   "mimetype": "text/x-python",
   "name": "python",
   "nbconvert_exporter": "python",
   "pygments_lexer": "ipython3",
   "version": "3.13.5"
  }
 },
 "nbformat": 4,
 "nbformat_minor": 5
}
