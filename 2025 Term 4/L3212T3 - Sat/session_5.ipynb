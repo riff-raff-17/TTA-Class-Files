{
 "cells": [
  {
   "cell_type": "code",
   "execution_count": null,
   "id": "4025fe3d",
   "metadata": {},
   "outputs": [],
   "source": [
    "import random\n",
    "\n",
    "# random FLOAT between 0 and 1\n",
    "num = random.random()\n",
    "print(num)\n",
    "\n",
    "# random integer\n",
    "rand_int1 = random.randint(1, 6)\n",
    "rand_int2 = random.randint(1, 6)\n",
    "print(\"Dice 1:\", rand_int1, \"Dice 2:\", rand_int2)"
   ]
  },
  {
   "cell_type": "code",
   "execution_count": null,
   "id": "57b317c7",
   "metadata": {},
   "outputs": [],
   "source": [
    "import random\n",
    "\n",
    "# List of possible moves\n",
    "options = [\"rock\", \"paper\", \"scissors\"]\n",
    "\n",
    "computer = options[random.randint(0, 2)]\n",
    "\n",
    "player = input(\"Choose rock, paper, or scissors: \").strip().lower()\n",
    "\n",
    "print(\"You chose:\", player)\n",
    "print(\"Computer chose:\", computer)\n",
    "\n",
    "# Who won?\n",
    "if player == computer:\n",
    "    print(\"It is a draw ._.\")\n",
    "\n",
    "elif (player == 'paper' and computer == \"rock\") or \\\n",
    "    (player == 'scissors' and computer == \"paper\") or \\\n",
    "    (player == 'rock' and computer == \"scissors\"):\n",
    "    print(\"You won\")\n",
    "\n",
    "else:\n",
    "    print(\"You lose\")\n"
   ]
  },
  {
   "cell_type": "code",
   "execution_count": null,
   "id": "ae7ca26b",
   "metadata": {},
   "outputs": [],
   "source": [
    "from ugot import ugot\n",
    "got = ugot.UGOT()\n",
    "got.initialize('192.168.1.110')\n",
    "print(\"Done!\")"
   ]
  },
  {
   "cell_type": "code",
   "execution_count": null,
   "id": "98fc8d70",
   "metadata": {},
   "outputs": [],
   "source": [
    "\n",
    "while True:\n",
    "    distance = got.read_distance_data(21)\n",
    "    if distance > 20:\n",
    "        got.mecanum_move_speed(direction=0, speed=30)\n",
    "        got.show_light_rgb([0, 1, 2, 3], red=0, green=255, blue=0)\n",
    "    else:\n",
    "        got.mecanum_stop()\n",
    "        got.show_light_rgb([0, 1, 2, 3], red=255, green=0, blue=0)"
   ]
  },
  {
   "cell_type": "code",
   "execution_count": null,
   "id": "031ed64c",
   "metadata": {},
   "outputs": [],
   "source": []
  },
  {
   "cell_type": "code",
   "execution_count": null,
   "id": "bd9910de",
   "metadata": {},
   "outputs": [],
   "source": []
  }
 ],
 "metadata": {
  "kernelspec": {
   "display_name": ".venv",
   "language": "python",
   "name": "python3"
  },
  "language_info": {
   "codemirror_mode": {
    "name": "ipython",
    "version": 3
   },
   "file_extension": ".py",
   "mimetype": "text/x-python",
   "name": "python",
   "nbconvert_exporter": "python",
   "pygments_lexer": "ipython3",
   "version": "3.13.5"
  }
 },
 "nbformat": 4,
 "nbformat_minor": 5
}
