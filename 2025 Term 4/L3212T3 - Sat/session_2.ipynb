{
 "cells": [
  {
   "cell_type": "code",
   "execution_count": 1,
   "id": "0da9d325",
   "metadata": {},
   "outputs": [
    {
     "name": "stdout",
     "output_type": "stream",
     "text": [
      "I am feeling grate\n"
     ]
    }
   ],
   "source": [
    "feeling = \"grate\"\n",
    "print(f\"I am feeling {feeling}\")"
   ]
  },
  {
   "cell_type": "markdown",
   "id": "075f1b2a",
   "metadata": {},
   "source": [
    "### IF Statements\n",
    "\n",
    "If-statements are used to make sure that blocks of code are executed only if certain conditions are met:"
   ]
  },
  {
   "cell_type": "code",
   "execution_count": null,
   "id": "b3f973d8",
   "metadata": {},
   "outputs": [
    {
     "name": "stdout",
     "output_type": "stream",
     "text": [
      "1\n"
     ]
    }
   ],
   "source": [
    "a = 200\n",
    "b = 33\n",
    "\n",
    "if a < b:\n",
    "    print(\"b is greater than a\")\n",
    "elif a == b:\n",
    "    print(\"a and b are equal\")\n",
    "else: \n",
    "    print(\"a is greater than b\")"
   ]
  },
  {
   "cell_type": "markdown",
   "id": "396d5e0e",
   "metadata": {},
   "source": [
    "### Loops\n",
    "\n",
    "#### FOR Loops\n",
    "\n",
    "A FOR loop is used for iterating over a sequence. The range function is useful to generate a list of numbers from a starting point to an end point, following a specified increment. "
   ]
  },
  {
   "cell_type": "code",
   "execution_count": 10,
   "id": "595a08ba",
   "metadata": {},
   "outputs": [
    {
     "name": "stdout",
     "output_type": "stream",
     "text": [
      "13\n",
      "14\n",
      "15\n",
      "16\n",
      "17\n",
      "18\n",
      "19\n",
      "20\n",
      "21\n"
     ]
    }
   ],
   "source": [
    "# range(start, stop, step)\n",
    "for i in range(11, 20, 1):\n",
    "    print(i + 2)"
   ]
  },
  {
   "cell_type": "markdown",
   "id": "a78b3565",
   "metadata": {},
   "source": [
    "#### While Loops\n",
    "\n",
    "A while loop keeps running as long as a condition is True.\n",
    "\n",
    "Be careful: if the condition never becomes False, your loop will run forever!"
   ]
  },
  {
   "cell_type": "code",
   "execution_count": null,
   "id": "5a546f17",
   "metadata": {},
   "outputs": [],
   "source": [
    "count = 1\n",
    "\n",
    "while count <= 5:\n",
    "    print(\"Count is\", count)\n",
    "    count += 1"
   ]
  },
  {
   "cell_type": "code",
   "execution_count": 13,
   "id": "8c4952a7",
   "metadata": {},
   "outputs": [
    {
     "name": "stdout",
     "output_type": "stream",
     "text": [
      "Done!\n"
     ]
    }
   ],
   "source": [
    "from jupyturtle import make_turtle, forward, left, right, back\n",
    "\n",
    "print(\"Done!\")"
   ]
  },
  {
   "cell_type": "code",
   "execution_count": 28,
   "id": "66e8b781",
   "metadata": {},
   "outputs": [
    {
     "data": {
      "text/html": [
       "<svg width=\"300\" height=\"300\" style=\"fill:none; stroke-linecap:round;\">\n",
       "    <rect width=\"100%\" height=\"100%\" fill=\"#F3F3F7\" />\n",
       "\n",
       "\n",
       "<path stroke=\"#663399\" stroke-width=\"2\" d=\"M 150,150 200,150 200,100 150,100 150,150\" />'\n",
       "\n",
       "<g transform=\"rotate(-90.0,150.0,150.0) translate(150.0, 150.0)\">\n",
       "    <circle stroke=\"#63A375\" stroke-width=\"2\" fill=\"transparent\" r=\"5.5\" cx=\"0\" cy=\"0\"/>\n",
       "    <polygon points=\"0,12 2,9 -2,9\" style=\"fill:#63A375;stroke:#63A375;stroke-width:2\"/>\n",
       "</g>\n",
       "\n",
       "</svg>"
      ],
      "text/plain": [
       "<IPython.core.display.HTML object>"
      ]
     },
     "metadata": {},
     "output_type": "display_data"
    }
   ],
   "source": [
    "# Canvas is 300x150 pixels\n",
    "make_turtle(height=300, width=300)\n",
    "for i in range(4):\n",
    "    forward(50)\n",
    "    left(90)"
   ]
  }
 ],
 "metadata": {
  "kernelspec": {
   "display_name": ".venv",
   "language": "python",
   "name": "python3"
  },
  "language_info": {
   "codemirror_mode": {
    "name": "ipython",
    "version": 3
   },
   "file_extension": ".py",
   "mimetype": "text/x-python",
   "name": "python",
   "nbconvert_exporter": "python",
   "pygments_lexer": "ipython3",
   "version": "3.13.5"
  }
 },
 "nbformat": 4,
 "nbformat_minor": 5
}
