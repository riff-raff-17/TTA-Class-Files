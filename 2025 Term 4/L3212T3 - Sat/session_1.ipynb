{
 "cells": [
  {
   "cell_type": "markdown",
   "id": "59590e0b",
   "metadata": {},
   "source": [
    "# Introduction to Python and Computational Thinking\n",
    "\n",
    "* Basic Python syntax\n",
    "* Variables and Functions\n",
    "* Control flow"
   ]
  },
  {
   "cell_type": "markdown",
   "id": "7b215423",
   "metadata": {},
   "source": [
    "### About Python\n",
    "\n",
    "#### A little history:\n",
    "Python is an interpreted high-level programming language for general-purpose programming. Created by Guido van Rossum and first released in 1991, Python has a design philosophy that emphasizes code readability, notably using significant whitespace.\n",
    "\n",
    "#### Some reasons to learn Python:\n",
    "* Straightforward syntax makes it beginner-friendly\n",
    "* Same code runs on multiple platforms\n",
    "* Extensive libraries: Python is very commonly used in applications ranging from physical sciences to finance to machine learning\n",
    "* Large community: abundant resources are available online\n",
    "* It really is EVERYWHERE\n",
    "\n",
    "#### Some cons that you may hear about Python:\n",
    "* (Potentially) Slower than compiled languages\n",
    "* Higher memory consumption\n",
    "* Some issues with multithreading"
   ]
  },
  {
   "cell_type": "markdown",
   "id": "57a9a29d",
   "metadata": {},
   "source": [
    "![](image.png)\n",
    "Image taken from: https://statisticstimes.com/tech/top-computer-languages.php"
   ]
  },
  {
   "cell_type": "markdown",
   "id": "dd60a869",
   "metadata": {},
   "source": [
    "### Basic Python\n",
    "#### Python Syntax\n",
    "\n",
    "Python is designed so that there really isn't that much to learn in the basic language. Python code can be executed by writing directly in a code cell using Jupyter or by creating a python file on the server, using the .py file extension, and running it in the Command Line. For now, all our code will be run inside the notebook cells.\n",
    "\n",
    "#### Example of code cell below:"
   ]
  },
  {
   "cell_type": "markdown",
   "id": "710155c8",
   "metadata": {},
   "source": [
    "# Session 1"
   ]
  },
  {
   "cell_type": "code",
   "execution_count": 3,
   "id": "6d6efa8e",
   "metadata": {},
   "outputs": [
    {
     "name": "stdout",
     "output_type": "stream",
     "text": [
      "Hello World!\n"
     ]
    }
   ],
   "source": [
    "# The print function lets your program give you an output\n",
    "\n",
    "print(\"Hello World!\")"
   ]
  },
  {
   "cell_type": "code",
   "execution_count": null,
   "id": "d8b24bc6",
   "metadata": {},
   "outputs": [
    {
     "name": "stdout",
     "output_type": "stream",
     "text": [
      "Hello, my name is asen\n",
      "I am 1 year old\n",
      "I like to do math\n"
     ]
    }
   ],
   "source": [
    "print(\"Hello, my name is asen\")\n",
    "print(\"I am 1 year old\")\n",
    "print(\"I like to do math\")"
   ]
  },
  {
   "cell_type": "code",
   "execution_count": 6,
   "id": "65235aa9",
   "metadata": {},
   "outputs": [
    {
     "name": "stdout",
     "output_type": "stream",
     "text": [
      "Hello, my name is asen \n",
      "I am 1 year old \n",
      "I like to do math\n"
     ]
    }
   ],
   "source": [
    "print(\"Hello, my name is asen \\nI am 1 year old \\nI like to do math\")"
   ]
  },
  {
   "cell_type": "code",
   "execution_count": 9,
   "id": "9945c5a6",
   "metadata": {},
   "outputs": [
    {
     "name": "stdout",
     "output_type": "stream",
     "text": [
      "This is not a comment!\n"
     ]
    }
   ],
   "source": [
    "# This is a comment\n",
    "# You can see the # sign before the lines\n",
    "# print(this is a comment)\n",
    "\n",
    "print(\"This is not a comment!\")"
   ]
  },
  {
   "cell_type": "markdown",
   "id": "0472ee1b",
   "metadata": {},
   "source": [
    "Longer comments can be sandwhiched between triple double quotes"
   ]
  },
  {
   "cell_type": "code",
   "execution_count": 10,
   "id": "524b84da",
   "metadata": {},
   "outputs": [
    {
     "data": {
      "text/plain": [
       "'\\nprint(\"this is also a comment)\\n'"
      ]
     },
     "execution_count": 10,
     "metadata": {},
     "output_type": "execute_result"
    }
   ],
   "source": [
    "\"\"\"\n",
    "print(\"this is also a comment)\n",
    "\"\"\""
   ]
  },
  {
   "cell_type": "markdown",
   "id": "5b232288",
   "metadata": {},
   "source": [
    "### Variables\n",
    "\n",
    "Variables are used to store and manipulate information in a computer program. They can be thought of as containers that carry data and their sole purpose is to label and store data in memory. Variables have names chosen in a way to make the code more understandable to the reader.\n",
    "\n",
    "In Python, there is no command for declaring a variable. Instead, variables are initialized the moment a value is assigned to them."
   ]
  },
  {
   "cell_type": "code",
   "execution_count": 14,
   "id": "75b1b5c8",
   "metadata": {},
   "outputs": [
    {
     "name": "stdout",
     "output_type": "stream",
     "text": [
      "9\n"
     ]
    }
   ],
   "source": [
    "var_1 = 2\n",
    "var_2 = 7\n",
    "\n",
    "var_3 = var_1 + var_2\n",
    "\n",
    "print(var_3)"
   ]
  },
  {
   "cell_type": "code",
   "execution_count": 21,
   "id": "b49f66a0",
   "metadata": {},
   "outputs": [
    {
     "name": "stdout",
     "output_type": "stream",
     "text": [
      "My name is Jolie\n"
     ]
    }
   ],
   "source": [
    "name = \"Jolie\"\n",
    "age = \"2\"\n",
    "hobby = \"drinking Coca-Cola\"\n",
    "\n",
    "print(f\"My name is {name}\")"
   ]
  },
  {
   "cell_type": "code",
   "execution_count": null,
   "id": "1df2a1f8",
   "metadata": {},
   "outputs": [
    {
     "name": "stdout",
     "output_type": "stream",
     "text": [
      "pasta\n"
     ]
    }
   ],
   "source": [
    "food = input(\"What is your favorite food? >\")\n",
    "\n",
    "print(food)\n"
   ]
  },
  {
   "cell_type": "markdown",
   "id": "3307cd48",
   "metadata": {},
   "source": [
    "\n",
    "Variables can have different *types*. In Python, there are five main type categories:\n",
    "\n",
    "* Number\n",
    "* String\n",
    "* Tuple\n",
    "* List\n",
    "* Dictionary\n",
    "\n",
    "Some of the categories can contain more than one type. For example, Number can be an integer or a floating point number or a boolean. We will learn more about them as we go along. The important point here is that when performing operations on variables, make sure these operations are defined for the particular type. That is, do not try to subtract an integer from a string."
   ]
  },
  {
   "cell_type": "code",
   "execution_count": 22,
   "id": "f73b9bba",
   "metadata": {},
   "outputs": [
    {
     "ename": "TypeError",
     "evalue": "unsupported operand type(s) for -: 'str' and 'int'",
     "output_type": "error",
     "traceback": [
      "\u001b[31m---------------------------------------------------------------------------\u001b[39m",
      "\u001b[31mTypeError\u001b[39m                                 Traceback (most recent call last)",
      "\u001b[36mCell\u001b[39m\u001b[36m \u001b[39m\u001b[32mIn[22]\u001b[39m\u001b[32m, line 4\u001b[39m\n\u001b[32m      1\u001b[39m my_str = \u001b[33m\"\u001b[39m\u001b[33m5\u001b[39m\u001b[33m\"\u001b[39m \u001b[38;5;66;03m# This is a string\u001b[39;00m\n\u001b[32m      2\u001b[39m my_int = \u001b[32m2\u001b[39m \u001b[38;5;66;03m# This is an integer\u001b[39;00m\n\u001b[32m----> \u001b[39m\u001b[32m4\u001b[39m res = \u001b[43mmy_str\u001b[49m\u001b[43m \u001b[49m\u001b[43m-\u001b[49m\u001b[43m \u001b[49m\u001b[43mmy_int\u001b[49m\n",
      "\u001b[31mTypeError\u001b[39m: unsupported operand type(s) for -: 'str' and 'int'"
     ]
    }
   ],
   "source": [
    "my_str = \"5\" # This is a string\n",
    "my_int = 2 # This is an integer\n",
    "\n",
    "res = my_str - my_int"
   ]
  },
  {
   "cell_type": "markdown",
   "id": "67aef475",
   "metadata": {},
   "source": [
    "Numbers are further broken down into 3 categories:\n",
    "\n",
    "Integers ```Int```: Whole numbers (1, 2, 3)\n",
    "\n",
    "Floating Point ```Float```: Decimals (1.12, 3.00)\n",
    "\n",
    "Booleans ```Bool```: True/False or 1/0"
   ]
  },
  {
   "cell_type": "code",
   "execution_count": 29,
   "id": "121c10ac",
   "metadata": {},
   "outputs": [
    {
     "data": {
      "text/plain": [
       "504"
      ]
     },
     "execution_count": 29,
     "metadata": {},
     "output_type": "execute_result"
    }
   ],
   "source": [
    "True + 1 + 2 + False + 500"
   ]
  },
  {
   "cell_type": "markdown",
   "id": "edd6b813",
   "metadata": {},
   "source": [
    "### Arithmetic Operators\n",
    "\n",
    "These are used for basic math:"
   ]
  },
  {
   "cell_type": "code",
   "execution_count": null,
   "id": "6784da52",
   "metadata": {},
   "outputs": [
    {
     "name": "stdout",
     "output_type": "stream",
     "text": [
      "13\n",
      "7\n",
      "30\n",
      "3.3333333333333335\n",
      "3\n",
      "1\n"
     ]
    }
   ],
   "source": [
    "x = 10\n",
    "y = 3\n",
    "\n",
    "# Standard operations\n",
    "print(x + y) # Addition - 13\n",
    "print(x - y) # Subtraction - 7\n",
    "print(x * y) # Multiplication - 30\n",
    "print(x / y) # Division - 3.333...\n",
    "\n",
    "# More complex operations\n",
    "print(x // y) # Floor division (no remainder) - 3\n",
    "print(x % y) # Modulus (remainder) - 1\n",
    "print(x ** y) # Exponentiation - 10^3 = 1000"
   ]
  },
  {
   "cell_type": "code",
   "execution_count": 35,
   "id": "5fd52d29",
   "metadata": {},
   "outputs": [
    {
     "name": "stdout",
     "output_type": "stream",
     "text": [
      "8\n"
     ]
    }
   ],
   "source": [
    "num1 = int(input(\"Enter the first number\"))\n",
    "num2 = int(input(\"Enter the second number\"))\n",
    "\n",
    "print(num1 + num2)"
   ]
  },
  {
   "cell_type": "markdown",
   "id": "d53e57ac",
   "metadata": {},
   "source": [
    "### Comparison Operators\n",
    "\n",
    "These compare values and return True or False:"
   ]
  },
  {
   "cell_type": "code",
   "execution_count": null,
   "id": "ef535f94",
   "metadata": {},
   "outputs": [
    {
     "name": "stdout",
     "output_type": "stream",
     "text": [
      "False\n",
      "True\n"
     ]
    }
   ],
   "source": [
    "a = 5\n",
    "b = 7\n",
    "\n",
    "print(a == b) # Equal - False\n",
    "print(a != b) # Not equal - True\n",
    "print(a < b) # Less than - True\n",
    "print(a > b) # Greater than - False\n",
    "print(a >= 5) # Greater or equal - True\n",
    "print(b <= 7) # Less or equal - True "
   ]
  },
  {
   "cell_type": "code",
   "execution_count": 3,
   "id": "5ffc76c9",
   "metadata": {},
   "outputs": [
    {
     "name": "stdout",
     "output_type": "stream",
     "text": [
      "6.0\n"
     ]
    }
   ],
   "source": [
    "print((10 - 2) * 3 / 4)"
   ]
  }
 ],
 "metadata": {
  "kernelspec": {
   "display_name": ".venv",
   "language": "python",
   "name": "python3"
  },
  "language_info": {
   "codemirror_mode": {
    "name": "ipython",
    "version": 3
   },
   "file_extension": ".py",
   "mimetype": "text/x-python",
   "name": "python",
   "nbconvert_exporter": "python",
   "pygments_lexer": "ipython3",
   "version": "3.13.5"
  }
 },
 "nbformat": 4,
 "nbformat_minor": 5
}
