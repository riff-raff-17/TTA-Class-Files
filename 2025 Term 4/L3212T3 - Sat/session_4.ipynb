{
 "cells": [
  {
   "cell_type": "code",
   "execution_count": null,
   "id": "f2b21659",
   "metadata": {},
   "outputs": [],
   "source": [
    "pip install ugot"
   ]
  },
  {
   "cell_type": "code",
   "execution_count": 17,
   "id": "f26a4aa2",
   "metadata": {},
   "outputs": [
    {
     "name": "stdout",
     "output_type": "stream",
     "text": [
      "192.168.1.198:50051\n",
      "Done!\n"
     ]
    }
   ],
   "source": [
    "from ugot import ugot\n",
    "\n",
    "got = ugot.UGOT()\n",
    "\n",
    "got.initialize(\"192.168.1.198\")\n",
    "\n",
    "print(\"Done!\")"
   ]
  },
  {
   "cell_type": "code",
   "execution_count": 22,
   "id": "047b936b",
   "metadata": {},
   "outputs": [],
   "source": [
    "# Lights\n",
    "got.show_light_rgb([0, 1, 2, 3], 0, 0, 255) # BLUE\n",
    "\n",
    "# data: string to speak, voice_type: 0 female 1 male, wait: True/False\n",
    "got.play_audio_tts(data=\"zerui is smart\", voice_type=0, wait=True)\n"
   ]
  },
  {
   "cell_type": "code",
   "execution_count": null,
   "id": "f8db1389",
   "metadata": {},
   "outputs": [],
   "source": [
    "# Forward/Backward movement\n",
    "# direction: 0 forward, 1 backward \n",
    "# speed: min 5, max 80\n",
    "# times: min 0, max 360 \n",
    "# unit: 0 seconds 1 centimeters\n",
    "got.mecanum_move_speed_times(direction=0, speed=30, times=50, unit=1)\n",
    "\n",
    "# Left/Right movement\n",
    "# turn: 2 left, 3 right\n",
    "# speed: min 5, max 280\n",
    "# times: min 5, max 360 \n",
    "# unit: 0 seconds, 2 degrees\n",
    "got.mecanum_turn_speed_times(turn=2, speed=45, times=90, unit=2)\n",
    "\n",
    "# Side movement\n",
    "# angle: -180 to 180\n",
    "# speed: min 5, max 280\n",
    "# times: min 5, max 360 \n",
    "# unit: 0 seconds, 1 cm\n",
    "\n",
    "got.mecanum_translate_speed_times(angle=90, speed=30, times=50, unit=1)"
   ]
  },
  {
   "cell_type": "code",
   "execution_count": 15,
   "id": "689e91cd",
   "metadata": {},
   "outputs": [
    {
     "name": "stdout",
     "output_type": "stream",
     "text": [
      "3\n",
      "2\n",
      "1\n",
      "Happy new year\n"
     ]
    }
   ],
   "source": [
    "import time\n",
    "\n",
    "print(\"3\")\n",
    "time.sleep(1)\n",
    "print(\"2\")\n",
    "time.sleep(1)\n",
    "print(\"1\")\n",
    "time.sleep(1)\n",
    "print(\"Happy new year\")"
   ]
  },
  {
   "cell_type": "code",
   "execution_count": 23,
   "id": "bdf9dc54",
   "metadata": {},
   "outputs": [],
   "source": [
    "def square():\n",
    "    for i in range(4):\n",
    "        got.mecanum_move_speed_times(0, 30, 40, 1)\n",
    "        got.mecanum_turn_speed_times(2, 30, 90, 2)"
   ]
  },
  {
   "cell_type": "code",
   "execution_count": 24,
   "id": "6246b866",
   "metadata": {},
   "outputs": [],
   "source": [
    "square()"
   ]
  }
 ],
 "metadata": {
  "kernelspec": {
   "display_name": ".venv",
   "language": "python",
   "name": "python3"
  },
  "language_info": {
   "codemirror_mode": {
    "name": "ipython",
    "version": 3
   },
   "file_extension": ".py",
   "mimetype": "text/x-python",
   "name": "python",
   "nbconvert_exporter": "python",
   "pygments_lexer": "ipython3",
   "version": "3.13.5"
  }
 },
 "nbformat": 4,
 "nbformat_minor": 5
}
