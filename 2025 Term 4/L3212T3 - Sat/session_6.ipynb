{
 "cells": [
  {
   "cell_type": "code",
   "execution_count": null,
   "id": "49e2bbea",
   "metadata": {},
   "outputs": [],
   "source": [
    "'''Hangman'''\n",
    "import random \n",
    "\n",
    "secret = \"steamisfun\"\n",
    "\n",
    "lives = 6\n",
    "guessed_letters = \"\"\n",
    "display = [\"_\"] * len(secret) # _ _ _ _ _\n",
    "\n",
    "print(\"=== Hangman ===\")\n",
    "print(\"I'm thinking of a word with\", len(secret), \"letters\")\n",
    "\n",
    "while True:\n",
    "    print(\"\\nWord: \", \" \".join(display))\n",
    "    print(\"Lives left:\", lives)\n",
    "    print(\"Guessed so far:\", \" \".join(guessed_letters))\n",
    "\n",
    "    guess = input(\"Guess a single letter: \").lower().strip()\n",
    "\n",
    "    if guess == \"quit\":\n",
    "        print(\"Bye!\")\n",
    "        break\n",
    "    if len(guess) != 1 or not guess.isalpha():\n",
    "        print(\"One letter!\")\n",
    "        continue\n",
    "    if guess in guessed_letters:\n",
    "        print(\"Already guessed!\")\n",
    "        continue\n",
    "\n",
    "    guessed_letters += guess\n",
    "\n",
    "    if guess in secret:\n",
    "        for i in range(len(secret)):\n",
    "            if secret[i] == guess:\n",
    "                display[i] = guess\n",
    "        print(\"Nice!\")\n",
    "    else:\n",
    "        lives -= 1\n",
    "        print(\"Not nice :(\")\n",
    "\n",
    "    if \"_\" not in display:\n",
    "        print(\"\\nYou win! The word was:\", secret)\n",
    "        break\n",
    "    if lives == 0:\n",
    "        print(\"\\nOut of lives! The word was:\", secret)\n",
    "        break"
   ]
  }
 ],
 "metadata": {
  "kernelspec": {
   "display_name": ".venv",
   "language": "python",
   "name": "python3"
  },
  "language_info": {
   "codemirror_mode": {
    "name": "ipython",
    "version": 3
   },
   "file_extension": ".py",
   "mimetype": "text/x-python",
   "name": "python",
   "nbconvert_exporter": "python",
   "pygments_lexer": "ipython3",
   "version": "3.13.9"
  }
 },
 "nbformat": 4,
 "nbformat_minor": 5
}
