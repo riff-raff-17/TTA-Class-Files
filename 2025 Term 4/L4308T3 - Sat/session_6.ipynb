{
 "cells": [
  {
   "cell_type": "markdown",
   "id": "0acc56c1",
   "metadata": {},
   "source": [
    "# Q-Learning on FrozenLake (Gymnasium)\n",
    "We will use the FrozenLake-v1 environment from Gymnasium and solve it with Q-learning.\n",
    "\n",
    "\n",
    "## Imports and Helpers\n",
    "We import the libraries, set a random seed, and make a helper for moving averages.\n"
   ]
  },
  {
   "cell_type": "code",
   "execution_count": 2,
   "id": "c5b1195e",
   "metadata": {},
   "outputs": [],
   "source": [
    "import numpy as np\n",
    "import gymnasium as gym\n",
    "from collections import deque\n",
    "import matplotlib.pyplot as plt\n",
    "\n",
    "# For reproducibility\n",
    "SEED = 0\n",
    "np.random.seed(0)\n",
    "\n",
    "def moving_average(x, window=100):\n",
    "    if len(x) < window:\n",
    "        return np.array(x, dtype=float)\n",
    "    cumsum = np.cumsum(np.insert(x, 0, 0))\n",
    "    return (cumsum[window:] - cumsum[:-window]) / float(window)\n",
    "\n",
    "ARROWS = {0: \"←\", 1: \"↓\", 2: \"→\", 3: \"↑\"}"
   ]
  },
  {
   "cell_type": "markdown",
   "id": "79a2d8e3",
   "metadata": {},
   "source": [
    "## Environment\n",
    "We use the classic **4x4 FrozenLake** environment.  \n",
    "- Start = top left  \n",
    "- Goal = bottom right  \n",
    "- Holes = fall in, episode ends  \n",
    "- Slippery ice makes actions stochastic\n"
   ]
  },
  {
   "cell_type": "code",
   "execution_count": null,
   "id": "8669e3db",
   "metadata": {},
   "outputs": [
    {
     "name": "stdout",
     "output_type": "stream",
     "text": [
      "Observation space: 16\n",
      "Action space: 4\n"
     ]
    }
   ],
   "source": [
    "# Classic 4x4 FrozenLake\n",
    "# +1 for reaching the goal, 0 otherwise\n",
    "env = gym.make(\"FrozenLake-v1\", map_name=\"4x4\", is_slippery=True)\n",
    "n_states = env.observation_space.n\n",
    "n_actions = env.action_space.n\n",
    "\n",
    "print(\"Observation space:\", n_states)\n",
    "print(\"Action space:\", n_actions)"
   ]
  },
  {
   "cell_type": "markdown",
   "id": "78f7092c",
   "metadata": {},
   "source": [
    "## Q-table and Hyperparameters\n",
    "- **Q-table**: stores values for each state-action pair  \n",
    "- **α (alpha)**: learning rate  \n",
    "- **γ (gamma)**: discount factor  \n",
    "- **ε (epsilon)**: exploration rate\n"
   ]
  },
  {
   "cell_type": "code",
   "execution_count": null,
   "id": "9cceb27f",
   "metadata": {},
   "outputs": [],
   "source": [
    "Q = np.zeroes((n_states, n_actions))\n",
    "\n",
    "# Hyperparameters\n",
    "alpha = 0.2\n",
    "gamma = 0.99\n",
    "epsilon = 1.0\n",
    "epsilon_min = 0.05\n",
    "target_fraction = 0.95\n",
    "\n",
    "episodes = 60000\n",
    "max_steps_per_episode = 100\n",
    "\n",
    "epsilon_decay = (epsilon_min/epsilon) ** (1/(episodes*target_fraction))\n",
    "\n",
    "# Tracking\n",
    "episode_rewards = []\n",
    "episode_success = []\n",
    "smoothed_success = []"
   ]
  },
  {
   "cell_type": "markdown",
   "id": "57cc11e1",
   "metadata": {},
   "source": [
    "## Epsilon-Greedy Strategy\n",
    "At each step:\n",
    "- With probability ε: pick a random action (explore)  \n",
    "- With probability 1-ε: pick the best-known action (exploit)\n"
   ]
  },
  {
   "cell_type": "code",
   "execution_count": null,
   "id": "e9138f83",
   "metadata": {},
   "outputs": [],
   "source": [
    "def epsilon_greedy_action(state, epsilon):\n",
    "    if np.random.rand() < epsilon:\n",
    "        return env.action_space.sample() # explore\n",
    "    else:\n",
    "        return int(np.argmax(Q[state]))"
   ]
  },
  {
   "cell_type": "markdown",
   "id": "93d3f2f4",
   "metadata": {},
   "source": [
    "## Training with Q-learning\n",
    "For each episode:\n",
    "1. Start at the beginning  \n",
    "2. Choose actions with ε-greedy  \n",
    "3. Update the Q-table using the Q-learning rule  \n",
    "4. Decay ε over time  \n",
    "\n",
    "We repeat for many episodes so the agent learns a good policy.\n"
   ]
  },
  {
   "cell_type": "code",
   "execution_count": null,
   "id": "d1232495",
   "metadata": {},
   "outputs": [],
   "source": [
    "for ep in range(episodes):\n",
    "    state, info = env.reset()\n",
    "    total_reward = 0\n",
    "\n",
    "    for t in range(max_steps_per_episode):\n",
    "        action = epsilon_greedy_action(state, epsilon)\n",
    "\n",
    "        next_state, reward, terminated, truncated, info = env.step(action)\n",
    "        done = terminated or truncated\n",
    "\n",
    "        # Q-learning update\n",
    "        best_next = np.max(Q[next_state])\n",
    "        td_target = reward + gamma * best_next\n",
    "        td_error = td_target - Q[state, action]\n",
    "        Q[state, action] += alpha * td_error \n",
    "\n",
    "        state = next_state\n",
    "        total_reward += reward\n",
    "        if done:\n",
    "            break\n",
    "\n",
    "    # Bookkeeping\n",
    "    episode_rewards.append(total_reward)\n",
    "    episode_success.append(1 if total_reward > 0 else 0)\n",
    "\n",
    "    # Decay\n",
    "    epsilon = max(epsilon_min, epsilon * epsilon_decay)\n"
   ]
  },
  {
   "cell_type": "markdown",
   "id": "56164342",
   "metadata": {},
   "source": [
    "## Learning Curve\n",
    "We plot the moving average of success rate across episodes.  \n",
    "This shows if the agent is improving at reaching the goal.\n"
   ]
  },
  {
   "cell_type": "code",
   "execution_count": null,
   "id": "8f0a7862",
   "metadata": {},
   "outputs": [],
   "source": [
    "# Compute moving average success (window=100 and 1000)\n",
    "smoothed_success_100 = moving_average(episode_success, window=100)\n",
    "smoothed_success_1000 = moving_average(episode_success, window=1000)\n",
    "\n",
    "plt.figure(figsize=(6, 4))\n",
    "plt.plot(smoothed_success_100, label=\"100\", alpha=0.6)\n",
    "plt.plot(smoothed_success_1000, label=\"1000\", color=\"orange\")\n",
    "plt.title(\"FrozenLake: Moving Average Success Rate\")\n",
    "plt.xlabel(\"Episode\")\n",
    "plt.ylabel(\"Success Rate\")\n",
    "plt.grid(True)\n",
    "plt.legend()\n",
    "plt.show()"
   ]
  }
 ],
 "metadata": {
  "kernelspec": {
   "display_name": ".venv",
   "language": "python",
   "name": "python3"
  },
  "language_info": {
   "codemirror_mode": {
    "name": "ipython",
    "version": 3
   },
   "file_extension": ".py",
   "mimetype": "text/x-python",
   "name": "python",
   "nbconvert_exporter": "python",
   "pygments_lexer": "ipython3",
   "version": "3.13.9"
  }
 },
 "nbformat": 4,
 "nbformat_minor": 5
}
