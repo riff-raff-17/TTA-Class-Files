{
 "cells": [
  {
   "cell_type": "markdown",
   "id": "0acc56c1",
   "metadata": {},
   "source": [
    "# Q-Learning on FrozenLake (Gymnasium)\n",
    "We will use the FrozenLake-v1 environment from Gymnasium and solve it with Q-learning.\n",
    "\n",
    "\n",
    "## Imports and Helpers\n",
    "We import the libraries, set a random seed, and make a helper for moving averages.\n"
   ]
  },
  {
   "cell_type": "code",
   "execution_count": 2,
   "id": "c5b1195e",
   "metadata": {},
   "outputs": [],
   "source": [
    "import numpy as np\n",
    "import gymnasium as gym\n",
    "from collections import deque\n",
    "import matplotlib.pyplot as plt\n",
    "\n",
    "# For reproducibility\n",
    "SEED = 0\n",
    "np.random.seed(0)\n",
    "\n",
    "def moving_average(x, window=100):\n",
    "    if len(x) < window:\n",
    "        return np.array(x, dtype=float)\n",
    "    cumsum = np.cumsum(np.insert(x, 0, 0))\n",
    "    return (cumsum[window:] - cumsum[:-window]) / float(window)\n",
    "\n",
    "ARROWS = {0: \"←\", 1: \"↓\", 2: \"→\", 3: \"↑\"}"
   ]
  },
  {
   "cell_type": "markdown",
   "id": "79a2d8e3",
   "metadata": {},
   "source": [
    "## Environment\n",
    "We use the classic **4x4 FrozenLake** environment.  \n",
    "- Start = top left  \n",
    "- Goal = bottom right  \n",
    "- Holes = fall in, episode ends  \n",
    "- Slippery ice makes actions stochastic\n"
   ]
  },
  {
   "cell_type": "code",
   "execution_count": null,
   "id": "8669e3db",
   "metadata": {},
   "outputs": [
    {
     "name": "stdout",
     "output_type": "stream",
     "text": [
      "Observation space: 16\n",
      "Action space: 4\n"
     ]
    }
   ],
   "source": [
    "# Classic 4x4 FrozenLake\n",
    "# +1 for reaching the goal, 0 otherwise\n",
    "env = gym.make(\"FrozenLake-v1\", map_name=\"4x4\", is_slippery=True)\n",
    "n_states = env.observation_space.n\n",
    "n_actions = env.action_space.n\n",
    "\n",
    "print(\"Observation space:\", n_states)\n",
    "print(\"Action space:\", n_actions)"
   ]
  },
  {
   "cell_type": "markdown",
   "id": "78f7092c",
   "metadata": {},
   "source": [
    "## Q-table and Hyperparameters\n",
    "- **Q-table**: stores values for each state-action pair  \n",
    "- **α (alpha)**: learning rate  \n",
    "- **γ (gamma)**: discount factor  \n",
    "- **ε (epsilon)**: exploration rate\n"
   ]
  }
 ],
 "metadata": {
  "kernelspec": {
   "display_name": ".venv",
   "language": "python",
   "name": "python3"
  },
  "language_info": {
   "codemirror_mode": {
    "name": "ipython",
    "version": 3
   },
   "file_extension": ".py",
   "mimetype": "text/x-python",
   "name": "python",
   "nbconvert_exporter": "python",
   "pygments_lexer": "ipython3",
   "version": "3.13.5"
  }
 },
 "nbformat": 4,
 "nbformat_minor": 5
}
