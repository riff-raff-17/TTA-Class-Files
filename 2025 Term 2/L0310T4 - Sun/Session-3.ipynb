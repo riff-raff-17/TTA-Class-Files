{
 "cells": [
  {
   "cell_type": "code",
   "execution_count": 9,
   "id": "da9d0b43",
   "metadata": {},
   "outputs": [
    {
     "name": "stdout",
     "output_type": "stream",
     "text": [
      "192.168.1.166:50051\n"
     ]
    }
   ],
   "source": [
    "from ugot import ugot\n",
    "import time\n",
    "got = ugot.UGOT()\n",
    "got.initialize('192.168.1.166')"
   ]
  },
  {
   "cell_type": "code",
   "execution_count": null,
   "id": "155243eb",
   "metadata": {},
   "outputs": [],
   "source": []
  },
  {
   "cell_type": "code",
   "execution_count": null,
   "id": "8b7376d5",
   "metadata": {},
   "outputs": [],
   "source": [
    "got.load_models(['line_recognition', 'word_recognition'])\n",
    "\n",
    "# What line am I seeing\n",
    "# 0  is the single line\n",
    "\n",
    "got.set_track_recognition_line(0)\n",
    "\n",
    "while True:\n",
    "    try:\n",
    "        line_info = got.get_single_track_total_info()\n",
    "        offset = int(0.18 * line_info[0])\n",
    "        line_type = line_info[1] # returns 1 if straight, 0 if wireless\n",
    "        print(f\"\\rLine Info: {line_info}      \", end='')\n",
    "        \n",
    "        if line_type == 1:\n",
    "            got.mecanum_move_xyz(x_speed=0, y_speed=15, z_speed=offset)\n",
    "        else:\n",
    "            got.mecanum_stop()\n",
    "            \n",
    "    except KeyboardInterrupt:\n",
    "        got.mecanum_stop()\n",
    "        break\n"
   ]
  },
  {
   "cell_type": "code",
   "execution_count": null,
   "id": "755cdf1a",
   "metadata": {},
   "outputs": [],
   "source": [
    "got.load_models(['line_recognition', 'word_recognition'])\n",
    "\n",
    "while True:\n",
    "    try:\n",
    "        line_info = got.get_single_track_total_info()\n",
    "        word_info = got.get_words_result()\n",
    "        offset = int(0.18 * line_info[0])\n",
    "        line_type = line_info[1] # returns 1 if straight, 0 if wireless\n",
    "        print(f\"\\rWord Info: {word_info}      \", end='')\n",
    "        \n",
    "        if \"Go\" in word_info:\n",
    "            got.mecanum_move_xyz(x_speed=0, y_speed=15, z_speed=offset)\n",
    "        elif \"Left\" in word_info:\n",
    "            got.mecanum_turn_speed_times(turn=2, speed=30, times=90, unit=2)\n",
    "            time.sleep(3.5)\n",
    "        elif \"Right\" in word_info:\n",
    "            got.mecanum_turn_speed_times(turn=3, speed=30, times=90, unit=2)\n",
    "            time.sleep(3.5)\n",
    "        elif \"Finished\" in word_info:\n",
    "            got.mecanum_stop()\n",
    "            got.play_audio_tts(\"I AM FINISHED JOSH BEEP BOOP I'M A ROBOT\", 0, True)\n",
    "            break\n",
    "        else:\n",
    "            got.mecanum_stop()\n",
    "            \n",
    "    except KeyboardInterrupt:\n",
    "        got.mecanum_stop()\n",
    "        break\n"
   ]
  },
  {
   "cell_type": "code",
   "execution_count": null,
   "id": "61384988",
   "metadata": {},
   "outputs": [],
   "source": [
    "# A little bit about lists\n",
    "\n",
    "class_list = ['andy', 'javern', 'yangxu', 'ruilong',\n",
    "            'patrick star', 'wenhao', 'wenxuan', 'josh', 'raphael']\n",
    "\n",
    "class_list[0]\n",
    "\n",
    "# Slicing\n",
    "class_list[0:]"
   ]
  },
  {
   "cell_type": "code",
   "execution_count": 3,
   "id": "03da1ec6",
   "metadata": {},
   "outputs": [],
   "source": [
    "got.spider_move_speed_times(1, 25, 100, 1)"
   ]
  },
  {
   "cell_type": "code",
   "execution_count": null,
   "id": "3878db1d",
   "metadata": {},
   "outputs": [
    {
     "ename": "KeyboardInterrupt",
     "evalue": "",
     "output_type": "error",
     "traceback": [
      "\u001b[31m---------------------------------------------------------------------------\u001b[39m",
      "\u001b[31mKeyboardInterrupt\u001b[39m                         Traceback (most recent call last)",
      "\u001b[36mCell\u001b[39m\u001b[36m \u001b[39m\u001b[32mIn[11]\u001b[39m\u001b[32m, line 15\u001b[39m\n\u001b[32m     13\u001b[39m     got.spider_move_speed(\u001b[32m1\u001b[39m, \u001b[32m25\u001b[39m)\n\u001b[32m     14\u001b[39m \u001b[38;5;28;01melse\u001b[39;00m:\n\u001b[32m---> \u001b[39m\u001b[32m15\u001b[39m     \u001b[43mgot\u001b[49m\u001b[43m.\u001b[49m\u001b[43mspider_stop\u001b[49m\u001b[43m(\u001b[49m\u001b[43m)\u001b[49m\n",
      "\u001b[36mFile \u001b[39m\u001b[32m/opt/anaconda3/envs/TTA/lib/python3.12/site-packages/ugot/ugot.py:1784\u001b[39m, in \u001b[36mUGOT.spider_stop\u001b[39m\u001b[34m(self)\u001b[39m\n\u001b[32m   1777\u001b[39m \u001b[38;5;28;01mdef\u001b[39;00m\u001b[38;5;250m \u001b[39m\u001b[34mspider_stop\u001b[39m(\u001b[38;5;28mself\u001b[39m):\n\u001b[32m   1778\u001b[39m \u001b[38;5;250m    \u001b[39m\u001b[33;03m\"\"\"\u001b[39;00m\n\u001b[32m   1779\u001b[39m \u001b[33;03m    Pause the spider robot's motion.\u001b[39;00m\n\u001b[32m   1780\u001b[39m \n\u001b[32m   1781\u001b[39m \u001b[33;03m    Returns:\u001b[39;00m\n\u001b[32m   1782\u001b[39m \u001b[33;03m        None\u001b[39;00m\n\u001b[32m   1783\u001b[39m \u001b[33;03m    \"\"\"\u001b[39;00m\n\u001b[32m-> \u001b[39m\u001b[32m1784\u001b[39m     \u001b[38;5;28;43mself\u001b[39;49m\u001b[43m.\u001b[49m\u001b[43mMODEL\u001b[49m\u001b[43m.\u001b[49m\u001b[43mstop\u001b[49m\u001b[43m(\u001b[49m\u001b[43mMODEL_TYPE_SPIDER\u001b[49m\u001b[43m)\u001b[49m\n",
      "\u001b[36mFile \u001b[39m\u001b[32m/opt/anaconda3/envs/TTA/lib/python3.12/site-packages/ugot/src/model_client.py:115\u001b[39m, in \u001b[36mModelClient.stop\u001b[39m\u001b[34m(self, type)\u001b[39m\n\u001b[32m    112\u001b[39m input_data = model_pb2.MecanumStopRequest()\n\u001b[32m    113\u001b[39m input_data.type = \u001b[38;5;28mtype\u001b[39m\n\u001b[32m--> \u001b[39m\u001b[32m115\u001b[39m response = \u001b[38;5;28;43mself\u001b[39;49m\u001b[43m.\u001b[49m\u001b[43mclient\u001b[49m\u001b[43m.\u001b[49m\u001b[43mmecanumStop\u001b[49m\u001b[43m(\u001b[49m\u001b[43minput_data\u001b[49m\u001b[43m)\u001b[49m\n\u001b[32m    116\u001b[39m \u001b[38;5;28;01mreturn\u001b[39;00m response\n",
      "\u001b[36mFile \u001b[39m\u001b[32m/opt/anaconda3/envs/TTA/lib/python3.12/site-packages/grpc/_channel.py:1178\u001b[39m, in \u001b[36m_UnaryUnaryMultiCallable.__call__\u001b[39m\u001b[34m(self, request, timeout, metadata, credentials, wait_for_ready, compression)\u001b[39m\n\u001b[32m   1166\u001b[39m \u001b[38;5;28;01mdef\u001b[39;00m\u001b[38;5;250m \u001b[39m\u001b[34m__call__\u001b[39m(\n\u001b[32m   1167\u001b[39m     \u001b[38;5;28mself\u001b[39m,\n\u001b[32m   1168\u001b[39m     request: Any,\n\u001b[32m   (...)\u001b[39m\u001b[32m   1173\u001b[39m     compression: Optional[grpc.Compression] = \u001b[38;5;28;01mNone\u001b[39;00m,\n\u001b[32m   1174\u001b[39m ) -> Any:\n\u001b[32m   1175\u001b[39m     (\n\u001b[32m   1176\u001b[39m         state,\n\u001b[32m   1177\u001b[39m         call,\n\u001b[32m-> \u001b[39m\u001b[32m1178\u001b[39m     ) = \u001b[38;5;28;43mself\u001b[39;49m\u001b[43m.\u001b[49m\u001b[43m_blocking\u001b[49m\u001b[43m(\u001b[49m\n\u001b[32m   1179\u001b[39m \u001b[43m        \u001b[49m\u001b[43mrequest\u001b[49m\u001b[43m,\u001b[49m\u001b[43m \u001b[49m\u001b[43mtimeout\u001b[49m\u001b[43m,\u001b[49m\u001b[43m \u001b[49m\u001b[43mmetadata\u001b[49m\u001b[43m,\u001b[49m\u001b[43m \u001b[49m\u001b[43mcredentials\u001b[49m\u001b[43m,\u001b[49m\u001b[43m \u001b[49m\u001b[43mwait_for_ready\u001b[49m\u001b[43m,\u001b[49m\u001b[43m \u001b[49m\u001b[43mcompression\u001b[49m\n\u001b[32m   1180\u001b[39m \u001b[43m    \u001b[49m\u001b[43m)\u001b[49m\n\u001b[32m   1181\u001b[39m     \u001b[38;5;28;01mreturn\u001b[39;00m _end_unary_response_blocking(state, call, \u001b[38;5;28;01mFalse\u001b[39;00m, \u001b[38;5;28;01mNone\u001b[39;00m)\n",
      "\u001b[36mFile \u001b[39m\u001b[32m/opt/anaconda3/envs/TTA/lib/python3.12/site-packages/grpc/_channel.py:1162\u001b[39m, in \u001b[36m_UnaryUnaryMultiCallable._blocking\u001b[39m\u001b[34m(self, request, timeout, metadata, credentials, wait_for_ready, compression)\u001b[39m\n\u001b[32m   1145\u001b[39m state.target = _common.decode(\u001b[38;5;28mself\u001b[39m._target)\n\u001b[32m   1146\u001b[39m call = \u001b[38;5;28mself\u001b[39m._channel.segregated_call(\n\u001b[32m   1147\u001b[39m     cygrpc.PropagationConstants.GRPC_PROPAGATE_DEFAULTS,\n\u001b[32m   1148\u001b[39m     \u001b[38;5;28mself\u001b[39m._method,\n\u001b[32m   (...)\u001b[39m\u001b[32m   1160\u001b[39m     \u001b[38;5;28mself\u001b[39m._registered_call_handle,\n\u001b[32m   1161\u001b[39m )\n\u001b[32m-> \u001b[39m\u001b[32m1162\u001b[39m event = \u001b[43mcall\u001b[49m\u001b[43m.\u001b[49m\u001b[43mnext_event\u001b[49m\u001b[43m(\u001b[49m\u001b[43m)\u001b[49m\n\u001b[32m   1163\u001b[39m _handle_event(event, state, \u001b[38;5;28mself\u001b[39m._response_deserializer)\n\u001b[32m   1164\u001b[39m \u001b[38;5;28;01mreturn\u001b[39;00m state, call\n",
      "\u001b[36mFile \u001b[39m\u001b[32msrc/python/grpcio/grpc/_cython/_cygrpc/channel.pyx.pxi:388\u001b[39m, in \u001b[36mgrpc._cython.cygrpc.SegregatedCall.next_event\u001b[39m\u001b[34m()\u001b[39m\n",
      "\u001b[36mFile \u001b[39m\u001b[32msrc/python/grpcio/grpc/_cython/_cygrpc/channel.pyx.pxi:211\u001b[39m, in \u001b[36mgrpc._cython.cygrpc._next_call_event\u001b[39m\u001b[34m()\u001b[39m\n",
      "\u001b[36mFile \u001b[39m\u001b[32msrc/python/grpcio/grpc/_cython/_cygrpc/channel.pyx.pxi:205\u001b[39m, in \u001b[36mgrpc._cython.cygrpc._next_call_event\u001b[39m\u001b[34m()\u001b[39m\n",
      "\u001b[36mFile \u001b[39m\u001b[32msrc/python/grpcio/grpc/_cython/_cygrpc/completion_queue.pyx.pxi:78\u001b[39m, in \u001b[36mgrpc._cython.cygrpc._latent_event\u001b[39m\u001b[34m()\u001b[39m\n",
      "\u001b[36mFile \u001b[39m\u001b[32msrc/python/grpcio/grpc/_cython/_cygrpc/completion_queue.pyx.pxi:62\u001b[39m, in \u001b[36mgrpc._cython.cygrpc._internal_latent_event\u001b[39m\u001b[34m()\u001b[39m\n",
      "\u001b[36mFile \u001b[39m\u001b[32msrc/python/grpcio/grpc/_cython/_cygrpc/completion_queue.pyx.pxi:58\u001b[39m, in \u001b[36mgrpc._cython.cygrpc._interpret_event\u001b[39m\u001b[34m()\u001b[39m\n",
      "\u001b[36mFile \u001b[39m\u001b[32msrc/python/grpcio/grpc/_cython/_cygrpc/tag.pyx.pxi:71\u001b[39m, in \u001b[36mgrpc._cython.cygrpc._BatchOperationTag.event\u001b[39m\u001b[34m()\u001b[39m\n",
      "\u001b[36mFile \u001b[39m\u001b[32msrc/python/grpcio/grpc/_cython/_cygrpc/operation.pyx.pxi:138\u001b[39m, in \u001b[36mgrpc._cython.cygrpc.ReceiveInitialMetadataOperation.un_c\u001b[39m\u001b[34m()\u001b[39m\n",
      "\u001b[36mFile \u001b[39m\u001b[32msrc/python/grpcio/grpc/_cython/_cygrpc/metadata.pyx.pxi:69\u001b[39m, in \u001b[36mgrpc._cython.cygrpc._metadata\u001b[39m\u001b[34m()\u001b[39m\n",
      "\u001b[36mFile \u001b[39m\u001b[32msrc/python/grpcio/grpc/_cython/_cygrpc/metadata.pyx.pxi:70\u001b[39m, in \u001b[36mgenexpr\u001b[39m\u001b[34m()\u001b[39m\n",
      "\u001b[36mFile \u001b[39m\u001b[32msrc/python/grpcio/grpc/_cython/_cygrpc/metadata.pyx.pxi:64\u001b[39m, in \u001b[36mgrpc._cython.cygrpc._metadatum\u001b[39m\u001b[34m()\u001b[39m\n",
      "\u001b[36mFile \u001b[39m\u001b[32m<string>:1\u001b[39m, in \u001b[36m<lambda>\u001b[39m\u001b[34m(_cls, key, value)\u001b[39m\n",
      "\u001b[31mKeyboardInterrupt\u001b[39m: "
     ]
    }
   ],
   "source": [
    "import pygame\n",
    "import sys\n",
    "\n",
    "# Dummy robot control functions — replace with actual implementations\n",
    "def forward():\n",
    "    print(\"Moving forward\")\n",
    "\n",
    "def backward():\n",
    "    print(\"Moving backward\")\n",
    "\n",
    "def left():\n",
    "    print(\"Turning left\")\n",
    "\n",
    "def right():\n",
    "    print(\"Turning right\")\n",
    "\n",
    "def stop():\n",
    "    print(\"Stopping\")\n",
    "\n",
    "# Initialize pygame\n",
    "pygame.init()\n",
    "screen = pygame.display.set_mode((400, 300))\n",
    "pygame.display.set_caption(\"Robot Controller\")\n",
    "\n",
    "# Main loop\n",
    "running = True\n",
    "clock = pygame.time.Clock()\n",
    "pressed_keys = set()\n",
    "\n",
    "while running:\n",
    "    screen.fill((30, 30, 30))  # Clear screen\n",
    "    for event in pygame.event.get():\n",
    "        if event.type == pygame.QUIT:\n",
    "            running = False\n",
    "\n",
    "        # Key pressed\n",
    "        elif event.type == pygame.KEYDOWN:\n",
    "            pressed_keys.add(event.key)\n",
    "            if event.key == pygame.K_UP:\n",
    "                forward()\n",
    "            elif event.key == pygame.K_DOWN:\n",
    "                backward()\n",
    "            elif event.key == pygame.K_LEFT:\n",
    "                left()\n",
    "            elif event.key == pygame.K_RIGHT:\n",
    "                right()\n",
    "\n",
    "        # Key released\n",
    "        elif event.type == pygame.KEYUP:\n",
    "            pressed_keys.discard(event.key)\n",
    "            if event.key in [pygame.K_UP, pygame.K_DOWN, pygame.K_LEFT, pygame.K_RIGHT]:\n",
    "                stop()\n",
    "\n",
    "    pygame.display.flip()\n",
    "    clock.tick(60)\n",
    "\n",
    "pygame.quit()\n",
    "sys.exit()\n"
   ]
  }
 ],
 "metadata": {
  "kernelspec": {
   "display_name": "TTA",
   "language": "python",
   "name": "python3"
  },
  "language_info": {
   "codemirror_mode": {
    "name": "ipython",
    "version": 3
   },
   "file_extension": ".py",
   "mimetype": "text/x-python",
   "name": "python",
   "nbconvert_exporter": "python",
   "pygments_lexer": "ipython3",
   "version": "3.12.9"
  }
 },
 "nbformat": 4,
 "nbformat_minor": 5
}
