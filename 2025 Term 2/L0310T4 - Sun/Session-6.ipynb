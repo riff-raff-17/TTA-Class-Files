{
 "cells": [
  {
   "cell_type": "code",
   "execution_count": 5,
   "id": "b538cfde",
   "metadata": {},
   "outputs": [
    {
     "name": "stdout",
     "output_type": "stream",
     "text": [
      "192.168.1.243:50051\n"
     ]
    }
   ],
   "source": [
    "from ugot import ugot\n",
    "got = ugot.UGOT()\n",
    "got.initialize('192.168.1.243')"
   ]
  },
  {
   "cell_type": "code",
   "execution_count": null,
   "id": "fcbc554a",
   "metadata": {},
   "outputs": [
    {
     "name": "stdout",
     "output_type": "stream",
     "text": [
      "Hello! I am a chatbot named Steve. How can I help you?\n",
      "Goodbye!\n"
     ]
    }
   ],
   "source": [
    "# creeper awww man\n",
    "# Load the model\n",
    "got.load_models(['face_recognition'])\n",
    "\n",
    "'''\n",
    "We need 2 functions: 1) to register a face and 2) to delete a face\n",
    "'''\n",
    "\n",
    "# 1: Register a face\n",
    "def register_face():\n",
    "    name_tag = input(\"Please write the name of the person: \")\n",
    "    got.face_recognition_add_name(name_tag)\n",
    "    print(\"Name added!\")\n",
    "\n",
    "# 2: Delete a face :(\n",
    "def delete_face():\n",
    "    print(got.face_recognition_get_all_names())\n",
    "    name_tag = input('Please write the name of the person to delete forever: ')\n",
    "    got.face_recognition_delete_name(name_tag)\n",
    "    print(\"Face deleted!\")\n",
    "\n",
    "# Make a simple chatbot to control \n",
    "print(\"Hello! I am a chatbot named Steve. How can I help you?\")\n",
    "\n",
    "while True:\n",
    "    user_input = input(\"What do you want to do? \").lower()\n",
    "\n",
    "    if 'exit' in user_input:\n",
    "        print('Goodbye!')\n",
    "        break\n",
    "    \n",
    "    if 'register face' in user_input:\n",
    "        print(\"Okay! Preparing to register face now\")\n",
    "        register_face()\n",
    "    \n",
    "    if 'delete face' in user_input:\n",
    "        delete_face()"
   ]
  },
  {
   "cell_type": "code",
   "execution_count": null,
   "id": "a5fd7d99",
   "metadata": {},
   "outputs": [
    {
     "data": {
      "text/plain": [
       "''"
      ]
     },
     "execution_count": 3,
     "metadata": {},
     "output_type": "execute_result"
    }
   ],
   "source": [
    "import time\n",
    "\n",
    "got.load_models(['face_attribute'])\n",
    "\n",
    "while True:\n",
    "    try:\n",
    "        face_data = got.get_face_recognition_total_info()\n",
    "        names = [face[0] for face in face_data]\n",
    "        print(f\"\\rFaces: {', '.join(names)}                             \\\n",
    "                                                    \", end=\"\")\n",
    "        time.sleep(0.5)\n",
    "    except KeyboardInterrupt:\n",
    "        break\n",
    "\n",
    "print('\\nDone!')"
   ]
  },
  {
   "cell_type": "code",
   "execution_count": null,
   "id": "916038a0",
   "metadata": {},
   "outputs": [],
   "source": [
    "import time\n",
    "\n",
    "while True:\n",
    "    try:\n",
    "        face_data = got.get_face_characteristic_total_info()\n",
    "        gender = [face[0] for face in face_data]\n",
    "        emotions = [face[2] for face in face_data]\n",
    "\n",
    "        print(f\"\\rGender: {', '.join(gender)} | Emotions: {', '.join(emotions)}             \\\n",
    "                                                                                \", end=\"\")\n",
    "\n",
    "        time.sleep(0.5)\n",
    "    except KeyboardInterrupt:\n",
    "        break\n",
    "\n",
    "print('\\nDone!')"
   ]
  }
 ],
 "metadata": {
  "kernelspec": {
   "display_name": "TTA",
   "language": "python",
   "name": "python3"
  },
  "language_info": {
   "codemirror_mode": {
    "name": "ipython",
    "version": 3
   },
   "file_extension": ".py",
   "mimetype": "text/x-python",
   "name": "python",
   "nbconvert_exporter": "python",
   "pygments_lexer": "ipython3",
   "version": "3.12.9"
  }
 },
 "nbformat": 4,
 "nbformat_minor": 5
}
