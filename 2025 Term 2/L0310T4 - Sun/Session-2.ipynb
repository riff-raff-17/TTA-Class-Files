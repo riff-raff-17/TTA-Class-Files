{
 "cells": [
  {
   "cell_type": "code",
   "execution_count": null,
   "id": "165519d6",
   "metadata": {},
   "outputs": [],
   "source": [
    "from ugot import ugot\n",
    "import time\n",
    "got = ugot.UGOT()\n",
    "got.initialize('192.168.1.183')"
   ]
  },
  {
   "cell_type": "code",
   "execution_count": null,
   "id": "69c93f9b",
   "metadata": {},
   "outputs": [],
   "source": [
    "got.load_models(['line_recognition'])\n",
    "got.set_track_recognition_line(0)\n",
    "got.transform_adaption_control(False)\n",
    "time.sleep(0.5)\n",
    "got.transform_restory()\n",
    "time.sleep(0.5)\n",
    "got.transform_set_chassis_height(2)\n",
    "\n",
    "# movement speed\n",
    "speed = 20\n",
    "# turn speed\n",
    "mult = 0.18\n",
    "\n",
    "while True:\n",
    "    try:\n",
    "        line_info = got.get_single_track_total_info()\n",
    "        offset = int(mult * line_info[0])\n",
    "        # got.screen_print_text_newline(f\"Offset is: {offset}\", 1)\n",
    "        # got.screen_clear()\n",
    "\n",
    "        if offset > 5:\n",
    "            got.transform_move_turn(0, speed, 2, offset)\n",
    "        elif offset < -5:\n",
    "            got.transform_move_turn(0, speed, 3, abs(offset))\n",
    "        else:\n",
    "            got.transform_move_speed(0, speed)\n",
    "    except KeyboardInterrupt:\n",
    "        got.transform_stop()\n",
    "        break\n",
    "\n",
    "\n"
   ]
  },
  {
   "cell_type": "code",
   "execution_count": null,
   "id": "e3c607bb",
   "metadata": {},
   "outputs": [],
   "source": [
    "while True:\n",
    "    try:\n",
    "        distance = got.read_distance_data(21)\n",
    "        print(f\"\\rDistance is {distance} cm       \", end='')\n",
    "        \n",
    "        if distance > 50:\n",
    "            got.transform_turn_speed(2, 45)\n",
    "        elif distance < 50 and distance > 15:\n",
    "            got.transform_move_speed(0, 30)\n",
    "        else:\n",
    "            got.transform_stop()\n",
    "    except KeyboardInterrupt:\n",
    "        got.transform_stop()\n",
    "        break"
   ]
  },
  {
   "cell_type": "code",
   "execution_count": null,
   "id": "264daa32",
   "metadata": {},
   "outputs": [],
   "source": [
    "got.load_models(['word_recognition'])\n",
    "\n",
    "while True:\n",
    "    try:\n",
    "        distance = got.read_distance_data(21)\n",
    "\n",
    "        if distance > 50:\n",
    "            got.transform_turn_speed(2, 45)\n",
    "        elif distance < 50 and distance > 15:\n",
    "            word = got.get_words_result()\n",
    "            print(f\"\\r{word}      \", end='')\n",
    "            if word == \"Follow\":\n",
    "                got.transform_move_speed(0, 30)\n",
    "        else:\n",
    "            got.transform_stop()\n",
    "    except KeyboardInterrupt:\n",
    "        got.transform_stop()\n",
    "        break"
   ]
  }
 ],
 "metadata": {
  "kernelspec": {
   "display_name": "TTA",
   "language": "python",
   "name": "python3"
  },
  "language_info": {
   "codemirror_mode": {
    "name": "ipython",
    "version": 3
   },
   "file_extension": ".py",
   "mimetype": "text/x-python",
   "name": "python",
   "nbconvert_exporter": "python",
   "pygments_lexer": "ipython3",
   "version": "3.12.9"
  }
 },
 "nbformat": 4,
 "nbformat_minor": 5
}
