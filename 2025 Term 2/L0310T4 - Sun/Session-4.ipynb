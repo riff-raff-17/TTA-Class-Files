{
 "cells": [
  {
   "cell_type": "code",
   "execution_count": 6,
   "id": "05eaac36",
   "metadata": {},
   "outputs": [
    {
     "name": "stdout",
     "output_type": "stream",
     "text": [
      "192.168.1.120:50051\n"
     ]
    }
   ],
   "source": [
    "from ugot import ugot\n",
    "import time\n",
    "got = ugot.UGOT()\n",
    "got.initialize('192.168.1.120')"
   ]
  },
  {
   "cell_type": "code",
   "execution_count": null,
   "id": "e10564b5",
   "metadata": {},
   "outputs": [],
   "source": []
  },
  {
   "cell_type": "code",
   "execution_count": null,
   "id": "9694a1ce",
   "metadata": {},
   "outputs": [],
   "source": [
    "# 0 Black; 1 White; 2 Purple; 3 Red; 4 Orange; 5 Yellow; 6 Green; 7 Cyan; 8 Blue\n",
    "for col in range(1, 9):\n",
    "    got.screen_print_text_newline(text=\"Hello\", color=col)\n",
    "\n",
    "# (Red, Green, Blue) (255, 255, 255)\n",
    "got.show_light_rgb([0,1,2,3], 238, 198, 90)\n",
    "\n",
    "# Load models\n",
    "got.load_models(['line_recognition', 'word_recognition'])\n",
    "got.set_track_recognition_line(0) # 0 is single rail\n",
    "\n",
    "running = True\n",
    "\n",
    "while running:\n",
    "    try:\n",
    "        line_info = got.get_single_track_total_info()\n",
    "        offset = int(0.18 * line_info[0])\n",
    "        line_type = line_info[1] # 1 is a straight line, 0 is no line\n",
    "\n",
    "        word = got.get_words_result()\n",
    "\n",
    "        print(f\"\\rOffset: {offset} | Line type: {line_type} | Word: {word}          \", end='')\n",
    "\n",
    "        if word == \"Josh\":\n",
    "            got.mecanum_stop()\n",
    "            got.play_audio_tts(\"Hi I'm Josh\", 1, True)\n",
    "        elif word == \"Turn\":\n",
    "            got.mecanum_turn_speed_times(2, 45, 180, 2)\n",
    "            time.sleep(4)\n",
    "        elif line_type != 1:\n",
    "            got.mecanum_stop()\n",
    "        else:\n",
    "            got.mecanum_move_xyz(x_speed=0, y_speed=20, z_speed=offset)\n",
    "\n",
    "    except KeyboardInterrupt:\n",
    "        got.screen_clear()\n",
    "        got.mecanum_stop()\n",
    "        running = False\n"
   ]
  }
 ],
 "metadata": {
  "kernelspec": {
   "display_name": "TTA",
   "language": "python",
   "name": "python3"
  },
  "language_info": {
   "codemirror_mode": {
    "name": "ipython",
    "version": 3
   },
   "file_extension": ".py",
   "mimetype": "text/x-python",
   "name": "python",
   "nbconvert_exporter": "python",
   "pygments_lexer": "ipython3",
   "version": "3.12.9"
  }
 },
 "nbformat": 4,
 "nbformat_minor": 5
}
