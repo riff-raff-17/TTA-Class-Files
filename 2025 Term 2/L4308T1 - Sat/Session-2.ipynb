{
 "cells": [
  {
   "cell_type": "markdown",
   "id": "93af663b",
   "metadata": {},
   "source": [
    "### Creating a textblob"
   ]
  },
  {
   "cell_type": "code",
   "execution_count": 1,
   "id": "ca9172bc",
   "metadata": {},
   "outputs": [
    {
     "data": {
      "text/plain": [
       "TextBlob(\"The strongest battlegrounds is better than blox fruits.    I like rivals.\")"
      ]
     },
     "execution_count": 1,
     "metadata": {},
     "output_type": "execute_result"
    }
   ],
   "source": [
    "from textblob import TextBlob\n",
    "from textblob import Word\n",
    "\n",
    "text = 'The strongest battlegrounds is better than blox fruits.\\\n",
    "    I like rivals.'\n",
    "blob = TextBlob(text)\n",
    "blob"
   ]
  },
  {
   "cell_type": "markdown",
   "id": "8c17d5b8",
   "metadata": {},
   "source": [
    "Polarity is how positive or negative the statement is. -1.0 is max negative, and 1.0 is max positive.\n",
    "\n",
    "Subjectivity is how factually true a statement is. 0.0 is a fact, and 1.0 is an opinion."
   ]
  },
  {
   "cell_type": "code",
   "execution_count": null,
   "id": "40321e27",
   "metadata": {},
   "outputs": [
    {
     "name": "stdout",
     "output_type": "stream",
     "text": [
      "Sentiment(polarity=0.0, subjectivity=0.0)\n",
      "Sentiment(polarity=0.0, subjectivity=0.0)\n",
      "Sentiment(polarity=0.35, subjectivity=0.65)\n",
      "Sentiment(polarity=1.0, subjectivity=1.0)\n"
     ]
    },
    {
     "ename": "",
     "evalue": "",
     "output_type": "error",
     "traceback": [
      "\u001b[1;31mThe Kernel crashed while executing code in the current cell or a previous cell. \n",
      "\u001b[1;31mPlease review the code in the cell(s) to identify a possible cause of the failure. \n",
      "\u001b[1;31mClick <a href='https://aka.ms/vscodeJupyterKernelCrash'>here</a> for more info. \n",
      "\u001b[1;31mView Jupyter <a href='command:jupyter.viewOutput'>log</a> for further details."
     ]
    }
   ],
   "source": [
    "# A fact\n",
    "blob1 = TextBlob(\"I am Zachary\")\n",
    "\n",
    "# A positive opnion and a fact\n",
    "blob2 = TextBlob('I am a cool Zachary')\n",
    "\n",
    "#A (very positive) opinion\n",
    "blob3 = TextBlob(\"I am awesome\")\n",
    "\n",
    "blob4 = TextBlob(\"Xuanyou is a dog\")\n",
    "print(blob4.sentiment)\n",
    "\n",
    "print(blob1.sentiment)\n",
    "print(blob2.sentiment)\n",
    "print(blob3.sentiment)"
   ]
  },
  {
   "cell_type": "code",
   "execution_count": 2,
   "id": "65fb7e80",
   "metadata": {},
   "outputs": [
    {
     "name": "stdout",
     "output_type": "stream",
     "text": [
      "Hello, I am  a 100% true fact checker!\n",
      "Probably an opinion\n",
      "0.65\n"
     ]
    }
   ],
   "source": [
    "def fact_checker():\n",
    "    print(\"Hello, I am  a 100% true fact checker!\")\n",
    "    running = True\n",
    "\n",
    "    while running:\n",
    "        user_input = input(\"Write a fact to get started! >\")\n",
    "        blob = TextBlob(user_input)\n",
    "        sub = blob.sentiment.subjectivity\n",
    "\n",
    "        if sub > 0.8:\n",
    "            print(\"That's def an opinion\")\n",
    "        elif sub > 0.6:\n",
    "            print(\"Probably an opinion\")\n",
    "        elif sub > 0.4:\n",
    "            print(\"Could be fact or opinion\")\n",
    "        elif sub > 0.2:\n",
    "            print(\"Probably a fact\")\n",
    "        else:\n",
    "            print(\"big fact\")\n",
    "\n",
    "        print(sub)\n",
    "\n",
    "        again = input(\"Another one? >\")\n",
    "        if 'n' in again:\n",
    "            running = False\n",
    "\n",
    "fact_checker()\n",
    "\n",
    "\n"
   ]
  },
  {
   "cell_type": "code",
   "execution_count": null,
   "id": "d01e8556",
   "metadata": {},
   "outputs": [],
   "source": []
  }
 ],
 "metadata": {
  "kernelspec": {
   "display_name": "TTA",
   "language": "python",
   "name": "python3"
  },
  "language_info": {
   "codemirror_mode": {
    "name": "ipython",
    "version": 3
   },
   "file_extension": ".py",
   "mimetype": "text/x-python",
   "name": "python",
   "nbconvert_exporter": "python",
   "pygments_lexer": "ipython3",
   "version": "3.12.9"
  }
 },
 "nbformat": 4,
 "nbformat_minor": 5
}
