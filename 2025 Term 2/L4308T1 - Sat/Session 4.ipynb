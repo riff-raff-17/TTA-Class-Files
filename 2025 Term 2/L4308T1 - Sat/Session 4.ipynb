{
 "cells": [
  {
   "cell_type": "code",
   "execution_count": null,
   "id": "d578040e",
   "metadata": {},
   "outputs": [],
   "source": [
    "from textblob import TextBlob\n",
    "from textblob import Word"
   ]
  },
  {
   "cell_type": "code",
   "execution_count": 16,
   "id": "6e4056df",
   "metadata": {},
   "outputs": [
    {
     "name": "stdout",
     "output_type": "stream",
     "text": [
      "Hello, I am Gunchao! I will analyze your statements and try to understand them!\n",
      "You are feeling pretty happy, and that statement is an opinion\n",
      "You are feeling pretty happy, and that statement is definitely an opinion\n",
      "You are feeling pretty happy, and that statement is definitely an opinion\n",
      "You are feeling pretty happy, and that statement is definitely an opinion\n",
      "You are feeling slightly happy, and that statement is probably an opinion\n",
      "You are feeling pretty happy, and that statement is an opinion\n",
      "You are feeling super sad, and that statement is an opinion\n",
      "You are feeling neutral, and that statement is an opinion\n",
      "You are feeling neutral, and that statement is a fact\n",
      "You are feeling pretty happy, and that statement is probably an opinion\n",
      "You are feeling neutral, and that statement is a fact\n",
      "See ya\n"
     ]
    }
   ],
   "source": [
    "def text_analysis():\n",
    "    print(\"Hello, I am Gunchao! I will analyze your statements and try to understand them!\")\n",
    "    running = True\n",
    "\n",
    "    while running:\n",
    "        user_input = input(\"Try and say something fun! > \")\n",
    "        blob = TextBlob(user_input)\n",
    "        polarity = blob.sentiment.polarity\n",
    "        subjectivity = blob.sentiment.subjectivity\n",
    "        \n",
    "        if 'exit' in user_input:\n",
    "            print(\"See ya\")\n",
    "            break\n",
    "        else:\n",
    "            if polarity == 1.0:\n",
    "                feeling = \"the biggest happy\"\n",
    "            elif polarity > 0.8:\n",
    "                feeling =\"super happy\"\n",
    "            elif polarity > 0.6:\n",
    "                feeling =\"pretty happy\"\n",
    "            elif polarity > 0.4:\n",
    "                feeling = \"happy\"\n",
    "            elif polarity > 0.2:\n",
    "                feeling = \"slightly happy\"\n",
    "            elif polarity > 0:\n",
    "                feeling = \"neutral\"\n",
    "            elif polarity > -0.2:\n",
    "                feeling = \"neutral\"\n",
    "            elif polarity > -0.4:\n",
    "                feeling = \"pretty sad\"\n",
    "            elif polarity > -0.6:\n",
    "                feeling =\"super sad\"\n",
    "            elif polarity > -0.8:\n",
    "                feeling = \"extremely sad\"\n",
    "            elif polarity == -1:\n",
    "                feeling =\"the biggest sad\"\n",
    "            \n",
    "            if subjectivity == 1:\n",
    "                truth = \"an opinion\"\n",
    "            elif subjectivity > 0.8:\n",
    "                truth = 'definitely an opinion'\n",
    "            elif subjectivity > 0.6:\n",
    "                truth = 'probably an opinion'\n",
    "            elif subjectivity > 0.4:\n",
    "                truth = 'could be an opinion'\n",
    "            elif subjectivity > 0.2:\n",
    "                truth = 'probably a fact'\n",
    "            elif subjectivity > 0:\n",
    "                truth = 'definitely a fact'\n",
    "            else:\n",
    "                truth = 'a fact'\n",
    "\n",
    "            print(f\"You are feeling {feeling}, and that statement is {truth}\")\n",
    "            \n",
    "\n",
    "\n",
    "text_analysis()"
   ]
  }
 ],
 "metadata": {
  "kernelspec": {
   "display_name": "TTA",
   "language": "python",
   "name": "python3"
  },
  "language_info": {
   "codemirror_mode": {
    "name": "ipython",
    "version": 3
   },
   "file_extension": ".py",
   "mimetype": "text/x-python",
   "name": "python",
   "nbconvert_exporter": "python",
   "pygments_lexer": "ipython3",
   "version": "3.12.9"
  }
 },
 "nbformat": 4,
 "nbformat_minor": 5
}
