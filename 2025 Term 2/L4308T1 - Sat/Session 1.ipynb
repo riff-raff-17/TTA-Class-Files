{
 "cells": [
  {
   "cell_type": "markdown",
   "metadata": {},
   "source": [
    "## Making a basic chatbot for the UGOT"
   ]
  },
  {
   "cell_type": "code",
   "execution_count": null,
   "metadata": {},
   "outputs": [
    {
     "name": "stdout",
     "output_type": "stream",
     "text": [
      "Welcome zachary!\n",
      "Hi! I am the virus living inside your computer.        \n",
      "Type 'help' for a list of commands.         \n",
      "Type 'exit' to exit.         \n",
      "How can I help you? >\n",
      "See you!\n"
     ]
    }
   ],
   "source": [
    "# Dictionary to hold my commands\n",
    "commands = {\n",
    "    'exit': 'Exits the chatbot',\n",
    "    'help': 'Displays the list of commands',\n",
    "    'add user': 'Add in a new user'\n",
    "}\n",
    "\n",
    "users = {'zachary' : \">:)\",\n",
    "         'aiden': 'hello',\n",
    "         '#handsome': 'xuanyou is handsome',\n",
    "         'guanqiao': 'sigma sigma boy'}\n",
    "\n",
    "def add_user(users):\n",
    "    adding = True\n",
    "\n",
    "    while adding:\n",
    "        new_user = input('Add username here > ')\n",
    "        if new_user in users:\n",
    "            print(\"Error: user already exists!\")\n",
    "        else:\n",
    "            new_pw = input(\"Add password here >\")\n",
    "            users[new_user] = new_pw\n",
    "            adding = False\n",
    "\n",
    "logged_in = False\n",
    "while not logged_in:\n",
    "    username = input(\"Please enter your username > \")\n",
    "    password = input(\"Please enter your password > \")\n",
    "\n",
    "    if username in users:\n",
    "        if users[username] == password:\n",
    "            print(f'Welcome {username}!')\n",
    "            logged_in = True\n",
    "        else:\n",
    "            print(\"Invalid username or password!\")\n",
    "    else:\n",
    "        print(\"Invalid username or password!\")\n",
    "\n",
    "\n",
    "\n",
    "# Intro statement\n",
    "print(\"Hi! I am the virus living inside your computer.\\\n",
    "        \\nType 'help' for a list of commands. \\\n",
    "        \\nType 'exit' to exit. \\\n",
    "        \\nHow can I help you? >\")\n",
    "\n",
    "while True:\n",
    "    prompt = input(\"You > \").lower()\n",
    "    if 'exit' in prompt:\n",
    "        print('See you!')\n",
    "        break\n",
    "\n",
    "    elif 'help' in prompt:\n",
    "        print('\\nHere are the commands: ')\n",
    "        for command, description in commands.items():\n",
    "            print(f\"- {command}: {description}\")\n",
    "\n",
    "    elif \"add user\" in prompt:\n",
    "        add_user(users)\n",
    "        print(\"New user added succesfully!\")\n",
    "    \n",
    "    else:\n",
    "        print(\"I don't understand that command ._.\")"
   ]
  },
  {
   "cell_type": "code",
   "execution_count": null,
   "metadata": {},
   "outputs": [],
   "source": []
  }
 ],
 "metadata": {
  "kernelspec": {
   "display_name": "TTA",
   "language": "python",
   "name": "python3"
  },
  "language_info": {
   "codemirror_mode": {
    "name": "ipython",
    "version": 3
   },
   "file_extension": ".py",
   "mimetype": "text/x-python",
   "name": "python",
   "nbconvert_exporter": "python",
   "pygments_lexer": "ipython3",
   "version": "3.11.11"
  }
 },
 "nbformat": 4,
 "nbformat_minor": 2
}
