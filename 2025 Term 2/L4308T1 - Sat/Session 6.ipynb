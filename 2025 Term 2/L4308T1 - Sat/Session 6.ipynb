{
 "cells": [
  {
   "cell_type": "code",
   "execution_count": 1,
   "id": "9bfab4b6",
   "metadata": {},
   "outputs": [
    {
     "name": "stderr",
     "output_type": "stream",
     "text": [
      "[nltk_data] Downloading package words to /Users/rafa/nltk_data...\n",
      "[nltk_data]   Package words is already up-to-date!\n"
     ]
    },
    {
     "data": {
      "text/plain": [
       "True"
      ]
     },
     "execution_count": 1,
     "metadata": {},
     "output_type": "execute_result"
    }
   ],
   "source": [
    "import nltk\n",
    "nltk.download('words')"
   ]
  },
  {
   "cell_type": "code",
   "execution_count": null,
   "id": "4872a202",
   "metadata": {},
   "outputs": [
    {
     "data": {
      "text/plain": [
       "False"
      ]
     },
     "execution_count": 2,
     "metadata": {},
     "output_type": "execute_result"
    }
   ],
   "source": [
    "from nltk.corpus import words\n",
    "from collections import Counter\n",
    "\n",
    "# Load the word list\n",
    "word_list = [word.lower() for word in words.words() if word.isalpha()]\n",
    "\n",
    "# English letter frequency (if the bot gets stuck)\n",
    "# This is a backup \n",
    "default_frequency = \"etaoinshrdlcmuwfgypbvkjxqz\"\n",
    "\n",
    "class HangmanBot:\n",
    "    def __init__(self, word_length):\n",
    "        self.word_length = word_length\n",
    "        self.possible_words = [word for word in word_list if len(word) == word_length]\n",
    "        self.guessed_letters = set()\n",
    "        self.pattern = \"_\" * word_length\n",
    "\n",
    "    def update_pattern(self, pattern):\n",
    "        self.pattern = pattern.lower()\n",
    "        self._filter_words()\n",
    "\n",
    "    def _filter_words(self):\n",
    "        filtered = []\n",
    "        for word in self.possible_words:\n",
    "            match = True\n",
    "            for i, char in enumerate(self.pattern):\n",
    "                if char == \"_\":\n",
    "                    if word[i] in self.guessed_letters:\n",
    "                        match = False\n",
    "                        break\n",
    "                else:\n",
    "                    if word[i] != char:\n",
    "                        match = False\n",
    "                        break\n",
    "            if match:\n",
    "                filtered.append(word)\n",
    "        self.possible_words = filtered\n",
    "\n",
    "    def guess(self):\n",
    "        # Guess based on the remaining possible words\n",
    "        letter_counts = Counter()\n",
    "        for word in self.possible_words:\n",
    "            for letter in set(word):\n",
    "                if letter not in self.guessed_letters and letter not in self.pattern:\n",
    "                    letter_counts[letter] += 1\n",
    "        \n",
    "        if letter_counts:\n",
    "            guess = letter_counts.most_common(1)[0][0]\n",
    "        else:\n",
    "            # If there are no words left, guess by English letter frequency\n",
    "            for letter in default_frequency:\n",
    "                if letter not in self.guessed_letters and letter not in self.pattern:\n",
    "                    guess = letter\n",
    "                    break\n",
    "                else:\n",
    "                    return None\n",
    "\n",
    "        self.guessed_letters.add(guess)\n",
    "        return guess\n",
    "\n"
   ]
  },
  {
   "cell_type": "code",
   "execution_count": null,
   "id": "3ab10417",
   "metadata": {},
   "outputs": [],
   "source": [
    "word = 'xuanyou'\n",
    "guesses = 15\n",
    "\n",
    "bot = HangmanBot(word_length=len(word))\n",
    "\n",
    "# Simulate the game\n",
    "pattern = \"_\"\n",
    "for _ in range(guesses):\n",
    "    bot.update_pattern(pattern)\n",
    "    guess = bot.guess\n",
    "    print(f\"Bot guesses: {guess}\")\n",
    "\n",
    "    pattern = \"\".join([c if c == guess or p != \"_\" else \"_\" for c, p in zip(word, pattern)])"
   ]
  }
 ],
 "metadata": {
  "kernelspec": {
   "display_name": "TTA",
   "language": "python",
   "name": "python3"
  },
  "language_info": {
   "codemirror_mode": {
    "name": "ipython",
    "version": 3
   },
   "file_extension": ".py",
   "mimetype": "text/x-python",
   "name": "python",
   "nbconvert_exporter": "python",
   "pygments_lexer": "ipython3",
   "version": "3.12.9"
  }
 },
 "nbformat": 4,
 "nbformat_minor": 5
}
