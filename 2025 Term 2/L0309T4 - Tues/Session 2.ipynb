{
 "cells": [
  {
   "cell_type": "code",
   "execution_count": null,
   "metadata": {},
   "outputs": [],
   "source": [
    "from ugot import ugot\n",
    "import time\n",
    "got = ugot.UGOT()\n",
    "got.initialize('192.168.1.235')"
   ]
  },
  {
   "cell_type": "code",
   "execution_count": null,
   "metadata": {},
   "outputs": [],
   "source": [
    "got.load_models(['line_recognition'])\n",
    "got.set_track_recognition_line(0)\n",
    "\n",
    "while True:\n",
    "    line = got.get_single_track_total_info()\n",
    "    offset = int(0.18 * line[0])\n",
    "    print(f\"\\r{offset}      \", end='')\n",
    "    time.sleep(0.5)"
   ]
  },
  {
   "cell_type": "code",
   "execution_count": null,
   "metadata": {},
   "outputs": [],
   "source": [
    "got.load_models(['line_recognition'])\n",
    "got.set_track_recognition_line(0)\n",
    "got.show_light_rgb([0,1,2,3], 0, 0, 255)\n",
    "got.transform_adaption_control(False)\n",
    "got.transform_restory()\n",
    "got.transform_set_chassis_height(2)\n",
    "time.sleep(0.5)\n",
    "mult = 0.20\n",
    "speed = 40\n",
    "while True:\n",
    "    try:\n",
    "        line = got.get_single_track_total_info()\n",
    "        offset = int(mult * line[0])\n",
    "        if offset > 5:\n",
    "            got.transform_move_turn(0, speed, 2,offset)\n",
    "        elif offset < -5:\n",
    "            got.transform_move_turn(0, speed, 3, -offset)\n",
    "        else:\n",
    "            got.transform_move_speed(0, speed)\n",
    "    except KeyboardInterrupt:\n",
    "        got.transform_stop()\n",
    "        break"
   ]
  },
  {
   "cell_type": "code",
   "execution_count": null,
   "metadata": {},
   "outputs": [],
   "source": []
  }
 ],
 "metadata": {
  "kernelspec": {
   "display_name": "TTA",
   "language": "python",
   "name": "python3"
  },
  "language_info": {
   "codemirror_mode": {
    "name": "ipython",
    "version": 3
   },
   "file_extension": ".py",
   "mimetype": "text/x-python",
   "name": "python",
   "nbconvert_exporter": "python",
   "pygments_lexer": "ipython3",
   "version": "3.11.11"
  }
 },
 "nbformat": 4,
 "nbformat_minor": 2
}
