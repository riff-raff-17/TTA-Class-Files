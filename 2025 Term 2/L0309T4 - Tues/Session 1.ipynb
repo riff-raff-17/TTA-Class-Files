{
 "cells": [
  {
   "cell_type": "code",
   "execution_count": null,
   "metadata": {},
   "outputs": [],
   "source": [
    "# What is a list?\n",
    "class_list = ['Cayden', 'Francis', 'Austin', 'Ryan', 'Jason']\n",
    "empty_list = []\n",
    "\n",
    "# List functions\n",
    "\n",
    "# Lists in Python are zero indexed\n",
    "class_list[0]"
   ]
  },
  {
   "cell_type": "code",
   "execution_count": null,
   "metadata": {},
   "outputs": [],
   "source": [
    "fruits = [\"banana\", \"orange\", \"grape\"]\n",
    "\n",
    "len(fruits)"
   ]
  },
  {
   "cell_type": "code",
   "execution_count": null,
   "metadata": {},
   "outputs": [],
   "source": [
    "# Back to the UGOT\n",
    "\n",
    "from ugot import ugot\n",
    "import time \n",
    "import cv2\n",
    "import numpy as np\n",
    "from IPython.display import display, clear_output\n",
    "from PIL import Image\n",
    "\n",
    "got = ugot.UGOT()\n",
    "got.initialize('192.168.1.108')"
   ]
  },
  {
   "cell_type": "code",
   "execution_count": null,
   "metadata": {},
   "outputs": [],
   "source": [
    "# Color recognition test\n",
    "got.load_models(['color_recognition'])\n",
    "\n",
    "color_info = got.get_color_total_info()\n",
    "\n",
    "print(color_info)"
   ]
  },
  {
   "cell_type": "code",
   "execution_count": null,
   "metadata": {},
   "outputs": [],
   "source": [
    "# Color recognition\n",
    "got.load_models(['color_recognition'])\n",
    "\n",
    "while True:\n",
    "    color_info = got.get_color_total_info()\n",
    "    print(f\"\\r'------:' {color_info[0]}     \", end=\"\")\n",
    "    time.sleep(0.5)"
   ]
  },
  {
   "cell_type": "code",
   "execution_count": null,
   "metadata": {},
   "outputs": [],
   "source": [
    "# Text recognition\n",
    "got.load_models(['word_recognition'])\n",
    "\n",
    "while True:\n",
    "    print(f'\\r-------: {got.get_words_result()}          ', end='')\n",
    "    time.sleep(0.5)"
   ]
  },
  {
   "cell_type": "code",
   "execution_count": 1,
   "metadata": {},
   "outputs": [
    {
     "ename": "NameError",
     "evalue": "name 'got' is not defined",
     "output_type": "error",
     "traceback": [
      "\u001b[0;31m---------------------------------------------------------------------------\u001b[0m",
      "\u001b[0;31mNameError\u001b[0m                                 Traceback (most recent call last)",
      "Cell \u001b[0;32mIn[1], line 3\u001b[0m\n\u001b[1;32m      1\u001b[0m \u001b[38;5;66;03m# Driving the UGOT with text\u001b[39;00m\n\u001b[0;32m----> 3\u001b[0m got\u001b[38;5;241m.\u001b[39mload_models([\u001b[38;5;124m'\u001b[39m\u001b[38;5;124mword_recognition\u001b[39m\u001b[38;5;124m'\u001b[39m])\n\u001b[1;32m      5\u001b[0m \u001b[38;5;28;01mwhile\u001b[39;00m \u001b[38;5;28;01mTrue\u001b[39;00m:\n\u001b[1;32m      6\u001b[0m     word \u001b[38;5;241m=\u001b[39m got\u001b[38;5;241m.\u001b[39mget_words_result()\n",
      "\u001b[0;31mNameError\u001b[0m: name 'got' is not defined"
     ]
    }
   ],
   "source": [
    "# Driving the UGOT with text\n",
    "\n",
    "got.load_models(['word_recognition'])\n",
    "\n",
    "while True:\n",
    "    word = got.get_words_result()\n",
    "\n",
    "    print(f'\\r-------: {word}          ', end='')\n",
    "    if word == \"forward\":\n",
    "        # got.play_tone(tone='C5', beat=4, wait=True)\n",
    "        got.mecanum_translate_speed(angle=0, speed=30)\n",
    "    elif word == \"backward\":\n",
    "        # got.play_tone(tone='C5', beat=4, wait=True)\n",
    "        got.mecanum_translate_speed(angle=-180, speed=30)\n",
    "    elif word == \"left\":\n",
    "        # got.play_tone(tone='C5', beat=4, wait=True)\n",
    "        got.mecanum_turn_speed(turn=2, speed=45)\n",
    "    elif word == \"right\":\n",
    "        # got.play_tone(tone='C5', beat=4, wait=True)\n",
    "        got.mecanum_turn_speed(turn=3, speed=45)\n",
    "    else:\n",
    "        got.mecanum_stop()"
   ]
  },
  {
   "cell_type": "code",
   "execution_count": null,
   "metadata": {},
   "outputs": [],
   "source": []
  }
 ],
 "metadata": {
  "kernelspec": {
   "display_name": "TTA",
   "language": "python",
   "name": "python3"
  },
  "language_info": {
   "codemirror_mode": {
    "name": "ipython",
    "version": 3
   },
   "file_extension": ".py",
   "mimetype": "text/x-python",
   "name": "python",
   "nbconvert_exporter": "python",
   "pygments_lexer": "ipython3",
   "version": "3.11.11"
  }
 },
 "nbformat": 4,
 "nbformat_minor": 2
}
