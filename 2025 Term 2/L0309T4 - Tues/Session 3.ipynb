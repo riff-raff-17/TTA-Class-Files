{
 "cells": [
  {
   "cell_type": "code",
   "execution_count": 10,
   "id": "c25f667c",
   "metadata": {},
   "outputs": [
    {
     "name": "stdout",
     "output_type": "stream",
     "text": [
      "192.168.1.214:50051\n"
     ]
    }
   ],
   "source": [
    "from ugot import ugot\n",
    "got = ugot.UGOT()\n",
    "got.initialize('192.168.1.214')"
   ]
  },
  {
   "cell_type": "code",
   "execution_count": null,
   "id": "f7fe9bfe",
   "metadata": {},
   "outputs": [
    {
     "name": "stdout",
     "output_type": "stream",
     "text": [
      "[200, 2, 123.0, 386.0]    "
     ]
    }
   ],
   "source": [
    "'''Basic line following first'''\n",
    "got.load_models(['line_recognition', 'word_recognition'])\n",
    "got.set_track_recognition_line(0) # Where 0 is a single line\n",
    "\n",
    "while True:\n",
    "    try:\n",
    "        line_info = got.get_single_track_total_info()\n",
    "        offset = int(0.18 * line_info[0])\n",
    "        line_type = line_info[1] # returns 1 if straight, 0 if wireless\n",
    "        print(f\"\\r{line_info}   \", end='')\n",
    "\n",
    "        if line_type == 1:\n",
    "            got.mecanum_move_xyz(x_speed=0, y_speed=10, z_speed=offset)\n",
    "        else:\n",
    "            got.mecanum_stop()\n",
    "    except KeyboardInterrupt:\n",
    "        got.mecanum_stop()\n",
    "        break"
   ]
  },
  {
   "cell_type": "code",
   "execution_count": null,
   "id": "02bbdaa3",
   "metadata": {},
   "outputs": [],
   "source": [
    "'''Adding in text recognition'''\n",
    "got.load_models(['line_recognition', 'word_recognition'])\n",
    "got.set_track_recognition_line(0) # Where 0 is a single line\n",
    "\n",
    "while True:\n",
    "    try:\n",
    "        line_info = got.get_single_track_total_info() # line recog austin\n",
    "        word = got.get_words_result()\n",
    "        offset = int(0.18 * line_info[0])\n",
    "        line_type = line_info[1] # returns 1 if straight, 0 if wireless\n",
    "        print(f\"\\r{line_info}   \", end='')\n",
    "\n",
    "        if word == 'Stop':\n",
    "            got.mecanum_stop()\n",
    "            got.play_audio_tts(\"Stopping\", 1, True)\n",
    "        elif word == 'Right':\n",
    "            got.mecanum_turn_speed_times(turn=3, speed=45, times=90, unit=2)\n",
    "        elif word == 'Left':\n",
    "            got.mecanum_turn_speed_times(turn=2, speed=45, times=90, unit=2)\n",
    "        else:\n",
    "            if line_type == 1:\n",
    "                got.mecanum_move_xyz(x_speed=0, y_speed=10, z_speed=offset)\n",
    "            else:\n",
    "                got.mecanum_stop()\n",
    "    except KeyboardInterrupt:\n",
    "        got.mecanum_stop()\n",
    "        break\n",
    "\n",
    "\n",
    "\n"
   ]
  }
 ],
 "metadata": {
  "kernelspec": {
   "display_name": "TTA",
   "language": "python",
   "name": "python3"
  },
  "language_info": {
   "codemirror_mode": {
    "name": "ipython",
    "version": 3
   },
   "file_extension": ".py",
   "mimetype": "text/x-python",
   "name": "python",
   "nbconvert_exporter": "python",
   "pygments_lexer": "ipython3",
   "version": "3.12.9"
  }
 },
 "nbformat": 4,
 "nbformat_minor": 5
}
