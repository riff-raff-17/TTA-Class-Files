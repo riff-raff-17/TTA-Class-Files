{
 "cells": [
  {
   "cell_type": "markdown",
   "id": "00fb2df5",
   "metadata": {},
   "source": [
    "## Line following"
   ]
  },
  {
   "cell_type": "code",
   "execution_count": null,
   "id": "690e4535",
   "metadata": {},
   "outputs": [
    {
     "name": "stdout",
     "output_type": "stream",
     "text": [
      "192.168.1.120:50051\n"
     ]
    }
   ],
   "source": [
    "from ugot import ugot\n",
    "got = ugot.UGOT()\n",
    "got.initialize('192.168.1.120')"
   ]
  },
  {
   "cell_type": "code",
   "execution_count": null,
   "id": "179f2519",
   "metadata": {},
   "outputs": [],
   "source": [
    "got.load_models(['line_recognition', 'word_recognition'])\n",
    "got.set_track_recognition_line\n",
    "\n",
    "while True:\n",
    "    try:\n",
    "        line_info = got.get_single_track_total_info()\n",
    "        word = got.get_words_result()\n",
    "        offset = int(0.18 * line_info[0])\n",
    "        print(f\"\\rLine Info: {line_info} | Word: {word}      \", end='')\n",
    "        if word == \"Caden\":\n",
    "            got.mecanum_stop()\n",
    "            got.play_audio_tts(\"Hi I'm caden!\", 1, True)\n",
    "        elif word == \"Turn\":\n",
    "            got.mecanum_turn_speed_times(2, 30, 180, 2)\n",
    "        elif line_info[1] != 1:\n",
    "            got.mecanum_stop()\n",
    "        else:\n",
    "            got.mecanum_move_xyz(x_speed=0,y_speed=10,z_speed=offset)\n",
    "    except KeyboardInterrupt:\n",
    "        got.mecanum_stop()\n",
    "        break"
   ]
  },
  {
   "cell_type": "code",
   "execution_count": null,
   "id": "2e337210",
   "metadata": {},
   "outputs": [],
   "source": [
    "got.load_models(['line_recognition', 'word_recognition'])\n",
    "got.set_track_recognition_line\n",
    "\n",
    "while True:\n",
    "    try:\n",
    "        line_info = got.get_single_track_total_info()\n",
    "        word = got.get_words_result()\n",
    "        offset = int(0.18 * line_info[0])\n",
    "        distance = got.read_distance_data(21) # new\n",
    "        print(f\"\\rLine Info: {line_info} | Word: {word} \\\n",
    "            | Distance: {distance}     \", end='') # new\n",
    "        if distance < 25: # new\n",
    "            if word == \"Caden\":\n",
    "                got.mecanum_stop()\n",
    "                got.play_audio_tts(\"Hi I'm caden!\", 1, True)\n",
    "            elif word == \"Turn\":\n",
    "                got.mecanum_turn_speed_times(2, 30, 180, 2)\n",
    "            else: # new\n",
    "                got.mecanum_stop() # new\n",
    "        elif line_info[1] != 1:\n",
    "            got.mecanum_stop()\n",
    "        else:\n",
    "            got.mecanum_move_xyz(x_speed=0,y_speed=10,z_speed=offset)\n",
    "    except KeyboardInterrupt:\n",
    "        got.mecanum_stop()\n",
    "        break"
   ]
  }
 ],
 "metadata": {
  "kernelspec": {
   "display_name": "TTA",
   "language": "python",
   "name": "python3"
  },
  "language_info": {
   "codemirror_mode": {
    "name": "ipython",
    "version": 3
   },
   "file_extension": ".py",
   "mimetype": "text/x-python",
   "name": "python",
   "nbconvert_exporter": "python",
   "pygments_lexer": "ipython3",
   "version": "3.12.9"
  }
 },
 "nbformat": 4,
 "nbformat_minor": 5
}
