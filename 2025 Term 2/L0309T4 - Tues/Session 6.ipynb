{
 "cells": [
  {
   "cell_type": "code",
   "execution_count": 1,
   "id": "7c377251",
   "metadata": {},
   "outputs": [
    {
     "name": "stdout",
     "output_type": "stream",
     "text": [
      "192.168.1.5:50051\n"
     ]
    }
   ],
   "source": [
    "from ugot import ugot\n",
    "got = ugot.UGOT()\n",
    "got.initialize('192.168.1.5')"
   ]
  },
  {
   "cell_type": "code",
   "execution_count": 33,
   "id": "2d39a10e",
   "metadata": {},
   "outputs": [
    {
     "name": "stdout",
     "output_type": "stream",
     "text": [
      "3 seconds until taking a photo\n",
      "2 seconds until taking a photo\n",
      "1 seconds until taking a photo\n",
      "Taking a photo...\n",
      "Face [ryan] registered successfully\n",
      "\n"
     ]
    }
   ],
   "source": [
    "# Load the model\n",
    "got.load_models(['face_recognition'])\n",
    "\n",
    "# Register a face\n",
    "def register_face():\n",
    "    name = input('Please write the name of the person: ')\n",
    "    got.face_recognition_add_name(name)\n",
    "\n",
    "def delete_face():\n",
    "    print(got.face_recognition_get_all_names())\n",
    "    name = input('Please write the name of the person to delete: ')\n",
    "    got.face_recognition_delete_name(name)\n",
    "    print('Done!')\n",
    "\n",
    "register_face()\n",
    "# delete_face()"
   ]
  },
  {
   "cell_type": "code",
   "execution_count": 35,
   "id": "a97ca35f",
   "metadata": {},
   "outputs": [
    {
     "name": "stdout",
     "output_type": "stream",
     "text": [
      "Faces:                                                                                      \n",
      "Done!\n"
     ]
    }
   ],
   "source": [
    "import time\n",
    "while True:\n",
    "    try:\n",
    "        face_data = got.get_face_recognition_total_info()\n",
    "        names = [face[0] for face in face_data]\n",
    "        print(f\"\\rFaces: {', '.join(names)}                          \\\n",
    "                                            \", end='')\n",
    "        time.sleep(0.5)\n",
    "    except KeyboardInterrupt:\n",
    "        break\n",
    "\n",
    "print(\"\\nDone!\")"
   ]
  }
 ],
 "metadata": {
  "kernelspec": {
   "display_name": "TTA",
   "language": "python",
   "name": "python3"
  },
  "language_info": {
   "codemirror_mode": {
    "name": "ipython",
    "version": 3
   },
   "file_extension": ".py",
   "mimetype": "text/x-python",
   "name": "python",
   "nbconvert_exporter": "python",
   "pygments_lexer": "ipython3",
   "version": "3.12.9"
  }
 },
 "nbformat": 4,
 "nbformat_minor": 5
}
