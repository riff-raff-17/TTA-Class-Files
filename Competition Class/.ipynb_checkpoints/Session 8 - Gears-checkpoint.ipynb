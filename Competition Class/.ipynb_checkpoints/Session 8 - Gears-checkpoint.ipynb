{
 "cells": [
  {
   "cell_type": "code",
   "execution_count": null,
   "id": "e37d9617",
   "metadata": {},
   "outputs": [],
   "source": [
    "def simulate_gear_rotation(gear_teeth, initial_speed, initial_direction):\n",
    "\n",
    "    results = []\n",
    "    speed = initial_speed\n",
    "    direction = initial_direction\n",
    "\n",
    "    for i in range(len(gear_teeth)):\n",
    "        results.append((speed, \"Clockwise\" if direction == 1 else \"Counterclockwise\"))\n",
    "        if i < len(gear_teeth) - 1:\n",
    "            # Calculate the speed of the next gear based on the gear ratio\n",
    "            speed = speed * gear_teeth[i] / gear_teeth[i + 1]\n",
    "            # Reverse the direction for the next gear\n",
    "            direction *= -1\n",
    "\n",
    "    return results"
   ]
  },
  {
   "cell_type": "code",
   "execution_count": 27,
   "id": "d244c24c",
   "metadata": {},
   "outputs": [
    {
     "name": "stdout",
     "output_type": "stream",
     "text": [
      "Gear System Simulation:\n",
      "Gear 1: Speed = 100.00 RPM, Direction = Clockwise\n",
      "Gear 2: Speed = 50.00 RPM, Direction = Counterclockwise\n",
      "Gear 3: Speed = 200.00 RPM, Direction = Clockwise\n"
     ]
    }
   ],
   "source": [
    "def simulate_gear_system(gear_teeth, initial_speed, initial_direction):\n",
    "\n",
    "    results = []\n",
    "    speed = initial_speed\n",
    "    direction = initial_direction\n",
    "\n",
    "    for i in range(len(gear_teeth)):\n",
    "        results.append((speed, \"Clockwise\" if direction == 1 else \"Counterclockwise\"))\n",
    "        if i < len(gear_teeth) - 1:\n",
    "            # Calculate the speed of the next gear based on the gear ratio\n",
    "            speed = speed * gear_teeth[i] / gear_teeth[i + 1]\n",
    "            # Reverse the direction for the next gear\n",
    "            direction *= -1\n",
    "\n",
    "    return results\n",
    "\n",
    "# Example usage\n",
    "gear_teeth = [20, 40, 10]  # Number of teeth for each gear\n",
    "initial_speed = 100  # RPM of the first gear\n",
    "initial_direction = 1  # Clockwise\n",
    "\n",
    "# Simulate gear system\n",
    "output = simulate_gear_system(gear_teeth, initial_speed, initial_direction)\n",
    "\n",
    "# Display results\n",
    "print(\"Gear System Simulation:\")\n",
    "for i, (speed, direction) in enumerate(output):\n",
    "    print(f\"Gear {i + 1}: Speed = {speed:.2f} RPM, Direction = {direction}\")\n"
   ]
  },
  {
   "cell_type": "code",
   "execution_count": null,
   "id": "0390fb13",
   "metadata": {},
   "outputs": [],
   "source": [
    "class Gear:\n",
    "    def __init__(self, teeth):\n",
    "        self.teeth = teeth\n",
    "        self.rotation_speed = 0  # Speed in revolutions per minute (RPM)\n",
    "        self.direction = 1  # 1 for clockwise, -1 for counterclockwise\n",
    "\n",
    "def simulate_gear_system(gears, initial_speed, initial_direction):\n",
    "    \"\"\"\n",
    "    Simulates the rotation of a gear system.\n",
    "    :param gears: List of Gear objects.\n",
    "    :param initial_speed: Speed of the first gear in RPM.\n",
    "    :param initial_direction: Direction of the first gear (1 for clockwise, -1 for counterclockwise).\n",
    "    :return: List of (speed, direction) tuples for each gear.\n",
    "    \"\"\"\n",
    "    results = []\n",
    "    gears[0].rotation_speed = initial_speed\n",
    "    gears[0].direction = initial_direction\n",
    "\n",
    "    for i in range(len(gears)):\n",
    "        speed = gears[i].rotation_speed\n",
    "        direction = gears[i].direction\n",
    "        results.append((speed, \"Clockwise\" if direction == 1 else \"Counterclockwise\"))\n",
    "\n",
    "        if i < len(gears) - 1:\n",
    "            # Calculate speed for the next gear\n",
    "            gears[i + 1].rotation_speed = speed * gears[i].teeth / gears[i + 1].teeth\n",
    "            # Reverse direction for the next gear\n",
    "            gears[i + 1].direction = -direction\n",
    "\n",
    "    return results\n",
    "\n",
    "# Example usage\n",
    "gear_teeth = [20, 40, 10]  # Number of teeth for each gear\n",
    "gears = [Gear(teeth) for teeth in gear_teeth]\n",
    "\n",
    "initial_speed = 100  # RPM of the first gear\n",
    "initial_direction = 1  # Clockwise\n",
    "\n",
    "# Simulate gear system\n",
    "output = simulate_gear_system(gears, initial_speed, initial_direction)\n",
    "\n",
    "# Display results\n",
    "print(\"Gear System Simulation:\")\n",
    "for i, (speed, direction) in enumerate(output):\n",
    "    print(f\"Gear {i + 1}: Speed = {speed:.2f} RPM, Direction = {direction}\")\n"
   ]
  }
 ],
 "metadata": {
  "kernelspec": {
   "display_name": "Python 3 (ipykernel)",
   "language": "python",
   "name": "python3"
  },
  "language_info": {
   "codemirror_mode": {
    "name": "ipython",
    "version": 3
   },
   "file_extension": ".py",
   "mimetype": "text/x-python",
   "name": "python",
   "nbconvert_exporter": "python",
   "pygments_lexer": "ipython3",
   "version": "3.11.7"
  }
 },
 "nbformat": 4,
 "nbformat_minor": 5
}
