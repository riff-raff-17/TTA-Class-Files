{
 "cells": [
  {
   "cell_type": "code",
   "execution_count": 3,
   "id": "40a14bfd",
   "metadata": {},
   "outputs": [
    {
     "name": "stdout",
     "output_type": "stream",
     "text": [
      "The rearranged bracelet matches the original!\n"
     ]
    }
   ],
   "source": [
    "def is_original_bracelet(original, rearranged):\n",
    "    # Duplicate the original bracelet to simulate circular rotations\n",
    "    doubled = original + original\n",
    "    # Check if the rearranged bracelet is a substring of the doubled bracelet\n",
    "    return rearranged in doubled\n",
    "\n",
    "original_bracelet = \"WBWBBWWB\"  # L: White pearl, D: Black pearl\n",
    "rearranged_bracelet = \"BWWBWBWB\"  # Rearranged version after unfastening\n",
    "\n",
    "# Check if it's the original bracelet\n",
    "if is_original_bracelet(original_bracelet, rearranged_bracelet):\n",
    "    print(\"The rearranged bracelet matches the original!\")\n",
    "else:\n",
    "    print(\"The rearranged bracelet does not match the original.\")\n"
   ]
  }
 ],
 "metadata": {
  "kernelspec": {
   "display_name": "Python 3 (ipykernel)",
   "language": "python",
   "name": "python3"
  },
  "language_info": {
   "codemirror_mode": {
    "name": "ipython",
    "version": 3
   },
   "file_extension": ".py",
   "mimetype": "text/x-python",
   "name": "python",
   "nbconvert_exporter": "python",
   "pygments_lexer": "ipython3",
   "version": "3.11.7"
  }
 },
 "nbformat": 4,
 "nbformat_minor": 5
}
