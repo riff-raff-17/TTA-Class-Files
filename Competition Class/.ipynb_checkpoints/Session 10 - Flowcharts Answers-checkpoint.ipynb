{
 "cells": [
  {
   "cell_type": "markdown",
   "id": "c78f3274",
   "metadata": {},
   "source": [
    "![title](images/flowchart.png)"
   ]
  },
  {
   "cell_type": "code",
   "execution_count": null,
   "id": "f1d54ae7",
   "metadata": {},
   "outputs": [],
   "source": [
    "def is_even_or_odd(number):\n",
    "    \"\"\"\n",
    "    Function to check if a number is even or odd.\n",
    "    :param number: Integer to check\n",
    "    :return: String stating if the number is even or odd\n",
    "    \"\"\"\n",
    "    if number % 2 == 0:\n",
    "        return \"Even\"\n",
    "    else:\n",
    "        return \"Odd\"\n",
    "\n",
    "def main():\n",
    "    print(\"--- Even or Odd Checker ---\")\n",
    "    try:\n",
    "        # Input from the user\n",
    "        num = int(input(\"Enter an integer: \"))\n",
    "        \n",
    "        # Determine if the number is even or odd\n",
    "        result = is_even_or_odd(num)\n",
    "        \n",
    "        # Display the result\n",
    "        print(f\"The number {num} is {result}.\")\n",
    "        \n",
    "        # Additional decision point\n",
    "        if result == \"Even\":\n",
    "            print(\"Even numbers are divisible by 2.\")\n",
    "        else:\n",
    "            print(\"Odd numbers are not divisible by 2.\")\n",
    "            \n",
    "    except ValueError:\n",
    "        print(\"Invalid input! Please enter an integer.\")\n",
    "\n",
    "if __name__ == \"__main__\":\n",
    "    main()\n"
   ]
  },
  {
   "cell_type": "markdown",
   "id": "a5c41cb7",
   "metadata": {},
   "source": [
    "### Question 1 - Stopwatch"
   ]
  },
  {
   "cell_type": "markdown",
   "id": "fea3bfa3",
   "metadata": {},
   "source": [
    "![title](images/flowchart-chronometer.png)"
   ]
  },
  {
   "cell_type": "code",
   "execution_count": 6,
   "id": "387426ca",
   "metadata": {},
   "outputs": [
    {
     "name": "stdout",
     "output_type": "stream",
     "text": [
      "45015 seconds = 12 hours 30 minutes 15 seconds\n"
     ]
    }
   ],
   "source": [
    "#Write the code here:\n",
    "\n",
    "number = 45015\n",
    "hours = number // 3600\n",
    "remainder = number % 3600\n",
    "minutes = remainder // 60\n",
    "seconds = remainder % 60\n",
    "\n",
    "print(f\"{number} seconds = {hours} hours {minutes} minutes {seconds} seconds\")"
   ]
  },
  {
   "cell_type": "markdown",
   "id": "fbcd4cd4",
   "metadata": {},
   "source": [
    "### Question 2 - Leap Year"
   ]
  },
  {
   "cell_type": "markdown",
   "id": "3d2c233f",
   "metadata": {},
   "source": [
    "![title](images/flowchart-leap-year.png)"
   ]
  },
  {
   "cell_type": "code",
   "execution_count": 12,
   "id": "c48efa13",
   "metadata": {},
   "outputs": [
    {
     "name": "stdout",
     "output_type": "stream",
     "text": [
      "Input a year e.g. 2018 >2018\n",
      "2018 is not a leap year\n"
     ]
    }
   ],
   "source": [
    "#Write the code here:\n",
    "\n",
    "year = int(input(\"Input a year e.g. 2018 >\"))\n",
    "\n",
    "if year % 4 == 0:\n",
    "    print(f\"{year} is a leap year\")\n",
    "else:\n",
    "    print(f\"{year} is not a leap year\")"
   ]
  },
  {
   "cell_type": "markdown",
   "id": "d9f509df",
   "metadata": {},
   "source": [
    "### Question 3 - Winter Olympics"
   ]
  },
  {
   "cell_type": "markdown",
   "id": "384b6b9f",
   "metadata": {},
   "source": [
    "![title](images/flowchart-winter-olympics.png)"
   ]
  },
  {
   "cell_type": "code",
   "execution_count": 10,
   "id": "75ba2bff",
   "metadata": {},
   "outputs": [
    {
     "name": "stdout",
     "output_type": "stream",
     "text": [
      "The next Winter Olympics will be in 2022\n",
      "The next Winter Olympics will be in 2026\n",
      "The next Winter Olympics will be in 2030\n",
      "The next Winter Olympics will be in 2034\n",
      "The next Winter Olympics will be in 2038\n",
      "The next Winter Olympics will be in 2042\n",
      "The next Winter Olympics will be in 2046\n",
      "The next Winter Olympics will be in 2050\n",
      "The next Winter Olympics will be in 2054\n",
      "The next Winter Olympics will be in 2058\n"
     ]
    }
   ],
   "source": [
    "#Write the code here:\n",
    "\n",
    "winterOlympics = 2018\n",
    "\n",
    "for i in range(1, 11):\n",
    "    winterOlympics += 4\n",
    "    print(f\"The next Winter Olympics will be in {winterOlympics}\")"
   ]
  },
  {
   "cell_type": "markdown",
   "id": "7e126421",
   "metadata": {},
   "source": [
    "### Question 4 - Times Table"
   ]
  },
  {
   "cell_type": "markdown",
   "id": "6bfea20f",
   "metadata": {},
   "source": [
    "![title](images/flowchart-times-table.png)"
   ]
  },
  {
   "cell_type": "code",
   "execution_count": 13,
   "id": "ed694e6c",
   "metadata": {},
   "outputs": [
    {
     "name": "stdout",
     "output_type": "stream",
     "text": [
      "Enter a number >5\n",
      "5 x 1 = 5\n",
      "5 x 2 = 10\n",
      "5 x 3 = 15\n",
      "5 x 4 = 20\n",
      "5 x 5 = 25\n",
      "5 x 6 = 30\n",
      "5 x 7 = 35\n",
      "5 x 8 = 40\n",
      "5 x 9 = 45\n",
      "5 x 10 = 50\n"
     ]
    }
   ],
   "source": [
    "#Write the code here:\n",
    "\n",
    "number = int(input(\"Enter a number >\"))\n",
    "\n",
    "for i in range(1, 11):\n",
    "    product = number * i\n",
    "    print(f\"{number} x {i} = {product}\")"
   ]
  },
  {
   "cell_type": "markdown",
   "id": "e487e258",
   "metadata": {},
   "source": [
    "### Question 5 - Login form"
   ]
  },
  {
   "cell_type": "markdown",
   "id": "ca6134a1",
   "metadata": {},
   "source": [
    "![title](images/flowchart-login.png)"
   ]
  },
  {
   "cell_type": "code",
   "execution_count": null,
   "id": "daf45206",
   "metadata": {},
   "outputs": [],
   "source": [
    "#Write the code here:\n",
    "\n",
    "username = input(\"Username >\")\n",
    "password = input(\"Password >\")\n",
    "\n",
    "if username == \"admin\" and password == \"1234\":\n",
    "    print(\"You are logged in\")\n",
    "    \n",
    "else:\n",
    "    print(\"incorrect username or password\")"
   ]
  },
  {
   "cell_type": "code",
   "execution_count": 14,
   "id": "5c5b2c9e",
   "metadata": {},
   "outputs": [
    {
     "name": "stdout",
     "output_type": "stream",
     "text": [
      "Username >a\n",
      "Password >e\n",
      "incorrect username or password\n",
      "Username >e\n",
      "Password >e\n",
      "incorrect username or password\n",
      "Username >admin\n",
      "Password >1234\n",
      "You are logged in\n"
     ]
    }
   ],
   "source": [
    "#Write the code here:\n",
    "\n",
    "logged = False\n",
    "\n",
    "while not logged:\n",
    "    username = input(\"Username >\")\n",
    "    password = input(\"Password >\")\n",
    "    \n",
    "    if username == \"admin\" and password == \"1234\":\n",
    "        print(\"You are logged in\")\n",
    "        logged = True\n",
    "\n",
    "    else:\n",
    "        print(\"incorrect username or password\")"
   ]
  }
 ],
 "metadata": {
  "kernelspec": {
   "display_name": "Python 3 (ipykernel)",
   "language": "python",
   "name": "python3"
  },
  "language_info": {
   "codemirror_mode": {
    "name": "ipython",
    "version": 3
   },
   "file_extension": ".py",
   "mimetype": "text/x-python",
   "name": "python",
   "nbconvert_exporter": "python",
   "pygments_lexer": "ipython3",
   "version": "3.11.7"
  }
 },
 "nbformat": 4,
 "nbformat_minor": 5
}
