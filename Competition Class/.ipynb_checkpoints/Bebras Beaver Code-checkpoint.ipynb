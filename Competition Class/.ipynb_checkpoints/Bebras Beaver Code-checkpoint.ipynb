{
 "cells": [
  {
   "cell_type": "code",
   "execution_count": 3,
   "id": "de5310fc",
   "metadata": {},
   "outputs": [
    {
     "name": "stdout",
     "output_type": "stream",
     "text": [
      "Encrypted message: Khoor, Zruog!\n",
      "Decrypted message: Hello, World!\n"
     ]
    }
   ],
   "source": [
    "def caesar_cipher_encrypt(message, shift):\n",
    "    encrypted_message = \"\"\n",
    "    for char in message:\n",
    "        if char.isalpha():  # Encrypt only alphabetic characters\n",
    "            #Gets the numerical unicode vale for A or a using ord()\n",
    "            shift_base = ord('A') if char.isupper() else ord('a')\n",
    "            #After starting at A or a, changes the unicode by the shift value\n",
    "            encrypted_message += chr((ord(char) - shift_base + shift) % 26 + shift_base)\n",
    "        else:\n",
    "            encrypted_message += char  # Non-alphabetic characters remain unchanged\n",
    "    return encrypted_message\n",
    "\n",
    "\n",
    "#If the shift value is known, you can just shift the opposite way to decrypt the message\n",
    "def caesar_cipher_decrypt(message, shift):\n",
    "    return caesar_cipher_encrypt(message, -shift)\n",
    "\n",
    "\n",
    "# Example\n",
    "plain_text = \"Hello, World!\"\n",
    "shift_value = 3\n",
    "\n",
    "# Encrypt the message\n",
    "encrypted = caesar_cipher_encrypt(plain_text, shift_value)\n",
    "print(\"Encrypted message:\", encrypted)\n",
    "\n",
    "# Decrypt the message\n",
    "decrypted = caesar_cipher_decrypt(encrypted, shift_value)\n",
    "print(\"Decrypted message:\", decrypted)\n"
   ]
  },
  {
   "cell_type": "code",
   "execution_count": 5,
   "id": "71a2d581",
   "metadata": {
    "scrolled": true
   },
   "outputs": [
    {
     "name": "stdout",
     "output_type": "stream",
     "text": [
      "Brute force decryption results:\n",
      "Shift 0: Khoor, Zruog!\n",
      "Shift 1: Jgnnq, Yqtnf!\n",
      "Shift 2: Ifmmp, Xpsme!\n",
      "Shift 3: Hello, World!\n",
      "Shift 4: Gdkkn, Vnqkc!\n",
      "Shift 5: Fcjjm, Umpjb!\n",
      "Shift 6: Ebiil, Tloia!\n",
      "Shift 7: Dahhk, Sknhz!\n",
      "Shift 8: Czggj, Rjmgy!\n",
      "Shift 9: Byffi, Qilfx!\n",
      "Shift 10: Axeeh, Phkew!\n",
      "Shift 11: Zwddg, Ogjdv!\n",
      "Shift 12: Yvccf, Nficu!\n",
      "Shift 13: Xubbe, Mehbt!\n",
      "Shift 14: Wtaad, Ldgas!\n",
      "Shift 15: Vszzc, Kcfzr!\n",
      "Shift 16: Uryyb, Jbeyq!\n",
      "Shift 17: Tqxxa, Iadxp!\n",
      "Shift 18: Spwwz, Hzcwo!\n",
      "Shift 19: Rovvy, Gybvn!\n",
      "Shift 20: Qnuux, Fxaum!\n",
      "Shift 21: Pmttw, Ewztl!\n",
      "Shift 22: Olssv, Dvysk!\n",
      "Shift 23: Nkrru, Cuxrj!\n",
      "Shift 24: Mjqqt, Btwqi!\n",
      "Shift 25: Lipps, Asvph!\n"
     ]
    }
   ],
   "source": [
    "#Bonus content if they somehow finish the first part\n",
    "#Brute force decrypt prints out all possible shifts for a message\n",
    "#Have them encode a message and then give to someone else to try and decrypt it\n",
    "\n",
    "def caesar_cipher_brute_force_decrypt(message):\n",
    "    for shift in range(26):  # Try all possible shifts from 0 to 25\n",
    "        decrypted_message = \"\"\n",
    "        for char in message:\n",
    "            if char.isalpha():  # Decrypt only alphabetic characters\n",
    "                shift_base = ord('A') if char.isupper() else ord('a')\n",
    "                decrypted_message += chr((ord(char) - shift_base - shift) % 26 + shift_base)\n",
    "            else:\n",
    "                decrypted_message += char  # Non-alphabetic characters remain unchanged\n",
    "        print(f\"Shift {shift}: {decrypted_message}\")\n",
    "\n",
    "# Example\n",
    "encrypted_message = \"Khoor, Zruog!\"\n",
    "print(\"Brute force decryption results:\")\n",
    "caesar_cipher_brute_force_decrypt(encrypted_message)\n"
   ]
  },
  {
   "cell_type": "code",
   "execution_count": 8,
   "id": "4a35f56a",
   "metadata": {},
   "outputs": [
    {
     "data": {
      "text/plain": [
       "65"
      ]
     },
     "execution_count": 8,
     "metadata": {},
     "output_type": "execute_result"
    }
   ],
   "source": []
  }
 ],
 "metadata": {
  "kernelspec": {
   "display_name": "Python 3 (ipykernel)",
   "language": "python",
   "name": "python3"
  },
  "language_info": {
   "codemirror_mode": {
    "name": "ipython",
    "version": 3
   },
   "file_extension": ".py",
   "mimetype": "text/x-python",
   "name": "python",
   "nbconvert_exporter": "python",
   "pygments_lexer": "ipython3",
   "version": "3.11.7"
  }
 },
 "nbformat": 4,
 "nbformat_minor": 5
}
