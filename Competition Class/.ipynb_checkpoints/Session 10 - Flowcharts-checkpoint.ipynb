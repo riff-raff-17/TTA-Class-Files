{
 "cells": [
  {
   "cell_type": "markdown",
   "id": "f5577a4d",
   "metadata": {},
   "source": [
    "![title](images/flowchart.png)"
   ]
  },
  {
   "cell_type": "code",
   "execution_count": null,
   "id": "f1d54ae7",
   "metadata": {},
   "outputs": [],
   "source": [
    "def is_even_or_odd(number):\n",
    "    \"\"\"\n",
    "    Function to check if a number is even or odd.\n",
    "    :param number: Integer to check\n",
    "    :return: String stating if the number is even or odd\n",
    "    \"\"\"\n",
    "    if number % 2 == 0:\n",
    "        return \"Even\"\n",
    "    else:\n",
    "        return \"Odd\"\n",
    "\n",
    "def main():\n",
    "    print(\"--- Even or Odd Checker ---\")\n",
    "    try:\n",
    "        # Input from the user\n",
    "        num = int(input(\"Enter an integer: \"))\n",
    "        \n",
    "        # Determine if the number is even or odd\n",
    "        result = is_even_or_odd(num)\n",
    "        \n",
    "        # Display the result\n",
    "        print(f\"The number {num} is {result}.\")\n",
    "        \n",
    "        # Additional decision point\n",
    "        if result == \"Even\":\n",
    "            print(\"Even numbers are divisible by 2.\")\n",
    "        else:\n",
    "            print(\"Odd numbers are not divisible by 2.\")\n",
    "            \n",
    "    except ValueError:\n",
    "        print(\"Invalid input! Please enter an integer.\")\n",
    "\n",
    "if __name__ == \"__main__\":\n",
    "    main()\n"
   ]
  },
  {
   "cell_type": "markdown",
   "id": "dd99feed",
   "metadata": {},
   "source": [
    "### Question 1 - Stopwatch"
   ]
  },
  {
   "cell_type": "markdown",
   "id": "fc5aa8ef",
   "metadata": {},
   "source": [
    "![title](images/flowchart-chronometer.png)"
   ]
  },
  {
   "cell_type": "code",
   "execution_count": null,
   "id": "b0a029e3",
   "metadata": {},
   "outputs": [],
   "source": [
    "#Write the code here:\n",
    "\n"
   ]
  },
  {
   "cell_type": "markdown",
   "id": "3ce0db98",
   "metadata": {},
   "source": [
    "### Question 2 - Leap Year"
   ]
  },
  {
   "cell_type": "markdown",
   "id": "1bb3f259",
   "metadata": {},
   "source": [
    "![title](images/flowchart-leap-year.png)"
   ]
  },
  {
   "cell_type": "code",
   "execution_count": null,
   "id": "5c6f24c6",
   "metadata": {},
   "outputs": [],
   "source": [
    "#Write the code here:\n",
    "\n"
   ]
  },
  {
   "cell_type": "markdown",
   "id": "1a1320ab",
   "metadata": {},
   "source": [
    "### Question 3 - Winter Olympics"
   ]
  },
  {
   "cell_type": "markdown",
   "id": "a85b22eb",
   "metadata": {},
   "source": [
    "![title](images/flowchart-winter-olympics.png)"
   ]
  },
  {
   "cell_type": "code",
   "execution_count": null,
   "id": "776f1f62",
   "metadata": {},
   "outputs": [],
   "source": [
    "#Write the code here:\n",
    "\n"
   ]
  },
  {
   "cell_type": "markdown",
   "id": "67bbb222",
   "metadata": {},
   "source": [
    "### Question 4 - Times Table"
   ]
  },
  {
   "cell_type": "markdown",
   "id": "c197ecdf",
   "metadata": {},
   "source": [
    "![title](images/flowchart-times-table.png)"
   ]
  },
  {
   "cell_type": "code",
   "execution_count": null,
   "id": "774564af",
   "metadata": {},
   "outputs": [],
   "source": [
    "#Write the code here:\n",
    "\n"
   ]
  },
  {
   "cell_type": "markdown",
   "id": "4d2853af",
   "metadata": {},
   "source": [
    "### Question 5 - Login form"
   ]
  },
  {
   "cell_type": "markdown",
   "id": "c041b9bd",
   "metadata": {},
   "source": [
    "![title](images/flowchart-login.png)"
   ]
  },
  {
   "cell_type": "code",
   "execution_count": null,
   "id": "461a734a",
   "metadata": {},
   "outputs": [],
   "source": [
    "#Write the code here:\n",
    "\n"
   ]
  }
 ],
 "metadata": {
  "kernelspec": {
   "display_name": "Python 3 (ipykernel)",
   "language": "python",
   "name": "python3"
  },
  "language_info": {
   "codemirror_mode": {
    "name": "ipython",
    "version": 3
   },
   "file_extension": ".py",
   "mimetype": "text/x-python",
   "name": "python",
   "nbconvert_exporter": "python",
   "pygments_lexer": "ipython3",
   "version": "3.11.7"
  }
 },
 "nbformat": 4,
 "nbformat_minor": 5
}
