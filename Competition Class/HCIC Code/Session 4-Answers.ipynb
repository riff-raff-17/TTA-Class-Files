{
 "cells": [
  {
   "cell_type": "markdown",
   "id": "400d51d2",
   "metadata": {},
   "source": [
    "## Even or Odd?\n",
    "\n",
    "Write a program that checks if a number entered by the user is even or odd."
   ]
  },
  {
   "cell_type": "code",
   "execution_count": 2,
   "id": "dad777bd",
   "metadata": {},
   "outputs": [
    {
     "name": "stdout",
     "output_type": "stream",
     "text": [
      "Enter a number: 4\n",
      "The number is even.\n"
     ]
    }
   ],
   "source": [
    "# Even or odd\n",
    "number = int(input(\"Enter a number: \"))\n",
    "\n",
    "if number % 2 == 0:\n",
    "    print(\"The number is even.\")\n",
    "else:\n",
    "    print(\"The number is odd.\")\n"
   ]
  },
  {
   "cell_type": "markdown",
   "id": "1eff3695",
   "metadata": {},
   "source": [
    "## Traffic Light System\n",
    "\n",
    "Write a program that simulates a traffic light. Ask the user for the light color (red, yellow, or green) and display what the driver should do:\n",
    "\n",
    "    \"red\": \"Stop\"\n",
    "    \"yellow\": \"Get ready\"\n",
    "    \"green\": \"Go\""
   ]
  },
  {
   "cell_type": "code",
   "execution_count": 7,
   "id": "4972554f",
   "metadata": {},
   "outputs": [
    {
     "name": "stdout",
     "output_type": "stream",
     "text": [
      "Enter the traffic light color (red, yellow, green): red\n",
      "Stop\n"
     ]
    }
   ],
   "source": [
    "# Traffic light system\n",
    "light = input(\"Enter the traffic light color (red, yellow, green): \").lower()\n",
    "\n",
    "if light == \"red\":\n",
    "    print(\"Stop\")\n",
    "elif light == \"yellow\":\n",
    "    print(\"Get ready\")\n",
    "elif light == \"green\":\n",
    "    print(\"Go\")\n",
    "else:\n",
    "    print(\"Invalid color\")\n"
   ]
  },
  {
   "cell_type": "markdown",
   "id": "398a90da",
   "metadata": {},
   "source": [
    "## Grade Classification\n",
    "\n",
    "Write a program that asks the user for their percentage grade and classifies it as follows:\n",
    "\n",
    "    >= 90: \"A\"\n",
    "    >= 80: \"B\"\n",
    "    >= 70: \"C\"\n",
    "    >= 60: \"D\"\n",
    "    < 60: \"F\""
   ]
  },
  {
   "cell_type": "code",
   "execution_count": null,
   "id": "2610c7d5",
   "metadata": {},
   "outputs": [],
   "source": [
    "# Grade classification\n",
    "grade = int(input(\"Enter your percentage grade: \"))\n",
    "\n",
    "if grade >= 90:\n",
    "    print(\"A\")\n",
    "elif grade >= 80:\n",
    "    print(\"B\")\n",
    "elif grade >= 70:\n",
    "    print(\"C\")\n",
    "elif grade >= 60:\n",
    "    print(\"D\")\n",
    "else:\n",
    "    print(\"F\")\n"
   ]
  },
  {
   "cell_type": "markdown",
   "id": "a1cc0fa8",
   "metadata": {},
   "source": [
    "## Temperature Advisory\n",
    "\n",
    "Write a program that provides clothing recommendations based on the temperature entered by the user:\n",
    "\n",
    "    < 10°C: \"Wear a coat!\"\n",
    "    10°C to 20°C: \"Wear a sweater!\"\n",
    "    > 20°C: \"Wear light clothing!\""
   ]
  },
  {
   "cell_type": "code",
   "execution_count": 3,
   "id": "913735b1",
   "metadata": {},
   "outputs": [
    {
     "name": "stdout",
     "output_type": "stream",
     "text": [
      "Enter the temperature in °C: 5\n",
      "Wear a coat!\n"
     ]
    }
   ],
   "source": [
    "# Temperature advisory\n",
    "temperature = int(input(\"Enter the temperature in °C: \"))\n",
    "\n",
    "if temperature < 10:\n",
    "    print(\"Wear a coat!\")\n",
    "elif temperature <= 20:\n",
    "    print(\"Wear a sweater!\")\n",
    "else:\n",
    "    print(\"Wear light clothing!\")\n"
   ]
  },
  {
   "cell_type": "markdown",
   "id": "06e2875d",
   "metadata": {},
   "source": [
    "## Leap Year Checker\n",
    "\n",
    "Write a program that checks if a given year is a leap year. A year is a leap year if:\n",
    "\n",
    "* It is divisible by 4 and not divisible by 100, or\n",
    "* It is divisible by 400."
   ]
  },
  {
   "cell_type": "code",
   "execution_count": 5,
   "id": "614ede2c",
   "metadata": {},
   "outputs": [
    {
     "name": "stdout",
     "output_type": "stream",
     "text": [
      "Enter a year: 4\n",
      "4 is a leap year.\n"
     ]
    }
   ],
   "source": [
    "# Leap year checker\n",
    "year = int(input(\"Enter a year: \"))\n",
    "\n",
    "if (year % 4 == 0 and year % 100 != 0) or (year % 400 == 0):\n",
    "    print(f\"{year} is a leap year.\")\n",
    "else:\n",
    "    print(f\"{year} is not a leap year.\")\n"
   ]
  },
  {
   "cell_type": "markdown",
   "id": "a610cd39",
   "metadata": {},
   "source": [
    "## Max of Three Numbers\n",
    "\n",
    "Write a program that takes three numbers as input and prints the largest one."
   ]
  },
  {
   "cell_type": "code",
   "execution_count": 6,
   "id": "f2d4dde3",
   "metadata": {},
   "outputs": [
    {
     "name": "stdout",
     "output_type": "stream",
     "text": [
      "Enter the first number: 4\n",
      "Enter the second number: 5\n",
      "Enter the third number: 6\n",
      "The largest number is 6.\n"
     ]
    }
   ],
   "source": [
    "# Max of three numbers\n",
    "num1 = int(input(\"Enter the first number: \"))\n",
    "num2 = int(input(\"Enter the second number: \"))\n",
    "num3 = int(input(\"Enter the third number: \"))\n",
    "\n",
    "if num1 >= num2 and num1 >= num3:\n",
    "    print(f\"The largest number is {num1}.\")\n",
    "elif num2 >= num1 and num2 >= num3:\n",
    "    print(f\"The largest number is {num2}.\")\n",
    "else:\n",
    "    print(f\"The largest number is {num3}.\")\n"
   ]
  },
  {
   "cell_type": "markdown",
   "id": "b3748a00",
   "metadata": {},
   "source": [
    "## Password Strength\n",
    "\n",
    "Write a program that checks the strength of a password entered by the user:\n",
    "\n",
    "* Less than 6 characters: \"Weak\"\n",
    "* Between 6 and 10 characters: \"Moderate\"\n",
    "* More than 10 characters: \"Strong\""
   ]
  },
  {
   "cell_type": "code",
   "execution_count": null,
   "id": "cef95777",
   "metadata": {},
   "outputs": [],
   "source": [
    "# Password strength checker\n",
    "password = input(\"Enter your password: \")\n",
    "\n",
    "if len(password) < 6:\n",
    "    print(\"Weak\")\n",
    "elif len(password) <= 10:\n",
    "    print(\"Moderate\")\n",
    "else:\n",
    "    print(\"Strong\")\n"
   ]
  },
  {
   "cell_type": "markdown",
   "id": "2015b67b",
   "metadata": {},
   "source": [
    "## Triangle Type\n",
    "\n",
    "Write a program that takes three side lengths of a triangle and determines its type:\n",
    "\n",
    "* Equilateral: All sides are equal.\n",
    "* Isosceles: Two sides are equal.\n",
    "* Scalene: All sides are different."
   ]
  },
  {
   "cell_type": "code",
   "execution_count": null,
   "id": "bc6057d9",
   "metadata": {},
   "outputs": [],
   "source": [
    "# Triangle type checker\n",
    "a = int(input(\"Enter side a: \"))\n",
    "b = int(input(\"Enter side b: \"))\n",
    "c = int(input(\"Enter side c: \"))\n",
    "\n",
    "if a == b == c:\n",
    "    print(\"Equilateral triangle\")\n",
    "elif a == b or b == c or a == c:\n",
    "    print(\"Isosceles triangle\")\n",
    "else:\n",
    "    print(\"Scalene triangle\")\n"
   ]
  },
  {
   "cell_type": "markdown",
   "id": "9d113a2f",
   "metadata": {},
   "source": [
    "## Challenge: Simple Calculator\n",
    "\n",
    "Write a program that takes two numbers and an operator (+, -, *, /) as input and performs the corresponding calculation. Handle invalid operators as well."
   ]
  },
  {
   "cell_type": "code",
   "execution_count": 8,
   "id": "85449282",
   "metadata": {},
   "outputs": [
    {
     "name": "stdout",
     "output_type": "stream",
     "text": [
      "Enter the first number: 3\n",
      "Enter the second number: 4\n",
      "Enter an operator (+, -, *, /): /\n",
      "Result: 0.75\n"
     ]
    }
   ],
   "source": [
    "# Simple calculator\n",
    "num1 = float(input(\"Enter the first number: \"))\n",
    "num2 = float(input(\"Enter the second number: \"))\n",
    "operator = input(\"Enter an operator (+, -, *, /): \")\n",
    "\n",
    "if operator == \"+\":\n",
    "    print(f\"Result: {num1 + num2}\")\n",
    "elif operator == \"-\":\n",
    "    print(f\"Result: {num1 - num2}\")\n",
    "elif operator == \"*\":\n",
    "    print(f\"Result: {num1 * num2}\")\n",
    "elif operator == \"/\":\n",
    "    if num2 != 0:\n",
    "        print(f\"Result: {num1 / num2}\")\n",
    "    else:\n",
    "        print(\"Error: Division by zero is not allowed.\")\n",
    "else:\n",
    "    print(\"Invalid operator\")\n"
   ]
  }
 ],
 "metadata": {
  "kernelspec": {
   "display_name": "Python 3 (ipykernel)",
   "language": "python",
   "name": "python3"
  },
  "language_info": {
   "codemirror_mode": {
    "name": "ipython",
    "version": 3
   },
   "file_extension": ".py",
   "mimetype": "text/x-python",
   "name": "python",
   "nbconvert_exporter": "python",
   "pygments_lexer": "ipython3",
   "version": "3.11.7"
  }
 },
 "nbformat": 4,
 "nbformat_minor": 5
}
