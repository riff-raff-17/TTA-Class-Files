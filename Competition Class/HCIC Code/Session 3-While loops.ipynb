{
 "cells": [
  {
   "cell_type": "markdown",
   "id": "44dd74b7",
   "metadata": {},
   "source": [
    "## Countdown Timer\n",
    "\n",
    "Write a program to print a countdown from 10 to 1, then print \"Liftoff!\"."
   ]
  },
  {
   "cell_type": "markdown",
   "id": "70fb8b92",
   "metadata": {},
   "source": [
    "## Number Guessing Game\n",
    "\n",
    "Write a program where the user has to guess a secret positive number (e.g., 7). Give a hint, high or low. The program should keep asking until the user guesses correctly."
   ]
  },
  {
   "cell_type": "markdown",
   "id": "9e18a7bc",
   "metadata": {},
   "source": [
    "## Login System\n",
    "\n",
    "Simulate a login system where the user has three attempts to enter the correct password. If the password is incorrect three times, display a \"Locked out!\" message."
   ]
  },
  {
   "cell_type": "markdown",
   "id": "7a0da9df",
   "metadata": {},
   "source": [
    "## Sum of User-Entered Numbers\n",
    "\n",
    "Write a program that keeps asking the user for numbers until they enter 0. Then, print the sum of all entered numbers."
   ]
  },
  {
   "cell_type": "markdown",
   "id": "12caedf8",
   "metadata": {},
   "source": [
    "## Even Numbers\n",
    "\n",
    "Write a program to print all even numbers between 1 and 20 using a while loop."
   ]
  },
  {
   "cell_type": "markdown",
   "id": "7d8e6b38",
   "metadata": {},
   "source": [
    "## Display Multiples\n",
    "\n",
    "Write a program that uses a while loop to display all multiples of 3 between 1 and 30."
   ]
  },
  {
   "cell_type": "markdown",
   "id": "fb477348",
   "metadata": {},
   "source": [
    "## Infinite Loop Prevention\n",
    "\n",
    "Explain why the following program creates an infinite loop and fix it:"
   ]
  },
  {
   "cell_type": "code",
   "execution_count": null,
   "id": "98ea99dc",
   "metadata": {},
   "outputs": [],
   "source": [
    "# Broken Code:\n",
    "i = 0\n",
    "while i < 5:\n",
    "    print(i)\n"
   ]
  },
  {
   "cell_type": "markdown",
   "id": "2eba117a",
   "metadata": {},
   "source": [
    "## Stop Word\n",
    "\n",
    "Write a program that keeps asking the user for words and adds them to a list until the user types \"stop\". Then, print the list."
   ]
  },
  {
   "cell_type": "markdown",
   "id": "96058ffe",
   "metadata": {},
   "source": [
    "## Reverse a String\n",
    "\n",
    "Write a program that uses a while loop to reverse a string entered by the user."
   ]
  },
  {
   "cell_type": "markdown",
   "id": "23c6fc81",
   "metadata": {},
   "source": [
    "## Challenge: Fibonacci Sequence\n",
    "\n",
    "Write a program that uses a while loop to generate the first 10 numbers of the Fibonacci sequence."
   ]
  }
 ],
 "metadata": {
  "kernelspec": {
   "display_name": "Python 3 (ipykernel)",
   "language": "python",
   "name": "python3"
  },
  "language_info": {
   "codemirror_mode": {
    "name": "ipython",
    "version": 3
   },
   "file_extension": ".py",
   "mimetype": "text/x-python",
   "name": "python",
   "nbconvert_exporter": "python",
   "pygments_lexer": "ipython3",
   "version": "3.11.7"
  }
 },
 "nbformat": 4,
 "nbformat_minor": 5
}
