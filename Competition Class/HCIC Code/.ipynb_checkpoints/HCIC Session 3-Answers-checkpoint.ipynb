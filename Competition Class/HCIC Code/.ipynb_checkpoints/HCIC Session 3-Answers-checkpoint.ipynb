{
 "cells": [
  {
   "cell_type": "markdown",
   "id": "dd5d8809",
   "metadata": {},
   "source": [
    "## Countdown Timer\n",
    "\n",
    "Write a program to print a countdown from 10 to 1, then print \"Liftoff!\"."
   ]
  },
  {
   "cell_type": "code",
   "execution_count": 1,
   "id": "4447b150",
   "metadata": {},
   "outputs": [
    {
     "name": "stdout",
     "output_type": "stream",
     "text": [
      "10\n",
      "9\n",
      "8\n",
      "7\n",
      "6\n",
      "5\n",
      "4\n",
      "3\n",
      "2\n",
      "1\n",
      "Liftoff!\n"
     ]
    }
   ],
   "source": [
    "# Countdown timer\n",
    "count = 10\n",
    "while count > 0:\n",
    "    print(count)\n",
    "    count -= 1\n",
    "print(\"Liftoff!\")\n"
   ]
  },
  {
   "cell_type": "code",
   "execution_count": 2,
   "id": "b6e29af9",
   "metadata": {},
   "outputs": [
    {
     "name": "stdout",
     "output_type": "stream",
     "text": [
      "10\n",
      "9\n",
      "8\n",
      "7\n",
      "6\n",
      "5\n",
      "4\n",
      "3\n",
      "2\n",
      "1\n",
      "Liftoff!\n"
     ]
    }
   ],
   "source": [
    "import time\n",
    "\n",
    "# Countdown timer\n",
    "count = 10\n",
    "while count > 0:\n",
    "    print(count)\n",
    "    time.sleep(0.5)\n",
    "    count -= 1\n",
    "time.sleep(0.5)\n",
    "print(\"Liftoff!\")\n"
   ]
  },
  {
   "cell_type": "markdown",
   "id": "04e0e92e",
   "metadata": {},
   "source": [
    "## Number Guessing Game\n",
    "\n",
    "Write a program where the user has to guess a secret positive number (e.g., 7). Give a hint, high or low. The program should keep asking until the user guesses correctly."
   ]
  },
  {
   "cell_type": "code",
   "execution_count": null,
   "id": "6f67a2d8",
   "metadata": {},
   "outputs": [],
   "source": [
    "# Number guessing game\n",
    "secret_number = 7\n",
    "guess = -1\n",
    "\n",
    "while guess != secret_number:\n",
    "    guess = int(input(\"Guess the secret number: \"))\n",
    "    if guess < secret_number:\n",
    "        print(\"Too low!\")\n",
    "    elif guess > secret_number:\n",
    "        print(\"Too high!\")\n",
    "print(\"Congratulations! You guessed it.\")\n"
   ]
  },
  {
   "cell_type": "markdown",
   "id": "9dd48780",
   "metadata": {},
   "source": [
    "## Login System\n",
    "\n",
    "Simulate a login system where the user has three attempts to enter the correct password. If the password is incorrect three times, display a \"Locked out!\" message."
   ]
  },
  {
   "cell_type": "code",
   "execution_count": 4,
   "id": "0e77914c",
   "metadata": {},
   "outputs": [
    {
     "name": "stdout",
     "output_type": "stream",
     "text": [
      "Enter the password: r\n",
      "Incorrect password. Attempts left: 2\n",
      "Enter the password: pass\n",
      "Incorrect password. Attempts left: 1\n",
      "Enter the password: ee\n",
      "Incorrect password. Attempts left: 0\n",
      "Locked out!\n"
     ]
    }
   ],
   "source": [
    "# Login system\n",
    "password = \"secure123\"\n",
    "attempts = 3\n",
    "\n",
    "while attempts > 0:\n",
    "    user_input = input(\"Enter the password: \")\n",
    "    if user_input == password:\n",
    "        print(\"Access granted.\")\n",
    "        break\n",
    "    else:\n",
    "        attempts -= 1\n",
    "        print(f\"Incorrect password. Attempts left: {attempts}\")\n",
    "\n",
    "if attempts == 0:\n",
    "    print(\"Locked out!\")\n"
   ]
  },
  {
   "cell_type": "markdown",
   "id": "828ccb49",
   "metadata": {},
   "source": [
    "## Sum of User-Entered Numbers\n",
    "\n",
    "Write a program that keeps asking the user for numbers until they enter 0. Then, print the sum of all entered numbers."
   ]
  },
  {
   "cell_type": "code",
   "execution_count": 5,
   "id": "bec20298",
   "metadata": {},
   "outputs": [
    {
     "name": "stdout",
     "output_type": "stream",
     "text": [
      "Enter a number (0 to stop): 4\n",
      "Enter a number (0 to stop): 5\n",
      "Enter a number (0 to stop): 6\n",
      "Enter a number (0 to stop): 0\n",
      "Sum of all numbers: 15\n"
     ]
    }
   ],
   "source": [
    "# Sum of user-entered numbers\n",
    "total = 0\n",
    "\n",
    "while True:\n",
    "    num = int(input(\"Enter a number (0 to stop): \"))\n",
    "    if num == 0:\n",
    "        break\n",
    "    total += num\n",
    "print(\"Sum of all numbers:\", total)\n"
   ]
  },
  {
   "cell_type": "markdown",
   "id": "593b511c",
   "metadata": {},
   "source": [
    "## Even Numbers\n",
    "\n",
    "Write a program to print all even numbers between 1 and 20 using a while loop."
   ]
  },
  {
   "cell_type": "code",
   "execution_count": null,
   "id": "c3fbb8ae",
   "metadata": {},
   "outputs": [],
   "source": [
    "# Even numbers\n",
    "num = 2\n",
    "while num <= 20:\n",
    "    print(num)\n",
    "    num += 2\n"
   ]
  },
  {
   "cell_type": "markdown",
   "id": "0b319f50",
   "metadata": {},
   "source": [
    "## Display Multiples\n",
    "\n",
    "Write a program that uses a while loop to display all multiples of 3 between 1 and 30."
   ]
  },
  {
   "cell_type": "code",
   "execution_count": null,
   "id": "01b8a68d",
   "metadata": {},
   "outputs": [],
   "source": [
    "# Display multiples of 3\n",
    "num = 3\n",
    "while num <= 30:\n",
    "    print(num)\n",
    "    num += 3\n"
   ]
  },
  {
   "cell_type": "markdown",
   "id": "62e678bd",
   "metadata": {},
   "source": [
    "## Infinite Loop Prevention\n",
    "\n",
    "Explain why the following program creates an infinite loop and fix it:"
   ]
  },
  {
   "cell_type": "code",
   "execution_count": null,
   "id": "f850a939",
   "metadata": {},
   "outputs": [],
   "source": [
    "# Broken Code:\n",
    "i = 0\n",
    "while i < 5:\n",
    "    print(i)\n"
   ]
  },
  {
   "cell_type": "code",
   "execution_count": null,
   "id": "ac453b76",
   "metadata": {},
   "outputs": [],
   "source": [
    "# Fixed Code:\n",
    "i = 0\n",
    "while i < 5:\n",
    "    print(i)\n",
    "    i += 1"
   ]
  },
  {
   "cell_type": "markdown",
   "id": "fc0c0be9",
   "metadata": {},
   "source": [
    "## Stop Word\n",
    "\n",
    "Write a program that keeps asking the user for words and adds them to a list until the user types \"stop\". Then, print the list."
   ]
  },
  {
   "cell_type": "code",
   "execution_count": null,
   "id": "93030ab2",
   "metadata": {},
   "outputs": [],
   "source": [
    "# Stop word program\n",
    "words = []\n",
    "\n",
    "while True:\n",
    "    word = input(\"Enter a word (type 'stop' to end): \")\n",
    "    if word.lower() == \"stop\":\n",
    "        break\n",
    "    words.append(word)\n",
    "\n",
    "print(\"Words entered:\", words)\n"
   ]
  },
  {
   "cell_type": "markdown",
   "id": "fad3d077",
   "metadata": {},
   "source": [
    "## Reverse a String\n",
    "\n",
    "Write a program that uses a while loop to reverse a string entered by the user."
   ]
  },
  {
   "cell_type": "code",
   "execution_count": 8,
   "id": "ffbbfef6",
   "metadata": {},
   "outputs": [
    {
     "name": "stdout",
     "output_type": "stream",
     "text": [
      "Enter a string: hcic\n",
      "Reversed string: cich\n"
     ]
    }
   ],
   "source": [
    "# Reverse a string\n",
    "text = input(\"Enter a string: \")\n",
    "reversed_text = \"\"\n",
    "index = len(text) - 1\n",
    "\n",
    "while index >= 0:\n",
    "    reversed_text += text[index]\n",
    "    index -= 1\n",
    "\n",
    "print(\"Reversed string:\", reversed_text)\n"
   ]
  },
  {
   "cell_type": "markdown",
   "id": "117b83f2",
   "metadata": {},
   "source": [
    "## Challenge: Fibonacci Sequence\n",
    "\n",
    "Write a program that uses a while loop to generate the first 10 numbers of the Fibonacci sequence."
   ]
  },
  {
   "cell_type": "code",
   "execution_count": 10,
   "id": "b5d2f3b0",
   "metadata": {},
   "outputs": [
    {
     "name": "stdout",
     "output_type": "stream",
     "text": [
      "0\n",
      "1\n",
      "1\n",
      "2\n",
      "3\n",
      "5\n",
      "8\n",
      "13\n",
      "21\n",
      "34\n"
     ]
    }
   ],
   "source": [
    "# Fibonacci sequence\n",
    "a = 0\n",
    "b = 1\n",
    "count = 0\n",
    "\n",
    "while count < 10:\n",
    "    print(a)\n",
    "    a, b = b, a + b\n",
    "    count += 1\n"
   ]
  }
 ],
 "metadata": {
  "kernelspec": {
   "display_name": "Python 3 (ipykernel)",
   "language": "python",
   "name": "python3"
  },
  "language_info": {
   "codemirror_mode": {
    "name": "ipython",
    "version": 3
   },
   "file_extension": ".py",
   "mimetype": "text/x-python",
   "name": "python",
   "nbconvert_exporter": "python",
   "pygments_lexer": "ipython3",
   "version": "3.11.7"
  }
 },
 "nbformat": 4,
 "nbformat_minor": 5
}
