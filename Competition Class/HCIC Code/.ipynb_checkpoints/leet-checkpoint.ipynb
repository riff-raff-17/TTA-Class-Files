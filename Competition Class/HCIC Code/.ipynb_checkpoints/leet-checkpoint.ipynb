{
 "cells": [
  {
   "cell_type": "code",
   "execution_count": 34,
   "id": "8e939f5f",
   "metadata": {},
   "outputs": [
    {
     "name": "stdout",
     "output_type": "stream",
     "text": [
      "fl\n"
     ]
    }
   ],
   "source": [
    "strings = [\"flower\",\"flow\", \"flight\"]\n",
    "\n",
    "prefix = \"\"\n",
    "\n",
    "same = True\n",
    "letter = \"\"\n",
    "\n",
    "for i in zip(*strings):\n",
    "    for j in range(len(i) - 1):\n",
    "        letter = i[j]\n",
    "        if i[j] != i[j+1]:\n",
    "            same = False\n",
    "    if same:\n",
    "        prefix += letter\n",
    "        \n",
    "print(prefix)\n"
   ]
  },
  {
   "cell_type": "code",
   "execution_count": 36,
   "id": "6985bd0b",
   "metadata": {},
   "outputs": [
    {
     "data": {
      "text/plain": [
       "['flight', 'flow', 'flower']"
      ]
     },
     "execution_count": 36,
     "metadata": {},
     "output_type": "execute_result"
    }
   ],
   "source": [
    "sorted(strings)"
   ]
  }
 ],
 "metadata": {
  "kernelspec": {
   "display_name": "Python 3 (ipykernel)",
   "language": "python",
   "name": "python3"
  },
  "language_info": {
   "codemirror_mode": {
    "name": "ipython",
    "version": 3
   },
   "file_extension": ".py",
   "mimetype": "text/x-python",
   "name": "python",
   "nbconvert_exporter": "python",
   "pygments_lexer": "ipython3",
   "version": "3.11.7"
  }
 },
 "nbformat": 4,
 "nbformat_minor": 5
}
