{
 "cells": [
  {
   "cell_type": "markdown",
   "id": "736d801c",
   "metadata": {},
   "source": [
    "## Basic Slicing\n",
    "\n",
    "Given the list ```numbers = [1, 2, 3, 4, 5, 6, 7, 8, 9, 10]```, write the code to:\n",
    "\n",
    "* Extract the first 5 elements.\n",
    "* Extract the last 3 elements.\n",
    "* Extract every second element from the list.\n",
    "* Reverse the list using slicing."
   ]
  },
  {
   "cell_type": "markdown",
   "id": "73c3cd66",
   "metadata": {},
   "source": [
    "Given the string ```text = \"The quick brown fox jumps over the lazy dog\"```, write the code to:\n",
    "\n",
    "* Extract the first 10 characters of the string.\n",
    "* Extract the last 8 characters of the string.\n",
    "* Extract every third character from the string.\n",
    "* Reverse the entire string."
   ]
  },
  {
   "cell_type": "markdown",
   "id": "b4d7431a",
   "metadata": {},
   "source": [
    "## Custom Slicing\n",
    "\n",
    "Given ```fruits = [\"apple\", \"banana\", \"cherry\", \"date\", \"elderberry\"]```, write the code to:\n",
    "\n",
    "* Extract the middle three elements.\n",
    "* Skip the first and last element."
   ]
  },
  {
   "cell_type": "markdown",
   "id": "0a04fde7",
   "metadata": {},
   "source": [
    "## Sum of Squares Using List Comprehension\n",
    "\n",
    "Use list comprehension to create a list of squares of numbers from 1 to 10. Then, calculate the sum of those squares."
   ]
  },
  {
   "cell_type": "markdown",
   "id": "29cd2417",
   "metadata": {},
   "source": [
    "## Extract Even Numbers\n",
    "\n",
    "Use list comprehension to extract all even numbers from the list ```numbers = [12, 17, 19, 24, 29, 32]```."
   ]
  },
  {
   "cell_type": "markdown",
   "id": "722ccbf1",
   "metadata": {},
   "source": [
    "## Filtering Strings\n",
    "\n",
    "Use list comprehension to filter and convert all strings in the list ```items = [\"apple\", 42, \"banana\", 3.14, \"cherry\"]``` to uppercase.\n",
    "\n",
    "Hint: The condition ```type(i) == str``` checks if something is a string"
   ]
  },
  {
   "cell_type": "markdown",
   "id": "36ecaff6",
   "metadata": {},
   "source": [
    "## List of Lengths\n",
    "\n",
    "Given the list ```words = [\"python\", \"list\", \"slicing\", \"comprehension\"]```, use list comprehension to create a list of the lengths of each word."
   ]
  },
  {
   "cell_type": "markdown",
   "id": "093f4186",
   "metadata": {},
   "source": [
    "## Reverse Strings\n",
    "\n",
    "Given ```names = [\"Alice\", \"Bob\", \"Charlie\"]```, use list comprehension to reverse each name in the list."
   ]
  },
  {
   "cell_type": "markdown",
   "id": "fe9ab2b6",
   "metadata": {},
   "source": [
    "## Remove Vowels from a Sentence\n",
    "\n",
    "Write a list comprehension to remove all vowels ('a', 'e', 'i', 'o', 'u') from a given sentence.\n",
    "\n",
    "    Sample Input: \"Python is awesome!\"\n",
    "    Expected Output: \"Pythn s wsm!\""
   ]
  },
  {
   "cell_type": "markdown",
   "id": "b20a50ad",
   "metadata": {},
   "source": [
    "## Find Palindromes\n",
    "\n",
    "Given a list of words, write a list comprehension to filter only the palindromes (words that read the same backward as forward).\n",
    "\n",
    "    Sample Input: [level\", \"world\", \"madam\", \"python\", \"radar\"]\n",
    "    Expected Output: [\"level\", \"madam\", \"radar\"]"
   ]
  }
 ],
 "metadata": {
  "kernelspec": {
   "display_name": "Python 3 (ipykernel)",
   "language": "python",
   "name": "python3"
  },
  "language_info": {
   "codemirror_mode": {
    "name": "ipython",
    "version": 3
   },
   "file_extension": ".py",
   "mimetype": "text/x-python",
   "name": "python",
   "nbconvert_exporter": "python",
   "pygments_lexer": "ipython3",
   "version": "3.11.7"
  }
 },
 "nbformat": 4,
 "nbformat_minor": 5
}
