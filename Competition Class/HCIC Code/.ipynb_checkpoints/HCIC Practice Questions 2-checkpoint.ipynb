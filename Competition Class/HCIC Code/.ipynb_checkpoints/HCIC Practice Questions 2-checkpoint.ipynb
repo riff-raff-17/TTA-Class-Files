{
 "cells": [
  {
   "cell_type": "markdown",
   "id": "f265ee0c",
   "metadata": {},
   "source": [
    "## Predict the Output\n",
    "\n",
    "What will be the output of the following code?"
   ]
  },
  {
   "cell_type": "code",
   "execution_count": null,
   "id": "e732b9e7",
   "metadata": {},
   "outputs": [],
   "source": [
    "x = 5\n",
    "y = 10\n",
    "z = x * y + x\n",
    "print(z)\n"
   ]
  },
  {
   "cell_type": "markdown",
   "id": "11ca5fa0",
   "metadata": {},
   "source": [
    "## Identify the Error\n",
    "\n",
    "Will this code run? If not, which line(s) of the following code will result in an error?"
   ]
  },
  {
   "cell_type": "code",
   "execution_count": null,
   "id": "2d9ccdab",
   "metadata": {},
   "outputs": [],
   "source": [
    "my_list = [1, 2, 3, 4]\n",
    "print(my_list[4])\n",
    "my_list.append(5)\n",
    "print(my_list)"
   ]
  },
  {
   "cell_type": "markdown",
   "id": "a264fa78",
   "metadata": {},
   "source": [
    "## Conditional Logic\n",
    "\n",
    "What should the condition be to print \"Pass\" for marks greater than or equal to 50?"
   ]
  },
  {
   "cell_type": "code",
   "execution_count": null,
   "id": "3760e178",
   "metadata": {},
   "outputs": [],
   "source": [
    "marks = [45, 55, 70, 30, 50]\n",
    "for mark in marks:\n",
    "    if ______:\n",
    "        print(\"Pass\")\n",
    "    else:\n",
    "        print(\"Fail\")\n"
   ]
  },
  {
   "cell_type": "markdown",
   "id": "2c54307c",
   "metadata": {},
   "source": [
    "## String Manipulation\n",
    "\n",
    "What will the following code output?"
   ]
  },
  {
   "cell_type": "code",
   "execution_count": 3,
   "id": "9814a422",
   "metadata": {},
   "outputs": [
    {
     "name": "stdout",
     "output_type": "stream",
     "text": [
      "HelloHello World\n"
     ]
    }
   ],
   "source": [
    "s = \"Hello\"\n",
    "result = s * 2 + \" World\"\n",
    "print(result)\n"
   ]
  },
  {
   "cell_type": "markdown",
   "id": "80c9422b",
   "metadata": {},
   "source": [
    "## Loop and Logic\n",
    "\n",
    "How many times will \"Python\" be printed?"
   ]
  },
  {
   "cell_type": "code",
   "execution_count": null,
   "id": "47c941de",
   "metadata": {},
   "outputs": [],
   "source": [
    "for i in range(3):\n",
    "    for j in range(2):\n",
    "        print(\"Python\")\n"
   ]
  },
  {
   "cell_type": "markdown",
   "id": "430ddf8b",
   "metadata": {},
   "source": [
    "## List Comprehension\n",
    "\n",
    "What will the following code output?"
   ]
  },
  {
   "cell_type": "code",
   "execution_count": null,
   "id": "59369a23",
   "metadata": {},
   "outputs": [],
   "source": [
    "nums = [1, 2, 3, 4]\n",
    "squared = [x**2 for x in nums if x % 2 == 0]\n",
    "print(squared)"
   ]
  },
  {
   "cell_type": "markdown",
   "id": "54c5d0aa",
   "metadata": {},
   "source": [
    "## Debugging\n",
    "\n",
    "Which part of the code below will cause a problem?"
   ]
  },
  {
   "cell_type": "code",
   "execution_count": null,
   "id": "11832719",
   "metadata": {},
   "outputs": [],
   "source": [
    "def calculate_area(length, breadth):\n",
    "    return length * breadth\n",
    "\n",
    "result = calculate_area(5)\n",
    "print(result)\n"
   ]
  },
  {
   "cell_type": "code",
   "execution_count": null,
   "id": "889732b7",
   "metadata": {},
   "outputs": [],
   "source": []
  }
 ],
 "metadata": {
  "kernelspec": {
   "display_name": "Python 3 (ipykernel)",
   "language": "python",
   "name": "python3"
  },
  "language_info": {
   "codemirror_mode": {
    "name": "ipython",
    "version": 3
   },
   "file_extension": ".py",
   "mimetype": "text/x-python",
   "name": "python",
   "nbconvert_exporter": "python",
   "pygments_lexer": "ipython3",
   "version": "3.11.7"
  }
 },
 "nbformat": 4,
 "nbformat_minor": 5
}
