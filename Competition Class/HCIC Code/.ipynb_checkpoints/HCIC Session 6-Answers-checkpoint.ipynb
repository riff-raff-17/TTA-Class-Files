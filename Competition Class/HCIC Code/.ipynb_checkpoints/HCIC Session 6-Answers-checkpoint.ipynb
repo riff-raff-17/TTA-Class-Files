{
 "cells": [
  {
   "cell_type": "markdown",
   "id": "b35fc699",
   "metadata": {},
   "source": [
    "## Basic Slicing\n",
    "\n",
    "Given the list ```numbers = [1, 2, 3, 4, 5, 6, 7, 8, 9, 10]```, write the code to:\n",
    "\n",
    "* Extract the first 5 elements.\n",
    "* Extract the last 3 elements.\n",
    "* Extract every second element from the list.\n",
    "* Reverse the list using slicing."
   ]
  },
  {
   "cell_type": "code",
   "execution_count": null,
   "id": "7468eeef",
   "metadata": {},
   "outputs": [],
   "source": [
    "numbers = [1, 2, 3, 4, 5, 6, 7, 8, 9, 10]\n",
    "\n",
    "# First 5 elements\n",
    "print(numbers[:5])  # [1, 2, 3, 4, 5]\n",
    "\n",
    "# Last 3 elements\n",
    "print(numbers[-3:])  # [8, 9, 10]\n",
    "\n",
    "# Every second element\n",
    "print(numbers[::2])  # [1, 3, 5, 7, 9]\n",
    "\n",
    "# Reversed list\n",
    "print(numbers[::-1])  # [10, 9, 8, 7, 6, 5, 4, 3, 2, 1]\n"
   ]
  },
  {
   "cell_type": "markdown",
   "id": "7c6520e7",
   "metadata": {},
   "source": [
    "Given the string ```text = \"The quick brown fox jumps over the lazy dog\"```, write the code to:\n",
    "\n",
    "* Extract the first 10 characters of the string.\n",
    "* Extract the last 8 characters of the string.\n",
    "* Extract every third character from the string.\n",
    "* Reverse the entire string."
   ]
  },
  {
   "cell_type": "code",
   "execution_count": null,
   "id": "0e10f352",
   "metadata": {},
   "outputs": [],
   "source": [
    "# String slicing problem\n",
    "text = \"The quick brown fox jumps over the lazy dog\"\n",
    "\n",
    "# First 10 characters\n",
    "print(text[:10])  # \"The quick \"\n",
    "\n",
    "# Last 8 characters\n",
    "print(text[-8:])  # \"lazy dog\"\n",
    "\n",
    "# Every third character\n",
    "print(text[::3])  # \"Tci o up etead\"\n",
    "\n",
    "# Reverse the string\n",
    "print(text[::-1])  # \"god yzal eht revo spmuj xof nworb kciuq ehT\"\n"
   ]
  },
  {
   "cell_type": "markdown",
   "id": "a55b62b1",
   "metadata": {},
   "source": [
    "## Custom Slicing\n",
    "\n",
    "Given ```fruits = [\"apple\", \"banana\", \"cherry\", \"date\", \"elderberry\"]```, write the code to:\n",
    "\n",
    "* Extract the middle three elements.\n",
    "* Skip the first and last element."
   ]
  },
  {
   "cell_type": "code",
   "execution_count": null,
   "id": "9b3969e1",
   "metadata": {},
   "outputs": [],
   "source": [
    "fruits = [\"apple\", \"banana\", \"cherry\", \"date\", \"elderberry\"]\n",
    "\n",
    "# Middle three elements\n",
    "print(fruits[1:4])  # ['banana', 'cherry', 'date']\n",
    "\n",
    "# Skip first and last\n",
    "print(fruits[1:-1])  # ['banana', 'cherry', 'date']"
   ]
  },
  {
   "cell_type": "markdown",
   "id": "bf7c471a",
   "metadata": {},
   "source": [
    "## Sum of Squares Using List Comprehension\n",
    "\n",
    "Use list comprehension to create a list of squares of numbers from 1 to 10. Then, calculate the sum of those squares."
   ]
  },
  {
   "cell_type": "code",
   "execution_count": null,
   "id": "6936ce00",
   "metadata": {},
   "outputs": [],
   "source": [
    "# Squares of numbers\n",
    "squares = [x**2 for x in range(1, 11)]\n",
    "print(squares)  # [1, 4, 9, 16, 25, 36, 49, 64, 81, 100]\n",
    "\n",
    "# Sum of squares\n",
    "print(sum(squares))  # 385"
   ]
  },
  {
   "cell_type": "markdown",
   "id": "4178cd9c",
   "metadata": {},
   "source": [
    "## Extract Even Numbers\n",
    "\n",
    "Use list comprehension to extract all even numbers from the list ```numbers = [12, 17, 19, 24, 29, 32]```."
   ]
  },
  {
   "cell_type": "code",
   "execution_count": null,
   "id": "290b5595",
   "metadata": {},
   "outputs": [],
   "source": [
    "numbers = [12, 17, 19, 24, 29, 32]\n",
    "\n",
    "# Extract even numbers\n",
    "evens = [x for x in numbers if x % 2 == 0]\n",
    "print(evens)  # [12, 24, 32]"
   ]
  },
  {
   "cell_type": "markdown",
   "id": "764317c8",
   "metadata": {},
   "source": [
    "## Filtering Strings\n",
    "\n",
    "Use list comprehension to filter and convert all strings in the list ```items = [\"apple\", 42, \"banana\", 3.14, \"cherry\"]``` to uppercase.\n",
    "\n",
    "Hint: The condition ```type(i) == str``` checks if something is a string"
   ]
  },
  {
   "cell_type": "code",
   "execution_count": null,
   "id": "c3c6d46c",
   "metadata": {},
   "outputs": [],
   "source": [
    "items = [\"apple\", 42, \"banana\", 3.14, \"cherry\"]\n",
    "\n",
    "# Filter and convert strings to uppercase\n",
    "strings_upper = [x.upper() for x in items if type(x) == str]\n",
    "print(strings_upper)  # ['APPLE', 'BANANA', 'CHERRY']\n"
   ]
  },
  {
   "cell_type": "markdown",
   "id": "82f45f0c",
   "metadata": {},
   "source": [
    "## List of Lengths\n",
    "\n",
    "Given the list ```words = [\"python\", \"list\", \"slicing\", \"comprehension\"]```, use list comprehension to create a list of the lengths of each word."
   ]
  },
  {
   "cell_type": "code",
   "execution_count": null,
   "id": "ecbb2056",
   "metadata": {},
   "outputs": [],
   "source": [
    "words = [\"python\", \"list\", \"slicing\", \"comprehension\"]\n",
    "\n",
    "# Lengths of words\n",
    "lengths = [len(word) for word in words]\n",
    "print(lengths)  # [6, 4, 7, 13]\n"
   ]
  },
  {
   "cell_type": "markdown",
   "id": "92b48446",
   "metadata": {},
   "source": [
    "## Reverse Strings\n",
    "\n",
    "Given ```names = [\"Alice\", \"Bob\", \"Charlie\"]```, use list comprehension to reverse each name in the list."
   ]
  },
  {
   "cell_type": "code",
   "execution_count": null,
   "id": "404a1514",
   "metadata": {},
   "outputs": [],
   "source": [
    "names = [\"Alice\", \"Bob\", \"Charlie\"]\n",
    "\n",
    "# Reverse each name\n",
    "reversed_names = [name[::-1] for name in names]\n",
    "print(reversed_names)  # ['ecilA', 'boB', 'eilrahC']\n"
   ]
  },
  {
   "cell_type": "markdown",
   "id": "24f86cbe",
   "metadata": {},
   "source": [
    "## Remove Vowels from a Sentence\n",
    "\n",
    "Write a list comprehension to remove all vowels ('a', 'e', 'i', 'o', 'u') from a given sentence.\n",
    "\n",
    "    Sample Input: \"Python is awesome!\"\n",
    "    Expected Output: \"Pythn s wsm!\""
   ]
  },
  {
   "cell_type": "code",
   "execution_count": null,
   "id": "e9bf2746",
   "metadata": {},
   "outputs": [],
   "source": [
    "# Remove vowels from a sentence\n",
    "sentence = \"Python is awesome!\"\n",
    "vowels = 'aeiouAEIOU'\n",
    "result = [char for char in sentence if char not in vowels]\n",
    "print(result)  # \"Pythn s wsm!\"\n"
   ]
  },
  {
   "cell_type": "markdown",
   "id": "4b6dc7eb",
   "metadata": {},
   "source": [
    "## Find Palindromes\n",
    "\n",
    "Given a list of words, write a list comprehension to filter only the palindromes (words that read the same backward as forward).\n",
    "\n",
    "    Sample Input: [level\", \"world\", \"madam\", \"python\", \"radar\"]\n",
    "    Expected Output: [\"level\", \"madam\", \"radar\"]"
   ]
  },
  {
   "cell_type": "code",
   "execution_count": null,
   "id": "438e43b5",
   "metadata": {},
   "outputs": [],
   "source": [
    "# Filter palindromes\n",
    "words = [\"level\", \"world\", \"madam\", \"python\", \"radar\"]\n",
    "\n",
    "palindromes = [word for word in words if word == word[::-1]]\n",
    "print(palindromes)  # ['level', 'madam', 'radar']"
   ]
  }
 ],
 "metadata": {
  "kernelspec": {
   "display_name": "Python 3 (ipykernel)",
   "language": "python",
   "name": "python3"
  },
  "language_info": {
   "codemirror_mode": {
    "name": "ipython",
    "version": 3
   },
   "file_extension": ".py",
   "mimetype": "text/x-python",
   "name": "python",
   "nbconvert_exporter": "python",
   "pygments_lexer": "ipython3",
   "version": "3.11.7"
  }
 },
 "nbformat": 4,
 "nbformat_minor": 5
}
