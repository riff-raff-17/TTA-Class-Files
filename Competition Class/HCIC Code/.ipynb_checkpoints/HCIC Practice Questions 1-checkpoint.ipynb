{
 "cells": [
  {
   "cell_type": "markdown",
   "id": "47a50212",
   "metadata": {},
   "source": [
    "## Code Execution Output\n",
    "\n",
    "What is the output after executing the following Python code?"
   ]
  },
  {
   "cell_type": "code",
   "execution_count": null,
   "id": "cf0f25ed",
   "metadata": {},
   "outputs": [],
   "source": [
    "a = '5'\n",
    "b = '2'\n",
    "result = a * int(b)\n",
    "print(result)\n"
   ]
  },
  {
   "cell_type": "markdown",
   "id": "844eef4b",
   "metadata": {},
   "source": [
    "What will be the values of a, b, and c after executing the following Python code?"
   ]
  },
  {
   "cell_type": "code",
   "execution_count": null,
   "id": "6f531570",
   "metadata": {},
   "outputs": [],
   "source": [
    "a, b, c = 8, 16, 24\n",
    "a, b, c = c, a + 2, b - 4\n",
    "b = b * 2\n",
    "c = a - b\n",
    "print(a, b, c)\n"
   ]
  },
  {
   "cell_type": "markdown",
   "id": "2a9bdd45",
   "metadata": {},
   "source": [
    "## Loops and Conditions\n",
    "\n",
    "What is the output after executing the following Python code?"
   ]
  },
  {
   "cell_type": "code",
   "execution_count": null,
   "id": "84f68f4c",
   "metadata": {},
   "outputs": [],
   "source": [
    "string = \"robotics\"\n",
    "output = \"\"\n",
    "for char in string:\n",
    "    if char in \"robot\":\n",
    "        output += char.upper()\n",
    "    else:\n",
    "        output += char\n",
    "print(output)\n"
   ]
  },
  {
   "cell_type": "markdown",
   "id": "063ed83d",
   "metadata": {},
   "source": [
    "What is the output after executing the following Python code?"
   ]
  },
  {
   "cell_type": "code",
   "execution_count": null,
   "id": "606f2f05",
   "metadata": {},
   "outputs": [],
   "source": [
    "count, total = 3, 5\n",
    "while count > 0:\n",
    "    total += count\n",
    "    count -= 1\n",
    "print(total)\n"
   ]
  },
  {
   "cell_type": "markdown",
   "id": "41e47a45",
   "metadata": {},
   "source": [
    "## Lists and Iteration\n",
    "\n",
    "What will be the output of the following Python code?"
   ]
  },
  {
   "cell_type": "code",
   "execution_count": 8,
   "id": "ee04a485",
   "metadata": {},
   "outputs": [
    {
     "name": "stdout",
     "output_type": "stream",
     "text": [
      "[3, 5, 18, 9]\n"
     ]
    }
   ],
   "source": [
    "nums = [2, 4, 6, 8]\n",
    "new_nums = []\n",
    "for num in nums:\n",
    "    if num % 3 == 0:\n",
    "        new_nums.append(num * 3)\n",
    "    else:\n",
    "        new_nums.append(num + 1)\n",
    "print(new_nums)\n"
   ]
  },
  {
   "cell_type": "markdown",
   "id": "47c030fa",
   "metadata": {},
   "source": [
    "## Programming Challenges\n",
    "\n",
    "Write a Python program to count the total number of vowels in a given string.\n",
    "Example:\n",
    "\n",
    "    Input: \"Hello World\"\n",
    "    Output: 3"
   ]
  },
  {
   "cell_type": "markdown",
   "id": "7cf402a1",
   "metadata": {},
   "source": [
    "If the output is ```[1, 8, 27, 64]```, what should the condition inside the if statement be?"
   ]
  },
  {
   "cell_type": "code",
   "execution_count": 7,
   "id": "a17cbdde",
   "metadata": {},
   "outputs": [
    {
     "name": "stdout",
     "output_type": "stream",
     "text": [
      "[1, 8, 27, 64]\n"
     ]
    }
   ],
   "source": [
    "nums = [1, 2, 3, 4]\n",
    "cubes = []\n",
    "for num in nums:\n",
    "    if ________:\n",
    "        cubes.append(num**3)\n",
    "print(cubes)\n"
   ]
  },
  {
   "cell_type": "markdown",
   "id": "e48e2586",
   "metadata": {},
   "source": [
    "If the output is ```[1, 4, 27, 16]```, what should the condition inside the if statement be?"
   ]
  },
  {
   "cell_type": "code",
   "execution_count": null,
   "id": "d89e4af9",
   "metadata": {},
   "outputs": [],
   "source": [
    "nums = [1, 2, 3, 4]\n",
    "cubes = []\n",
    "for num in nums:\n",
    "    if _______: \n",
    "        cubes.append(num**3)\n",
    "    else:\n",
    "        cubes.append(num**2)\n",
    "print(cubes)\n"
   ]
  },
  {
   "cell_type": "markdown",
   "id": "75f0e31a",
   "metadata": {},
   "source": [
    "Create a Python program that extracts and prints only the consonants from a given string.\n",
    "Example:\n",
    "\n",
    "    Input: \"Python Programming\"\n",
    "    Output: \"Pythn Prgrmmng\""
   ]
  },
  {
   "cell_type": "markdown",
   "id": "3252ab46",
   "metadata": {},
   "source": [
    "Write a Python program to determine if a number is prime.\n",
    "Example:\n",
    "\n",
    "    Input: 13\n",
    "    Output: True\n",
    "    Input: 15\n",
    "    Output: False"
   ]
  }
 ],
 "metadata": {
  "kernelspec": {
   "display_name": "Python 3 (ipykernel)",
   "language": "python",
   "name": "python3"
  },
  "language_info": {
   "codemirror_mode": {
    "name": "ipython",
    "version": 3
   },
   "file_extension": ".py",
   "mimetype": "text/x-python",
   "name": "python",
   "nbconvert_exporter": "python",
   "pygments_lexer": "ipython3",
   "version": "3.11.7"
  }
 },
 "nbformat": 4,
 "nbformat_minor": 5
}
