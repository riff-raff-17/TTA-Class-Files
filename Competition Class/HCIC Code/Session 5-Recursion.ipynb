{
 "cells": [
  {
   "cell_type": "markdown",
   "id": "5b9092f5",
   "metadata": {},
   "source": [
    "## Factorial of a Number\n",
    "\n",
    "Write a recursive function to calculate the factorial of a given number."
   ]
  },
  {
   "cell_type": "markdown",
   "id": "bf7f8a13",
   "metadata": {},
   "source": [
    "## Fibonacci Sequence\n",
    "\n",
    "Write a recursive function to compute the nth Fibonacci number."
   ]
  },
  {
   "cell_type": "markdown",
   "id": "2d22dc40",
   "metadata": {},
   "source": [
    "## Sum of Numbers\n",
    "\n",
    "Write a recursive function to find the sum of all numbers from 1 to n."
   ]
  },
  {
   "cell_type": "markdown",
   "id": "1f4313ca",
   "metadata": {},
   "source": [
    "## Sum of Digits\n",
    "\n",
    "Write a recursive function to calculate the sum of digits of a number."
   ]
  },
  {
   "cell_type": "markdown",
   "id": "37d99a5d",
   "metadata": {},
   "source": [
    "## Challenge: Tower of Hanoi\n",
    "\n",
    "Write a recursive function to solve the Tower of Hanoi puzzle for n disks."
   ]
  }
 ],
 "metadata": {
  "kernelspec": {
   "display_name": "Python 3 (ipykernel)",
   "language": "python",
   "name": "python3"
  },
  "language_info": {
   "codemirror_mode": {
    "name": "ipython",
    "version": 3
   },
   "file_extension": ".py",
   "mimetype": "text/x-python",
   "name": "python",
   "nbconvert_exporter": "python",
   "pygments_lexer": "ipython3",
   "version": "3.11.7"
  }
 },
 "nbformat": 4,
 "nbformat_minor": 5
}
