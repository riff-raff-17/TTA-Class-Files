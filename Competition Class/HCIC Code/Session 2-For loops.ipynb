{
 "cells": [
  {
   "cell_type": "markdown",
   "id": "befb60df",
   "metadata": {},
   "source": [
    "## Sum of Numbers\n",
    "\n",
    "Write a Python program to calculate the sum of numbers from 1 to 100 using a for loop."
   ]
  },
  {
   "cell_type": "markdown",
   "id": "f62e398d",
   "metadata": {},
   "source": [
    "## Multiplication Table\n",
    "\n",
    "Write a program to print the multiplication table for a number entered by the user (from 1 to 10)."
   ]
  },
  {
   "cell_type": "markdown",
   "id": "a7fbff52",
   "metadata": {},
   "source": [
    "## Iterating Through a List\n",
    "\n",
    "Given the list ```fruits = [\"apple\", \"banana\", \"cherry\", \"date\"]```, write a program to print each fruit on a new line."
   ]
  },
  {
   "cell_type": "markdown",
   "id": "2326a5c8",
   "metadata": {},
   "source": [
    "## Dictionary Iteration\n",
    "\n",
    "Given the dictionary ```prices = {\"apple\": 2, \"banana\": 1, \"cherry\": 3}```, write a program to print each fruit and its price."
   ]
  },
  {
   "cell_type": "markdown",
   "id": "3ceb23db",
   "metadata": {},
   "source": [
    "## Sum of Even Numbers\n",
    "\n",
    "Write a program to calculate the sum of all even numbers between 1 and 50."
   ]
  },
  {
   "cell_type": "markdown",
   "id": "39db541c",
   "metadata": {},
   "source": [
    "## Nested Loops: Pattern Printing\n",
    "\n",
    "Write a program to print the following pattern using nested loops, for an arbitrary number of rows:\n",
    "\n",
    "\\*\n",
    "\n",
    "\\**\n",
    "\n",
    "\\***\n",
    "\n",
    "\\****\n",
    "\n",
    "\\*****\n",
    "\n",
    "Hint: Remember, strings can be multiplied! HCIC * 2 = HCICHCIC"
   ]
  },
  {
   "cell_type": "markdown",
   "id": "e8543aea",
   "metadata": {},
   "source": [
    "## Count Characters\n",
    "\n",
    "Write a program to count the occurrence of each character in the string \"banana\".\n",
    "\n",
    "Hint: Create an empty dictionary to hold each letter, and if the letter is already in the dictionary add one."
   ]
  },
  {
   "cell_type": "markdown",
   "id": "0d265198",
   "metadata": {},
   "source": [
    "## Prime Numbers\n",
    "\n",
    "Write a program to check if a certain number is prime."
   ]
  },
  {
   "cell_type": "markdown",
   "id": "be1bc6bb",
   "metadata": {},
   "source": [
    "## Challenge: Factorial Calculation\n",
    "\n",
    "Write a program to calculate the factorial of a number entered by the user using a for loop."
   ]
  }
 ],
 "metadata": {
  "kernelspec": {
   "display_name": "Python 3 (ipykernel)",
   "language": "python",
   "name": "python3"
  },
  "language_info": {
   "codemirror_mode": {
    "name": "ipython",
    "version": 3
   },
   "file_extension": ".py",
   "mimetype": "text/x-python",
   "name": "python",
   "nbconvert_exporter": "python",
   "pygments_lexer": "ipython3",
   "version": "3.11.7"
  }
 },
 "nbformat": 4,
 "nbformat_minor": 5
}
