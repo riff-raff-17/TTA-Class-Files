{
 "cells": [
  {
   "cell_type": "markdown",
   "id": "ed29aad7",
   "metadata": {},
   "source": [
    "![title](images/logic_gates.jpg)"
   ]
  },
  {
   "cell_type": "code",
   "execution_count": 19,
   "id": "6c2f2c18",
   "metadata": {},
   "outputs": [
    {
     "name": "stdout",
     "output_type": "stream",
     "text": [
      "True\n",
      "False\n",
      "False\n",
      "True\n"
     ]
    }
   ],
   "source": [
    "def NOT(x: bool) -> bool:\n",
    "    return not x\n",
    "\n",
    "def AND(x: bool, y: bool) -> bool:\n",
    "    return x and y\n",
    "\n",
    "def NAND(x: bool, y: bool) -> bool:\n",
    "    return not (x and y)\n",
    "\n",
    "def OR(x: bool, y: bool) -> bool:\n",
    "    return x or y\n",
    "\n",
    "def NOR(x: bool, y: bool) -> bool:\n",
    "    return not (x or y)\n",
    "\n",
    "def XOR(x: bool, y: bool) -> bool:\n",
    "    if x == y:\n",
    "        return False\n",
    "    else:\n",
    "        return True\n",
    "    \n",
    "def XNOR(x: bool, y: bool) -> bool:\n",
    "    if x == y:\n",
    "        return True\n",
    "    else:\n",
    "        return False\n",
    "    \n",
    "test_cases = [(0, 0), (1, 0), (0, 1), (1, 1)]\n",
    "\n",
    "for i in test_cases:\n",
    "    print(XNOR(i[0], i[1]))"
   ]
  },
  {
   "cell_type": "code",
   "execution_count": 25,
   "id": "eb4c85c1",
   "metadata": {},
   "outputs": [
    {
     "name": "stdout",
     "output_type": "stream",
     "text": [
      "0 | 0 | 0 | 0\n",
      "0 | 0 | 1 | 1\n",
      "0 | 1 | 0 | False\n",
      "1 | 0 | 0 | False\n",
      "0 | 1 | 1 | False\n",
      "1 | 0 | 1 | False\n",
      "1 | 1 | 0 | True\n",
      "1 | 1 | 1 | False\n"
     ]
    }
   ],
   "source": [
    "test_cases = [(0, 0, 0), (0, 0, 1), (0, 1, 0), (1, 0, 0),\n",
    "             (0, 1, 1), (1, 0, 1), (1, 1, 0), (1, 1, 1)]\n",
    "\n",
    "def solution(a, b, c):\n",
    "\n",
    "for i in test_cases:\n",
    "    print(f\"{i[0]} | {i[1]} | {i[2]} | {solution(i[0], i[1], i[2])}\")"
   ]
  }
 ],
 "metadata": {
  "kernelspec": {
   "display_name": "Python 3 (ipykernel)",
   "language": "python",
   "name": "python3"
  },
  "language_info": {
   "codemirror_mode": {
    "name": "ipython",
    "version": 3
   },
   "file_extension": ".py",
   "mimetype": "text/x-python",
   "name": "python",
   "nbconvert_exporter": "python",
   "pygments_lexer": "ipython3",
   "version": "3.11.7"
  }
 },
 "nbformat": 4,
 "nbformat_minor": 5
}
