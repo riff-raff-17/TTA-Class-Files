{
 "cells": [
  {
   "cell_type": "markdown",
   "id": "5b9092f5",
   "metadata": {},
   "source": [
    "## Factorial of a Number\n",
    "\n",
    "Write a recursive function to calculate the factorial of a given number."
   ]
  },
  {
   "cell_type": "code",
   "execution_count": 1,
   "id": "ff3e6652",
   "metadata": {},
   "outputs": [
    {
     "name": "stdout",
     "output_type": "stream",
     "text": [
      "Enter a number: 4\n",
      "The factorial of 4 is 24.\n"
     ]
    }
   ],
   "source": [
    "# Recursive factorial function\n",
    "def factorial(n):\n",
    "    if n == 0 or n == 1:  # Base case\n",
    "        return 1\n",
    "    return n * factorial(n - 1)  # Recursive case\n",
    "\n",
    "# Test the function\n",
    "num = int(input(\"Enter a number: \"))\n",
    "print(f\"The factorial of {num} is {factorial(num)}.\")\n"
   ]
  },
  {
   "cell_type": "markdown",
   "id": "bf7f8a13",
   "metadata": {},
   "source": [
    "## Fibonacci Sequence\n",
    "\n",
    "Write a recursive function to compute the nth Fibonacci number."
   ]
  },
  {
   "cell_type": "code",
   "execution_count": 2,
   "id": "86b7a1aa",
   "metadata": {},
   "outputs": [
    {
     "name": "stdout",
     "output_type": "stream",
     "text": [
      "Enter the position of the Fibonacci sequence: 4\n",
      "The 4th Fibonacci number is 3.\n"
     ]
    }
   ],
   "source": [
    "# Recursive Fibonacci function\n",
    "def fibonacci(n):\n",
    "    if n == 0:  # Base case\n",
    "        return 0\n",
    "    elif n == 1:\n",
    "        return 1\n",
    "    return fibonacci(n - 1) + fibonacci(n - 2)  # Recursive case\n",
    "\n",
    "# Test the function\n",
    "num = int(input(\"Enter the position of the Fibonacci sequence: \"))\n",
    "print(f\"The {num}th Fibonacci number is {fibonacci(num)}.\")\n"
   ]
  },
  {
   "cell_type": "markdown",
   "id": "2d22dc40",
   "metadata": {},
   "source": [
    "## Sum of Numbers\n",
    "\n",
    "Write a recursive function to find the sum of all numbers from 1 to n."
   ]
  },
  {
   "cell_type": "code",
   "execution_count": 3,
   "id": "132a3beb",
   "metadata": {},
   "outputs": [
    {
     "name": "stdout",
     "output_type": "stream",
     "text": [
      "Enter a number: 33\n",
      "The sum of numbers from 1 to 33 is 561.\n"
     ]
    }
   ],
   "source": [
    "# Recursive sum function\n",
    "def sum_numbers(n):\n",
    "    if n == 0:  # Base case\n",
    "        return 0\n",
    "    return n + sum_numbers(n - 1)  # Recursive case\n",
    "\n",
    "# Test the function\n",
    "num = int(input(\"Enter a number: \"))\n",
    "print(f\"The sum of numbers from 1 to {num} is {sum_numbers(num)}.\")\n"
   ]
  },
  {
   "cell_type": "markdown",
   "id": "1f4313ca",
   "metadata": {},
   "source": [
    "## Sum of Digits\n",
    "\n",
    "Write a recursive function to calculate the sum of digits of a number."
   ]
  },
  {
   "cell_type": "code",
   "execution_count": null,
   "id": "e368aa65",
   "metadata": {},
   "outputs": [],
   "source": [
    "# Recursive sum of digits\n",
    "def sum_of_digits(n):\n",
    "    if n == 0:  # Base case\n",
    "        return 0\n",
    "    return n % 10 + sum_of_digits(n // 10)  # Recursive case\n",
    "\n",
    "# Test the function\n",
    "num = int(input(\"Enter a number: \"))\n",
    "print(f\"The sum of the digits of {num} is {sum_of_digits(num)}.\")\n"
   ]
  },
  {
   "cell_type": "markdown",
   "id": "37d99a5d",
   "metadata": {},
   "source": [
    "## Challenge: Tower of Hanoi\n",
    "\n",
    "Write a recursive function to solve the Tower of Hanoi puzzle for n disks."
   ]
  },
  {
   "cell_type": "code",
   "execution_count": 5,
   "id": "5a497520",
   "metadata": {},
   "outputs": [
    {
     "name": "stdout",
     "output_type": "stream",
     "text": [
      "Enter the number of disks: 5\n",
      "Move disk 1 from A to C\n",
      "Move disk 2 from A to B\n",
      "Move disk 1 from C to B\n",
      "Move disk 3 from A to C\n",
      "Move disk 1 from B to A\n",
      "Move disk 2 from B to C\n",
      "Move disk 1 from A to C\n",
      "Move disk 4 from A to B\n",
      "Move disk 1 from C to B\n",
      "Move disk 2 from C to A\n",
      "Move disk 1 from B to A\n",
      "Move disk 3 from C to B\n",
      "Move disk 1 from A to C\n",
      "Move disk 2 from A to B\n",
      "Move disk 1 from C to B\n",
      "Move disk 5 from A to C\n",
      "Move disk 1 from B to A\n",
      "Move disk 2 from B to C\n",
      "Move disk 1 from A to C\n",
      "Move disk 3 from B to A\n",
      "Move disk 1 from C to B\n",
      "Move disk 2 from C to A\n",
      "Move disk 1 from B to A\n",
      "Move disk 4 from B to C\n",
      "Move disk 1 from A to C\n",
      "Move disk 2 from A to B\n",
      "Move disk 1 from C to B\n",
      "Move disk 3 from A to C\n",
      "Move disk 1 from B to A\n",
      "Move disk 2 from B to C\n",
      "Move disk 1 from A to C\n"
     ]
    }
   ],
   "source": [
    "# Recursive Tower of Hanoi function\n",
    "def tower_of_hanoi(n, source, target, auxiliary):\n",
    "    if n == 1:  # Base case\n",
    "        print(f\"Move disk 1 from {source} to {target}\")\n",
    "        return\n",
    "    tower_of_hanoi(n - 1, source, auxiliary, target)  # Move n-1 disks to auxiliary\n",
    "    print(f\"Move disk {n} from {source} to {target}\")  # Move nth disk to target\n",
    "    tower_of_hanoi(n - 1, auxiliary, target, source)  # Move n-1 disks to target\n",
    "\n",
    "# Test the function\n",
    "num_disks = int(input(\"Enter the number of disks: \"))\n",
    "tower_of_hanoi(num_disks, 'A', 'C', 'B')\n"
   ]
  }
 ],
 "metadata": {
  "kernelspec": {
   "display_name": "Python 3 (ipykernel)",
   "language": "python",
   "name": "python3"
  },
  "language_info": {
   "codemirror_mode": {
    "name": "ipython",
    "version": 3
   },
   "file_extension": ".py",
   "mimetype": "text/x-python",
   "name": "python",
   "nbconvert_exporter": "python",
   "pygments_lexer": "ipython3",
   "version": "3.11.7"
  }
 },
 "nbformat": 4,
 "nbformat_minor": 5
}
