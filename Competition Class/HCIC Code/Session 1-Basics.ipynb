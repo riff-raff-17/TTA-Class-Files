{
 "cells": [
  {
   "cell_type": "code",
   "execution_count": null,
   "id": "e181637f",
   "metadata": {},
   "outputs": [],
   "source": [
    "# Basic String Operations in Python\n",
    "\n",
    "# 1. Creating a string\n",
    "text = \"Hello, World!\"\n",
    "\n",
    "# 2. Accessing individual characters using indexing\n",
    "print(\"First character:\", text[0])  # H\n",
    "print(\"Last character:\", text[-1])  # !\n",
    "\n",
    "# 3. Slicing a string\n",
    "print(\"First five characters:\", text[:5])  # Hello\n",
    "print(\"Characters from index 7 to the end:\", text[7:])  # World!\n",
    "print(\"Characters from index 0 to 4:\", text[0:5])  # Hello\n",
    "\n",
    "# 4. String length\n",
    "print(\"Length of the string:\", len(text))  # 13\n",
    "\n",
    "# 5. String concatenation\n",
    "greeting = \"Hello\"\n",
    "name = \"Alice\"\n",
    "message = greeting + \", \" + name + \"!\"\n",
    "print(\"Greeting message:\", message)  # Hello, Alice!\n",
    "\n",
    "# 6. Repeating a string\n",
    "repeat_text = \"Ha\" * 3\n",
    "print(\"Repeated string:\", repeat_text)  # HaHaHa\n",
    "\n",
    "# 7. Converting to uppercase and lowercase\n",
    "lower_text = text.lower()\n",
    "upper_text = text.upper()\n",
    "print(\"Lowercase:\", lower_text)  # hello, world!\n",
    "print(\"Uppercase:\", upper_text)  # HELLO, WORLD!\n"
   ]
  },
  {
   "cell_type": "markdown",
   "id": "70157564",
   "metadata": {},
   "source": [
    "Identify the Python data types for each of the following values:"
   ]
  },
  {
   "cell_type": "code",
   "execution_count": null,
   "id": "4f8e4cd6",
   "metadata": {},
   "outputs": [],
   "source": [
    "42\n",
    "\"Hello, world!\"\n",
    "3.14159\n",
    "True\n",
    "[1, 2, 3, 4, 5]\n",
    "(\"apple\", \"banana\", \"cherry\")\n",
    "{\"name\": \"Alice\", \"age\": 25}"
   ]
  },
  {
   "cell_type": "markdown",
   "id": "cc07e7fa",
   "metadata": {},
   "source": [
    "Write a Python program to:\n",
    "\n",
    "1. Ask the user for their name, age, and favorite hobby.\n",
    "2. Store this information in a dictionary.\n",
    "3. Print a message like: \"Alice, who is 25 years old, loves painting.\""
   ]
  },
  {
   "cell_type": "code",
   "execution_count": null,
   "id": "a3c8eac8",
   "metadata": {},
   "outputs": [],
   "source": []
  },
  {
   "cell_type": "markdown",
   "id": "11f3e983",
   "metadata": {},
   "source": [
    "Given the list numbers = ```:{[10, 20, 30, 40, 50]}:```\n",
    "\n",
    "1. Add the number 60 to the list.\n",
    "2. Remove the number 30.\n",
    "3. Print the sum of all numbers in the list."
   ]
  },
  {
   "cell_type": "code",
   "execution_count": null,
   "id": "5711d4bc",
   "metadata": {},
   "outputs": [],
   "source": []
  },
  {
   "cell_type": "markdown",
   "id": "2cfbbd17",
   "metadata": {},
   "source": [
    "Given the dictionary student_grades = ```{\"Alice\": 85, \"Bob\": 92, \"Charlie\": 78}```:\n",
    "\n",
    "1. Add a new student \"Diana\" with a grade of 88.\n",
    "2. Update Bob’s grade to 95."
   ]
  },
  {
   "cell_type": "code",
   "execution_count": null,
   "id": "545d90f7",
   "metadata": {},
   "outputs": [],
   "source": []
  },
  {
   "cell_type": "markdown",
   "id": "2507bb22",
   "metadata": {},
   "source": [
    "Decide whether the following statements are true or false:\n",
    "\n",
    "1. 42.0 is an integer.\n",
    "2. Tuples can be modified after creation.\n",
    "3. A dictionary’s keys must always be strings.\n",
    "4. Lists are ordered collections of items."
   ]
  },
  {
   "cell_type": "code",
   "execution_count": null,
   "id": "239afe85",
   "metadata": {},
   "outputs": [],
   "source": []
  },
  {
   "cell_type": "markdown",
   "id": "c58c1d13",
   "metadata": {},
   "source": [
    "7. Challenge: Student Information Organizer\n",
    "\n",
    "Write a Python program that:\n",
    "\n",
    "1. Allows the user to enter information for three students: their names, ages, and grades.\n",
    "2. Stores this information in a dictionary where the key is the student’s name and the value is a tuple containing their age and grade.\n",
    "3. Prints all the student information in a user-friendly format."
   ]
  },
  {
   "cell_type": "code",
   "execution_count": null,
   "id": "1bd01d4b",
   "metadata": {},
   "outputs": [],
   "source": []
  }
 ],
 "metadata": {
  "kernelspec": {
   "display_name": "Python 3 (ipykernel)",
   "language": "python",
   "name": "python3"
  },
  "language_info": {
   "codemirror_mode": {
    "name": "ipython",
    "version": 3
   },
   "file_extension": ".py",
   "mimetype": "text/x-python",
   "name": "python",
   "nbconvert_exporter": "python",
   "pygments_lexer": "ipython3",
   "version": "3.11.7"
  }
 },
 "nbformat": 4,
 "nbformat_minor": 5
}
