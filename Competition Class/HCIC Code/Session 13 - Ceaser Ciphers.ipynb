{
 "cells": [
  {
   "cell_type": "code",
   "execution_count": null,
   "id": "e4d3c0c4",
   "metadata": {},
   "outputs": [],
   "source": [
    "# Simple Caesar Cipher Encryption Program\n",
    "\n",
    "def caesar_encrypt(text, shift):\n",
    "    encrypted_text = \"\"\n",
    "    for char in text:\n",
    "        if char.isalpha():  # Only encrypt letters\n",
    "            # Shift uppercase and lowercase letters separately\n",
    "            start = ord('A') if char.isupper() else ord('a')\n",
    "            new_char = chr((ord(char) + shift))\n",
    "            encrypted_text += new_char\n",
    "        else:\n",
    "            encrypted_text += char  # Non-alphabetical characters remain unchanged\n",
    "    return encrypted_text\n",
    "\n",
    "print(\"--- Caesar Cipher Encryption ---\")\n",
    "text = input(\"Enter text to encrypt: \")\n",
    "try:\n",
    "    shift = int(input(\"Enter shift value (integer): \"))\n",
    "    encrypted_text = caesar_encrypt(text, shift)\n",
    "    print(f\"Encrypted text: {encrypted_text}\")\n",
    "except ValueError:\n",
    "    print(\"Invalid shift value! Please enter an integer.\")\n"
   ]
  },
  {
   "cell_type": "code",
   "execution_count": null,
   "id": "90d841d4",
   "metadata": {},
   "outputs": [],
   "source": [
    "def caesar_decrypt(message):\n",
    "    for i in range(1, 26):\n",
    "        print(caesar_encrypt(message, -i))\n",
    "        \n",
    "caesar_decrypt(\"khoor zruog\")"
   ]
  },
  {
   "cell_type": "code",
   "execution_count": null,
   "id": "bc63d652",
   "metadata": {},
   "outputs": [],
   "source": [
    "# Simple Caesar Cipher Encryption Program\n",
    "\n",
    "def caesar_encrypt(text, shift):\n",
    "    encrypted_text = \"\"\n",
    "    for char in text:\n",
    "        if char.isalpha():  # Only encrypt letters\n",
    "            # Shift uppercase and lowercase letters separately\n",
    "            start = ord('A') if char.isupper() else ord('a')\n",
    "            new_char = chr(start + (ord(char) - start + shift) % 26)\n",
    "            encrypted_text += new_char\n",
    "        else:\n",
    "            encrypted_text += char  # Non-alphabetical characters remain unchanged\n",
    "    return encrypted_text\n",
    "\n",
    "print(\"--- Caesar Cipher Encryption ---\")\n",
    "text = input(\"Enter text to encrypt: \")\n",
    "try:\n",
    "    shift = int(input(\"Enter shift value (integer): \"))\n",
    "    encrypted_text = caesar_encrypt(text, shift)\n",
    "    print(f\"Encrypted text: {encrypted_text}\")\n",
    "except ValueError:\n",
    "    print(\"Invalid shift value! Please enter an integer.\")\n"
   ]
  },
  {
   "cell_type": "code",
   "execution_count": null,
   "id": "d17be979",
   "metadata": {},
   "outputs": [],
   "source": [
    "def caesar_decrypt(message):\n",
    "    for i in range(1, 26):\n",
    "        print(caesar_encrypt(message, -i))\n",
    "        \n",
    "caesar_decrypt(\"khoor zruog\")"
   ]
  }
 ],
 "metadata": {
  "kernelspec": {
   "display_name": "Python 3 (ipykernel)",
   "language": "python",
   "name": "python3"
  },
  "language_info": {
   "codemirror_mode": {
    "name": "ipython",
    "version": 3
   },
   "file_extension": ".py",
   "mimetype": "text/x-python",
   "name": "python",
   "nbconvert_exporter": "python",
   "pygments_lexer": "ipython3",
   "version": "3.11.7"
  }
 },
 "nbformat": 4,
 "nbformat_minor": 5
}
