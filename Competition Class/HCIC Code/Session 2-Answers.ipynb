{
 "cells": [
  {
   "cell_type": "markdown",
   "id": "befb60df",
   "metadata": {},
   "source": [
    "## Sum of Numbers\n",
    "\n",
    "Write a Python program to calculate the sum of numbers from 1 to 100 using a for loop."
   ]
  },
  {
   "cell_type": "code",
   "execution_count": null,
   "id": "c1e33c36",
   "metadata": {},
   "outputs": [],
   "source": [
    "# Sum of numbers from 1 to 100\n",
    "total = 0\n",
    "for num in range(1, 101):\n",
    "    total += num\n",
    "print(\"Sum from 1 to 100:\", total)\n"
   ]
  },
  {
   "cell_type": "markdown",
   "id": "f62e398d",
   "metadata": {},
   "source": [
    "## Multiplication Table\n",
    "\n",
    "Write a program to print the multiplication table for a number entered by the user (from 1 to 10)."
   ]
  },
  {
   "cell_type": "code",
   "execution_count": null,
   "id": "4a37ace4",
   "metadata": {},
   "outputs": [],
   "source": [
    "# Multiplication Table\n",
    "number = int(input(\"Enter a number: \"))\n",
    "print(f\"Multiplication table for {number}:\")\n",
    "for i in range(1, 11):\n",
    "    print(f\"{number} x {i} = {number * i}\")"
   ]
  },
  {
   "cell_type": "markdown",
   "id": "a7fbff52",
   "metadata": {},
   "source": [
    "## Iterating Through a List\n",
    "\n",
    "Given the list ```fruits = [\"apple\", \"banana\", \"cherry\", \"date\"]```, write a program to print each fruit on a new line."
   ]
  },
  {
   "cell_type": "code",
   "execution_count": null,
   "id": "aa8fc185",
   "metadata": {},
   "outputs": [],
   "source": [
    "# Iterating through a list\n",
    "fruits = [\"apple\", \"banana\", \"cherry\", \"date\"]\n",
    "for fruit in fruits:\n",
    "    print(fruit)\n"
   ]
  },
  {
   "cell_type": "markdown",
   "id": "2326a5c8",
   "metadata": {},
   "source": [
    "## Dictionary Iteration\n",
    "\n",
    "Given the dictionary ```prices = {\"apple\": 2, \"banana\": 1, \"cherry\": 3}```, write a program to print each fruit and its price."
   ]
  },
  {
   "cell_type": "code",
   "execution_count": null,
   "id": "7579fbf7",
   "metadata": {},
   "outputs": [],
   "source": [
    "# Iterating through a dictionary\n",
    "prices = {\"apple\": 2, \"banana\": 1, \"cherry\": 3}\n",
    "for fruit, price in prices.items():\n",
    "    print(f\"The price of {fruit} is ${price}.\")"
   ]
  },
  {
   "cell_type": "markdown",
   "id": "3ceb23db",
   "metadata": {},
   "source": [
    "## Sum of Even Numbers\n",
    "\n",
    "Write a program to calculate the sum of all even numbers between 1 and 50."
   ]
  },
  {
   "cell_type": "code",
   "execution_count": null,
   "id": "21682bf2",
   "metadata": {},
   "outputs": [],
   "source": [
    "# Sum of even numbers\n",
    "total = 0\n",
    "for num in range(2, 51, 2):\n",
    "    total += num\n",
    "print(\"Sum of even numbers from 1 to 50:\", total)\n"
   ]
  },
  {
   "cell_type": "markdown",
   "id": "39db541c",
   "metadata": {},
   "source": [
    "## Nested Loops: Pattern Printing\n",
    "\n",
    "Write a program to print the following pattern using nested loops, for an arbitrary number of rows:\n",
    "\n",
    "\\*\n",
    "\n",
    "\\**\n",
    "\n",
    "\\***\n",
    "\n",
    "\\****\n",
    "\n",
    "\\*****\n",
    "\n",
    "Hint: Remember, strings can be multiplied! HCIC * 2 = HCICHCIC"
   ]
  },
  {
   "cell_type": "code",
   "execution_count": null,
   "id": "6dfc28d3",
   "metadata": {},
   "outputs": [],
   "source": [
    "# Pattern printing\n",
    "rows = int(input(\"How many rows? > \"))\n",
    "for i in range(1, rows + 1):\n",
    "    print(\"*\" * i)\n"
   ]
  },
  {
   "cell_type": "markdown",
   "id": "e8543aea",
   "metadata": {},
   "source": [
    "## Count Characters\n",
    "\n",
    "Write a program to count the occurrence of each character in the string \"banana\".\n",
    "\n",
    "Hint: Create an empty dictionary to hold each letter, and if the letter is already in the dictionary add one."
   ]
  },
  {
   "cell_type": "code",
   "execution_count": 13,
   "id": "32293496",
   "metadata": {},
   "outputs": [
    {
     "name": "stdout",
     "output_type": "stream",
     "text": [
      "Character counts: {'b': 1, 'a': 3, 'n': 2}\n"
     ]
    }
   ],
   "source": [
    "# Count character occurrences\n",
    "string = \"banana\"\n",
    "char_count = {}\n",
    "\n",
    "for char in string:\n",
    "    if char in char_count:\n",
    "        char_count[char] += 1\n",
    "    else:\n",
    "        char_count[char] = 1\n",
    "\n",
    "print(\"Character counts:\", char_count)\n"
   ]
  },
  {
   "cell_type": "markdown",
   "id": "0d265198",
   "metadata": {},
   "source": [
    "## Prime Numbers\n",
    "\n",
    "Write a program to check if a certain number is prime."
   ]
  },
  {
   "cell_type": "code",
   "execution_count": null,
   "id": "b2dc0468",
   "metadata": {},
   "outputs": [],
   "source": [
    "num = int(input(\"What number do you want to check? >\"))\n",
    "\n",
    "is_prime = True\n",
    "for i in range(2, num // 2):\n",
    "    if num % i == 0:\n",
    "        is_prime = False\n",
    "        break\n",
    "if is_prime:\n",
    "    print(\"Prime\")\n",
    "else:\n",
    "    print(\"Not prime\")\n"
   ]
  },
  {
   "cell_type": "markdown",
   "id": "be1bc6bb",
   "metadata": {},
   "source": [
    "## Challenge: Factorial Calculation\n",
    "\n",
    "Write a program to calculate the factorial of a number entered by the user using a for loop."
   ]
  },
  {
   "cell_type": "code",
   "execution_count": null,
   "id": "50187b09",
   "metadata": {},
   "outputs": [],
   "source": [
    "# Factorial calculation\n",
    "number = int(input(\"Enter a number: \"))\n",
    "factorial = 1\n",
    "\n",
    "for i in range(1, number + 1):\n",
    "    factorial *= i\n",
    "\n",
    "print(f\"Factorial of {number} is {factorial}\")\n"
   ]
  }
 ],
 "metadata": {
  "kernelspec": {
   "display_name": "Python 3 (ipykernel)",
   "language": "python",
   "name": "python3"
  },
  "language_info": {
   "codemirror_mode": {
    "name": "ipython",
    "version": 3
   },
   "file_extension": ".py",
   "mimetype": "text/x-python",
   "name": "python",
   "nbconvert_exporter": "python",
   "pygments_lexer": "ipython3",
   "version": "3.11.7"
  }
 },
 "nbformat": 4,
 "nbformat_minor": 5
}
