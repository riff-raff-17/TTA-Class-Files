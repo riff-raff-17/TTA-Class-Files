{
 "cells": [
  {
   "cell_type": "markdown",
   "id": "400d51d2",
   "metadata": {},
   "source": [
    "## Even or Odd?\n",
    "\n",
    "Write a program that checks if a number entered by the user is even or odd."
   ]
  },
  {
   "cell_type": "markdown",
   "id": "1eff3695",
   "metadata": {},
   "source": [
    "## Traffic Light System\n",
    "\n",
    "Write a program that simulates a traffic light. Ask the user for the light color (red, yellow, or green) and display what the driver should do:\n",
    "\n",
    "    \"red\": \"Stop\"\n",
    "    \"yellow\": \"Get ready\"\n",
    "    \"green\": \"Go\""
   ]
  },
  {
   "cell_type": "markdown",
   "id": "398a90da",
   "metadata": {},
   "source": [
    "## Grade Classification\n",
    "\n",
    "Write a program that asks the user for their percentage grade and classifies it as follows:\n",
    "\n",
    "    >= 90: \"A\"\n",
    "    >= 80: \"B\"\n",
    "    >= 70: \"C\"\n",
    "    >= 60: \"D\"\n",
    "    < 60: \"F\""
   ]
  },
  {
   "cell_type": "markdown",
   "id": "a1cc0fa8",
   "metadata": {},
   "source": [
    "## Temperature Advisory\n",
    "\n",
    "Write a program that provides clothing recommendations based on the temperature entered by the user:\n",
    "\n",
    "    < 10°C: \"Wear a coat!\"\n",
    "    10°C to 20°C: \"Wear a sweater!\"\n",
    "    > 20°C: \"Wear light clothing!\""
   ]
  },
  {
   "cell_type": "markdown",
   "id": "06e2875d",
   "metadata": {},
   "source": [
    "## Leap Year Checker\n",
    "\n",
    "Write a program that checks if a given year is a leap year. A year is a leap year if:\n",
    "\n",
    "* It is divisible by 4 and not divisible by 100, or\n",
    "* It is divisible by 400."
   ]
  },
  {
   "cell_type": "markdown",
   "id": "a610cd39",
   "metadata": {},
   "source": [
    "## Max of Three Numbers\n",
    "\n",
    "Write a program that takes three numbers as input and prints the largest one."
   ]
  },
  {
   "cell_type": "markdown",
   "id": "b3748a00",
   "metadata": {},
   "source": [
    "## Password Strength\n",
    "\n",
    "Write a program that checks the strength of a password entered by the user:\n",
    "\n",
    "* Less than 6 characters: \"Weak\"\n",
    "* Between 6 and 10 characters: \"Moderate\"\n",
    "* More than 10 characters: \"Strong\""
   ]
  },
  {
   "cell_type": "markdown",
   "id": "2015b67b",
   "metadata": {},
   "source": [
    "## Triangle Type\n",
    "\n",
    "Write a program that takes three side lengths of a triangle and determines its type:\n",
    "\n",
    "* Equilateral: All sides are equal.\n",
    "* Isosceles: Two sides are equal.\n",
    "* Scalene: All sides are different."
   ]
  },
  {
   "cell_type": "markdown",
   "id": "9d113a2f",
   "metadata": {},
   "source": [
    "## Challenge: Simple Calculator\n",
    "\n",
    "Write a program that takes two numbers and an operator (+, -, *, /) as input and performs the corresponding calculation. Handle invalid operators as well."
   ]
  }
 ],
 "metadata": {
  "kernelspec": {
   "display_name": "Python 3 (ipykernel)",
   "language": "python",
   "name": "python3"
  },
  "language_info": {
   "codemirror_mode": {
    "name": "ipython",
    "version": 3
   },
   "file_extension": ".py",
   "mimetype": "text/x-python",
   "name": "python",
   "nbconvert_exporter": "python",
   "pygments_lexer": "ipython3",
   "version": "3.11.7"
  }
 },
 "nbformat": 4,
 "nbformat_minor": 5
}
