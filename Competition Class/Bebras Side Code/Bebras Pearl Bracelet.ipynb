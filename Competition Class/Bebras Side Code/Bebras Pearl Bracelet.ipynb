{
 "cells": [
  {
   "cell_type": "code",
   "execution_count": 10,
   "id": "40a14bfd",
   "metadata": {},
   "outputs": [
    {
     "name": "stdout",
     "output_type": "stream",
     "text": [
      "The rearranged bracelet matches the original!\n"
     ]
    }
   ],
   "source": [
    "def is_original_bracelet(original, rearranged):\n",
    "    #IMPORTANT: Duplicate the original bracelet to simulate circular rotations\n",
    "    #If the students just check for a substring of the original, the code won't work\n",
    "    doubled = original + original\n",
    "    # Check if the rearranged bracelet is a substring of the doubled bracelet\n",
    "    return rearranged in doubled\n",
    "\n",
    "original_bracelet = \"WBWBBWWB\"  # L: White pearl, D: Black pearl\n",
    "rearranged_bracelet = \"BWWBWBWB\"  # Rearranged version after unfastening\n",
    "\n",
    "# Check if it's the original bracelet\n",
    "if is_original_bracelet(original_bracelet, rearranged_bracelet):\n",
    "    print(\"The rearranged bracelet matches the original!\")\n",
    "else:\n",
    "    print(\"The rearranged bracelet does not match the original.\")\n"
   ]
  },
  {
   "cell_type": "code",
   "execution_count": 11,
   "id": "f19093c9",
   "metadata": {},
   "outputs": [
    {
     "name": "stdout",
     "output_type": "stream",
     "text": [
      "WPGBGB: The rearranged bracelet does not match the original.\n",
      "PBGBWG: The rearranged bracelet matches the original!\n",
      "WGPGBB: The rearranged bracelet does not match the original.\n"
     ]
    }
   ],
   "source": [
    "#Can do for more complex bracelets also\n",
    "\n",
    "#Question 2\n",
    "original_bracelet = \"PBGBWG\"  \n",
    "rearranged_bracelet_options = [\"WPGBGB\", \"PBGBWG\", \"WGPGBB\"]\n",
    "\n",
    "for bracelet in rearranged_bracelet_options:\n",
    "    if is_original_bracelet(original_bracelet, bracelet):\n",
    "        print(f\"{bracelet}: The rearranged bracelet matches the original!\")\n",
    "    else:\n",
    "        print(f\"{bracelet}: The rearranged bracelet does not match the original.\")\n"
   ]
  },
  {
   "cell_type": "code",
   "execution_count": null,
   "id": "07ba03e6",
   "metadata": {},
   "outputs": [],
   "source": []
  }
 ],
 "metadata": {
  "kernelspec": {
   "display_name": "Python 3 (ipykernel)",
   "language": "python",
   "name": "python3"
  },
  "language_info": {
   "codemirror_mode": {
    "name": "ipython",
    "version": 3
   },
   "file_extension": ".py",
   "mimetype": "text/x-python",
   "name": "python",
   "nbconvert_exporter": "python",
   "pygments_lexer": "ipython3",
   "version": "3.11.7"
  }
 },
 "nbformat": 4,
 "nbformat_minor": 5
}
