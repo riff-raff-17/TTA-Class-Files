{
 "cells": [
  {
   "cell_type": "code",
   "execution_count": 3,
   "id": "10bace88",
   "metadata": {},
   "outputs": [
    {
     "name": "stdout",
     "output_type": "stream",
     "text": [
      "Dice: 1, 4, 3 \n",
      "Decision: Field\n"
     ]
    }
   ],
   "source": [
    "# Simple throwing code\n",
    "import random\n",
    "\n",
    "\n",
    "#Returns a list of 3 random integers\n",
    "def throwing():\n",
    "    throws = [random.randint(1, 6) for i in range(3)]\n",
    "    \n",
    "    return throws\n",
    "\n",
    "# Takes in a list of 3 integers only\n",
    "# If students extend the amount of dice, need to extend to fourth, fifth, etc and add new rules\n",
    "def decide_where_to_play_v1(throws):\n",
    "    first, second, third = throws\n",
    "    play = \"\"\n",
    "    \n",
    "    if first > second:\n",
    "        play = \"Woods\"\n",
    "    elif third < first:\n",
    "        play = \"River\"\n",
    "    else:\n",
    "        play = \"Field\"\n",
    "        \n",
    "    print(f\"Dice: {first}, {second}, {third} \\nDecision: {play}\")\n",
    "    \n",
    "    \n",
    "\n",
    "decide_where_to_play_v1(throwing())"
   ]
  },
  {
   "cell_type": "code",
   "execution_count": 4,
   "id": "fc45c27f",
   "metadata": {},
   "outputs": [
    {
     "name": "stdout",
     "output_type": "stream",
     "text": [
      "Monday: Throws = [1, 6, 1], Decision = field\n",
      "Tuesday: Throws = [1, 4, 6], Decision = field\n",
      "Wednesday: Throws = [5, 6, 6], Decision = field\n",
      "Thursday: Throws = [6, 5, 2], Decision = woods\n",
      "Friday: Throws = [6, 5, 4], Decision = woods\n",
      "Saturday: Throws = [4, 3, 6], Decision = woods\n",
      "Sunday: Throws = [3, 6, 1], Decision = river\n"
     ]
    }
   ],
   "source": [
    "#More complex throwing code to simulate throws for a week and put results in a dictionary\n",
    "\n",
    "# Define the decision function\n",
    "def decide_where_to_play_v2(throws):\n",
    "    first, second, third = throws\n",
    "    if first > second:\n",
    "        return \"woods\"\n",
    "    elif third < first:\n",
    "        return \"river\"\n",
    "    else:\n",
    "        return \"field\"\n",
    "\n",
    "# Simulate dice throws for a week\n",
    "days = [\"Monday\", \"Tuesday\", \"Wednesday\", \"Thursday\", \"Friday\", \"Saturday\", \"Sunday\"]\n",
    "results = {}\n",
    "\n",
    "for day in days:\n",
    "    throws = [random.randint(1, 6) for i in range(3)]  # Roll three dice\n",
    "    decision = decide_where_to_play_v2(throws)\n",
    "    results[day] = {\"throws\": throws, \"decision\": decision}\n",
    "\n",
    "# Print the results\n",
    "for day, outcome in results.items():\n",
    "    print(f\"{day}: Throws = {outcome['throws']}, Decision = {outcome['decision']}\")\n"
   ]
  }
 ],
 "metadata": {
  "kernelspec": {
   "display_name": "Python 3 (ipykernel)",
   "language": "python",
   "name": "python3"
  },
  "language_info": {
   "codemirror_mode": {
    "name": "ipython",
    "version": 3
   },
   "file_extension": ".py",
   "mimetype": "text/x-python",
   "name": "python",
   "nbconvert_exporter": "python",
   "pygments_lexer": "ipython3",
   "version": "3.11.7"
  }
 },
 "nbformat": 4,
 "nbformat_minor": 5
}
