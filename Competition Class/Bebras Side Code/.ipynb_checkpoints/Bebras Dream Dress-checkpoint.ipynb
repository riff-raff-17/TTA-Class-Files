{
 "cells": [
  {
   "cell_type": "code",
   "execution_count": 2,
   "id": "66583cda",
   "metadata": {},
   "outputs": [
    {
     "name": "stdout",
     "output_type": "stream",
     "text": [
      "BeaverNova\n"
     ]
    }
   ],
   "source": [
    "# Define the dress options with their features using a dictionary\n",
    "dresses = {\n",
    "    \"BeaverYorker\": {\"short_sleeves\": True, \"buttons\": 2, \"stars_on_sleeves\": False},\n",
    "    \"BeaverNova\": {\"short_sleeves\": True, \"buttons\": 4, \"stars_on_sleeves\": True},\n",
    "    \"B&B\": {\"short_sleeves\": False, \"buttons\": 5, \"stars_on_sleeves\": True},\n",
    "    \"Tom Teaver\": {\"short_sleeves\": True, \"buttons\": 3, \"stars_on_sleeves\": False},\n",
    "}\n",
    "\n",
    "\n",
    "# Function to check if a dress meets the criteria\n",
    "def is_dream_dress(dresses):\n",
    "    is_dress = False\n",
    "    \n",
    "    #dress_name: BeaverYorker, BeaverNova... as STRINGS\n",
    "    #dress_features: {\"short_sleeves\": True, \"buttons\": 2,...} as DICTIONARY\n",
    "    for dress_name, dress_features in dresses.items():\n",
    "        if not dress_features[\"short_sleeves\"]:\n",
    "            is_dress = False\n",
    "        elif dress_features[\"buttons\"] <= 3:\n",
    "            is_dress = False\n",
    "        elif not dress_features[\"stars_on_sleeves\"]:\n",
    "            is_dress = False\n",
    "        else:\n",
    "            is_dress = True\n",
    "        \n",
    "        if is_dress:\n",
    "            print(dress_name)\n",
    "    \n",
    "\n",
    "# Find the dream dress\n",
    "is_dream_dress(dresses)\n"
   ]
  },
  {
   "cell_type": "code",
   "execution_count": 6,
   "id": "3f40dd30",
   "metadata": {},
   "outputs": [
    {
     "name": "stdout",
     "output_type": "stream",
     "text": [
      "The dream dress is in: BeaverNova\n"
     ]
    }
   ],
   "source": [
    "#More complex code where the criteria is also defined in a dictionary\n",
    "#Has lambda functions though so might be too complex for P3,4\n",
    "\n",
    "# Define the dress options with their features using a dictionary\n",
    "dresses = {\n",
    "    \"BeaverYorker\": {\"short_sleeves\": True, \"buttons\": 2, \"stars_on_sleeves\": False},\n",
    "    \"BeaverNova\": {\"short_sleeves\": True, \"buttons\": 4, \"stars_on_sleeves\": True},\n",
    "    \"B&B\": {\"short_sleeves\": False, \"buttons\": 5, \"stars_on_sleeves\": True},\n",
    "    \"Tom Teaver\": {\"short_sleeves\": True, \"buttons\": 3, \"stars_on_sleeves\": False},\n",
    "}\n",
    "\n",
    "# Define the criteria for the dream dress also in a dictionary\n",
    "criteria = {\n",
    "    \"short_sleeves\": True,\n",
    "    \"buttons\": lambda x: x > 3,  # More than 3 buttons\n",
    "    \"stars_on_sleeves\": True,\n",
    "}\n",
    "\n",
    "# Function to check if a dress meets the criteria\n",
    "def is_dream_dress(dress_features, criteria):\n",
    "    for feature, condition in criteria.items():\n",
    "        if callable(condition):  # If the condition is a function, call it\n",
    "            if not condition(dress_features[feature]):\n",
    "                return False\n",
    "        elif dress_features[feature] != condition:\n",
    "            return False\n",
    "    return True\n",
    "\n",
    "# Find the dream dress\n",
    "for dress_name, dress_features in dresses.items():\n",
    "    if is_dream_dress(dress_features, criteria):\n",
    "        print(f\"The dream dress is in: {dress_name}\")\n"
   ]
  },
  {
   "cell_type": "code",
   "execution_count": null,
   "id": "a5d8a31e",
   "metadata": {},
   "outputs": [],
   "source": []
  }
 ],
 "metadata": {
  "kernelspec": {
   "display_name": "Python 3 (ipykernel)",
   "language": "python",
   "name": "python3"
  },
  "language_info": {
   "codemirror_mode": {
    "name": "ipython",
    "version": 3
   },
   "file_extension": ".py",
   "mimetype": "text/x-python",
   "name": "python",
   "nbconvert_exporter": "python",
   "pygments_lexer": "ipython3",
   "version": "3.11.7"
  }
 },
 "nbformat": 4,
 "nbformat_minor": 5
}
