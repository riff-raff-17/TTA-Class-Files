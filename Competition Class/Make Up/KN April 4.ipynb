{
 "cells": [
  {
   "cell_type": "markdown",
   "metadata": {},
   "source": [
    "HCIC Review"
   ]
  },
  {
   "cell_type": "code",
   "execution_count": null,
   "metadata": {},
   "outputs": [],
   "source": [
    "basket = 'hcIC'\n",
    "phrase = 'Hwa Chong Info-communications Challenge'\n",
    "collected = ''\n",
    "for char in phrase:\n",
    "    if char in basket:\n",
    "        collected += char\n",
    "print(collected)"
   ]
  },
  {
   "cell_type": "code",
   "execution_count": null,
   "metadata": {},
   "outputs": [],
   "source": [
    "'''Create a program that counts the total number of times \n",
    "the lowercase letters \"h\" or \"c\" appear in a given string'''\n",
    "\n",
    "\n",
    "basket = 'hc'\n",
    "phrase = 'Hello, chaps'\n",
    "count = 0\n",
    "for char in phrase:\n",
    "    if char in basket:\n",
    "        count += 1\n",
    "print(count)"
   ]
  },
  {
   "cell_type": "code",
   "execution_count": null,
   "metadata": {},
   "outputs": [],
   "source": [
    "'''If the output is ['Distinction', 'Pass', 'Pass', 'Distinction', 'Pass'], \n",
    "what should be the condition for the if statement in the following \n",
    "segment of code?'''\n",
    "\n",
    "results = ['A1', 'B3', 'C5', 'A2', 'B4']\n",
    "for i in range(5):\n",
    "    if 'A' in results[i]:\n",
    "        results[i] = \"Distinction\"\n",
    "    else:\n",
    "        results[i] = \"Pass\"\n",
    "\n",
    "print(results)"
   ]
  },
  {
   "cell_type": "code",
   "execution_count": null,
   "metadata": {},
   "outputs": [],
   "source": [
    "results = ['A1', 'B3', 'C5', 'A2', 'B4']\n",
    "for i in range(5):\n",
    "    if i == 0 or i == 3:\n",
    "        results[i] = \"Distinction\"\n",
    "    else:\n",
    "        results[i] = \"Pass\"\n",
    "\n",
    "print(results)"
   ]
  },
  {
   "cell_type": "code",
   "execution_count": null,
   "metadata": {},
   "outputs": [],
   "source": [
    "'''If the output is \"Welcome\", what is the value of z?'''\n",
    "x = 'No'\n",
    "y = 'Yes'\n",
    "z = True\n",
    "if x != y and z:\n",
    "    print(\"Welcome\")\n",
    "else:\n",
    "    print(\"Farewell\")"
   ]
  },
  {
   "cell_type": "code",
   "execution_count": null,
   "metadata": {},
   "outputs": [],
   "source": [
    "a = True\n",
    "b = False\n",
    "c = 1\n",
    "d = 0\n",
    "e = ''\n",
    "f = 'something'\n",
    "\n",
    "if f:\n",
    "    print('True')\n",
    "else:\n",
    "    print('False')"
   ]
  },
  {
   "cell_type": "code",
   "execution_count": null,
   "metadata": {},
   "outputs": [],
   "source": [
    "True or False"
   ]
  },
  {
   "cell_type": "code",
   "execution_count": 53,
   "metadata": {},
   "outputs": [
    {
     "name": "stdout",
     "output_type": "stream",
     "text": [
      "HCIC"
     ]
    }
   ],
   "source": [
    "'''If \"HCIC\" is printed, what should be inside range()?'''\n",
    "\n",
    "seq = \"HCicHCIHCIChC\"\n",
    "for i in range(7, 11, 1):\n",
    "    print(seq[i], end='')"
   ]
  },
  {
   "cell_type": "code",
   "execution_count": 45,
   "metadata": {},
   "outputs": [
    {
     "data": {
      "text/plain": [
       "'C'"
      ]
     },
     "execution_count": 45,
     "metadata": {},
     "output_type": "execute_result"
    }
   ],
   "source": [
    "seq[10]"
   ]
  },
  {
   "cell_type": "code",
   "execution_count": null,
   "metadata": {},
   "outputs": [],
   "source": [
    "# range(start, stop, step)\n",
    "for i in range(0, 5, 2):\n",
    "    print(i)"
   ]
  },
  {
   "cell_type": "code",
   "execution_count": 61,
   "metadata": {},
   "outputs": [
    {
     "name": "stdout",
     "output_type": "stream",
     "text": [
      "61\n"
     ]
    }
   ],
   "source": [
    "'''What is the output for the following segment of code?'''\n",
    "first = 2\n",
    "second = 3\n",
    "output = str(first * second) + str(second-first)\n",
    "print(output)"
   ]
  },
  {
   "cell_type": "code",
   "execution_count": null,
   "metadata": {},
   "outputs": [
    {
     "name": "stdout",
     "output_type": "stream",
     "text": [
      "HelloWorld\n",
      "WorldWorldWorldWorldWorld\n"
     ]
    }
   ],
   "source": [
    "str1 = \"Hello\"\n",
    "str2 = 'World'\n",
    "int1 = 5\n",
    "\n",
    "print(str1 + str2)\n",
    "print(str2 * int1)"
   ]
  },
  {
   "cell_type": "code",
   "execution_count": null,
   "metadata": {},
   "outputs": [
    {
     "data": {
      "text/plain": [
       "'5'"
      ]
     },
     "execution_count": 60,
     "metadata": {},
     "output_type": "execute_result"
    }
   ],
   "source": [
    "int2 = '5'\n",
    "int3 = 5\n",
    "\n",
    "str(int3)"
   ]
  }
 ],
 "metadata": {
  "kernelspec": {
   "display_name": "TTA",
   "language": "python",
   "name": "python3"
  },
  "language_info": {
   "codemirror_mode": {
    "name": "ipython",
    "version": 3
   },
   "file_extension": ".py",
   "mimetype": "text/x-python",
   "name": "python",
   "nbconvert_exporter": "python",
   "pygments_lexer": "ipython3",
   "version": "3.12.9"
  }
 },
 "nbformat": 4,
 "nbformat_minor": 2
}
