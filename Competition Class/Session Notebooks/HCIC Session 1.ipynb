{
 "cells": [
  {
   "cell_type": "code",
   "execution_count": 59,
   "id": "eafc7ba7-ee47-42fb-8cb1-7f3f21eef54d",
   "metadata": {},
   "outputs": [
    {
     "name": "stdout",
     "output_type": "stream",
     "text": [
      "H\n"
     ]
    }
   ],
   "source": [
    "text = \"Hello, World!\"\n",
    "\n",
    "#Access individual elements\n",
    "print(text[0])"
   ]
  },
  {
   "cell_type": "code",
   "execution_count": 53,
   "id": "b6f43cd9-2d1c-439f-bfba-29846be97b3d",
   "metadata": {},
   "outputs": [
    {
     "name": "stdout",
     "output_type": "stream",
     "text": [
      "HeWWo\n"
     ]
    }
   ],
   "source": [
    "#String slicing\n",
    "print(text[0:2] + text[7] + text[7:9])"
   ]
  },
  {
   "cell_type": "code",
   "execution_count": 81,
   "id": "9c8ce44c-31a2-409d-94ac-8e450d07684e",
   "metadata": {},
   "outputs": [
    {
     "name": "stdout",
     "output_type": "stream",
     "text": [
      "!dlroW ,o\n"
     ]
    }
   ],
   "source": [
    "#string slicing BACKWARDS\n",
    "print(text[-1:-10:-1])"
   ]
  },
  {
   "cell_type": "code",
   "execution_count": 89,
   "id": "4da29d27-1c78-4b5e-9072-bfaed0388d53",
   "metadata": {},
   "outputs": [
    {
     "name": "stdout",
     "output_type": "stream",
     "text": [
      "Python\n",
      "esreveR\n"
     ]
    }
   ],
   "source": [
    "# 1) Print out Python\n",
    "text1 = \"I love Python !!!\"\n",
    "print(text1[7:13])\n",
    "\n",
    "# 2) Reverse this string\n",
    "text2 = \"Reverse\"\n",
    "print(text2[::-1])"
   ]
  },
  {
   "cell_type": "code",
   "execution_count": 101,
   "id": "3b6f6be9-2330-4f04-81d9-33cfeb5d5d0e",
   "metadata": {},
   "outputs": [
    {
     "name": "stdout",
     "output_type": "stream",
     "text": [
      "!nuf si gnidoC\n"
     ]
    }
   ],
   "source": [
    "#[start:end:interval]\n",
    "text = \"Coding is fun!\"\n",
    "print(text[::-1])"
   ]
  },
  {
   "cell_type": "code",
   "execution_count": 103,
   "id": "aa912373-4eed-4338-ba0b-642781d1d1dd",
   "metadata": {},
   "outputs": [
    {
     "name": "stdout",
     "output_type": "stream",
     "text": [
      "acegikmo\n",
      "pnljhfdb\n"
     ]
    }
   ],
   "source": [
    "# 3) Get every SECOND character\n",
    "# 4) Every SECOND character but BACKWARDS\n",
    "text34 = \"abcdefghijklmnop\"\n",
    "print(text34[::2])\n",
    "print(text34[::-2])"
   ]
  },
  {
   "cell_type": "code",
   "execution_count": 109,
   "id": "715d1fbf-d3ac-4e4a-aa7e-8b7035615cc4",
   "metadata": {},
   "outputs": [
    {
     "name": "stdout",
     "output_type": "stream",
     "text": [
      "oaiaIiIOeeee\n"
     ]
    }
   ],
   "source": [
    "text = \"How Many Ming Can I Fit In One Sentence?\"\n",
    "vowels = \"aeiouAEIOU\"\n",
    "new_text = \"\"\n",
    "\n",
    "for a in text:\n",
    "    if a in vowels:\n",
    "        new_text += a\n",
    "\n",
    "print(new_text)"
   ]
  },
  {
   "cell_type": "code",
   "execution_count": 135,
   "id": "3bd587d2-4b3d-42a6-ab59-32523cba1547",
   "metadata": {},
   "outputs": [
    {
     "name": "stdout",
     "output_type": "stream",
     "text": [
      "5\n",
      "10\n"
     ]
    }
   ],
   "source": [
    "num = 0\n",
    "\n",
    "for i in range(3):\n",
    "    print(num)\n",
    "    num += i\n",
    "\n",
    "print(num)"
   ]
  },
  {
   "cell_type": "code",
   "execution_count": 151,
   "id": "e77c8351-6479-4193-9d95-9632218dd6a7",
   "metadata": {},
   "outputs": [
    {
     "name": "stdout",
     "output_type": "stream",
     "text": [
      "mango is good\n",
      "appleis also good\n",
      "bananais also good\n",
      "watermelonis also good\n",
      "honeydewis also good\n"
     ]
    }
   ],
   "source": [
    "fruit_list = ['mango', 'apple', 'banana', 'watermelon', 'honeydew']\n",
    "\n",
    "for fruit in fruit_list:\n",
    "    if fruit == 'mango':\n",
    "        print(fruit + \" is good\")\n",
    "    else:\n",
    "        print(fruit + 'is also good')"
   ]
  },
  {
   "cell_type": "code",
   "execution_count": 161,
   "id": "4af53850-1c5c-4d10-be63-aabb3196c2ec",
   "metadata": {},
   "outputs": [
    {
     "name": "stdout",
     "output_type": "stream",
     "text": [
      "650\n"
     ]
    }
   ],
   "source": [
    "num = 0\n",
    "\n",
    "for i in range(0, 52, 2):\n",
    "    num += i\n",
    "\n",
    "print(num)"
   ]
  },
  {
   "cell_type": "code",
   "execution_count": 163,
   "id": "df9bbbe6-1c2e-42dc-b167-6a7c98d3f870",
   "metadata": {},
   "outputs": [
    {
     "name": "stdout",
     "output_type": "stream",
     "text": [
      "hellohello\n"
     ]
    }
   ],
   "source": [
    "print(\"hello\" * 2)"
   ]
  },
  {
   "cell_type": "code",
   "execution_count": null,
   "id": "58a425e9-12f7-4b0c-a0ef-bd4e70bef2de",
   "metadata": {},
   "outputs": [],
   "source": [
    "'*'\n",
    "'**'\n",
    "'***'\n",
    "'****'\n",
    "'*****'"
   ]
  },
  {
   "cell_type": "code",
   "execution_count": 171,
   "id": "122e550f-3fd0-4af9-94f3-f898f668a16a",
   "metadata": {},
   "outputs": [
    {
     "name": "stdout",
     "output_type": "stream",
     "text": [
      "*\n",
      "**\n",
      "***\n",
      "****\n",
      "*****\n"
     ]
    }
   ],
   "source": [
    "for i in range(1, 6):\n",
    "    print('*' * i)"
   ]
  },
  {
   "cell_type": "code",
   "execution_count": 175,
   "id": "ccff079d-69ec-4be4-a439-6b6652d54603",
   "metadata": {},
   "outputs": [
    {
     "name": "stdout",
     "output_type": "stream",
     "text": [
      "3\n"
     ]
    }
   ],
   "source": [
    "string = \"How many mings can I fit in xiaoming\"\n",
    "num_of_m = 0\n",
    "\n",
    "for letter in string:\n",
    "    if letter == 'm':\n",
    "        num_of_m += 1\n",
    "    \n",
    "\n",
    "print(num_of_m)"
   ]
  },
  {
   "cell_type": "code",
   "execution_count": 179,
   "id": "e9defc40-eb7e-4a92-94b2-b440d7c8e552",
   "metadata": {},
   "outputs": [
    {
     "name": "stdout",
     "output_type": "stream",
     "text": [
      "11\n"
     ]
    }
   ],
   "source": [
    "string = \"How many mings can I fit in xiaoming\"\n",
    "vowels = 'aeiouAEIOU'\n",
    "num_of_vowels = 0\n",
    "\n",
    "for letter in string:\n",
    "    if letter in vowels:\n",
    "        num_of_vowels += 1\n",
    "    \n",
    "\n",
    "print(num_of_vowels)"
   ]
  },
  {
   "cell_type": "code",
   "execution_count": 183,
   "id": "f4a8722b-6367-4a76-b681-4630e58f5955",
   "metadata": {},
   "outputs": [
    {
     "name": "stdout",
     "output_type": "stream",
     "text": [
      "720\n"
     ]
    }
   ],
   "source": [
    "num = 6\n",
    "factorial = 1\n",
    "\n",
    "for i in range(1, num ):\n",
    "    num *= i\n",
    "\n",
    "print(num)"
   ]
  }
 ],
 "metadata": {
  "kernelspec": {
   "display_name": "Python [conda env:TTA]",
   "language": "python",
   "name": "conda-env-TTA-py"
  },
  "language_info": {
   "codemirror_mode": {
    "name": "ipython",
    "version": 3
   },
   "file_extension": ".py",
   "mimetype": "text/x-python",
   "name": "python",
   "nbconvert_exporter": "python",
   "pygments_lexer": "ipython3",
   "version": "3.11.11"
  }
 },
 "nbformat": 4,
 "nbformat_minor": 5
}
