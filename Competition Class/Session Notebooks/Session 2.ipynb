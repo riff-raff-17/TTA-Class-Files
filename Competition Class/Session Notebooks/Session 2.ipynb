{
 "cells": [
  {
   "cell_type": "code",
   "execution_count": 20,
   "id": "c47f2e1e-7236-4a17-b23c-f9370fb1f5a4",
   "metadata": {},
   "outputs": [
    {
     "name": "stdout",
     "output_type": "stream",
     "text": [
      "0\n",
      "1\n"
     ]
    }
   ],
   "source": [
    "#range(start, end, interval)\n",
    "#range(end)\n",
    "for i in range(2):\n",
    "    print(i)"
   ]
  },
  {
   "cell_type": "code",
   "execution_count": 34,
   "id": "e3bf88a0-99f9-4f31-bd73-c9d3516a9158",
   "metadata": {},
   "outputs": [
    {
     "name": "stdout",
     "output_type": "stream",
     "text": [
      "2\n",
      "4\n",
      "6\n",
      "8\n",
      "10\n",
      "12\n",
      "14\n",
      "16\n",
      "18\n",
      "20\n",
      "22\n"
     ]
    }
   ],
   "source": [
    "#Even numbers from 2 to 20\n",
    "#Ending at 22 works also\n",
    "for i in range(2, 20, 2):\n",
    "    print(i)"
   ]
  },
  {
   "cell_type": "code",
   "execution_count": null,
   "id": "cf9c16b1-fa5c-43a9-a6dc-cb2ca6e9e175",
   "metadata": {},
   "outputs": [],
   "source": []
  },
  {
   "cell_type": "code",
   "execution_count": 30,
   "id": "ccdd6ad4-5baa-4697-96a8-719c8bbd24f4",
   "metadata": {},
   "outputs": [
    {
     "name": "stdout",
     "output_type": "stream",
     "text": [
      "2\n",
      "4\n",
      "6\n",
      "8\n",
      "10\n",
      "12\n",
      "14\n",
      "16\n",
      "18\n",
      "20\n"
     ]
    }
   ],
   "source": [
    "#Another way to do it\n",
    "for i in range(1, 11, 1):\n",
    "    print(i * 2)"
   ]
  },
  {
   "cell_type": "code",
   "execution_count": 50,
   "id": "f9136d16-cdd8-4224-9837-16f7f6a00345",
   "metadata": {},
   "outputs": [
    {
     "name": "stdout",
     "output_type": "stream",
     "text": [
      "W i n d o w s   U p d a t e s "
     ]
    }
   ],
   "source": [
    "text = 'Windows Updates'\n",
    "\n",
    "for char in text:\n",
    "    print(char, end = ' ')"
   ]
  },
  {
   "cell_type": "code",
   "execution_count": 60,
   "id": "ecfa0749-62df-4af6-a33a-21e824c02b1b",
   "metadata": {},
   "outputs": [
    {
     "name": "stdout",
     "output_type": "stream",
     "text": [
      "You got a fAe!\n"
     ]
    }
   ],
   "source": [
    "grade = 96\n",
    "\n",
    "if grade > 85:\n",
    "    print(\"You got a fAe!\")\n",
    "elif grade > 70:\n",
    "    print(\"You are okae ._.\")\n",
    "else:\n",
    "    print(\"You are a faelure :(\")"
   ]
  },
  {
   "cell_type": "code",
   "execution_count": 62,
   "id": "d01a13e2-5b8c-4d7f-b9bc-923d4d21d880",
   "metadata": {},
   "outputs": [
    {
     "name": "stdout",
     "output_type": "stream",
     "text": [
      "Equal\n"
     ]
    }
   ],
   "source": [
    "#What is the output?\n",
    "x = 5\n",
    "if x > 5:\n",
    "    print(\"Greater\")\n",
    "elif x < 5:\n",
    "    print(\"Smaller\")\n",
    "else:\n",
    "    print(\"Equal\")\n"
   ]
  },
  {
   "cell_type": "code",
   "execution_count": null,
   "id": "71fab13b-33c6-48d8-beac-f5dbd451980c",
   "metadata": {},
   "outputs": [],
   "source": [
    "x = 10\n",
    "if x > 5:\n",
    "    print(\"x is greater than 5\")\n",
    "elif x < 5:\n",
    "    print(\"x is less than 5\")\n"
   ]
  },
  {
   "cell_type": "code",
   "execution_count": null,
   "id": "1ca9e758-bfd2-41b5-b3ed-c0616d90df0d",
   "metadata": {},
   "outputs": [],
   "source": [
    "num = 10\n",
    "\n",
    "if num > 0:\n",
    "    print(\"Positive\")\n",
    "elif num < 0:\n",
    "    print(\"Negative\")\n",
    "else:\n",
    "    print(\"Zero\")"
   ]
  },
  {
   "cell_type": "code",
   "execution_count": 94,
   "id": "7b7ede47-c7e0-4c42-801e-12e492b1d6f6",
   "metadata": {},
   "outputs": [
    {
     "name": "stdout",
     "output_type": "stream",
     "text": [
      "lep\n"
     ]
    }
   ],
   "source": [
    "year = 2000\n",
    "\n",
    "if (year % 4 == 0 and year % 100 != 0) or (year % 400 == 0):\n",
    "    print(\"lep\")\n",
    "else:\n",
    "    print(\"not lep\")"
   ]
  },
  {
   "cell_type": "code",
   "execution_count": 90,
   "id": "be0581fb-b3c4-4fbe-a240-24e74b008137",
   "metadata": {},
   "outputs": [
    {
     "data": {
      "text/plain": [
       "1"
      ]
     },
     "execution_count": 90,
     "metadata": {},
     "output_type": "execute_result"
    }
   ],
   "source": [
    "num % 5 != 0"
   ]
  },
  {
   "cell_type": "code",
   "execution_count": 100,
   "id": "94f5f70f-fe94-4218-bb99-d1825db932a2",
   "metadata": {},
   "outputs": [
    {
     "name": "stdout",
     "output_type": "stream",
     "text": [
      "1\n"
     ]
    }
   ],
   "source": [
    "#FizzBuzz\n",
    "#If a number is divisble by 3 print Fizz\n",
    "#If a number is divisible by 5 print Buzz\n",
    "#If it is divisible by BOTH print FizzBuzz\n",
    "#Otherwise, print the number\n",
    "\n",
    "for i in range(1, 51):\n",
    "    if i % 3 == 0 and i % 5 != 0:\n",
    "        print(\"Fizz\")\n",
    "    elif i % 5 == 0 and i % 3 != 0:\n",
    "        print(\"Buzz\")\n",
    "    elif i % 5 == 0 and i % 3 == 0:\n",
    "        print(\"FizzBuzz\")\n",
    "    else:\n",
    "        print(i)"
   ]
  },
  {
   "cell_type": "code",
   "execution_count": 102,
   "id": "289c494a-1839-4063-a5a8-fc847b181677",
   "metadata": {},
   "outputs": [
    {
     "name": "stdout",
     "output_type": "stream",
     "text": [
      "1\n",
      "2\n",
      "Fizz\n",
      "4\n",
      "Buzz\n",
      "Fizz\n",
      "7\n",
      "8\n",
      "Fizz\n",
      "Buzz\n",
      "11\n",
      "Fizz\n",
      "13\n",
      "14\n",
      "FizzBuzz\n",
      "16\n",
      "17\n",
      "Fizz\n",
      "19\n",
      "Buzz\n",
      "Fizz\n",
      "22\n",
      "23\n",
      "Fizz\n",
      "Buzz\n",
      "26\n",
      "Fizz\n",
      "28\n",
      "29\n",
      "FizzBuzz\n",
      "31\n",
      "32\n",
      "Fizz\n",
      "34\n",
      "Buzz\n",
      "Fizz\n",
      "37\n",
      "38\n",
      "Fizz\n",
      "Buzz\n",
      "41\n",
      "Fizz\n",
      "43\n",
      "44\n",
      "FizzBuzz\n",
      "46\n",
      "47\n",
      "Fizz\n",
      "49\n",
      "Buzz\n"
     ]
    }
   ],
   "source": [
    "#FizzBuzz\n",
    "#If a number is divisble by 3 print Fizz\n",
    "#If a number is divisible by 5 print Buzz\n",
    "#If it is divisible by BOTH print FizzBuzz\n",
    "#Otherwise, print the number\n",
    "\n",
    "for i in range(1, 51):\n",
    "    if i % 5 == 0 and i % 3 == 0:\n",
    "        print(\"FizzBuzz\")\n",
    "    elif i % 3 == 0:\n",
    "        print(\"Fizz\")\n",
    "    elif i % 5 == 0:\n",
    "        print(\"Buzz\")\n",
    "    else:\n",
    "        print(i)"
   ]
  },
  {
   "cell_type": "code",
   "execution_count": 118,
   "id": "57660fa3-5411-4131-b476-70222b45f017",
   "metadata": {},
   "outputs": [
    {
     "name": "stdout",
     "output_type": "stream",
     "text": [
      "True\n",
      "True\n",
      "False\n"
     ]
    }
   ],
   "source": [
    "print(1 != 0)\n",
    "print(5 >= 3)\n",
    "print(5 <= 3)\n"
   ]
  },
  {
   "cell_type": "code",
   "execution_count": 152,
   "id": "42494bbf-bba7-4679-96b0-622cde706e8f",
   "metadata": {},
   "outputs": [
    {
     "name": "stdout",
     "output_type": "stream",
     "text": [
      "9 25\n"
     ]
    }
   ],
   "source": [
    "vowels = 'aeiouAEIOU'\n",
    "num_vowels = 0\n",
    "num_cons = 0\n",
    "text = \"Wow that's a lot of numbers in pi!\"\n",
    "\n",
    "for char in text:\n",
    "    if char in vowels:\n",
    "        num_vowels += 1\n",
    "    elif char not in vowels: \n",
    "        num_cons += 1\n",
    "\n",
    "print(num_vowels, num_cons)"
   ]
  },
  {
   "cell_type": "code",
   "execution_count": 160,
   "id": "1aabcc00-065f-4977-bf10-f5978985fc8e",
   "metadata": {},
   "outputs": [
    {
     "name": "stdout",
     "output_type": "stream",
     "text": [
      "[3, 4, 5, 8, 7]\n"
     ]
    }
   ],
   "source": [
    "num_list = [1, 2, 3, 4, 5]\n",
    "new_list_even = []\n",
    "new_list_odd = []\n",
    "for num in num_list:\n",
    "    if num % 2 == 0:\n",
    "        new_list.append(num * 2)\n",
    "    else:\n",
    "        new_list.append(num + 2)\n",
    "    \n",
    "print(new_list)"
   ]
  },
  {
   "cell_type": "code",
   "execution_count": 162,
   "id": "60318c5b-a0c2-49f8-a6f5-2f6bfe374303",
   "metadata": {},
   "outputs": [
    {
     "data": {
      "text/plain": [
       "'2'"
      ]
     },
     "execution_count": 162,
     "metadata": {},
     "output_type": "execute_result"
    }
   ],
   "source": [
    "2\n",
    "str(2)"
   ]
  }
 ],
 "metadata": {
  "kernelspec": {
   "display_name": "Python [conda env:TTA]",
   "language": "python",
   "name": "conda-env-TTA-py"
  },
  "language_info": {
   "codemirror_mode": {
    "name": "ipython",
    "version": 3
   },
   "file_extension": ".py",
   "mimetype": "text/x-python",
   "name": "python",
   "nbconvert_exporter": "python",
   "pygments_lexer": "ipython3",
   "version": "3.11.11"
  }
 },
 "nbformat": 4,
 "nbformat_minor": 5
}
