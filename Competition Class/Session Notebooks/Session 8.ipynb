{
 "cells": [
  {
   "cell_type": "code",
   "execution_count": 6,
   "id": "17d9f676",
   "metadata": {},
   "outputs": [
    {
     "name": "stdout",
     "output_type": "stream",
     "text": [
      "3\n"
     ]
    }
   ],
   "source": [
    "def xavier(par1=1, par2=2):\n",
    "    print(par1 + par2)\n",
    "\n",
    "xavier(par2=2)"
   ]
  },
  {
   "cell_type": "code",
   "execution_count": null,
   "id": "671a701e",
   "metadata": {},
   "outputs": [
    {
     "data": {
      "text/plain": [
       "'116'"
      ]
     },
     "execution_count": 7,
     "metadata": {},
     "output_type": "execute_result"
    }
   ],
   "source": [
    "# String multiplication and concatenation\n",
    "2 * '1' + '6'"
   ]
  },
  {
   "cell_type": "code",
   "execution_count": 9,
   "id": "72042bed",
   "metadata": {},
   "outputs": [
    {
     "name": "stdout",
     "output_type": "stream",
     "text": [
      "('H', 'C', 'I', 'C')\n"
     ]
    }
   ],
   "source": [
    "word = ('H', 'C')\n",
    "word2 = ('I', 'C')\n",
    "\n",
    "word += word2\n",
    "print(word)"
   ]
  },
  {
   "cell_type": "code",
   "execution_count": 10,
   "id": "1192cbd6",
   "metadata": {},
   "outputs": [
    {
     "name": "stdout",
     "output_type": "stream",
     "text": [
      "Cer\n"
     ]
    }
   ],
   "source": [
    "Idol = \"Julius Ceasar\"\n",
    "a =Idol[7:9]\n",
    "b = Idol[12:]\n",
    "print(a+b)"
   ]
  },
  {
   "cell_type": "markdown",
   "id": "5fcb8cca",
   "metadata": {},
   "source": [
    "range(0, 3, 1) and [0:3:1] are ALMOST the same\n",
    "\n",
    "The key difference is that ranges are used in for loops, while slices ([]) are used after lists to take a subset.\n"
   ]
  },
  {
   "cell_type": "code",
   "execution_count": 12,
   "id": "58bd50a9",
   "metadata": {},
   "outputs": [
    {
     "name": "stdout",
     "output_type": "stream",
     "text": [
      "101"
     ]
    }
   ],
   "source": [
    "# Print out 101\n",
    "big = '1011'\n",
    "for energy in range(0, 3):\n",
    "    print(big[energy], end='')"
   ]
  },
  {
   "cell_type": "code",
   "execution_count": null,
   "id": "e36be8d6",
   "metadata": {},
   "outputs": [
    {
     "name": "stdout",
     "output_type": "stream",
     "text": [
      "True\n"
     ]
    }
   ],
   "source": [
    "a = 'False'\n",
    "b = 'False'\n",
    "\n",
    "print(a is b)"
   ]
  },
  {
   "cell_type": "markdown",
   "id": "41cf62b3",
   "metadata": {},
   "source": [
    "Any division with / in Python becomes a float!"
   ]
  },
  {
   "cell_type": "code",
   "execution_count": null,
   "id": "c0359df0",
   "metadata": {},
   "outputs": [],
   "source": [
    "num = 51\n",
    "\n",
    "if num % 2 == 0:\n",
    "    print(\"even\")\n",
    "else: \n",
    "    print('odd')"
   ]
  },
  {
   "cell_type": "code",
   "execution_count": 45,
   "id": "0a045e78",
   "metadata": {},
   "outputs": [],
   "source": [
    "# Boolean statements\n",
    "x = 0\n",
    "while x:\n",
    "    print('hello')\n"
   ]
  },
  {
   "cell_type": "code",
   "execution_count": 46,
   "id": "25c1757f",
   "metadata": {},
   "outputs": [
    {
     "name": "stdout",
     "output_type": "stream",
     "text": [
      "1\n"
     ]
    }
   ],
   "source": [
    "# mod operator\n",
    "print(1 % 3)"
   ]
  },
  {
   "cell_type": "code",
   "execution_count": 37,
   "id": "5162c433",
   "metadata": {},
   "outputs": [
    {
     "name": "stdout",
     "output_type": "stream",
     "text": [
      "Fe\n"
     ]
    }
   ],
   "source": [
    "text = 'Faeted'\n",
    "text = text[::2] # Fee\n",
    "text = text[0:2] # Fe\n",
    "\n",
    "print(text)"
   ]
  },
  {
   "cell_type": "code",
   "execution_count": 40,
   "id": "38ba0853",
   "metadata": {},
   "outputs": [
    {
     "name": "stdout",
     "output_type": "stream",
     "text": [
      "ha ha ha ha \n"
     ]
    }
   ],
   "source": [
    "# Complete the code below so that it prints \"ha ha ha ha\"  \n",
    "# using only string concatenation (+)\n",
    "\n",
    "s = \"ha\"\n",
    "n = 4\n",
    "result = \"\"\n",
    "\n",
    "for i in range(n):\n",
    "    result += s + ' '\n",
    "\n",
    "print(result)   # should output: ha ha ha ha\n"
   ]
  },
  {
   "cell_type": "code",
   "execution_count": null,
   "id": "7b25b5d6",
   "metadata": {},
   "outputs": [],
   "source": [
    "word = 'helloworld'\n",
    "word = word[::2]\n",
    "word = word[1:-1]\n",
    "print(word)\n"
   ]
  },
  {
   "cell_type": "code",
   "execution_count": 44,
   "id": "4b7c16b4",
   "metadata": {},
   "outputs": [
    {
     "name": "stdout",
     "output_type": "stream",
     "text": [
      "<class 'str'>\n"
     ]
    }
   ],
   "source": [
    "Test = \"Fae\"\n",
    "print(type(Test))"
   ]
  },
  {
   "cell_type": "code",
   "execution_count": null,
   "id": "02ef188e",
   "metadata": {},
   "outputs": [
    {
     "name": "stdout",
     "output_type": "stream",
     "text": [
      "['Fail', 'Fail', 'Fail', 'Fail', 'Fail']\n"
     ]
    }
   ],
   "source": [
    "test= [25, 50, 49, 80, 49.5]\n",
    "\n",
    "for i in range(5):\n",
    "    if test[i] < 50:\n",
    "        test[i] = 'Fail'\n",
    "    else:\n",
    "        test[i] = 'Pass'\n",
    "\n",
    "print(test)"
   ]
  },
  {
   "cell_type": "code",
   "execution_count": null,
   "id": "d7e8b452",
   "metadata": {},
   "outputs": [
    {
     "name": "stdout",
     "output_type": "stream",
     "text": [
      "25 50 49 80 49.5 "
     ]
    }
   ],
   "source": [
    "test= [25, 50, 49, 80, 49.5]\n",
    "\n",
    "for item in test:\n",
    "    print(item, end=' ')\n"
   ]
  }
 ],
 "metadata": {
  "kernelspec": {
   "display_name": "TTA",
   "language": "python",
   "name": "python3"
  },
  "language_info": {
   "codemirror_mode": {
    "name": "ipython",
    "version": 3
   },
   "file_extension": ".py",
   "mimetype": "text/x-python",
   "name": "python",
   "nbconvert_exporter": "python",
   "pygments_lexer": "ipython3",
   "version": "3.12.9"
  }
 },
 "nbformat": 4,
 "nbformat_minor": 5
}
