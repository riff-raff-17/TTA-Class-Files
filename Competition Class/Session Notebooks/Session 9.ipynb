{
 "cells": [
  {
   "cell_type": "code",
   "execution_count": 24,
   "id": "18c9cd42",
   "metadata": {},
   "outputs": [
    {
     "data": {
      "text/plain": [
       "4"
      ]
     },
     "execution_count": 24,
     "metadata": {},
     "output_type": "execute_result"
    }
   ],
   "source": [
    "antho = [1, 1, 1, 1, 2, 3, 3, 3, 4]\n",
    "len(set(antho))"
   ]
  },
  {
   "cell_type": "code",
   "execution_count": null,
   "id": "d996c04b",
   "metadata": {},
   "outputs": [
    {
     "data": {
      "text/plain": [
       "2"
      ]
     },
     "execution_count": 31,
     "metadata": {},
     "output_type": "execute_result"
    }
   ],
   "source": [
    "from collections import Counter\n",
    "\n",
    "text = \"oooaaa\"\n",
    "counter = Counter(text.lower())\n",
    "\n",
    "num_dups = sum(1 for count in counter.values() if count > 1)\n",
    "\n",
    "num_dups"
   ]
  },
  {
   "cell_type": "code",
   "execution_count": null,
   "id": "ca8ad935",
   "metadata": {},
   "outputs": [],
   "source": [
    "import re\n",
    "\n",
    "def order(words):\n",
    "\n",
    "    words = words.split()\n",
    "\n",
    "    sorted_words = sorted(words, key=lambda x: int(re.search(r'\\d+', x).group()))\n",
    "\n",
    "    return ' '.join(sorted_words)\n",
    "\n",
    "\n"
   ]
  },
  {
   "cell_type": "code",
   "execution_count": null,
   "id": "51cefcce",
   "metadata": {},
   "outputs": [],
   "source": [
    "operator = '+'\n",
    "val1 = 2\n",
    "val2 = 2\n",
    "\n",
    "if operator == \"+\":\n",
    "    val1 + val2\n",
    "elif operator == '-':\n",
    "    val1 - val2"
   ]
  },
  {
   "cell_type": "code",
   "execution_count": null,
   "id": "c2b91116",
   "metadata": {},
   "outputs": [
    {
     "data": {
      "text/plain": [
       "9"
      ]
     },
     "execution_count": 45,
     "metadata": {},
     "output_type": "execute_result"
    }
   ],
   "source": [
    "str1 = \"Hello\"\n",
    "\n",
    "def replace(s):\n",
    "    vowels = 'aeiouAEIOU'\n",
    "    new_str = ''\n",
    "    for i in s:\n",
    "        if i in vowels:\n",
    "            new_str += '!'\n",
    "        else:\n",
    "            new_str += i\n",
    "\n",
    "    return new_str"
   ]
  },
  {
   "cell_type": "code",
   "execution_count": null,
   "id": "240371af",
   "metadata": {},
   "outputs": [
    {
     "data": {
      "text/plain": [
       "True"
      ]
     },
     "execution_count": 47,
     "metadata": {},
     "output_type": "execute_result"
    }
   ],
   "source": [
    "import string\n",
    "\n",
    "def is_pangram(sentence):\n",
    "    alphabet = set(string.ascii_lowercase)\n",
    "    return alphabet.issubset(set(sentence.lower()))\n",
    "\n",
    "is_pangram(\"The quick brown fox jumps over the lazy dog\")"
   ]
  },
  {
   "cell_type": "code",
   "execution_count": null,
   "id": "795fc792",
   "metadata": {},
   "outputs": [
    {
     "name": "stdout",
     "output_type": "stream",
     "text": [
      "0 1 2 3 4 ['Distinction', 'Pass', 'Pass', 'Distinction', 'Pass']\n"
     ]
    }
   ],
   "source": [
    "results = ['A1', 'B3', 'C5', 'A2', 'B4']\n",
    "for i in range(5):\n",
    "    if \"A\" in results[i]:\n",
    "        results[i] = \"Distinction\"\n",
    "    else:\n",
    "        results[i] = \"Pass\"\n",
    "print(results)"
   ]
  },
  {
   "cell_type": "code",
   "execution_count": null,
   "id": "b0ae8052",
   "metadata": {},
   "outputs": [
    {
     "data": {
      "text/plain": [
       "'Meow...'"
      ]
     },
     "execution_count": 55,
     "metadata": {},
     "output_type": "execute_result"
    }
   ],
   "source": [
    "class Cat:\n",
    "    def __init__(self, name, age):\n",
    "        self.name = name\n",
    "        self.age = age\n",
    "    \n",
    "    def sound(self):\n",
    "        return \"Meow...\"\n",
    "    \n",
    "variable1 = Cat(\"fae\", 1)"
   ]
  },
  {
   "cell_type": "code",
   "execution_count": null,
   "id": "30211006",
   "metadata": {},
   "outputs": [
    {
     "data": {
      "text/plain": [
       "<__main__.Dog at 0x10df6ffe0>"
      ]
     },
     "execution_count": 58,
     "metadata": {},
     "output_type": "execute_result"
    }
   ],
   "source": [
    "class Dog:\n",
    "    def __init__(self, name, breed, age):\n",
    "        self.name = name\n",
    "        self.breed = breed\n",
    "        self.age = age\n",
    "\n",
    "    def bark(self):\n",
    "        return f\"{self.name} says woof!\"\n",
    "\n",
    "    def sit(self):\n",
    "        return f\"{self.name} sits down.\"\n",
    "\n",
    "    def birthday(self):\n",
    "        self.age += 1\n",
    "        return f\"Happy Birthday, {self.name}! You are now {self.age} years old.\"\n",
    "\n",
    "    def __str__(self):\n",
    "        return f\"{self.name} is a {self.age}-year-old {self.breed}.\"\n",
    "    \n",
    "anthony = Dog('Dog', \"german shepherd\", 69)\n"
   ]
  },
  {
   "cell_type": "code",
   "execution_count": 62,
   "id": "f042c0cd",
   "metadata": {},
   "outputs": [
    {
     "data": {
      "text/plain": [
       "(4, 3)"
      ]
     },
     "execution_count": 62,
     "metadata": {},
     "output_type": "execute_result"
    }
   ],
   "source": [
    "def f1(one=1, two=2):\n",
    "    return two, one\n",
    "\n",
    "f1(3, 4)"
   ]
  }
 ],
 "metadata": {
  "kernelspec": {
   "display_name": "TTA",
   "language": "python",
   "name": "python3"
  },
  "language_info": {
   "codemirror_mode": {
    "name": "ipython",
    "version": 3
   },
   "file_extension": ".py",
   "mimetype": "text/x-python",
   "name": "python",
   "nbconvert_exporter": "python",
   "pygments_lexer": "ipython3",
   "version": "3.12.9"
  }
 },
 "nbformat": 4,
 "nbformat_minor": 5
}
