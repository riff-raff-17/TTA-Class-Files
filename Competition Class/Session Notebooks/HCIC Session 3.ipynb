{
 "cells": [
  {
   "cell_type": "markdown",
   "id": "5bd986bc",
   "metadata": {},
   "source": [
    "### String Manipulation"
   ]
  },
  {
   "cell_type": "code",
   "execution_count": 7,
   "id": "c2c0e727",
   "metadata": {},
   "outputs": [
    {
     "name": "stdout",
     "output_type": "stream",
     "text": [
      "low taper fae\n",
      "PythonPythonPython\n"
     ]
    }
   ],
   "source": [
    "# String concatenation: +\n",
    "str1 = \"fae\"\n",
    "str2 = \"low taper \"\n",
    "\n",
    "print(str2 + str1)\n",
    "\n",
    "# String multiplication: *\n",
    "str3 = \"Python\"\n",
    "num = 3\n",
    "\n",
    "print(str3 * num)"
   ]
  },
  {
   "cell_type": "code",
   "execution_count": 14,
   "id": "16a6b9d8",
   "metadata": {},
   "outputs": [
    {
     "name": "stdout",
     "output_type": "stream",
     "text": [
      "First element: A\n",
      "Elements 2-5: BCDE\n",
      "Every other letter: ACE\n"
     ]
    }
   ],
   "source": [
    "# String slicing: [start:stop:space]\n",
    "s = \"ABCDEF\"\n",
    "\n",
    "print(\"First element:\", s[0])\n",
    "print(\"Elements 2-5:\", s[1:5])\n",
    "print(\"Every other letter:\", s[0:6:2])"
   ]
  },
  {
   "cell_type": "code",
   "execution_count": 25,
   "id": "2988d75d",
   "metadata": {},
   "outputs": [
    {
     "name": "stdout",
     "output_type": "stream",
     "text": [
      "cd\n",
      "ed\n"
     ]
    }
   ],
   "source": [
    "'''Negative indices'''\n",
    "s = \"abcdef\"\n",
    "\n",
    "print(s[-4:-2])\n",
    "\n",
    "print(s[-2:-4:-1])"
   ]
  },
  {
   "cell_type": "code",
   "execution_count": null,
   "id": "abeab919",
   "metadata": {},
   "outputs": [
    {
     "data": {
      "text/plain": [
       "'irde'"
      ]
     },
     "execution_count": 51,
     "metadata": {},
     "output_type": "execute_result"
    }
   ],
   "source": [
    "text = \"breadfruit\"\n",
    "\n",
    "# Slice to give 'fruit' with negative indices\n",
    "text[-5:]\n",
    "\n",
    "# Slice to give 'tiurfdaerb' \n",
    "text[::-1]\n",
    "\n",
    "# Slice to give 'irde'\n",
    "text[-2:-9:-2]\n",
    "\n"
   ]
  },
  {
   "cell_type": "markdown",
   "id": "44ee15c0",
   "metadata": {},
   "source": [
    "### For loops"
   ]
  },
  {
   "cell_type": "code",
   "execution_count": 60,
   "id": "d5379237",
   "metadata": {},
   "outputs": [
    {
     "name": "stdout",
     "output_type": "stream",
     "text": [
      "3\n"
     ]
    }
   ],
   "source": [
    "numbers = '01234567'\n",
    "result = 0\n",
    "\n",
    "for num in numbers:\n",
    "    if int(num) % 2 == 0 and int(num) != 0:\n",
    "        result += 1\n",
    "\n",
    "print(result)"
   ]
  },
  {
   "cell_type": "markdown",
   "id": "793e6d83",
   "metadata": {},
   "source": [
    "### Booleans"
   ]
  },
  {
   "cell_type": "code",
   "execution_count": 69,
   "id": "097112a5",
   "metadata": {},
   "outputs": [
    {
     "data": {
      "text/plain": [
       "True"
      ]
     },
     "execution_count": 69,
     "metadata": {},
     "output_type": "execute_result"
    }
   ],
   "source": [
    "True or False"
   ]
  },
  {
   "cell_type": "code",
   "execution_count": 74,
   "id": "d9ba9de5",
   "metadata": {},
   "outputs": [
    {
     "data": {
      "text/plain": [
       "'aeaefe'"
      ]
     },
     "execution_count": 74,
     "metadata": {},
     "output_type": "execute_result"
    }
   ],
   "source": [
    "text = \"I am prepared for the HCIC!\"\n",
    "basket = \"fae\"\n",
    "new_text = ''\n",
    "\n",
    "for fae in text:\n",
    "    if fae in basket:\n",
    "        new_text += fae\n",
    "\n",
    "new_text"
   ]
  },
  {
   "cell_type": "code",
   "execution_count": null,
   "id": "ac579c6b",
   "metadata": {},
   "outputs": [],
   "source": []
  },
  {
   "cell_type": "code",
   "execution_count": null,
   "id": "9e962f47",
   "metadata": {},
   "outputs": [
    {
     "name": "stdout",
     "output_type": "stream",
     "text": [
      "True\n"
     ]
    }
   ],
   "source": [
    "# True statements\n",
    "z = True\n",
    "z = 1\n",
    "z = 'any string'\n",
    "z = ['any', 'list']\n",
    "\n",
    "if z:\n",
    "    print(\"Truthy\")\n",
    "# False statements\n",
    "z = False\n",
    "z = 0\n",
    "z = ''\n",
    "z = []\n",
    "\n",
    "if not z:\n",
    "    print('Falsey')"
   ]
  },
  {
   "cell_type": "code",
   "execution_count": 77,
   "id": "a65fe46f",
   "metadata": {},
   "outputs": [
    {
     "data": {
      "text/plain": [
       "'e'"
      ]
     },
     "execution_count": 77,
     "metadata": {},
     "output_type": "execute_result"
    }
   ],
   "source": [
    "str1 = 'Xavier'\n",
    "\n",
    "str1[-2]"
   ]
  }
 ],
 "metadata": {
  "kernelspec": {
   "display_name": "TTA",
   "language": "python",
   "name": "python3"
  },
  "language_info": {
   "codemirror_mode": {
    "name": "ipython",
    "version": 3
   },
   "file_extension": ".py",
   "mimetype": "text/x-python",
   "name": "python",
   "nbconvert_exporter": "python",
   "pygments_lexer": "ipython3",
   "version": "3.12.9"
  }
 },
 "nbformat": 4,
 "nbformat_minor": 5
}
