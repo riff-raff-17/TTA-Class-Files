{
 "cells": [
  {
   "cell_type": "code",
   "execution_count": 1,
   "id": "828d42be-1adc-471f-939f-a710e1dd8d7a",
   "metadata": {},
   "outputs": [
    {
     "name": "stdout",
     "output_type": "stream",
     "text": [
      "1\n",
      "3\n",
      "5\n",
      "7\n",
      "9\n"
     ]
    }
   ],
   "source": [
    "#review time\n",
    "for i in range(1, 10, 2):\n",
    "    print(i)"
   ]
  },
  {
   "cell_type": "code",
   "execution_count": 51,
   "id": "7e53f4fb-3696-45aa-86f0-232c1ab77930",
   "metadata": {},
   "outputs": [
    {
     "name": "stdout",
     "output_type": "stream",
     "text": [
      "f a e   s a y s   d e n t a l   h e a l t h "
     ]
    }
   ],
   "source": [
    "text = \"fae says dental health\"\n",
    "text1 = 'supercalifragilisticexpialidocious'\n",
    "\n",
    "for char in text:\n",
    "    print(char, end=\" \")"
   ]
  },
  {
   "cell_type": "code",
   "execution_count": 13,
   "id": "884e1bbd-387d-4514-a0a1-2d466365ddef",
   "metadata": {},
   "outputs": [
    {
     "name": "stdout",
     "output_type": "stream",
     "text": [
      "fae & kevin & nemo & savior & "
     ]
    }
   ],
   "source": [
    "list_1 = ['fae', 'kevin', 'nemo', 'savior']\n",
    "\n",
    "for i in list_1:\n",
    "    print(i, end='')"
   ]
  },
  {
   "cell_type": "code",
   "execution_count": 15,
   "id": "5e3fd975-f8e2-48fb-bed0-243dd0f06a2c",
   "metadata": {},
   "outputs": [
    {
     "name": "stdout",
     "output_type": "stream",
     "text": [
      "1\n",
      "2\n",
      "3\n",
      "4\n",
      "5\n"
     ]
    }
   ],
   "source": [
    "i = 1\n",
    "\n",
    "while i < 6: \n",
    "    print(i)\n",
    "    i += 1"
   ]
  },
  {
   "cell_type": "code",
   "execution_count": 19,
   "id": "160664a6-08de-4d46-bbd5-96727f9a3e75",
   "metadata": {},
   "outputs": [
    {
     "name": "stdout",
     "output_type": "stream",
     "text": [
      "1\n",
      "2\n"
     ]
    }
   ],
   "source": [
    "i = 1\n",
    "\n",
    "while i < 6: \n",
    "    print(i)\n",
    "    i += 1\n",
    "    if i == 3:\n",
    "        break\n",
    "\n"
   ]
  },
  {
   "cell_type": "code",
   "execution_count": 21,
   "id": "ae8e2262-4222-407e-8956-9324a6342e2c",
   "metadata": {},
   "outputs": [
    {
     "name": "stdout",
     "output_type": "stream",
     "text": [
      "1\n",
      "2\n",
      "3\n",
      "4\n",
      "5\n",
      "i is not less than 6\n"
     ]
    }
   ],
   "source": [
    "i = 1\n",
    "\n",
    "while i < 6: \n",
    "    print(i)\n",
    "    i += 1\n",
    "else:\n",
    "    print('i is not less than 6')"
   ]
  },
  {
   "cell_type": "code",
   "execution_count": 25,
   "id": "6f392973-b021-45cd-a1f3-e218aecd3123",
   "metadata": {},
   "outputs": [
    {
     "name": "stdout",
     "output_type": "stream",
     "text": [
      "10\n",
      "9\n",
      "8\n",
      "7\n",
      "6\n",
      "5\n",
      "4\n",
      "3\n",
      "2\n",
      "1\n",
      "Boom!\n"
     ]
    }
   ],
   "source": [
    "#Use a while loop to countdown from 10 to 1 and then say Boom! or smth\n",
    "#badabing badabam badaboom yay\n",
    "i = 10\n",
    "\n",
    "while i >= 1:\n",
    "    print(i)\n",
    "    i -= 1\n",
    "else:\n",
    "    print('Boom!')"
   ]
  },
  {
   "cell_type": "code",
   "execution_count": 43,
   "id": "dc213afe-ccee-493f-886b-4f4c0e60ee88",
   "metadata": {},
   "outputs": [
    {
     "name": "stdin",
     "output_type": "stream",
     "text": [
      "What do you think the number is? > 2\n"
     ]
    },
    {
     "name": "stdout",
     "output_type": "stream",
     "text": [
      "Too low\n"
     ]
    },
    {
     "name": "stdin",
     "output_type": "stream",
     "text": [
      "What do you think the number is? > 7\n"
     ]
    },
    {
     "name": "stdout",
     "output_type": "stream",
     "text": [
      "You guessed correctly!\n"
     ]
    }
   ],
   "source": [
    "secret_num = 7\n",
    "\n",
    "while True:\n",
    "    num = int(input(\"What do you think the number is? >\"))\n",
    "    if num == secret_num:\n",
    "        print('You guessed correctly!')\n",
    "        break\n",
    "    elif num > secret_num:\n",
    "        print('Too high')\n",
    "    elif num < secret_num:\n",
    "        print('Too low')\n",
    "    else:\n",
    "        print(\"Incorrect :(\")"
   ]
  },
  {
   "cell_type": "code",
   "execution_count": 45,
   "id": "f8b77ab8-e7db-4d3f-a66f-07e8f980d2b5",
   "metadata": {},
   "outputs": [
    {
     "name": "stdin",
     "output_type": "stream",
     "text": [
      "What do you want to add? > 10\n",
      "What do you want to add? > 11\n",
      "What do you want to add? > 12\n",
      "What do you want to add? > 0\n"
     ]
    },
    {
     "name": "stdout",
     "output_type": "stream",
     "text": [
      "33\n"
     ]
    }
   ],
   "source": [
    "added = 0\n",
    "\n",
    "while True:\n",
    "    user_input = int(input(\"What do you want to add? >\"))\n",
    "\n",
    "    added += user_input\n",
    "    if user_input == 0:\n",
    "        print(added)\n",
    "        break"
   ]
  },
  {
   "cell_type": "code",
   "execution_count": null,
   "id": "d4dfb746-fbbd-41ab-a08f-7af616e84bc0",
   "metadata": {},
   "outputs": [],
   "source": [
    "while True:\n",
    "    user_input = int(input(\"Number? >\"))\n",
    "\n",
    "    if user_input == 0:\n",
    "        break\n",
    "    "
   ]
  },
  {
   "cell_type": "code",
   "execution_count": 49,
   "id": "88aea434-9532-4142-8631-28cc9e17853c",
   "metadata": {},
   "outputs": [
    {
     "data": {
      "text/plain": [
       "0"
      ]
     },
     "execution_count": 49,
     "metadata": {},
     "output_type": "execute_result"
    }
   ],
   "source": [
    "7 % 2 == 1"
   ]
  },
  {
   "cell_type": "code",
   "execution_count": 55,
   "id": "5ca738d4-a975-4523-9364-d994940bd9b6",
   "metadata": {},
   "outputs": [
    {
     "name": "stdin",
     "output_type": "stream",
     "text": [
      "What string do you want to count? > woah\n"
     ]
    },
    {
     "name": "stdout",
     "output_type": "stream",
     "text": [
      "2\n"
     ]
    }
   ],
   "source": [
    "text = input(\"What string do you want to count? >\")\n",
    "vowels = 'aeiouAEIOU'\n",
    "count = 0\n",
    "\n",
    "for letter in text:\n",
    "    if letter in vowels:\n",
    "        count += 1\n",
    "\n",
    "print(count)"
   ]
  },
  {
   "cell_type": "code",
   "execution_count": 57,
   "id": "50c1d591-13e9-4b07-82da-e716110e22b1",
   "metadata": {},
   "outputs": [
    {
     "name": "stdout",
     "output_type": "stream",
     "text": [
      "123\n"
     ]
    }
   ],
   "source": [
    "#make a function that adds two numbers\n",
    "\n",
    "def add_two(par1, par2):\n",
    "    result = par1 + par2\n",
    "    return result\n",
    "\n",
    "print(add_two(46, 77))"
   ]
  },
  {
   "cell_type": "code",
   "execution_count": 59,
   "id": "5bdefd76-e72b-474e-a806-4ed6c1fef2c0",
   "metadata": {},
   "outputs": [
    {
     "name": "stdout",
     "output_type": "stream",
     "text": [
      "9\n"
     ]
    }
   ],
   "source": [
    "def tripler(par):\n",
    "    result = par * 3\n",
    "    return result\n",
    "\n",
    "print(tripler(3))"
   ]
  },
  {
   "cell_type": "code",
   "execution_count": 65,
   "id": "cde4a189-87d6-4b21-8afd-c43a1a88168e",
   "metadata": {},
   "outputs": [
    {
     "name": "stdout",
     "output_type": "stream",
     "text": [
      "zer0\n"
     ]
    }
   ],
   "source": [
    "def is_pos(par):\n",
    "    if par > 0:\n",
    "        print('positive')\n",
    "    elif par < 0:\n",
    "        print('negative')\n",
    "    else:\n",
    "        print('zer0')\n",
    "\n",
    "is_pos(0)"
   ]
  },
  {
   "cell_type": "code",
   "execution_count": 71,
   "id": "70ee30f7-72c6-4b59-b7d7-fc987c27884a",
   "metadata": {},
   "outputs": [
    {
     "data": {
      "text/plain": [
       "120"
      ]
     },
     "execution_count": 71,
     "metadata": {},
     "output_type": "execute_result"
    }
   ],
   "source": [
    "def sum_recursive(par):\n",
    "    #when to stop\n",
    "    if par <= 1:\n",
    "        return 1\n",
    "    #what to do otherwise\n",
    "    return par * sum_recursive(par - 1)\n",
    "\n",
    "sum_recursive(5)"
   ]
  },
  {
   "cell_type": "code",
   "execution_count": null,
   "id": "b32e74c9-4da3-4a1b-bb6c-23ed6457914c",
   "metadata": {},
   "outputs": [],
   "source": []
  }
 ],
 "metadata": {
  "kernelspec": {
   "display_name": "Python [conda env:TTA]",
   "language": "python",
   "name": "conda-env-TTA-py"
  },
  "language_info": {
   "codemirror_mode": {
    "name": "ipython",
    "version": 3
   },
   "file_extension": ".py",
   "mimetype": "text/x-python",
   "name": "python",
   "nbconvert_exporter": "python",
   "pygments_lexer": "ipython3",
   "version": "3.11.11"
  }
 },
 "nbformat": 4,
 "nbformat_minor": 5
}
