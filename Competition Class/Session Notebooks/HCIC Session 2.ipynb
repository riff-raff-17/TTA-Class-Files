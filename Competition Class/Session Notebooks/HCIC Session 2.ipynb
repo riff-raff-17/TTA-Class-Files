{
 "cells": [
  {
   "cell_type": "markdown",
   "id": "f0866ca5",
   "metadata": {},
   "source": [
    "### HCIC Review"
   ]
  },
  {
   "cell_type": "code",
   "execution_count": 13,
   "id": "31b92418",
   "metadata": {},
   "outputs": [
    {
     "name": "stdout",
     "output_type": "stream",
     "text": [
      "FaeKevin\n",
      "HelloHelloHelloHelloHello\n",
      "5555555555\n"
     ]
    }
   ],
   "source": [
    "'''String operations'''\n",
    "\n",
    "# String concatention\n",
    "str1 = \"Fae\"\n",
    "str2 = \"Kevin\"\n",
    "print(str1 + str2)\n",
    "\n",
    "# String multiplication\n",
    "str1 = \"Hello\"\n",
    "int1 = 5\n",
    "print(str1 * int1)\n",
    "\n",
    "# Conversions\n",
    "str1 = 5\n",
    "int1 = '10'\n",
    "\n",
    "print(str(str1) * int(int1))"
   ]
  },
  {
   "cell_type": "code",
   "execution_count": 20,
   "id": "b0f57fc5",
   "metadata": {},
   "outputs": [
    {
     "name": "stdout",
     "output_type": "stream",
     "text": [
      "H e l l o ,   P y t h o n ! 0 1 2 3 4 5 6 7 8 9 10 11 12 13 "
     ]
    }
   ],
   "source": [
    "'''For loops\n",
    "They can go over a string or a list'''\n",
    "text = \"Hello, Python!\"\n",
    "lst1 = ['Nemo', 'Kevin', 'Antho', 'Xavi']\n",
    "\n",
    "# Way 1: char is each element\n",
    "for char in text:\n",
    "    print(char, end=' ')\n",
    "\n",
    "# Way 2: i is the index\n",
    "for i in range(len(text)):\n",
    "    print(i, end=' ')"
   ]
  },
  {
   "cell_type": "code",
   "execution_count": null,
   "id": "5db5ba0c",
   "metadata": {},
   "outputs": [
    {
     "name": "stdout",
     "output_type": "stream",
     "text": [
      "7\n"
     ]
    }
   ],
   "source": [
    "# Counting occurences in text\n",
    "# Count the num of vowels\n",
    "text = \"Hello, Python AAAAhhh!\"\n",
    "vowels = 'aeiou'\n",
    "count = 0\n",
    "\n",
    "for char in text:\n",
    "    if char.lower() in vowels:\n",
    "        count += 1\n",
    "\n",
    "print(count)"
   ]
  },
  {
   "cell_type": "code",
   "execution_count": 29,
   "id": "b52919c2",
   "metadata": {},
   "outputs": [
    {
     "name": "stdout",
     "output_type": "stream",
     "text": [
      "3\n"
     ]
    }
   ],
   "source": [
    "num_list = [0, 3, 23, 2, 5, 98]\n",
    "result = []\n",
    "count_odd = 0\n",
    "\n",
    "for num in num_list:\n",
    "    if num % 2 == 1:\n",
    "        count_odd += 1\n",
    "\n",
    "print(count_odd)"
   ]
  },
  {
   "cell_type": "code",
   "execution_count": 33,
   "id": "b4746208",
   "metadata": {},
   "outputs": [
    {
     "data": {
      "text/plain": [
       "[0, 4, 24, 1, 6, 97]"
      ]
     },
     "execution_count": 33,
     "metadata": {},
     "output_type": "execute_result"
    }
   ],
   "source": [
    "# If odd, add 1. If even, subtract 1. If 0, leave the same\n",
    "num_list = [0, 3, 23, 2, 5, 98]\n",
    "result = []\n",
    "\n",
    "for num in num_list:\n",
    "    if num % 2 == 1:\n",
    "        result.append(num + 1)\n",
    "    elif num % 2 == 0 and num != 0:\n",
    "        result.append(num - 1)\n",
    "    else:\n",
    "        result.append(num)\n",
    "\n",
    "result"
   ]
  },
  {
   "cell_type": "code",
   "execution_count": 72,
   "id": "33f61bd1",
   "metadata": {},
   "outputs": [
    {
     "name": "stdout",
     "output_type": "stream",
     "text": [
      "Bread\n",
      "Bread\n"
     ]
    }
   ],
   "source": [
    "'''Slicing\n",
    "[start: stop: step]\n",
    "range(start, stop, step)\n",
    "'''\n",
    "text = 'Breadfruit is real .o.'\n",
    "num_list = [0, 3, 23, 2, 5, 98]\n",
    "\n",
    "for i in range(0, 5, 1):\n",
    "    print(text[i], end='')\n",
    "\n",
    "print('\\n' + text[0:5:1])"
   ]
  },
  {
   "cell_type": "code",
   "execution_count": 67,
   "id": "620825bc",
   "metadata": {},
   "outputs": [
    {
     "data": {
      "text/plain": [
       "'fruit'"
      ]
     },
     "execution_count": 67,
     "metadata": {},
     "output_type": "execute_result"
    }
   ],
   "source": [
    "text = 'Breadfruit is real'\n",
    "\n",
    "text[-13:-8:1]"
   ]
  },
  {
   "cell_type": "markdown",
   "id": "7ff7e69c",
   "metadata": {},
   "source": [
    "## Mock Test 1"
   ]
  },
  {
   "cell_type": "code",
   "execution_count": 73,
   "id": "b59025c8",
   "metadata": {},
   "outputs": [
    {
     "name": "stdout",
     "output_type": "stream",
     "text": [
      "55533333\n"
     ]
    }
   ],
   "source": [
    "a = \"5\"\n",
    "b = \"3\"\n",
    "result = a * int(b) + b * int(a)\n",
    "print(result)"
   ]
  },
  {
   "cell_type": "code",
   "execution_count": 74,
   "id": "1f48526e",
   "metadata": {},
   "outputs": [
    {
     "data": {
      "text/plain": [
       "'105'"
      ]
     },
     "execution_count": 74,
     "metadata": {},
     "output_type": "execute_result"
    }
   ],
   "source": [
    "str(10) + str(5)"
   ]
  },
  {
   "cell_type": "code",
   "execution_count": 76,
   "id": "72684a76",
   "metadata": {},
   "outputs": [
    {
     "data": {
      "text/plain": [
       "'448'"
      ]
     },
     "execution_count": 76,
     "metadata": {},
     "output_type": "execute_result"
    }
   ],
   "source": [
    "a = \"4\" \n",
    "b = 2\n",
    "result = a * b + str(b * int(a))\n",
    "result"
   ]
  },
  {
   "cell_type": "code",
   "execution_count": 78,
   "id": "7b5c55e6",
   "metadata": {},
   "outputs": [
    {
     "data": {
      "text/plain": [
       "17"
      ]
     },
     "execution_count": 78,
     "metadata": {},
     "output_type": "execute_result"
    }
   ],
   "source": [
    "x = '3'\n",
    "y = '4'\n",
    "z = '5'\n",
    "result = int(x) * int(y) + int(z)\n",
    "result"
   ]
  },
  {
   "cell_type": "code",
   "execution_count": 80,
   "id": "203a0f3e",
   "metadata": {},
   "outputs": [
    {
     "name": "stdout",
     "output_type": "stream",
     "text": [
      "3121212\n"
     ]
    }
   ],
   "source": [
    "a = '12'\n",
    "b = '3'\n",
    "c = int(a) % int(b) + int(b) * int(a[0])\n",
    "d = a * int(b)\n",
    "result = str(c) + d\n",
    "print(result)"
   ]
  },
  {
   "cell_type": "code",
   "execution_count": 81,
   "id": "d7637b0c",
   "metadata": {},
   "outputs": [
    {
     "name": "stdout",
     "output_type": "stream",
     "text": [
      "oeai\n"
     ]
    }
   ],
   "source": [
    "string = \"OpenAI\"\n",
    "result = \"\"\n",
    "for char in string:\n",
    "    if char in \"AEIOUaeiou\":\n",
    "        result += char.lower()\n",
    "\n",
    "print(result)"
   ]
  },
  {
   "cell_type": "code",
   "execution_count": 82,
   "id": "eab46315",
   "metadata": {},
   "outputs": [
    {
     "name": "stdout",
     "output_type": "stream",
     "text": [
      "[2, 4, 4, 8, 6]\n"
     ]
    }
   ],
   "source": [
    "nums = [1, 2, 3, 4, 5]\n",
    "result = []\n",
    "\n",
    "for num in nums:\n",
    "    if num % 2 == 0:\n",
    "        result.append(num * 2)\n",
    "    else:\n",
    "        result.append(num + 1)\n",
    "\n",
    "print(result)\n"
   ]
  },
  {
   "cell_type": "code",
   "execution_count": 83,
   "id": "10141175",
   "metadata": {},
   "outputs": [
    {
     "name": "stdout",
     "output_type": "stream",
     "text": [
      "10\n"
     ]
    }
   ],
   "source": [
    "string = \"Artificial Intelligence\"\n",
    "count = 0\n",
    "\n",
    "for char in string:\n",
    "    if char.lower() in 'aeiou':\n",
    "        count += 1\n",
    "\n",
    "print(count)\n"
   ]
  },
  {
   "cell_type": "code",
   "execution_count": 84,
   "id": "1e18a1df",
   "metadata": {},
   "outputs": [
    {
     "name": "stdout",
     "output_type": "stream",
     "text": [
      "leapplepe\n"
     ]
    }
   ],
   "source": [
    "basket = \"apple\"\n",
    "phrase = \"I love apple pie\"\n",
    "filtered = \"\"\n",
    "for char in phrase:\n",
    "    if char in basket:\n",
    "        filtered += char\n",
    "print(filtered)"
   ]
  },
  {
   "cell_type": "code",
   "execution_count": 85,
   "id": "3e2cbdc9",
   "metadata": {},
   "outputs": [
    {
     "name": "stdout",
     "output_type": "stream",
     "text": [
      "[13, 30, 23, 50, 33]\n"
     ]
    }
   ],
   "source": [
    "nums = [10, 15, 20, 25, 30]\n",
    "result = []\n",
    "\n",
    "for num in nums:\n",
    "    if num % 2 == 1:\n",
    "        result.append(num * 2)\n",
    "    else:\n",
    "        result.append(num + 3)\n",
    "\n",
    "print(result)\n"
   ]
  },
  {
   "cell_type": "code",
   "execution_count": 86,
   "id": "4d583c32",
   "metadata": {},
   "outputs": [
    {
     "name": "stdout",
     "output_type": "stream",
     "text": [
      "11 6 -2\n"
     ]
    }
   ],
   "source": [
    "a, b, c = 4, 5, 6\n",
    "a, b, c = b, c, a\n",
    "a = a + b\n",
    "c = c - b\n",
    "print(a, b, c)\n"
   ]
  },
  {
   "cell_type": "code",
   "execution_count": 87,
   "id": "d5037c61",
   "metadata": {},
   "outputs": [
    {
     "name": "stdout",
     "output_type": "stream",
     "text": [
      "16 9 -9\n"
     ]
    }
   ],
   "source": [
    "p, q, r = 7, 8, 9\n",
    "p, q, r = q, r, p\n",
    "p = p * 2\n",
    "r = r - p\n",
    "print(p, q, r)\n"
   ]
  },
  {
   "cell_type": "code",
   "execution_count": 88,
   "id": "d7f023c5",
   "metadata": {},
   "outputs": [
    {
     "name": "stdout",
     "output_type": "stream",
     "text": [
      "5\n"
     ]
    }
   ],
   "source": [
    "x = 5\n",
    "count = 0\n",
    "while x > 0:\n",
    "    count += 1\n",
    "    x -= 1\n",
    "print(count)\n"
   ]
  },
  {
   "cell_type": "code",
   "execution_count": null,
   "id": "4bb8e49b",
   "metadata": {},
   "outputs": [
    {
     "name": "stdout",
     "output_type": "stream",
     "text": [
      "10\n"
     ]
    }
   ],
   "source": [
    "n = 1234\n",
    "total = 0\n",
    "while n > 0:\n",
    "    total += n % 10  \n",
    "    n = n // 10 \n",
    "print(total)\n"
   ]
  },
  {
   "cell_type": "code",
   "execution_count": 90,
   "id": "05388100",
   "metadata": {},
   "outputs": [
    {
     "name": "stdout",
     "output_type": "stream",
     "text": [
      "yth\n"
     ]
    }
   ],
   "source": [
    "s = \"Python\"\n",
    "print(s[1:4])"
   ]
  },
  {
   "cell_type": "code",
   "execution_count": 93,
   "id": "431b5be1",
   "metadata": {},
   "outputs": [
    {
     "name": "stdout",
     "output_type": "stream",
     "text": [
      "[30, 40]\n"
     ]
    }
   ],
   "source": [
    "lst = [10, 20, 30, 40, 50]\n",
    "print(lst[-3:-1])"
   ]
  },
  {
   "cell_type": "code",
   "execution_count": 95,
   "id": "06563978",
   "metadata": {},
   "outputs": [
    {
     "name": "stdout",
     "output_type": "stream",
     "text": [
      "ace\n"
     ]
    }
   ],
   "source": [
    "s = 'abcdef'\n",
    "print(s[::2])"
   ]
  },
  {
   "cell_type": "code",
   "execution_count": 102,
   "id": "105059a6",
   "metadata": {},
   "outputs": [
    {
     "name": "stdout",
     "output_type": "stream",
     "text": [
      "Welcome\n"
     ]
    }
   ],
   "source": [
    "x = 'Apple'\n",
    "y = 'Banana'\n",
    "z = 1\n",
    "\n",
    "if x != y and z:\n",
    "    print(\"Welcome\")\n",
    "else:\n",
    "    print(\"Goodbye\")\n"
   ]
  },
  {
   "cell_type": "code",
   "execution_count": 104,
   "id": "2c010002",
   "metadata": {},
   "outputs": [
    {
     "name": "stdout",
     "output_type": "stream",
     "text": [
      "Welcome\n"
     ]
    }
   ],
   "source": [
    "x = 'Dog'\n",
    "y = 'Cat'\n",
    "z = True\n",
    "w = True\n",
    "\n",
    "if x == y or (z and w):\n",
    "    print(\"Welcome\")\n",
    "else:\n",
    "    print(\"See you!\")\n"
   ]
  }
 ],
 "metadata": {
  "kernelspec": {
   "display_name": "TTA",
   "language": "python",
   "name": "python3"
  },
  "language_info": {
   "codemirror_mode": {
    "name": "ipython",
    "version": 3
   },
   "file_extension": ".py",
   "mimetype": "text/x-python",
   "name": "python",
   "nbconvert_exporter": "python",
   "pygments_lexer": "ipython3",
   "version": "3.12.9"
  }
 },
 "nbformat": 4,
 "nbformat_minor": 5
}
