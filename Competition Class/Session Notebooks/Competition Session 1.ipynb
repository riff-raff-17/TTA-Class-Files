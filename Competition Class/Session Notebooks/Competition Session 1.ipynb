{
 "cells": [
  {
   "cell_type": "code",
   "execution_count": 12,
   "id": "444ba90d-1bd2-473a-823d-ff20567e609c",
   "metadata": {},
   "outputs": [
    {
     "name": "stdout",
     "output_type": "stream",
     "text": [
      "<class 'float'>\n"
     ]
    }
   ],
   "source": [
    "#IMMUTABLE\n",
    "\n",
    "#string\n",
    "\"this is a string\"\n",
    "'this is also a string'\n",
    "\n",
    "#numbers\n",
    "6 #int\n",
    "5.0000 #float (ing point integer)\n",
    "True + False #bool\n",
    "\n",
    "#Complex data types\n",
    "\n",
    "#tuple\n",
    "(\"a\", \"b\", 1)\n",
    "\n",
    "(\"a\", \"b\", \"one\")\n",
    "\n",
    "\n",
    "#MUTABLE\n",
    "#list\n",
    "#0 indexed\n",
    "[\"eggs\", 'milkzzzzzz', 20, \"eggs\"]\n",
    "\n",
    "#dictionary\n",
    "\n",
    "{\"word\": \"definition of my word 2\", \"more words\": \"more definitions\", 20: 21}\n",
    "\n",
    "#set \n",
    "{\"words\", \"more wordsssssss\"}\n",
    "\n",
    "#variables\n",
    "variable = 'whatever'"
   ]
  },
  {
   "cell_type": "code",
   "execution_count": 18,
   "id": "802d315a-515f-4a82-9084-47efed9471bd",
   "metadata": {},
   "outputs": [
    {
     "data": {
      "text/plain": [
       "2"
      ]
     },
     "execution_count": 18,
     "metadata": {},
     "output_type": "execute_result"
    }
   ],
   "source": []
  },
  {
   "cell_type": "code",
   "execution_count": null,
   "id": "ad982872-3362-45b9-a8fe-45eb6faab9dc",
   "metadata": {},
   "outputs": [],
   "source": [
    "42  #Integer, immutable\n",
    "\n",
    "\"Hello, world!\" #String immutable\n",
    "\n",
    "3.14159 #Float immutable\n",
    "\n",
    "True #boolean Immutable\n",
    "\n",
    "[1, 2, 3, 4, 5] #list mutable\n",
    "\n",
    "(\"apple\", \"banana\", \"cherry\") #tuple immutable\n",
    "\n",
    "\n",
    "{\"name\": \"Alice\", \"age\": 25} #dictionary mutable"
   ]
  },
  {
   "cell_type": "code",
   "execution_count": 26,
   "id": "1e4fbb12-7529-41c3-9f2e-7b824bcf1918",
   "metadata": {},
   "outputs": [
    {
     "name": "stdout",
     "output_type": "stream",
     "text": [
      "{'nemo': 'okay', 'fae': 'tired, terrible, i dont know', 'BIG RAFA': 'trash :('}\n"
     ]
    }
   ],
   "source": [
    "mood_dictionary = {}\n",
    "\n",
    "#defined new keys\n",
    "mood_dictionary['nemo'] = 'okay'\n",
    "mood_dictionary['fae'] = 'tired, terrible, i dont know'\n",
    "mood_dictionary['BIG RAFA'] = \"super chad\"\n",
    "\n",
    "#overwritten a previous key\n",
    "mood_dictionary['BIG RAFA'] = \"trash :(\"\n",
    "\n",
    "print(mood_dictionary)\n",
    "\n"
   ]
  },
  {
   "cell_type": "code",
   "execution_count": 32,
   "id": "2b1daf98-8826-475c-afa5-b61a44afe9ec",
   "metadata": {},
   "outputs": [
    {
     "name": "stdin",
     "output_type": "stream",
     "text": [
      "What is your key? > water\n",
      "What is your value? > wet\n"
     ]
    },
    {
     "data": {
      "text/plain": [
       "{'water': 'wet'}"
      ]
     },
     "execution_count": 32,
     "metadata": {},
     "output_type": "execute_result"
    }
   ],
   "source": [
    "other_dictionary = {}\n",
    "\n",
    "key = input(\"What is your key? >\")\n",
    "value = input(\"What is your value? >\")\n",
    "\n",
    "other_dictionary[key] = value\n",
    "\n",
    "other_dictionary"
   ]
  },
  {
   "cell_type": "code",
   "execution_count": 50,
   "id": "6ed01ef6-4e4d-4615-a90f-ac966f03418c",
   "metadata": {},
   "outputs": [
    {
     "name": "stdin",
     "output_type": "stream",
     "text": [
      "What is your name? > fae\n",
      "What is your age? > 8\n",
      "What is your hobby? > hydrophilic\n"
     ]
    },
    {
     "data": {
      "text/plain": [
       "{'name': 'fae', 'age': '8', 'hobby': 'hydrophilic'}"
      ]
     },
     "execution_count": 50,
     "metadata": {},
     "output_type": "execute_result"
    }
   ],
   "source": [
    "user = {}\n",
    "\n",
    "name = input(\"What is your name? >\")\n",
    "age = input('What is your age? >')\n",
    "hobby = input('What is your hobby? >')\n",
    "\n",
    "user['name'] = name\n",
    "user['age'] = age\n",
    "user['hobby'] = hobby\n",
    "\n",
    "user"
   ]
  },
  {
   "cell_type": "code",
   "execution_count": 58,
   "id": "f77ca0d4-7407-4eb8-9d8e-549e6e3dd600",
   "metadata": {},
   "outputs": [
    {
     "name": "stdout",
     "output_type": "stream",
     "text": [
      "fae\n",
      "8\n",
      "hydrophilic\n"
     ]
    }
   ],
   "source": [
    "print(user['name'])\n",
    "print(user['age'])\n",
    "print(user['hobby'])"
   ]
  },
  {
   "cell_type": "code",
   "execution_count": 62,
   "id": "c9b14656-5b3b-4bc9-a2e2-c6e29d7c468b",
   "metadata": {},
   "outputs": [
    {
     "name": "stdout",
     "output_type": "stream",
     "text": [
      "My name is fae, my age is 8, my hobby is hydrophilic\n"
     ]
    }
   ],
   "source": [
    "print(f\"My name is {user['name']}, my age is {user['age']}, my hobby is {user['hobby']}\")"
   ]
  },
  {
   "cell_type": "code",
   "execution_count": 76,
   "id": "727e856e-62de-4374-a2fc-9ba504a8584d",
   "metadata": {},
   "outputs": [
    {
     "data": {
      "text/plain": [
       "(2, 3)"
      ]
     },
     "execution_count": 76,
     "metadata": {},
     "output_type": "execute_result"
    }
   ],
   "source": [
    "def add(arg1, arg2):\n",
    "    result = arg1 + arg2\n",
    "\n",
    "    return (arg1, arg2)\n",
    "\n",
    "add(2, 3)"
   ]
  },
  {
   "cell_type": "code",
   "execution_count": 86,
   "id": "02dbe8aa-1e42-433a-bcf8-2884720c3751",
   "metadata": {},
   "outputs": [
    {
     "name": "stdout",
     "output_type": "stream",
     "text": [
      "a: 7 b: 5\n"
     ]
    }
   ],
   "source": [
    "#Funvtions and arguments\n",
    "def f1(one = 1, two = 1):\n",
    "    return two, one\n",
    "\n",
    "\n",
    "a = 5\n",
    "b = 7\n",
    "\n",
    "a, b = f1(a, b)\n",
    "\n",
    "print(\"a:\", a, \"b:\", b)\n"
   ]
  },
  {
   "cell_type": "code",
   "execution_count": 88,
   "id": "0720c369-4d8a-40d7-b360-cd8e6bacd8c7",
   "metadata": {},
   "outputs": [
    {
     "name": "stdout",
     "output_type": "stream",
     "text": [
      "c: 1 d: 1\n"
     ]
    }
   ],
   "source": [
    "c, d = f1()\n",
    "\n",
    "print(\"c:\", c, \"d:\", d)"
   ]
  },
  {
   "cell_type": "code",
   "execution_count": 90,
   "id": "07c009ad-7e96-4111-938c-1e2f9ab95e6f",
   "metadata": {},
   "outputs": [
    {
     "name": "stdout",
     "output_type": "stream",
     "text": [
      "24 20 4\n"
     ]
    }
   ],
   "source": [
    "\n",
    "#Varying variables\n",
    "a, b, c = 8, 16, 24\n",
    "a, b, c = c, a + 2, b - 4\n",
    "b = b * 2\n",
    "c = a - b\n",
    "print(a, b, c)"
   ]
  },
  {
   "cell_type": "code",
   "execution_count": 106,
   "id": "de00e35e-a69d-4eba-adf5-e2625bd78bb8",
   "metadata": {},
   "outputs": [
    {
     "name": "stdout",
     "output_type": "stream",
     "text": [
      "xav got snapped!\n",
      "['fae']\n"
     ]
    },
    {
     "data": {
      "text/plain": [
       "['fae']"
      ]
     },
     "execution_count": 106,
     "metadata": {},
     "output_type": "execute_result"
    }
   ],
   "source": [
    "import random\n",
    "\n",
    "def thanos(lst):\n",
    "    rand = random.choice(lst)\n",
    "    lst.remove(rand)\n",
    "\n",
    "    print(f\"{rand} got snapped!\")\n",
    "    print(lst)\n",
    "    return lst\n",
    "\n",
    "classroom = ['xav', 'fae']\n",
    "\n",
    "thanos(classroom)"
   ]
  },
  {
   "cell_type": "code",
   "execution_count": null,
   "id": "2d8a5fb9-bf83-4a81-9094-53169582f3f6",
   "metadata": {},
   "outputs": [],
   "source": []
  }
 ],
 "metadata": {
  "kernelspec": {
   "display_name": "Python [conda env:base] *",
   "language": "python",
   "name": "conda-base-py"
  },
  "language_info": {
   "codemirror_mode": {
    "name": "ipython",
    "version": 3
   },
   "file_extension": ".py",
   "mimetype": "text/x-python",
   "name": "python",
   "nbconvert_exporter": "python",
   "pygments_lexer": "ipython3",
   "version": "3.11.7"
  }
 },
 "nbformat": 4,
 "nbformat_minor": 5
}
