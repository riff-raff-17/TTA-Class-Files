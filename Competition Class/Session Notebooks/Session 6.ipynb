{
 "cells": [
  {
   "cell_type": "code",
   "execution_count": 3,
   "id": "6a3de664",
   "metadata": {},
   "outputs": [
    {
     "name": "stdout",
     "output_type": "stream",
     "text": [
      "999999\n"
     ]
    }
   ],
   "source": [
    "xavier = '9'\n",
    "fae = '6'\n",
    "output = xavier * int(fae)\n",
    "print(output)"
   ]
  },
  {
   "cell_type": "code",
   "execution_count": null,
   "id": "84b28477",
   "metadata": {},
   "outputs": [
    {
     "name": "stdout",
     "output_type": "stream",
     "text": [
      "3 7 2 9 4 1 \n",
      "3 7 2 9 4 1 "
     ]
    }
   ],
   "source": [
    "numbers = [3, 7, 2, 9, 4, 1]\n",
    "\n",
    "for num in numbers:\n",
    "    print(num, end=' ')\n",
    "\n",
    "print()\n",
    "\n",
    "for i in range(len(numbers)):\n",
    "    print(numbers[i], end=' ')"
   ]
  },
  {
   "cell_type": "code",
   "execution_count": null,
   "id": "4c04c7c4",
   "metadata": {},
   "outputs": [
    {
     "name": "stdout",
     "output_type": "stream",
     "text": [
      "Numbers list: [3, 7, 2]\n",
      "New numbers list: [1, 4, 9, 10]\n",
      "Done!\n"
     ]
    }
   ],
   "source": [
    "numbers = [3, 7, 2, 10, 9, 4, 1]\n",
    "new_numbers = []\n",
    "\n",
    "num = -1\n",
    "\n",
    "'''Change this to append numbers before 7 instead of 10 (inclusive)\n",
    "AND only append if they are ODD'''\n",
    "while num != 10:\n",
    "    num = numbers.pop()\n",
    "    new_numbers.append(num)\n",
    "\n",
    "print(f\"Numbers list: {numbers}\")\n",
    "print(f\"New numbers list: {new_numbers}\")\n",
    "print(\"Done!\")"
   ]
  },
  {
   "cell_type": "code",
   "execution_count": 19,
   "id": "07dc66e8",
   "metadata": {},
   "outputs": [
    {
     "name": "stdout",
     "output_type": "stream",
     "text": [
      "Numbers list: [3]\n",
      "New numbers list: [1, 9, 7]\n",
      "Done!\n"
     ]
    }
   ],
   "source": [
    "numbers = [3, 7, 2, 10, 9, 4, 1]\n",
    "new_numbers = []\n",
    "\n",
    "num = -1\n",
    "\n",
    "'''Change this to append numbers before 7 instead of 10 (inclusive)\n",
    "AND only append if they are ODD'''\n",
    "while num != 7:\n",
    "    num = numbers.pop()\n",
    "    if num % 2 == 1:\n",
    "        new_numbers.append(num)\n",
    "\n",
    "print(f\"Numbers list: {numbers}\")\n",
    "print(f\"New numbers list: {new_numbers}\")\n",
    "print(\"Done!\")"
   ]
  },
  {
   "cell_type": "code",
   "execution_count": 47,
   "id": "baf586e4",
   "metadata": {},
   "outputs": [
    {
     "name": "stdout",
     "output_type": "stream",
     "text": [
      "toast likes Fae toasted\n",
      "Fae toad\n",
      "Fae is a toe\n",
      "FaFaFaFaFaFaFaFaFaFaFaFaFaFaFaFaFaFaFaFa\n"
     ]
    }
   ],
   "source": [
    "toast = \"Fae likes her toast toasted\"\n",
    "\n",
    "print(toast[14:20] + toast[4:10] + toast[0:4] + toast[20:])\n",
    "print(toast[0:4] + toast[14:17] + toast[-1])\n",
    "\n",
    "print(toast[0:4] + toast[5] + toast[8] + toast[3] + toast[1] + toast[3]\n",
    " + toast[14:16] + toast[-2])\n",
    "\n",
    "print(toast[0:2] * 20)"
   ]
  },
  {
   "cell_type": "code",
   "execution_count": null,
   "id": "cb70b991",
   "metadata": {},
   "outputs": [],
   "source": [
    "# Truthness and Falseness\n",
    "\n",
    "tru_statements = [True, 1, \"anthony\", ['any', 'list']]\n",
    "false_statements = [False, 0, '', []]"
   ]
  },
  {
   "cell_type": "code",
   "execution_count": null,
   "id": "ce8fa66e",
   "metadata": {},
   "outputs": [
    {
     "data": {
      "text/plain": [
       "True"
      ]
     },
     "execution_count": 60,
     "metadata": {},
     "output_type": "execute_result"
    }
   ],
   "source": [
    "this = True and False or True and True or not False and True"
   ]
  },
  {
   "cell_type": "code",
   "execution_count": null,
   "id": "27713303",
   "metadata": {},
   "outputs": [
    {
     "data": {
      "text/plain": [
       "True"
      ]
     },
     "execution_count": 66,
     "metadata": {},
     "output_type": "execute_result"
    }
   ],
   "source": [
    "this = False or True and False or not True and False or True and not False"
   ]
  },
  {
   "cell_type": "code",
   "execution_count": null,
   "id": "a520c025",
   "metadata": {},
   "outputs": [
    {
     "name": "stdout",
     "output_type": "stream",
     "text": [
      "exeareieaaereee!\n"
     ]
    }
   ],
   "source": [
    "basket = \"xavierXAVIER!\"\n",
    "phrase = \"Next, we are going to steal-- pause \\\n",
    "for effect-- the moon!\"\n",
    "collected = ''\n",
    "count = 0\n",
    "\n",
    "for char in phrase:\n",
    "    if char in basket:\n",
    "        collected += char\n",
    "\n",
    "print(collected)\n"
   ]
  },
  {
   "cell_type": "code",
   "execution_count": 75,
   "id": "679101e1",
   "metadata": {},
   "outputs": [
    {
     "data": {
      "text/plain": [
       "'xavier'"
      ]
     },
     "execution_count": 75,
     "metadata": {},
     "output_type": "execute_result"
    }
   ],
   "source": [
    "def xavier():\n",
    "    user_input = input(\"What is your input? >\" )\n",
    "    try:\n",
    "        user_input = int(user_input)\n",
    "    except:\n",
    "        return \"not an integer\"\n",
    "        \n",
    "    if user_input == 69:\n",
    "        return \"xavier\"\n",
    "    else:\n",
    "        return \"not xavier\"\n",
    "\n",
    "xavier()"
   ]
  },
  {
   "cell_type": "code",
   "execution_count": 86,
   "id": "b8ed7588",
   "metadata": {},
   "outputs": [
    {
     "data": {
      "text/plain": [
       "69"
      ]
     },
     "execution_count": 86,
     "metadata": {},
     "output_type": "execute_result"
    }
   ],
   "source": [
    "def counter():\n",
    "    count = 0\n",
    "    letters = \"vierxaVIERXA\"\n",
    "    user_input = input(\"Gimme a string: \")\n",
    "    for char in user_input:\n",
    "        if char in letters:\n",
    "            count += 1\n",
    "\n",
    "    return count\n",
    "\n",
    "counter()"
   ]
  }
 ],
 "metadata": {
  "kernelspec": {
   "display_name": "TTA",
   "language": "python",
   "name": "python3"
  },
  "language_info": {
   "codemirror_mode": {
    "name": "ipython",
    "version": 3
   },
   "file_extension": ".py",
   "mimetype": "text/x-python",
   "name": "python",
   "nbconvert_exporter": "python",
   "pygments_lexer": "ipython3",
   "version": "3.12.9"
  }
 },
 "nbformat": 4,
 "nbformat_minor": 5
}
