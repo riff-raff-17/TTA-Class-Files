{
 "cells": [
  {
   "cell_type": "code",
   "execution_count": 2,
   "metadata": {},
   "outputs": [
    {
     "data": {
      "text/plain": [
       "11"
      ]
     },
     "execution_count": 2,
     "metadata": {},
     "output_type": "execute_result"
    }
   ],
   "source": [
    "def add_two_num(par1, par2):\n",
    "    results = par1 + par2\n",
    "    return results\n",
    "\n",
    "add_two_num(5, 6)"
   ]
  },
  {
   "cell_type": "code",
   "execution_count": null,
   "metadata": {},
   "outputs": [],
   "source": []
  },
  {
   "cell_type": "code",
   "execution_count": null,
   "metadata": {},
   "outputs": [
    {
     "data": {
      "text/plain": [
       "24"
      ]
     },
     "execution_count": 4,
     "metadata": {},
     "output_type": "execute_result"
    }
   ],
   "source": [
    "# Please make me a function that:\n",
    "# Takes in ONE parameter and quadruples it\n",
    "def quad(par1):\n",
    "    fae = par1 * 4\n",
    "    return fae\n",
    "\n",
    "quad(6)"
   ]
  },
  {
   "cell_type": "code",
   "execution_count": null,
   "metadata": {},
   "outputs": [
    {
     "name": "stdout",
     "output_type": "stream",
     "text": [
      "Not divisible :(\n"
     ]
    }
   ],
   "source": [
    "num1 = 68\n",
    "num2 = 69\n",
    "\n",
    "def divisible(par1, par2):\n",
    "    if par1 % par2 == 0:\n",
    "        print(\"Divisible\")\n",
    "    else:\n",
    "        print(\"Not divisible :(\")\n"
   ]
  },
  {
   "cell_type": "code",
   "execution_count": null,
   "metadata": {},
   "outputs": [
    {
     "data": {
      "text/plain": [
       "7"
      ]
     },
     "execution_count": 12,
     "metadata": {},
     "output_type": "execute_result"
    }
   ],
   "source": [
    "my_list = [2, 3, 4, 'fae', 'xavier', 'anthony', ['more',['woah'], 'data']]\n",
    "\n",
    "# Lists in Python are ZERO INDEXED\n",
    "my_list[6][0]\n",
    "# Length of a list \n",
    "len(my_list)\n"
   ]
  },
  {
   "cell_type": "code",
   "execution_count": 14,
   "metadata": {},
   "outputs": [
    {
     "data": {
      "text/plain": [
       "['anthony', 3, 4, 'fae', 'xavier', 'anthony', ['more', ['woah'], 'data']]"
      ]
     },
     "execution_count": 14,
     "metadata": {},
     "output_type": "execute_result"
    }
   ],
   "source": [
    "my_list = [2, 3, 4, 'fae', 'xavier', 'anthony', ['more',['woah'], 'data']]\n",
    "\n",
    "my_list[-1]\n",
    "\n",
    "my_list[0] = 'anthony'\n",
    "\n",
    "my_list"
   ]
  },
  {
   "cell_type": "code",
   "execution_count": 20,
   "metadata": {},
   "outputs": [
    {
     "name": "stdout",
     "output_type": "stream",
     "text": [
      "divis by 2\n",
      "not divis by 2\n",
      "divis by 2\n",
      "not divis by 2\n",
      "divis by 2\n"
     ]
    }
   ],
   "source": [
    "num_list = [6, 7, 8, 9, 10]\n",
    "\n",
    "for num in num_list:\n",
    "    if num % 2 == 0:\n",
    "        print('divis by 2')\n",
    "    else:\n",
    "        print('not divis by 2')"
   ]
  },
  {
   "cell_type": "code",
   "execution_count": null,
   "metadata": {},
   "outputs": [
    {
     "data": {
      "text/plain": [
       "'ecid dna ecils'"
      ]
     },
     "execution_count": 28,
     "metadata": {},
     "output_type": "execute_result"
    }
   ],
   "source": [
    "my_str = \"slice and dice\"\n",
    "\n",
    "my_str[::-1]"
   ]
  },
  {
   "cell_type": "code",
   "execution_count": 34,
   "metadata": {},
   "outputs": [
    {
     "data": {
      "text/plain": [
       "'1'"
      ]
     },
     "execution_count": 34,
     "metadata": {},
     "output_type": "execute_result"
    }
   ],
   "source": [
    "my_input = input(\"What is your input? >\")\n",
    "\n",
    "my_input"
   ]
  },
  {
   "cell_type": "code",
   "execution_count": null,
   "metadata": {},
   "outputs": [
    {
     "name": "stdout",
     "output_type": "stream",
     "text": [
      "0 3 6 9 "
     ]
    }
   ],
   "source": [
    "if num % 2 == 0:\n",
    "    print(\"even\")"
   ]
  },
  {
   "cell_type": "code",
   "execution_count": null,
   "metadata": {},
   "outputs": [
    {
     "ename": "TypeError",
     "evalue": "can only concatenate str (not \"float\") to str",
     "output_type": "error",
     "traceback": [
      "\u001b[0;31m---------------------------------------------------------------------------\u001b[0m",
      "\u001b[0;31mTypeError\u001b[0m                                 Traceback (most recent call last)",
      "Cell \u001b[0;32mIn[54], line 8\u001b[0m\n\u001b[1;32m      6\u001b[0m radius \u001b[38;5;241m=\u001b[39m \u001b[38;5;28mfloat\u001b[39m(\u001b[38;5;28minput\u001b[39m(\u001b[38;5;124m\"\u001b[39m\u001b[38;5;124mEnter the radius: \u001b[39m\u001b[38;5;124m\"\u001b[39m))\n\u001b[1;32m      7\u001b[0m area \u001b[38;5;241m=\u001b[39m calculate_area(radius)\n\u001b[0;32m----> 8\u001b[0m \u001b[38;5;28mprint\u001b[39m(\u001b[38;5;124m\"\u001b[39m\u001b[38;5;124mThe area is: \u001b[39m\u001b[38;5;124m\"\u001b[39m \u001b[38;5;241m+\u001b[39m area)\n",
      "\u001b[0;31mTypeError\u001b[0m: can only concatenate str (not \"float\") to str"
     ]
    }
   ],
   "source": [
    "import math\n",
    "\n",
    "def calculate_area(radius):\n",
    "    area = math.pi * radius * radius\n",
    "    return area\n",
    "radius = float(input(\"Enter the radius: \"))\n",
    "area = calculate_area(radius)\n",
    "print(\"The area is: \" + str(area))"
   ]
  },
  {
   "cell_type": "code",
   "execution_count": null,
   "metadata": {},
   "outputs": [],
   "source": [
    "def greet_user(name):\n",
    "    print(\"Hello, \" + name)\n",
    "\n",
    "def check_battery(battery):\n",
    "    if battery >= 50:\n",
    "        print(\"good\")\n",
    "    else:\n",
    "        print(\"bad\")\n",
    "\n"
   ]
  }
 ],
 "metadata": {
  "kernelspec": {
   "display_name": "TTA",
   "language": "python",
   "name": "python3"
  },
  "language_info": {
   "codemirror_mode": {
    "name": "ipython",
    "version": 3
   },
   "file_extension": ".py",
   "mimetype": "text/x-python",
   "name": "python",
   "nbconvert_exporter": "python",
   "pygments_lexer": "ipython3",
   "version": "3.11.11"
  }
 },
 "nbformat": 4,
 "nbformat_minor": 2
}
