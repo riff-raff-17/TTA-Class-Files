{
 "cells": [
  {
   "cell_type": "code",
   "execution_count": 107,
   "id": "284115a9-b7cd-4efd-97a0-2427d1ee9e0c",
   "metadata": {},
   "outputs": [
    {
     "name": "stdout",
     "output_type": "stream",
     "text": [
      "192.168.1.192:50051\n"
     ]
    }
   ],
   "source": [
    "from ugot import ugot\n",
    "got = ugot.UGOT()\n",
    "got.initialize('192.168.1.192')"
   ]
  },
  {
   "cell_type": "code",
   "execution_count": 81,
   "id": "7b72f1d0-cb37-4b93-becc-0d9a2d2e979e",
   "metadata": {},
   "outputs": [
    {
     "name": "stdout",
     "output_type": "stream",
     "text": [
      "51.1\n"
     ]
    }
   ],
   "source": [
    "distance = got.read_distance_data(21)\n",
    "print(distance)"
   ]
  },
  {
   "cell_type": "code",
   "execution_count": 109,
   "id": "a0af2722-1f70-4526-a86f-275922fc73a6",
   "metadata": {},
   "outputs": [],
   "source": [
    "def pick_up():\n",
    "    \n",
    "    got.mechanical_clamp_release()\n",
    "    got.mechanical_joint_control(angle1=0, angle2=41, angle3=-90, duration=500)\n",
    "    time.sleep(1)\n",
    "    got.mechanical_clamp_close()\n",
    "    time.sleep(1)\n",
    "    got.mechanical_joint_control(angle1=0, angle2=50, angle3=45, duration=500)\n",
    "\n",
    "def put_down():\n",
    "    time.sleep(0.5)\n",
    "    got.mechanical_joint_control(angle1=90, angle2=30, angle3=30, duration=500)\n",
    "    time.sleep(1)\n",
    "    got.mechanical_joint_control(angle1=90, angle2=-20, angle3=-20, duration=500)\n",
    "    time.sleep(0.5)\n",
    "    got.mechanical_clamp_release()\n",
    "\n",
    "def go_home():\n",
    "    while True:\n",
    "        distance = got.read_distance_data(21)\n",
    "        got.mecanum_translate_speed(angle=-90, speed=10)\n",
    "        if distance < 20:\n",
    "            got.mecanum_stop()\n",
    "            break\n",
    "\n",
    "def reset_arm():\n",
    "    got.mechanical_joint_control(angle1=90, angle2=45, angle3=45, duration=500)\n",
    "    time.sleep(0.5)\n",
    "    got.mechanical_joint_control(angle1=0, angle2=45, angle3=45, duration=500)\n",
    "    time.sleep(0.5)\n"
   ]
  },
  {
   "cell_type": "code",
   "execution_count": 111,
   "id": "8e2693c5-4ab1-4f42-9d68-981244fb0bab",
   "metadata": {},
   "outputs": [
    {
     "name": "stdout",
     "output_type": "stream",
     "text": [
      "17.8"
     ]
    },
    {
     "ename": "KeyboardInterrupt",
     "evalue": "",
     "output_type": "error",
     "traceback": [
      "\u001b[0;31m---------------------------------------------------------------------------\u001b[0m",
      "\u001b[0;31mKeyboardInterrupt\u001b[0m                         Traceback (most recent call last)",
      "Cell \u001b[0;32mIn[111], line 16\u001b[0m\n\u001b[1;32m     14\u001b[0m pick_up()\n\u001b[1;32m     15\u001b[0m trash \u001b[38;5;241m-\u001b[39m\u001b[38;5;241m=\u001b[39m \u001b[38;5;241m1\u001b[39m\n\u001b[0;32m---> 16\u001b[0m time\u001b[38;5;241m.\u001b[39msleep(\u001b[38;5;241m1\u001b[39m)\n\u001b[1;32m     17\u001b[0m go_home()\n\u001b[1;32m     18\u001b[0m put_down()\n",
      "\u001b[0;31mKeyboardInterrupt\u001b[0m: "
     ]
    }
   ],
   "source": [
    "#New version\n",
    "\n",
    "trash = 3\n",
    "\n",
    "reset_arm()\n",
    "got.mecanum_translate_speed_times(90, 10, 5, 1)\n",
    "\n",
    "while True:\n",
    "    distance = got.read_distance_data(21)\n",
    "    print(f\"\\r{distance}\", end=\"\")\n",
    "    if distance < 20:\n",
    "        time.sleep(0.1)\n",
    "        got.mecanum_stop()\n",
    "        pick_up()\n",
    "        trash -= 1\n",
    "        time.sleep(1)\n",
    "        go_home()\n",
    "        put_down()\n",
    "        if trash == 0:\n",
    "            break\n",
    "        else:\n",
    "            reset_arm()\n",
    "            got.mecanum_translate_speed_times(90, 10, 5, 1)\n",
    "    else:\n",
    "        got.mecanum_translate_speed(90, 10)"
   ]
  },
  {
   "cell_type": "code",
   "execution_count": null,
   "id": "1eaaf9e0-e1e7-406b-ac75-e8964074568c",
   "metadata": {},
   "outputs": [],
   "source": []
  }
 ],
 "metadata": {
  "kernelspec": {
   "display_name": "Python [conda env:TTA]",
   "language": "python",
   "name": "conda-env-TTA-py"
  },
  "language_info": {
   "codemirror_mode": {
    "name": "ipython",
    "version": 3
   },
   "file_extension": ".py",
   "mimetype": "text/x-python",
   "name": "python",
   "nbconvert_exporter": "python",
   "pygments_lexer": "ipython3",
   "version": "3.11.11"
  }
 },
 "nbformat": 4,
 "nbformat_minor": 5
}
