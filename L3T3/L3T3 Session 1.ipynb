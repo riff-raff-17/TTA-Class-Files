{
 "cells": [
  {
   "cell_type": "code",
   "execution_count": 2,
   "id": "250abc4d",
   "metadata": {},
   "outputs": [
    {
     "name": "stdout",
     "output_type": "stream",
     "text": [
      "Hello\n",
      "Goodbye\n",
      "Return\n",
      "gaming\n",
      "hello\n"
     ]
    }
   ],
   "source": [
    "print('Hello')\n",
    "print('Goodbye')\n",
    "print('Return')\n",
    "print('gaming')"
   ]
  },
  {
   "cell_type": "code",
   "execution_count": 12,
   "id": "c34761a4",
   "metadata": {},
   "outputs": [
    {
     "name": "stdout",
     "output_type": "stream",
     "text": [
      "Hello \n",
      "Goodbye \n",
      "Return \n",
      "gaming\n"
     ]
    }
   ],
   "source": [
    "print('Hello \\nGoodbye \\nReturn \\ngaming')"
   ]
  },
  {
   "cell_type": "code",
   "execution_count": 26,
   "id": "424f97e6",
   "metadata": {},
   "outputs": [
    {
     "name": "stdout",
     "output_type": "stream",
     "text": [
      "Hello! My name is Rafa\n",
      "I am 15 years old\n",
      "My hobby is gaming\n",
      "My job is teaching\n"
     ]
    }
   ],
   "source": [
    "name = \"Rafa\"\n",
    "age = 15\n",
    "hobby = 'gaming'\n",
    "job = 'teaching'\n",
    "\n",
    "print(\"Hello! My name is\", name)\n",
    "print('I am', age, 'years old')\n",
    "print('My hobby is', hobby)\n",
    "print('My job is', job)"
   ]
  },
  {
   "cell_type": "code",
   "execution_count": 28,
   "id": "760746bf",
   "metadata": {
    "scrolled": true
   },
   "outputs": [
    {
     "name": "stdout",
     "output_type": "stream",
     "text": [
      "Hello! My name is Rafa \n",
      "I am 15 years old \n",
      "My hobby is gaming \n",
      "My job is teaching\n"
     ]
    }
   ],
   "source": [
    "print(\"Hello! My name is\", name, '\\nI am', age, 'years old', '\\nMy hobby is', hobby, '\\nMy job is', job)"
   ]
  },
  {
   "cell_type": "code",
   "execution_count": 38,
   "id": "1ac38527",
   "metadata": {
    "scrolled": true
   },
   "outputs": [
    {
     "name": "stdout",
     "output_type": "stream",
     "text": [
      "What is your name? >rafa\n",
      "What is your age? >1\n",
      "What is your favorite food? >pasta\n",
      "Hello rafa! You are 1 years old and your favorite food is pasta.\n"
     ]
    }
   ],
   "source": [
    "name = input(\"What is your name? >\")\n",
    "age = input(\"What is your age? >\")\n",
    "food = input(\"What is your favorite food? >\")\n",
    "\n",
    "print(\"Hello \" + name + \"! You are \" + age + \" years old and your favorite food is \" + food + \".\")"
   ]
  },
  {
   "cell_type": "code",
   "execution_count": 43,
   "id": "f91a9349",
   "metadata": {
    "scrolled": true
   },
   "outputs": [
    {
     "name": "stdout",
     "output_type": "stream",
     "text": [
      "300\n",
      "-100\n",
      "20000\n",
      "0.5\n"
     ]
    }
   ],
   "source": [
    "print(100 + 200)\n",
    "print(100 - 200)\n",
    "print(100 * 200)\n",
    "print(100 / 200)"
   ]
  },
  {
   "cell_type": "code",
   "execution_count": 52,
   "id": "3c5e5918",
   "metadata": {},
   "outputs": [
    {
     "name": "stdout",
     "output_type": "stream",
     "text": [
      "What is the first number >100\n",
      "What is the second number? >200\n",
      "100 + 200 = 300\n"
     ]
    }
   ],
   "source": [
    "num1 = input(\"What is the first number >\")\n",
    "num2 = input(\"What is the second number? >\")\n",
    "\n",
    "print(num1 + \" + \" + num2 + \" = \" + str((int(num1) + int(num2))))"
   ]
  },
  {
   "cell_type": "code",
   "execution_count": 47,
   "id": "2a8da3a1",
   "metadata": {
    "scrolled": true
   },
   "outputs": [
    {
     "name": "stdout",
     "output_type": "stream",
     "text": [
      "300\n",
      "100200\n"
     ]
    }
   ],
   "source": [
    "print(100 + 200)\n",
    "print('100' + '200')"
   ]
  },
  {
   "cell_type": "code",
   "execution_count": 53,
   "id": "45d185fb",
   "metadata": {},
   "outputs": [
    {
     "name": "stdout",
     "output_type": "stream",
     "text": [
      "What is your age? >10\n",
      "You were born in... 10\n"
     ]
    }
   ],
   "source": [
    "age = input('What is your age? >')\n",
    "\n",
    "print(\"You were born in...\", 2024 - int(age))  "
   ]
  },
  {
   "cell_type": "code",
   "execution_count": 55,
   "id": "f7e46807",
   "metadata": {
    "scrolled": true
   },
   "outputs": [
    {
     "name": "stdout",
     "output_type": "stream",
     "text": [
      "<class 'str'>\n",
      "<class 'int'>\n",
      "\n",
      "<class 'NoneType'>\n"
     ]
    }
   ],
   "source": [
    "print(type(\"1\"))\n",
    "print(type(1))"
   ]
  },
  {
   "cell_type": "code",
   "execution_count": 58,
   "id": "0d5bcaf0",
   "metadata": {},
   "outputs": [
    {
     "name": "stdout",
     "output_type": "stream",
     "text": [
      "What is your age? >10\n",
      "You are underage for this movie. Prepare to die.\n"
     ]
    }
   ],
   "source": [
    "age = input(\"What is your age? >\")\n",
    "\n",
    "if int(age) > 12:\n",
    "    print(\"You can watch Deadpool and Wolverine!\")\n",
    "    \n",
    "else:\n",
    "    print(\"You are underage for this movie. Prepare to die.\")"
   ]
  },
  {
   "cell_type": "code",
   "execution_count": 63,
   "id": "d54fb03a",
   "metadata": {},
   "outputs": [
    {
     "ename": "NameError",
     "evalue": "name 'Hello' is not defined",
     "output_type": "error",
     "traceback": [
      "\u001b[0;31m---------------------------------------------------------------------------\u001b[0m",
      "\u001b[0;31mNameError\u001b[0m                                 Traceback (most recent call last)",
      "Cell \u001b[0;32mIn[63], line 1\u001b[0m\n\u001b[0;32m----> 1\u001b[0m \u001b[38;5;28mprint\u001b[39m(Hello, world)\n",
      "\u001b[0;31mNameError\u001b[0m: name 'Hello' is not defined"
     ]
    }
   ],
   "source": [
    "print(Hello, world)"
   ]
  },
  {
   "cell_type": "code",
   "execution_count": 4,
   "id": "4a30deed",
   "metadata": {},
   "outputs": [
    {
     "name": "stdout",
     "output_type": "stream",
     "text": [
      "What score did you get? >91\n",
      "You got a F\n"
     ]
    }
   ],
   "source": [
    "score = int(input(\"What score did you get? >\"))\n",
    "\n",
    "if score > 90:\n",
    "    print(\"You got an A\")\n",
    "elif score > 10:\n",
    "    print(\"You got an F\")\n",
    "    "
   ]
  },
  {
   "cell_type": "code",
   "execution_count": 3,
   "id": "3392b119",
   "metadata": {},
   "outputs": [
    {
     "name": "stdout",
     "output_type": "stream",
     "text": [
      "What is your name? >rafa\n"
     ]
    },
    {
     "data": {
      "text/plain": [
       "'rafa'"
      ]
     },
     "execution_count": 3,
     "metadata": {},
     "output_type": "execute_result"
    }
   ],
   "source": [
    "name = input(\"What is your name? >\")\n",
    "\n",
    "60"
   ]
  },
  {
   "cell_type": "code",
   "execution_count": null,
   "id": "04759c2d",
   "metadata": {},
   "outputs": [],
   "source": [
    "name = input(\"Enter your username >\")\n",
    "\n",
    "if name == \"Rafa\":\n",
    "    print(\"Welcome back, Rafa!\")\n",
    "elif name == \"Jack\":\n",
    "    print(\"dwqed\")\n",
    "else:\n",
    "    print(\"Invalid user!\")\n",
    "    "
   ]
  },
  {
   "cell_type": "code",
   "execution_count": 14,
   "id": "e8054eda",
   "metadata": {},
   "outputs": [
    {
     "name": "stdout",
     "output_type": "stream",
     "text": [
      "Enter your username >SRO\n",
      "Enter your password >rizz my gyatt up\n",
      "Welcome SRO\n"
     ]
    }
   ],
   "source": [
    "user_pass = {'Rafa':\"123456\", \"SRO\": \"rizz my gyatt up\"}\n",
    "\n",
    "username = input(\"Enter your username >\")\n",
    "\n",
    "password = input(\"Enter your password >\")\n",
    "\n",
    "if user_pass[username] == password:\n",
    "    print(\"Welcome\", username + \"!\")\n",
    "else:\n",
    "    print(\"Incorret username or password\")"
   ]
  },
  {
   "cell_type": "code",
   "execution_count": 17,
   "id": "cf04f1f9",
   "metadata": {},
   "outputs": [
    {
     "name": "stdout",
     "output_type": "stream",
     "text": [
      "What number am I thinking of? >1\n",
      "You lose!\n"
     ]
    }
   ],
   "source": [
    "import random\n",
    "\n",
    "secret_number = random.randint(1, 100)\n",
    "\n",
    "guess_counter = 10\n",
    "total_guesses = 0\n",
    "\n",
    "while guess_counter > 0:\n",
    "    \n",
    "    \n",
    "    if guess_counter == 0:\n",
    "        print(\"You lose!\")\n",
    "        break\n",
    "\n",
    "    guess = int(input(\"What number am I thinking of? >\"))\n",
    "    \n",
    "    if guess == secret_number:\n",
    "        print(\"You win!\")\n",
    "        print(\"Total guesses = \", total_guesses)\n",
    "        break\n",
    "    else:\n",
    "        print(\"Incorrect!\")\n",
    "        if guess > secret_number:\n",
    "            print(\"Too high!\")\n",
    "        else:\n",
    "            print(\"Too low!\")\n",
    "        guess_counter -= 1\n",
    "        total_guesses += 1"
   ]
  }
 ],
 "metadata": {
  "kernelspec": {
   "display_name": "Python 3 (ipykernel)",
   "language": "python",
   "name": "python3"
  },
  "language_info": {
   "codemirror_mode": {
    "name": "ipython",
    "version": 3
   },
   "file_extension": ".py",
   "mimetype": "text/x-python",
   "name": "python",
   "nbconvert_exporter": "python",
   "pygments_lexer": "ipython3",
   "version": "3.11.7"
  }
 },
 "nbformat": 4,
 "nbformat_minor": 5
}
