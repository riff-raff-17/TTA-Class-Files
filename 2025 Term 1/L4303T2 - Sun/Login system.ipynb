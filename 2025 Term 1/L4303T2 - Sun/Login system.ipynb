{
 "cells": [
  {
   "cell_type": "code",
   "execution_count": 5,
   "id": "0e17dcfa-ded4-44af-863b-2311930fcd6c",
   "metadata": {},
   "outputs": [
    {
     "data": {
      "text/plain": [
       "'this'"
      ]
     },
     "execution_count": 5,
     "metadata": {},
     "output_type": "execute_result"
    }
   ],
   "source": [
    "multi_def = {\"marco list\": ['is', 'this', 'ok']}\n",
    "\n",
    "multi_def[\"marco list\"][1]"
   ]
  },
  {
   "cell_type": "code",
   "execution_count": 27,
   "id": "1ff5fd3a-441f-4d51-aa7f-35487da397d0",
   "metadata": {},
   "outputs": [
    {
     "name": "stdout",
     "output_type": "stream",
     "text": [
      "dict_keys(['Rafa', 'liteng', 'bad user'])\n",
      "dict_values(['1234', '123', 'bad password'])\n"
     ]
    },
    {
     "data": {
      "text/plain": [
       "{'Rafa': 'a good password', 'liteng': '123', 'Gabriel': '689'}"
      ]
     },
     "execution_count": 27,
     "metadata": {},
     "output_type": "execute_result"
    }
   ],
   "source": [
    "#Dictionary whee\n",
    "user_pass = {\"Rafa\":\"1234\",\n",
    "            \"liteng\":\"123\",\n",
    "            \"bad user\": \"bad password\"} #key: values\n",
    "\n",
    "#get keys\n",
    "print(user_pass.keys())\n",
    "\n",
    "#get values\n",
    "print(user_pass.values())\n",
    "\n",
    "#add items to a dictionary\n",
    "user_pass[\"Gabriel\"] = \"689\"\n",
    "\n",
    "#change items in a dictionary\n",
    "user_pass[\"Rafa\"] = \"a good password\"\n",
    "\n",
    "#delete items in a dictionary\n",
    "del user_pass[\"bad user\"]\n",
    "\n",
    "user_pass\n",
    "\n"
   ]
  },
  {
   "cell_type": "code",
   "execution_count": 1,
   "id": "1381ed71-e0dc-4bba-af58-3bc5eaf86f44",
   "metadata": {},
   "outputs": [
    {
     "name": "stdout",
     "output_type": "stream",
     "text": [
      "\n",
      "Loading - 100%\n",
      "Loading Complete!\n"
     ]
    }
   ],
   "source": [
    "import time\n",
    "import sys\n",
    "\n",
    "def loading_screen():\n",
    "    total_steps = 50\n",
    "    animation = [\"|\", \"/\", \"-\", \"\\\\\"]\n",
    "    animation2 = [\".    \", \"..   \", \"...  \", \".... \", \".....\"]\n",
    "    animation3 = [\"   O     \", \"    O    \", \"     O   \", \"      O  \", \"     O   \", \"    O    \", \"   O     \"]\n",
    "\n",
    "    print(\"\\nLoading...\", end = \"\", flush = True)\n",
    "\n",
    "    for i in range(total_steps + 1):\n",
    "        time.sleep(0.1)\n",
    "        progress = i / total_steps\n",
    "        percent = f\"{int(progress * 100)}%\".rjust(4)\n",
    "        spinner = animation[i % len(animation)]\n",
    "        sys.stdout.write(f\"\\rLoading {spinner} {percent}\")\n",
    "        sys.stdout.flush()\n",
    "\n",
    "    print(\"\\nLoading Complete!\")\n",
    "\n",
    "loading_screen()\n",
    "        \n",
    "    "
   ]
  },
  {
   "cell_type": "code",
   "execution_count": 44,
   "id": "c6e7011e-da73-48c7-9de3-7396ed58ddac",
   "metadata": {},
   "outputs": [
    {
     "name": "stdout",
     "output_type": "stream",
     "text": [
      "|\n",
      "/\n",
      "-\n",
      "\\\n",
      "|\n",
      "/\n"
     ]
    }
   ],
   "source": [
    "animation = [\"|\", \"/\", \"-\", \"\\\\\"]\n",
    "\n",
    "for i in range(6):\n",
    "    print(animation[i % len(animation)])\n",
    "    "
   ]
  },
  {
   "cell_type": "code",
   "execution_count": 17,
   "id": "c1246753-d0a9-40ac-8c48-c5f016c7b2b0",
   "metadata": {},
   "outputs": [
    {
     "name": "stdin",
     "output_type": "stream",
     "text": [
      "1) Create account \n",
      "2)Sign in\n",
      " 1\n",
      "Enter new username > rafa\n",
      "Enter new password > 123\n"
     ]
    },
    {
     "name": "stdout",
     "output_type": "stream",
     "text": [
      "New user added!\n"
     ]
    },
    {
     "name": "stdin",
     "output_type": "stream",
     "text": [
      "Enter your username > rafa\n",
      "Enter your password > ········\n"
     ]
    },
    {
     "name": "stdout",
     "output_type": "stream",
     "text": [
      "Welcome, rafa\n"
     ]
    },
    {
     "name": "stdin",
     "output_type": "stream",
     "text": [
      "What would you like to do?\n",
      "1) add users\n",
      "2) delete users\n",
      "3) edit password\n",
      "4) exit\n",
      " 2\n",
      "Enter username to delete > rafa\n"
     ]
    },
    {
     "name": "stdout",
     "output_type": "stream",
     "text": [
      "User deleted!\n",
      "User list: dict_keys(['1', 'nemo'])\n"
     ]
    },
    {
     "ename": "KeyboardInterrupt",
     "evalue": "Interrupted by user",
     "output_type": "error",
     "traceback": [
      "\u001b[0;31m---------------------------------------------------------------------------\u001b[0m",
      "\u001b[0;31mKeyboardInterrupt\u001b[0m                         Traceback (most recent call last)",
      "Cell \u001b[0;32mIn[17], line 54\u001b[0m\n\u001b[1;32m     52\u001b[0m \u001b[38;5;28;01melse\u001b[39;00m:\n\u001b[1;32m     53\u001b[0m     \u001b[38;5;28;01mwhile\u001b[39;00m \u001b[38;5;28;01mTrue\u001b[39;00m:\n\u001b[0;32m---> 54\u001b[0m         action \u001b[38;5;241m=\u001b[39m \u001b[38;5;28minput\u001b[39m(\u001b[38;5;124m\"\u001b[39m\u001b[38;5;124mWhat would you like to do?\u001b[39m\u001b[38;5;130;01m\\n\u001b[39;00m\u001b[38;5;124m1) add users\u001b[39m\u001b[38;5;130;01m\\n\u001b[39;00m\u001b[38;5;124m2) delete users\u001b[39m\u001b[38;5;130;01m\\n\u001b[39;00m\u001b[38;5;124m3) edit password\u001b[39m\u001b[38;5;130;01m\\n\u001b[39;00m\u001b[38;5;124m4) exit\u001b[39m\u001b[38;5;130;01m\\n\u001b[39;00m\u001b[38;5;124m\"\u001b[39m)\n\u001b[1;32m     56\u001b[0m         \u001b[38;5;28;01mif\u001b[39;00m action \u001b[38;5;241m==\u001b[39m \u001b[38;5;124m\"\u001b[39m\u001b[38;5;124m1\u001b[39m\u001b[38;5;124m\"\u001b[39m:\n\u001b[1;32m     57\u001b[0m             \u001b[38;5;28;01mwhile\u001b[39;00m \u001b[38;5;28;01mTrue\u001b[39;00m:\n",
      "File \u001b[0;32m~/anaconda3/lib/python3.11/site-packages/ipykernel/kernelbase.py:1262\u001b[0m, in \u001b[0;36mKernel.raw_input\u001b[0;34m(self, prompt)\u001b[0m\n\u001b[1;32m   1260\u001b[0m     msg \u001b[38;5;241m=\u001b[39m \u001b[38;5;124m\"\u001b[39m\u001b[38;5;124mraw_input was called, but this frontend does not support input requests.\u001b[39m\u001b[38;5;124m\"\u001b[39m\n\u001b[1;32m   1261\u001b[0m     \u001b[38;5;28;01mraise\u001b[39;00m StdinNotImplementedError(msg)\n\u001b[0;32m-> 1262\u001b[0m \u001b[38;5;28;01mreturn\u001b[39;00m \u001b[38;5;28mself\u001b[39m\u001b[38;5;241m.\u001b[39m_input_request(\n\u001b[1;32m   1263\u001b[0m     \u001b[38;5;28mstr\u001b[39m(prompt),\n\u001b[1;32m   1264\u001b[0m     \u001b[38;5;28mself\u001b[39m\u001b[38;5;241m.\u001b[39m_parent_ident[\u001b[38;5;124m\"\u001b[39m\u001b[38;5;124mshell\u001b[39m\u001b[38;5;124m\"\u001b[39m],\n\u001b[1;32m   1265\u001b[0m     \u001b[38;5;28mself\u001b[39m\u001b[38;5;241m.\u001b[39mget_parent(\u001b[38;5;124m\"\u001b[39m\u001b[38;5;124mshell\u001b[39m\u001b[38;5;124m\"\u001b[39m),\n\u001b[1;32m   1266\u001b[0m     password\u001b[38;5;241m=\u001b[39m\u001b[38;5;28;01mFalse\u001b[39;00m,\n\u001b[1;32m   1267\u001b[0m )\n",
      "File \u001b[0;32m~/anaconda3/lib/python3.11/site-packages/ipykernel/kernelbase.py:1305\u001b[0m, in \u001b[0;36mKernel._input_request\u001b[0;34m(self, prompt, ident, parent, password)\u001b[0m\n\u001b[1;32m   1302\u001b[0m \u001b[38;5;28;01mexcept\u001b[39;00m \u001b[38;5;167;01mKeyboardInterrupt\u001b[39;00m:\n\u001b[1;32m   1303\u001b[0m     \u001b[38;5;66;03m# re-raise KeyboardInterrupt, to truncate traceback\u001b[39;00m\n\u001b[1;32m   1304\u001b[0m     msg \u001b[38;5;241m=\u001b[39m \u001b[38;5;124m\"\u001b[39m\u001b[38;5;124mInterrupted by user\u001b[39m\u001b[38;5;124m\"\u001b[39m\n\u001b[0;32m-> 1305\u001b[0m     \u001b[38;5;28;01mraise\u001b[39;00m \u001b[38;5;167;01mKeyboardInterrupt\u001b[39;00m(msg) \u001b[38;5;28;01mfrom\u001b[39;00m \u001b[38;5;28;01mNone\u001b[39;00m\n\u001b[1;32m   1306\u001b[0m \u001b[38;5;28;01mexcept\u001b[39;00m \u001b[38;5;167;01mException\u001b[39;00m:\n\u001b[1;32m   1307\u001b[0m     \u001b[38;5;28mself\u001b[39m\u001b[38;5;241m.\u001b[39mlog\u001b[38;5;241m.\u001b[39mwarning(\u001b[38;5;124m\"\u001b[39m\u001b[38;5;124mInvalid Message:\u001b[39m\u001b[38;5;124m\"\u001b[39m, exc_info\u001b[38;5;241m=\u001b[39m\u001b[38;5;28;01mTrue\u001b[39;00m)\n",
      "\u001b[0;31mKeyboardInterrupt\u001b[0m: Interrupted by user"
     ]
    }
   ],
   "source": [
    "import getpass\n",
    "\n",
    "user_pass = {\"1\":\"1\",\n",
    "            \"nemo\": \"tts2025\"}\n",
    "\n",
    "#flags\n",
    "tries = 3\n",
    "logged_in = False\n",
    "\n",
    "while True:\n",
    "    create_or_nah = input(\"1) Create account \\n2)Sign in\\n\")\n",
    "\n",
    "    if create_or_nah == \"1\":\n",
    "        while True:\n",
    "            new_user = input(\"Enter new username >\")\n",
    "            if new_user in user_pass:\n",
    "                print(\"Sorry, that username is already taken :(\")\n",
    "            else:\n",
    "                break\n",
    "        new_pw = input(\"Enter new password >\") \n",
    "        \n",
    "        user_pass[new_user] = new_pw\n",
    "        print(\"New user added!\")\n",
    "        break\n",
    "\n",
    "    elif create_or_nah == \"2\":\n",
    "        break\n",
    "\n",
    "    else:\n",
    "        print(\"I don't recognize that command. Please enter 1 or 2, it's not that hard.\")\n",
    "\n",
    "while tries > 0 and logged_in == False:\n",
    "    user = input(\"Enter your username >\")\n",
    "    pw = getpass.getpass(\"Enter your password >\")\n",
    "    \n",
    "    if user in user_pass:\n",
    "        if user_pass[user] == pw:\n",
    "            logged_in = True\n",
    "            print(f\"Welcome, {user}\")\n",
    "        else:\n",
    "            print(\"Incorrect username or password. \\nPlease try again\")\n",
    "            tries -= 1\n",
    "    else:\n",
    "        print(\"Incorrect username or password \\nPlease try again\")\n",
    "        tries -= 1\n",
    "\n",
    "\n",
    "#____________________________________________________________________________________________________\n",
    "if logged_in == False:\n",
    "    print(\"You have entered an incorrect username or password too many times. \\\n",
    "Your computer will now self destruct.\")\n",
    "else:\n",
    "    while True:\n",
    "        action = input(\"What would you like to do?\\n1) add users\\n2) delete users\\n3) edit password\\n4) edit username\\\n",
    "\\n5) exit\")\n",
    "\n",
    "        if action == \"1\":\n",
    "            while True:\n",
    "                new_user = input(\"Enter new username >\")\n",
    "            \n",
    "                if new_user in user_pass:\n",
    "                    print(\"Error! Username already exists\")\n",
    "                else:\n",
    "                    new_pw = input(\"Enter new password >\")\n",
    "                    user_pass[new_user]  = new_pw\n",
    "                    print(\"New user added!\")\n",
    "                    break\n",
    "\n",
    "        if action == \"2\":\n",
    "            while True:\n",
    "                del_user = input(\"Enter username to delete >\")\n",
    "            \n",
    "                if del_user in user_pass:\n",
    "                    del user_pass[del_user]\n",
    "                    print(\"User deleted!\")\n",
    "                    print(f\"User list: {user_pass.keys()}\")\n",
    "                    break\n",
    "                else:\n",
    "                    print(\"Error! Username does not exist\")\n",
    "\n",
    "        if action == \"3\":\n",
    "            while True:\n",
    "                edit_user_pw = input(\"Enter username to edit >\")\n",
    "                \n",
    "                if edit_user_pw in user_pass:\n",
    "                    old_pw = getpass.getpass(\"Please enter your old password >\")\n",
    "                    \n",
    "                    if user_pass[edit_user_pw] == old_pw:\n",
    "                        new_pw = input(\"Please enter your new password >\")\n",
    "                        user_pass[edit_user_pw] = new_pw\n",
    "                        print(f\"Updated password to: {new_pw}\")\n",
    "                    else:\n",
    "                        print(\"Error! You do not have access to that account\")\n",
    "                    break\n",
    "                else:\n",
    "                    print(\"Error! Username does not exist\")\n",
    "\n",
    "        \n",
    "        if action == \"4\":\n",
    "            edit_username = input(\"Enter username to edit >\")\n",
    "\n",
    "            if edit_username in user_pass:\n",
    "                new_username = input(\"Enter new username >\")\n",
    "                if new_username in user_pass:\n",
    "                    print(\"Error! Username already exists\")\n",
    "                else:\n",
    "                    old_pw = user_pass[edit_username]\n",
    "                    user_pass[new_username] = old_pw\n",
    "                    del user_pass[edit_username]\n",
    "            else:\n",
    "                print(\"Error! Username does not exist\")\n",
    "\n",
    "        if action == \"5\":\n",
    "            print(\"Goodbye!\")\n",
    "            break\n",
    "\n",
    "\n",
    "\n",
    "\n",
    "\n",
    "\n",
    "\n"
   ]
  },
  {
   "cell_type": "code",
   "execution_count": 13,
   "id": "a28ff8c6-985b-4791-9510-6392dc6282c9",
   "metadata": {},
   "outputs": [
    {
     "data": {
      "text/plain": [
       "{'1': '1', 'nemo': 'tts2024'}"
      ]
     },
     "execution_count": 13,
     "metadata": {},
     "output_type": "execute_result"
    }
   ],
   "source": [
    "user_pass"
   ]
  },
  {
   "cell_type": "code",
   "execution_count": null,
   "id": "02d8a308-e5d3-41c0-b8b9-101348fb0759",
   "metadata": {},
   "outputs": [],
   "source": []
  }
 ],
 "metadata": {
  "kernelspec": {
   "display_name": "Python [conda env:base] *",
   "language": "python",
   "name": "conda-base-py"
  },
  "language_info": {
   "codemirror_mode": {
    "name": "ipython",
    "version": 3
   },
   "file_extension": ".py",
   "mimetype": "text/x-python",
   "name": "python",
   "nbconvert_exporter": "python",
   "pygments_lexer": "ipython3",
   "version": "3.11.7"
  }
 },
 "nbformat": 4,
 "nbformat_minor": 5
}
