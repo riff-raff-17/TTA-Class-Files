{
 "cells": [
  {
   "cell_type": "code",
   "execution_count": 1,
   "id": "e68b0e3f-c3a9-4b2d-9854-058ebb81f53a",
   "metadata": {},
   "outputs": [
    {
     "name": "stdout",
     "output_type": "stream",
     "text": [
      "pygame 2.6.1 (SDL 2.28.4, Python 3.11.11)\n",
      "Hello from the pygame community. https://www.pygame.org/contribute.html\n"
     ]
    },
    {
     "name": "stderr",
     "output_type": "stream",
     "text": [
      "2025-02-23 09:33:18.011 python[14116:10826795] +[IMKClient subclass]: chose IMKClient_Modern\n",
      "2025-02-23 09:33:18.011 python[14116:10826795] +[IMKInputSession subclass]: chose IMKInputSession_Modern\n"
     ]
    }
   ],
   "source": [
    "# Drawing blank screen\n",
    "\n",
    "import pygame\n",
    "import random\n",
    "\n",
    "pygame.init()\n",
    "\n",
    "WIDTH, HEIGHT = 600, 600\n",
    "WHITE = (255, 255, 255)\n",
    "BLACK = (0, 0, 0)\n",
    "RED = (255, 0, 0)\n",
    "PLAYER_SIZE = 30\n",
    "BULLET_SIZE = 10\n",
    "PLAYER_SPEED = 5\n",
    "BULLET_SPEED = 3\n",
    "\n",
    "screen = pygame.display.set_mode((WIDTH, HEIGHT))\n",
    "pygame.display.set_caption(\"Dodge the Bullets!\")\n",
    "\n",
    "running = True\n",
    "\n",
    "while running:\n",
    "    screen.fill(WHITE)\n",
    "    \n",
    "    # Handle events\n",
    "    for event in pygame.event.get():\n",
    "        if event.type == pygame.QUIT:\n",
    "            running = False\n",
    "\n",
    "pygame.quit()\n",
    "exit()"
   ]
  }
 ],
 "metadata": {
  "kernelspec": {
   "display_name": "Python [conda env:TTA]",
   "language": "python",
   "name": "conda-env-TTA-py"
  },
  "language_info": {
   "codemirror_mode": {
    "name": "ipython",
    "version": 3
   },
   "file_extension": ".py",
   "mimetype": "text/x-python",
   "name": "python",
   "nbconvert_exporter": "python",
   "pygments_lexer": "ipython3",
   "version": "3.11.11"
  }
 },
 "nbformat": 4,
 "nbformat_minor": 5
}
