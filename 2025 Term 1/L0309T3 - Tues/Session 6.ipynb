{
 "cells": [
  {
   "cell_type": "code",
   "execution_count": 22,
   "id": "093a3a3e-d202-4913-bb74-173a46533c6f",
   "metadata": {},
   "outputs": [
    {
     "name": "stdout",
     "output_type": "stream",
     "text": [
      "192.168.1.164:50051\n"
     ]
    }
   ],
   "source": [
    "from ugot import ugot\n",
    "jagone = ugot.UGOT()\n",
    "jagone.initialize('192.168.1.164')"
   ]
  },
  {
   "cell_type": "code",
   "execution_count": 8,
   "id": "7b343aa0-c7c2-486d-9dc9-ada4f063855b",
   "metadata": {},
   "outputs": [
    {
     "data": {
      "text/plain": [
       "206.1"
      ]
     },
     "execution_count": 8,
     "metadata": {},
     "output_type": "execute_result"
    }
   ],
   "source": [
    "jagone.read_distance_data(21)"
   ]
  },
  {
   "cell_type": "code",
   "execution_count": null,
   "id": "354ee005-7323-461e-ba48-c2136e1d7fa8",
   "metadata": {},
   "outputs": [],
   "source": [
    "#maze solving / pathfinding\n",
    "while True:\n",
    "    try:\n",
    "        distance = jagone.read_distance_data(21)\n",
    "        if distance > 20:\n",
    "            jagone.mecanum_move_speed(direction=0, speed=25)\n",
    "        else:\n",
    "            jagone.mecanum_turn_speed_times(turn=2, speed=45, times=90, unit=2)\n",
    "            distance = jagone.read_distance_data(21)\n",
    "            if distance < 20:\n",
    "                jagone.mecanum_turn_speed_times(turn=2, speed=45, times=180, unit=2)\n",
    "    except KeyboardInterrupt:\n",
    "        jagone.mecanum_stop()\n",
    "        print(\"Stopped code ._.\")\n",
    "        break"
   ]
  },
  {
   "cell_type": "code",
   "execution_count": null,
   "id": "25752214-981a-44f3-8183-ec9ddc2d4d88",
   "metadata": {},
   "outputs": [
    {
     "name": "stdout",
     "output_type": "stream",
     "text": [
      "Stopped code ._______.\n"
     ]
    }
   ],
   "source": [
    "while True:\n",
    "    try:\n",
    "        distance = jagone.read_distance_data(21)\n",
    "        if distance < 20:\n",
    "            jagone.mecanum_stop()\n",
    "        elif distance < 100:\n",
    "            jagone.mecanum_move_speed(direction=0, speed=30)\n",
    "        else:\n",
    "            jagone.mecanum_turn_speed(turn=2, speed=45)\n",
    "    except KeyboardInterrupt:\n",
    "        jagone.mecanum_stop()\n",
    "        print(\"Stopped code ._______.\")\n",
    "        break"
   ]
  },
  {
   "cell_type": "code",
   "execution_count": 18,
   "id": "5335863e-66b7-409a-b0f6-1e0dc8b1363d",
   "metadata": {},
   "outputs": [],
   "source": [
    "jagone.play_audio_tts(data=\"I see \", voice_type=1, wait=True)"
   ]
  },
  {
   "cell_type": "code",
   "execution_count": null,
   "id": "6e3a4993-a6c7-4de9-b902-2b96feb65666",
   "metadata": {},
   "outputs": [],
   "source": []
  }
 ],
 "metadata": {
  "kernelspec": {
   "display_name": "Python [conda env:base] *",
   "language": "python",
   "name": "conda-base-py"
  },
  "language_info": {
   "codemirror_mode": {
    "name": "ipython",
    "version": 3
   },
   "file_extension": ".py",
   "mimetype": "text/x-python",
   "name": "python",
   "nbconvert_exporter": "python",
   "pygments_lexer": "ipython3",
   "version": "3.11.7"
  }
 },
 "nbformat": 4,
 "nbformat_minor": 5
}
