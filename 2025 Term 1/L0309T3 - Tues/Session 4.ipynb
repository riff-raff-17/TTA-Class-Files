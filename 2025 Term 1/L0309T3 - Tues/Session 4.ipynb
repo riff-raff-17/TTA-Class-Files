{
 "cells": [
  {
   "cell_type": "code",
   "execution_count": 1,
   "id": "3146d76d-2ad8-442b-9fde-92bd02caa90c",
   "metadata": {},
   "outputs": [
    {
     "name": "stdout",
     "output_type": "stream",
     "text": [
      "192.168.1.235:50051\n"
     ]
    }
   ],
   "source": [
    "from ugot import ugot\n",
    "got = ugot.UGOT()\n",
    "got.initialize('192.168.1.235')"
   ]
  },
  {
   "cell_type": "code",
   "execution_count": null,
   "id": "ef988930-170e-45b3-8a31-68a4d2a7b3ea",
   "metadata": {},
   "outputs": [],
   "source": [
    "#Moving forward\n",
    "got.transform_move_speed_times(direction = 0, speed = 30, times = 20, unit = 1)\n",
    "\n",
    "#Moving backward\n",
    "got.transform_move_speed_times(direction = 1, speed = 30, times = 20, unit = 1)\n",
    "\n",
    "#Turning left\n",
    "got.transform_turn_speed_times(turn = 2, speed = 45, times = 90, unit = 2)\n",
    "\n",
    "#Turning right\n",
    "got.transform_turn_speed_times(turn = 3, speed = 45, times = 90, unit = 2)"
   ]
  },
  {
   "cell_type": "code",
   "execution_count": 16,
   "id": "a774d68c-ff8f-4d33-aa94-79414c2cea2b",
   "metadata": {},
   "outputs": [],
   "source": [
    "def climb():\n",
    "    got.transform_adaption_control(False)\n",
    "    \n",
    "    #Arm (1: left front arm; 2: left rear arm; 3: right rear arm; 4: right front arm)\n",
    "    got.transform_arm_control(joint=1, position=50, time=500) #POSITIVE is HIGHER\n",
    "    got.transform_arm_control(joint=4, position=-50, time=500) #NEGATIVE is HIGHER\n",
    "    \n",
    "    got.transform_move_speed_times(direction = 0, speed = 30, times = 20, unit = 1)\n",
    "    \n",
    "    got.transform_arm_control(joint=1, position=-50, time=500) #POSITIVE is HIGHER\n",
    "    got.transform_arm_control(joint=4, position=50, time=500) #NEGATIVE is HIGHER\n",
    "    \n",
    "    got.transform_move_speed_times(direction = 0, speed = 30, times = 20, unit = 1)\n",
    "    \n",
    "    got.transform_arm_control(joint=2, position=-50, time=500) #NEGATIVE is HIGHER\n",
    "    got.transform_arm_control(joint=3, position=50, time=500) #POSTIVE is HIGHER\n",
    "    \n",
    "    got.transform_move_speed_times(direction = 0, speed = 30, times = 20, unit = 1)\n",
    "    \n",
    "    got.transform_restory()"
   ]
  },
  {
   "cell_type": "code",
   "execution_count": null,
   "id": "168ff90e-5bce-4199-9c4c-3648a7210be3",
   "metadata": {},
   "outputs": [],
   "source": [
    "climb()"
   ]
  },
  {
   "cell_type": "code",
   "execution_count": 19,
   "id": "e40236f6-d4b3-4683-b713-7d39c243e705",
   "metadata": {},
   "outputs": [],
   "source": [
    "def bridge():    \n",
    "    got.transform_arm_control(joint=1, position=-25, time=500) #POSITIVE is HIGHER\n",
    "    got.transform_arm_control(joint=4, position=25, time=500) #NEGATIVE is HIGHER\n",
    "    got.transform_arm_control(joint=2, position=25, time=500) #NEGATIVE is HIGHER\n",
    "    got.transform_arm_control(joint=3, position=-25, time=500) #POSTIVE is HIGHER\n",
    "    \n",
    "    got.transform_move_speed_times(direction = 0, speed = 30, times = 20, unit = 1)\n",
    "    \n",
    "    got.transform_arm_control(joint=1, position=-90, time=500) #POSITIVE is HIGHER\n",
    "    got.transform_arm_control(joint=4, position=90, time=500) #NEGATIVE is HIGHER\n",
    "    got.transform_arm_control(joint=2, position=90, time=500) #NEGATIVE is HIGHER\n",
    "    got.transform_arm_control(joint=3, position=-90, time=500) #POSTIVE is HIGHER"
   ]
  },
  {
   "cell_type": "code",
   "execution_count": 27,
   "id": "5c006ec7-e144-47a5-a532-4bc9b11ae3a4",
   "metadata": {},
   "outputs": [],
   "source": [
    "climb()\n",
    "climb()\n",
    "bridge()"
   ]
  },
  {
   "cell_type": "code",
   "execution_count": 139,
   "id": "4ccb4dd1-0398-4b0a-8c26-a5a6abf91417",
   "metadata": {},
   "outputs": [
    {
     "data": {
      "text/plain": [
       "2"
      ]
     },
     "execution_count": 139,
     "metadata": {},
     "output_type": "execute_result"
    }
   ],
   "source": [
    "#quick gaming time\n",
    "import random\n",
    "\n",
    "random.randint(1, 2) #coin\n",
    "\n",
    "random.randint(1, 6) #dice"
   ]
  },
  {
   "cell_type": "code",
   "execution_count": 151,
   "id": "41de6507-f60d-42ca-984c-61f86fd5bce4",
   "metadata": {},
   "outputs": [
    {
     "name": "stdin",
     "output_type": "stream",
     "text": [
      "Heads or Tails? > tails\n"
     ]
    },
    {
     "name": "stdout",
     "output_type": "stream",
     "text": [
      "you are the best\n"
     ]
    }
   ],
   "source": [
    "def heads_or_tails():\n",
    "    #1 is heads, 2 is tails\n",
    "    flip_coin = random.randint(1, 2)\n",
    "––\n",
    "    guess = input(\"Heads or Tails? >\")\n",
    "\n",
    "    if guess.lower() == \"heads\" and flip_coin == 1:\n",
    "        print(\"The answer was heads! You guessed correctly!\")\n",
    "    elif guess.lower() == \"tails\" and flip_coin == 2:\n",
    "        print(\"The answer was tails! You guessed correctly!\")\n",
    "    else: \n",
    "        print(\"you are the best\")\n",
    "\n",
    "heads_or_tails()"
   ]
  },
  {
   "cell_type": "code",
   "execution_count": null,
   "id": "d46b1fd5-bbf2-419c-bf72-16cba3a7db7b",
   "metadata": {},
   "outputs": [],
   "source": [
    "Heads\n",
    "heads\n",
    "hEaDs"
   ]
  },
  {
   "cell_type": "code",
   "execution_count": null,
   "id": "d607c843-bff7-42eb-8bdd-1ec4856991e6",
   "metadata": {},
   "outputs": [],
   "source": []
  }
 ],
 "metadata": {
  "kernelspec": {
   "display_name": "Python [conda env:base] *",
   "language": "python",
   "name": "conda-base-py"
  },
  "language_info": {
   "codemirror_mode": {
    "name": "ipython",
    "version": 3
   },
   "file_extension": ".py",
   "mimetype": "text/x-python",
   "name": "python",
   "nbconvert_exporter": "python",
   "pygments_lexer": "ipython3",
   "version": "3.11.7"
  }
 },
 "nbformat": 4,
 "nbformat_minor": 5
}
