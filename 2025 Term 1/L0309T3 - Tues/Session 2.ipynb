{
 "cells": [
  {
   "cell_type": "code",
   "execution_count": 10,
   "id": "e1c612cc-f5ca-4850-9cfa-88e27aadec15",
   "metadata": {},
   "outputs": [
    {
     "name": "stdout",
     "output_type": "stream",
     "text": [
      "caden knows \n",
      "how to do it\n"
     ]
    }
   ],
   "source": [
    "#please print in 3 different lines with one print command:\n",
    "#todays date\n",
    "#what you ate for lunch\n",
    "#one thing you did over the weekend\n",
    "\n",
    "print()"
   ]
  },
  {
   "cell_type": "code",
   "execution_count": 4,
   "id": "c4153300-4fd6-46ba-99bd-f6f3c783cbc3",
   "metadata": {},
   "outputs": [
    {
     "data": {
      "text/plain": [
       "int"
      ]
     },
     "execution_count": 4,
     "metadata": {},
     "output_type": "execute_result"
    }
   ],
   "source": [
    "#variables\n",
    "'what is this' #string\n",
    "123 #integers\n",
    "\n",
    "var_1 = 123\n",
    "\n",
    "type(var_1)"
   ]
  },
  {
   "cell_type": "code",
   "execution_count": 8,
   "id": "5c0c91ca-c402-4b62-bd1a-1a7a9c0f0d2b",
   "metadata": {},
   "outputs": [
    {
     "data": {
      "text/plain": [
       "12"
      ]
     },
     "execution_count": 8,
     "metadata": {},
     "output_type": "execute_result"
    }
   ],
   "source": [
    "#functions\n",
    "\n",
    "#addition\n",
    "def addition(num1, num2):\n",
    "    result = num1 + num2\n",
    "    return result\n",
    "\n",
    "#call function\n",
    "addition(5, 7)\n",
    "\n"
   ]
  },
  {
   "cell_type": "code",
   "execution_count": 17,
   "id": "44ba6f8c-cfae-4c57-a51b-636b038b191a",
   "metadata": {},
   "outputs": [
    {
     "name": "stdin",
     "output_type": "stream",
     "text": [
      "Enter your name > hello\n"
     ]
    },
    {
     "data": {
      "text/plain": [
       "str"
      ]
     },
     "execution_count": 17,
     "metadata": {},
     "output_type": "execute_result"
    }
   ],
   "source": [
    "my_input = input('Enter your name >')\n",
    "\n",
    "type(my_input)"
   ]
  },
  {
   "cell_type": "code",
   "execution_count": 19,
   "id": "f3da59b5-3bac-4472-bbfd-73e7f77ac254",
   "metadata": {},
   "outputs": [
    {
     "name": "stdin",
     "output_type": "stream",
     "text": [
      "Enter first number > 10\n",
      "Enter second number > 11\n"
     ]
    },
    {
     "data": {
      "text/plain": [
       "21"
      ]
     },
     "execution_count": 19,
     "metadata": {},
     "output_type": "execute_result"
    }
   ],
   "source": [
    "#addition\n",
    "def addition():\n",
    "    num1 = int(input(\"Enter first number >\"))\n",
    "    num2 = int(input(\"Enter second number >\"))\n",
    "    \n",
    "    result = num1 + num2\n",
    "    return result\n",
    "\n",
    "#call function\n",
    "addition()"
   ]
  },
  {
   "cell_type": "code",
   "execution_count": 15,
   "id": "9db55b2e-651c-4ee0-a5a0-8f43274f4e9a",
   "metadata": {},
   "outputs": [
    {
     "data": {
      "text/plain": [
       "'1011'"
      ]
     },
     "execution_count": 15,
     "metadata": {},
     "output_type": "execute_result"
    }
   ],
   "source": []
  },
  {
   "cell_type": "code",
   "execution_count": null,
   "id": "a6603554-05e8-45a9-bc5c-b022a6262f24",
   "metadata": {},
   "outputs": [],
   "source": []
  }
 ],
 "metadata": {
  "kernelspec": {
   "display_name": "Python [conda env:base] *",
   "language": "python",
   "name": "conda-base-py"
  },
  "language_info": {
   "codemirror_mode": {
    "name": "ipython",
    "version": 3
   },
   "file_extension": ".py",
   "mimetype": "text/x-python",
   "name": "python",
   "nbconvert_exporter": "python",
   "pygments_lexer": "ipython3",
   "version": "3.11.7"
  }
 },
 "nbformat": 4,
 "nbformat_minor": 5
}
