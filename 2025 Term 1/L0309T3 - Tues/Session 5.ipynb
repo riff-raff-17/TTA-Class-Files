{
 "cells": [
  {
   "cell_type": "code",
   "execution_count": null,
   "id": "9e6895db-e5a7-4a30-931a-bc234b30bb41",
   "metadata": {},
   "outputs": [],
   "source": [
    "from ugot import ugot\n",
    "\n",
    "got = ugot.UGOT()\n",
    "\n",
    "got.initialize('192.168.1.120')"
   ]
  },
  {
   "cell_type": "code",
   "execution_count": null,
   "id": "34705239-01d4-4e30-b581-17de98398966",
   "metadata": {},
   "outputs": [],
   "source": [
    "distance = got.read_distance_data(51)\n",
    "\n",
    "#\\r is CARRIAGE RETURN\n",
    "print(f\"\\rDistance: {distance}\", end = \"\", flush = True)"
   ]
  },
  {
   "cell_type": "code",
   "execution_count": null,
   "id": "3b2db055-7483-480c-a841-c1a42c250d7c",
   "metadata": {},
   "outputs": [],
   "source": [
    "import time\n",
    "\n",
    "while True:\n",
    "    distance = got.read_distance_data(21)\n",
    "    #\\r is CARRIAGE RETURN\n",
    "    print(f\"\\rDistance: {distance}\", end = \"\", flush = True)\n",
    "    time.sleep(0.5)"
   ]
  },
  {
   "cell_type": "code",
   "execution_count": null,
   "id": "f3f2c164-23ac-4ded-ad82-3bf4777e84c5",
   "metadata": {},
   "outputs": [],
   "source": [
    "import time\n",
    "\n",
    "while True:\n",
    "    distance = got.read_distance_data(21)\n",
    "    if distance > 30:\n",
    "        got.spider_move_speed(direction = 0, speed = 15)\n",
    "    else:\n",
    "        got.spider_turn_speed(turn = 2, speed = 30)"
   ]
  }
 ],
 "metadata": {
  "kernelspec": {
   "display_name": "Python 3 (ipykernel)",
   "language": "python",
   "name": "python3"
  },
  "language_info": {
   "codemirror_mode": {
    "name": "ipython",
    "version": 3
   },
   "file_extension": ".py",
   "mimetype": "text/x-python",
   "name": "python",
   "nbconvert_exporter": "python",
   "pygments_lexer": "ipython3",
   "version": "3.11.11"
  }
 },
 "nbformat": 4,
 "nbformat_minor": 5
}
