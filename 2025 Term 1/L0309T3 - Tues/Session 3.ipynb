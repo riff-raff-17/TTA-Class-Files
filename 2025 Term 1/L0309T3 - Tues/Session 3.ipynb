{
 "cells": [
  {
   "cell_type": "code",
   "execution_count": 9,
   "id": "6822d61f-1471-4764-b6ec-4f8702f8cb95",
   "metadata": {},
   "outputs": [
    {
     "name": "stdout",
     "output_type": "stream",
     "text": [
      "192.168.1.32:50051\n"
     ]
    }
   ],
   "source": [
    "#Import ugot\n",
    "from ugot import ugot\n",
    "\n",
    "#rename ugot for simplicity\n",
    "got = ugot.UGOT()\n",
    "\n",
    "#connect to the robot\n",
    "got.initialize('192.168.1.32')"
   ]
  },
  {
   "cell_type": "code",
   "execution_count": 59,
   "id": "0a4baa58-500a-4b50-9a50-b0fab60655b1",
   "metadata": {},
   "outputs": [],
   "source": [
    "#Draw a square with 0.5 m sides\n",
    "got.mecanum_translate_speed_times(angle = 0, speed = 25, times = 20, unit = 1)\n",
    "got.mecanum_translate_speed_times(angle = 90, speed = 25, times = 20, unit = 1)\n",
    "got.mecanum_translate_speed_times(angle = 180, speed = 25, times = 20, unit = 1)\n",
    "got.mecanum_translate_speed_times(angle = -90, speed = 25, times = 20, unit = 1)"
   ]
  },
  {
   "cell_type": "code",
   "execution_count": 61,
   "id": "a41a49e1-1a72-4b7c-a175-0b5fa5ca7abf",
   "metadata": {},
   "outputs": [],
   "source": [
    "#Same as above using a for loop\n",
    "angles = [0, 90, 180, -90]\n",
    "\n",
    "for i in range(6):\n",
    "    got.mecanum_translate_speed_times(angle = angles[i % 4], speed = 25, times = 50, unit = 1)\n",
    "\n"
   ]
  },
  {
   "cell_type": "code",
   "execution_count": 3,
   "id": "0a20acf3-436d-4a38-9092-db3731045b52",
   "metadata": {},
   "outputs": [],
   "source": [
    "#Drawing a square with turning\n",
    "got.mecanum_translate_speed_times(angle = 0, speed = 25, times = 50, unit = 1)\n",
    "got.mecanum_turn_speed_times(turn = 3, speed = 45, times = 90, unit = 2)\n",
    "got.mecanum_translate_speed_times(angle = 0, speed = 25, times = 50, unit = 1)\n",
    "got.mecanum_turn_speed_times(turn = 3, speed = 45, times = 90, unit = 2)\n",
    "got.mecanum_translate_speed_times(angle = 0, speed = 25, times = 50, unit = 1)\n",
    "got.mecanum_turn_speed_times(turn = 3, speed = 45, times = 90, unit = 2)\n",
    "got.mecanum_translate_speed_times(angle = 0, speed = 25, times = 50, unit = 1)\n",
    "got.mecanum_turn_speed_times(turn = 3, speed = 45, times = 90, unit = 2)"
   ]
  },
  {
   "cell_type": "code",
   "execution_count": 5,
   "id": "38399bef-95ee-4b13-bef1-1d7de919108d",
   "metadata": {},
   "outputs": [],
   "source": [
    "#Drawing a square but turning at each corner\n",
    "for i in range(4):\n",
    "    got.mecanum_translate_speed_times(angle = 0, speed = 25, times = 50, unit = 1)\n",
    "    got.mecanum_turn_speed_times(turn = 3, speed = 45, times = 90, unit = 2)"
   ]
  },
  {
   "cell_type": "code",
   "execution_count": 57,
   "id": "81359bba-7764-416e-a617-c96b7ebbacdd",
   "metadata": {},
   "outputs": [],
   "source": [
    "speech = \"We're no strangers to love \\\n",
    "You know the rules and so do I \\\n",
    "A full commitment's what I'm thinkin' of \\\n",
    "You wouldn't get this from any other guy \\\n",
    "I just wanna tell you how I'm feeling \\\n",
    "Gotta make you understand \\\n",
    "Never gonna give you up \\\n",
    "Never gonna let you down\"\n",
    "\n",
    "got.play_audio_tts(data = speech, voice_type=0, wait=False)"
   ]
  },
  {
   "cell_type": "code",
   "execution_count": null,
   "id": "11203a7b-6882-4b41-8fe9-43c67c302700",
   "metadata": {},
   "outputs": [],
   "source": [
    "#Drawing a TRIANGLE but turning at each corner\n",
    "speech = \"I am drawing a triangle\"\n",
    "\n",
    "got.play_audio_tts(data = speech, voice_type=0, wait=False)\n",
    "\n",
    "for i in range(3):\n",
    "    got.mecanum_translate_speed_times(angle = 0, speed = 25, times = 50, unit = 1)\n",
    "    got.mecanum_turn_speed_times(turn = 3, speed = 45, times = 120, unit = 2)"
   ]
  },
  {
   "cell_type": "code",
   "execution_count": null,
   "id": "92ed5baa-e36f-4d28-b60f-c412fc74955f",
   "metadata": {},
   "outputs": [],
   "source": []
  },
  {
   "cell_type": "code",
   "execution_count": null,
   "id": "0b110198-b7aa-4c33-9afb-e36011fb70a8",
   "metadata": {},
   "outputs": [],
   "source": [
    "#Drawing a PENTAGON but turning at each corner\n",
    "speech = \"I am drawing a triangle\"\n",
    "\n",
    "got.play_audio_tts(data = speech, voice_type=0, wait=False)\n",
    "\n",
    "for i in range(5):\n",
    "    got.mecanum_translate_speed_times(angle = 0, speed = 25, times = 50, unit = 1)\n",
    "    got.mecanum_turn_speed_times(turn = 3, speed = 45, times = 72, unit = 2)"
   ]
  },
  {
   "cell_type": "code",
   "execution_count": 11,
   "id": "09de3cad-b6a7-4ba8-bc1d-0e26b8ab05f2",
   "metadata": {},
   "outputs": [],
   "source": [
    "def draw_sides(sides):\n",
    "    #Validate that the shape is real\n",
    "    if sides < 3:\n",
    "        raise ValueError(\"The number of sides must be 3 or more to form a valid shape\")\n",
    "\n",
    "    speech = f\"I am drawing a shape with {sides} sides\"\n",
    "    got.play_audio_tts(data = speech, voice_type=0, wait=True)\n",
    "    \n",
    "    for i in range(sides):\n",
    "        got.mecanum_translate_speed_times(angle = 0, speed = 25, times = 50, unit = 1)\n",
    "        got.mecanum_turn_speed_times(turn = 3, speed = 45, times = int(360 / sides), unit = 2)\n",
    "\n",
    "draw_sides(3)"
   ]
  },
  {
   "cell_type": "code",
   "execution_count": null,
   "id": "6ec47f30-67a7-4f57-b6ab-8340f98ebe48",
   "metadata": {},
   "outputs": [],
   "source": []
  }
 ],
 "metadata": {
  "kernelspec": {
   "display_name": "Python [conda env:base] *",
   "language": "python",
   "name": "conda-base-py"
  },
  "language_info": {
   "codemirror_mode": {
    "name": "ipython",
    "version": 3
   },
   "file_extension": ".py",
   "mimetype": "text/x-python",
   "name": "python",
   "nbconvert_exporter": "python",
   "pygments_lexer": "ipython3",
   "version": "3.11.7"
  }
 },
 "nbformat": 4,
 "nbformat_minor": 5
}
