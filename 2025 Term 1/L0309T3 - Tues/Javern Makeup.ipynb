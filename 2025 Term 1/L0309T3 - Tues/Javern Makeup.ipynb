{
 "cells": [
  {
   "cell_type": "code",
   "execution_count": 2,
   "id": "e42a092d-aa6d-48f7-992e-e96f42c6d143",
   "metadata": {},
   "outputs": [
    {
     "name": "stdout",
     "output_type": "stream",
     "text": [
      "192.168.1.199:50051\n"
     ]
    }
   ],
   "source": [
    "from ugot import ugot\n",
    "got = ugot.UGOT()\n",
    "got.initialize('192.168.1.199')"
   ]
  },
  {
   "cell_type": "code",
   "execution_count": 78,
   "id": "c88c8ba9-5250-4fd3-8075-65a078271198",
   "metadata": {},
   "outputs": [],
   "source": [
    "import time\n",
    "\n",
    "got.transform_adaption_control(False)\n",
    "\n",
    "#Arm (1: left front arm; 2: left rear arm; 3: right rear arm; 4: right front arm)\n",
    "def dance():\n",
    "    got.play_audio_tts(\"beep boop\", voice_type=0, wait=False)\n",
    "    for i in range(4):\n",
    "        got.show_light_rgb([0, 2], red=255, green=0, blue=0)\n",
    "        got.show_light_rgb([1, 3], red=0, green=255, blue=0)\n",
    "        #position 1\n",
    "        got.transform_arm_control(joint=1, position=-40, time=500)\n",
    "        got.transform_arm_control(joint=2, position=63, time=500)\n",
    "        got.transform_arm_control(joint=3, position=-23, time=500)\n",
    "        got.transform_arm_control(joint=4, position=58, time=500)\n",
    "    \n",
    "        time.sleep(0.5)\n",
    "\n",
    "        got.show_light_rgb([0, 2], red=0, green=255, blue=0)\n",
    "        got.show_light_rgb([1, 3], red=255, green=0, blue=0)\n",
    "        #position 2\n",
    "        got.transform_arm_control(joint=1, position=40, time=500)\n",
    "        got.transform_arm_control(joint=2, position=63, time=500)\n",
    "        got.transform_arm_control(joint=3, position=-23, time=500)\n",
    "        got.transform_arm_control(joint=4, position=58, time=500)\n",
    "\n",
    "        time.sleep(0.5)\n",
    "    \n",
    "\n",
    "dance()"
   ]
  },
  {
   "cell_type": "code",
   "execution_count": 162,
   "id": "1dd7ed62-9c41-4162-bb73-021ff9644bfd",
   "metadata": {},
   "outputs": [],
   "source": [
    "got.play_audio_tts(\"woah\", voice_type=0, wait=False)"
   ]
  },
  {
   "cell_type": "code",
   "execution_count": null,
   "id": "8c9b079a-9368-494b-9b3a-45b594447dac",
   "metadata": {},
   "outputs": [],
   "source": []
  }
 ],
 "metadata": {
  "kernelspec": {
   "display_name": "Python [conda env:base] *",
   "language": "python",
   "name": "conda-base-py"
  },
  "language_info": {
   "codemirror_mode": {
    "name": "ipython",
    "version": 3
   },
   "file_extension": ".py",
   "mimetype": "text/x-python",
   "name": "python",
   "nbconvert_exporter": "python",
   "pygments_lexer": "ipython3",
   "version": "3.11.7"
  }
 },
 "nbformat": 4,
 "nbformat_minor": 5
}
