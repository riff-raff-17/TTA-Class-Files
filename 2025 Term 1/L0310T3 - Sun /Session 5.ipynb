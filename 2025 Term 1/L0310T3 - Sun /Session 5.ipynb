{
 "cells": [
  {
   "cell_type": "code",
   "execution_count": 55,
   "id": "ee0d03fc-0f7e-4ec1-9c99-6d540695cdbb",
   "metadata": {},
   "outputs": [
    {
     "name": "stdout",
     "output_type": "stream",
     "text": [
      "192.168.1.166:50051\n"
     ]
    }
   ],
   "source": [
    "from ugot import ugot\n",
    "got = ugot.UGOT()\n",
    "got.initialize('192.168.1.166')"
   ]
  },
  {
   "cell_type": "code",
   "execution_count": 23,
   "id": "ab7da169-0825-4b4f-998e-96663b4cee09",
   "metadata": {},
   "outputs": [
    {
     "name": "stdout",
     "output_type": "stream",
     "text": [
      "Distance: 250.0 cm \n",
      "Stopped!\n"
     ]
    }
   ],
   "source": [
    "import time\n",
    "\n",
    "try:\n",
    "    while True:\n",
    "        distance = got.read_distance_data(51)\n",
    "        #Max distance is 250 cm\n",
    "        print(f\"Distance: {distance} cm \", end = \"\\r\")\n",
    "        time.sleep(0.5)\n",
    "except KeyboardInterrupt:\n",
    "    print(\"\\nStopped!\")"
   ]
  },
  {
   "cell_type": "code",
   "execution_count": 56,
   "id": "70727e63-a0b3-4e70-a3c6-018524016003",
   "metadata": {},
   "outputs": [
    {
     "name": "stdout",
     "output_type": "stream",
     "text": [
      "Stopped!\n"
     ]
    }
   ],
   "source": [
    "try:\n",
    "    while True:\n",
    "        distance = got.read_distance_data(51)\n",
    "        \n",
    "        if distance == 250:\n",
    "            got.mecanum_translate_speed(angle=0, speed=50)\n",
    "            got.show_light_rgb(lights=[0,1,2,3], red=0, green=255, blue=0)\n",
    "        elif distance < 35:\n",
    "            got.mecanum_stop() #newww\n",
    "            got.show_light_rgb(lights=[0,1,2,3], red=255, green=0, blue=0)\n",
    "        elif distance < 250:\n",
    "            got.mecanum_translate_speed(angle=0, speed=50)\n",
    "            got.show_light_rgb(lights=[0,1,2,3], red=0, green=0, blue=255)\n",
    "except KeyboardInterrupt:\n",
    "    print(\"Stopped!\")"
   ]
  },
  {
   "cell_type": "code",
   "execution_count": 54,
   "id": "29393515-09b7-427f-9eca-d29a7dfcbd7a",
   "metadata": {},
   "outputs": [],
   "source": [
    "got.turn_off_lights()"
   ]
  }
 ],
 "metadata": {
  "kernelspec": {
   "display_name": "Python 3 (ipykernel)",
   "language": "python",
   "name": "python3"
  },
  "language_info": {
   "codemirror_mode": {
    "name": "ipython",
    "version": 3
   },
   "file_extension": ".py",
   "mimetype": "text/x-python",
   "name": "python",
   "nbconvert_exporter": "python",
   "pygments_lexer": "ipython3",
   "version": "3.11.11"
  }
 },
 "nbformat": 4,
 "nbformat_minor": 5
}
