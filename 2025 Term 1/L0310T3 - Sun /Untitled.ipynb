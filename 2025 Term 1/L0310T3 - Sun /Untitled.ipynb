{
 "cells": [
  {
   "cell_type": "code",
   "execution_count": 35,
   "id": "cce82f54-d43b-4316-bc70-f057709360c8",
   "metadata": {},
   "outputs": [
    {
     "name": "stdin",
     "output_type": "stream",
     "text": [
      "What is your name? xd\n"
     ]
    },
    {
     "name": "stdout",
     "output_type": "stream",
     "text": [
      "Andy's name is xd"
     ]
    }
   ],
   "source": [
    "var = input(\"What is your name?\")\n",
    "\n",
    "print(f\"Andy's name is {var}\", end = \"\")"
   ]
  },
  {
   "cell_type": "code",
   "execution_count": 57,
   "id": "3f437a76-8d8d-4e34-94e0-0478e1308524",
   "metadata": {},
   "outputs": [
    {
     "name": "stdout",
     "output_type": "stream",
     "text": [
      "Hiio\n"
     ]
    }
   ],
   "source": [
    "print(\"ohio\", end = \"\")\n",
    "print(\"\\rHi\")"
   ]
  },
  {
   "cell_type": "code",
   "execution_count": null,
   "id": "2d21f972-b5ed-4eee-9d77-f049debcc3a6",
   "metadata": {},
   "outputs": [],
   "source": []
  }
 ],
 "metadata": {
  "kernelspec": {
   "display_name": "Python [conda env:base] *",
   "language": "python",
   "name": "conda-base-py"
  },
  "language_info": {
   "codemirror_mode": {
    "name": "ipython",
    "version": 3
   },
   "file_extension": ".py",
   "mimetype": "text/x-python",
   "name": "python",
   "nbconvert_exporter": "python",
   "pygments_lexer": "ipython3",
   "version": "3.11.7"
  }
 },
 "nbformat": 4,
 "nbformat_minor": 5
}
