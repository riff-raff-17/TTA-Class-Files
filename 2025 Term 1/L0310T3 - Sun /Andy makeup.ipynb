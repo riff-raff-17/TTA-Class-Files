{
 "cells": [
  {
   "cell_type": "code",
   "execution_count": 104,
   "id": "235c5c8d-2d10-4eae-ab6e-7b99b15f2800",
   "metadata": {},
   "outputs": [],
   "source": [
    "from jupyturtle import make_turtle, forward, back, left, right, draw\n",
    "import math"
   ]
  },
  {
   "cell_type": "code",
   "execution_count": 174,
   "id": "2f60b14d-7c7a-4187-b43d-150ecc7d68e9",
   "metadata": {},
   "outputs": [
    {
     "data": {
      "text/html": [
       "<svg width=\"300\" height=\"150\" style=\"fill:none; stroke-linecap:round;\">\n",
       "    <rect width=\"100%\" height=\"100%\" fill=\"#F3F3F7\" />\n",
       "\n",
       "\n",
       "<path stroke=\"#663399\" stroke-width=\"2\" d=\"M 150,75 200,75 200,25 150,25 150,75\" />'\n",
       "\n",
       "<g transform=\"rotate(-90.0,150.0,75.0) translate(150.0, 75.0)\">\n",
       "    <circle stroke=\"#63A375\" stroke-width=\"2\" fill=\"transparent\" r=\"5.5\" cx=\"0\" cy=\"0\"/>\n",
       "    <polygon points=\"0,12 2,9 -2,9\" style=\"fill:#63A375;stroke:#63A375;stroke-width:2\"/>\n",
       "</g>\n",
       "\n",
       "</svg>"
      ],
      "text/plain": [
       "<IPython.core.display.HTML object>"
      ]
     },
     "metadata": {},
     "output_type": "display_data"
    }
   ],
   "source": [
    "def polygon(n, length):\n",
    "    if n < 3:\n",
    "        raise ValueError(\"Polygon must have at least 3 sides\")\n",
    "    angle = 360 / n\n",
    "    for i in range(n):\n",
    "        forward(length)\n",
    "        left(angle)\n",
    "\n",
    "make_turtle(delay=0.02)\n",
    "polygon(4, 50)\n",
    "\n"
   ]
  },
  {
   "cell_type": "code",
   "execution_count": null,
   "id": "717530f4-0850-4cbf-8480-1516f41a7d11",
   "metadata": {},
   "outputs": [],
   "source": []
  },
  {
   "cell_type": "code",
   "execution_count": 176,
   "id": "3d60e3a6-6e78-4e83-bcbb-26975d7fd1ef",
   "metadata": {},
   "outputs": [
    {
     "data": {
      "text/html": [
       "<svg width=\"300\" height=\"150\" style=\"fill:none; stroke-linecap:round;\">\n",
       "    <rect width=\"100%\" height=\"100%\" fill=\"#F3F3F7\" />\n",
       "\n",
       "\n",
       "<path stroke=\"#663399\" stroke-width=\"2\" d=\"M 150,75 156.3,75 162.4,73.7 168.2,71.1 173.3,67.4 177.5,62.8 180.6,57.3 182.5,51.4 183.2,45.1 182.5,38.9 180.6,32.9 177.5,27.4 173.3,22.8 168.2,19.1 162.4,16.5 156.3,15.2 150,15.2 143.9,16.5 138.1,19.1 133,22.8 128.8,27.4 125.7,32.9 123.7,38.9 123.1,45.1 123.7,51.4 125.7,57.3 128.8,62.8 133,67.4 138.1,71.1 143.9,73.7 150,75\" />'\n",
       "\n",
       "<g transform=\"rotate(-90.0,150.0,75.0) translate(150.0, 75.0)\">\n",
       "    <circle stroke=\"#63A375\" stroke-width=\"2\" fill=\"transparent\" r=\"5.5\" cx=\"0\" cy=\"0\"/>\n",
       "    <polygon points=\"0,12 2,9 -2,9\" style=\"fill:#63A375;stroke:#63A375;stroke-width:2\"/>\n",
       "</g>\n",
       "\n",
       "</svg>"
      ],
      "text/plain": [
       "<IPython.core.display.HTML object>"
      ]
     },
     "metadata": {},
     "output_type": "display_data"
    }
   ],
   "source": [
    "\n",
    "def circle(radius):\n",
    "    circumference = 2 * math.pi * radius\n",
    "    n = 30\n",
    "    length = circumference / n\n",
    "    polygon(n, length)\n",
    "\n",
    "make_turtle(delay=0.02)\n",
    "circle(30)"
   ]
  },
  {
   "cell_type": "code",
   "execution_count": 134,
   "id": "9f20b7bb-138e-4443-a052-1063494bfb0e",
   "metadata": {},
   "outputs": [
    {
     "data": {
      "text/html": [
       "<svg width=\"600\" height=\"600\" style=\"fill:none; stroke-linecap:round;\">\n",
       "    <rect width=\"100%\" height=\"100%\" fill=\"#F3F3F7\" />\n",
       "\n",
       "\n",
       "<path stroke=\"#663399\" stroke-width=\"2\" d=\"M 300,300 310.5,300 320.7,297.8 330.3,293.6 338.8,287.4 345.8,279.6 351,270.6 354.2,260.6 355.3,250.2 354.2,239.8 351,229.8 345.8,220.7 338.8,213 330.3,206.8 320.7,202.5 310.5,200.4 300,200.4 289.8,202.5 280.2,206.8 271.7,213 264.7,220.7 259.5,229.8 256.2,239.8 255.1,250.2 256.2,260.6 259.5,270.6 264.7,279.6 271.7,287.4 280.2,293.6 289.8,297.8 300,300 310,296.8 319,291.5 326.8,284.5 333,276 337.2,266.5 339.4,256.2 339.4,245.8 337.2,235.5 333,226 326.8,217.5 319,210.5 310,205.2 300,202 289.6,200.9 279.2,202 269.2,205.2 260.1,210.5 252.4,217.5 246.2,226 241.9,235.5 239.8,245.8 239.8,256.2 241.9,266.5 246.2,276 252.4,284.5 260.1,291.5 269.2,296.8 279.2,300 289.6,301.1 300,300 308.5,293.8 315.5,286.1 320.7,277 324,267 325,256.6 324,246.2 320.7,236.2 315.5,227.2 308.5,219.4 300,213.2 290.4,209 280.2,206.8 269.7,206.8 259.5,209 249.9,213.2 241.4,219.4 234.4,227.2 229.2,236.2 226,246.2 224.9,256.6 226,267 229.2,277 234.4,286.1 241.4,293.8 249.9,300 259.5,304.3 269.7,306.4 280.2,306.4 290.4,304.3 300,300 306.2,291.5 310.4,282 312.6,271.7 312.6,261.2 310.4,251 306.2,241.4 300,233 292.2,226 283.1,220.7 273.2,217.5 262.8,216.4 252.4,217.5 242.4,220.7 233.3,226 225.5,233 219.4,241.4 215.1,251 213,261.2 213,271.7 215.1,282 219.4,291.5 225.5,300 233.3,307 242.4,312.2 252.4,315.5 262.8,316.6 273.2,315.5 283.1,312.2 292.2,307 300,300 303.2,290 304.3,279.6 303.2,269.2 300,259.3 294.8,250.2 287.8,242.4 279.3,236.2 269.7,232 259.5,229.8 249,229.8 238.8,232 229.2,236.2 220.7,242.4 213.7,250.2 208.5,259.3 205.2,269.2 204.1,279.6 205.2,290 208.5,300 213.7,309.1 220.7,316.9 229.2,323 238.8,327.3 249,329.4 259.5,329.4 269.7,327.3 279.3,323 287.8,316.9 294.8,309.1 300,300 300,289.5 297.8,279.3 293.6,269.7 287.4,261.2 279.6,254.2 270.6,249 260.6,245.8 250.2,244.7 239.8,245.8 229.8,249 220.7,254.2 213,261.2 206.8,269.7 202.5,279.3 200.4,289.5 200.4,300 202.5,310.2 206.8,319.8 213,328.3 220.7,335.3 229.8,340.5 239.8,343.8 250.2,344.9 260.6,343.8 270.6,340.5 279.6,335.3 287.4,328.3 293.6,319.8 297.8,310.2 300,300 296.8,290 291.5,281 284.5,273.2 276,267 266.5,262.8 256.2,260.6 245.8,260.6 235.5,262.8 226,267 217.5,273.2 210.5,281 205.2,290 202,300 200.9,310.4 202,320.8 205.2,330.8 210.5,339.9 217.5,347.6 226,353.8 235.5,358.1 245.8,360.2 256.2,360.2 266.5,358.1 276,353.8 284.5,347.6 291.5,339.9 296.8,330.8 300,320.8 301.1,310.4 300,300 293.8,291.5 286.1,284.5 277,279.3 267,276 256.6,275 246.2,276 236.2,279.3 227.2,284.5 219.4,291.5 213.2,300 209,309.6 206.8,319.8 206.8,330.3 209,340.5 213.2,350.1 219.4,358.6 227.2,365.6 236.2,370.8 246.2,374 256.6,375.1 267,374 277,370.8 286.1,365.6 293.8,358.6 300,350.1 304.3,340.5 306.4,330.3 306.4,319.8 304.3,309.6 300,300 291.5,293.8 282,289.6 271.7,287.4 261.2,287.4 251,289.6 241.4,293.8 233,300 226,307.8 220.7,316.9 217.5,326.8 216.4,337.2 217.5,347.6 220.7,357.6 226,366.7 233,374.5 241.4,380.6 251,384.9 261.2,387 271.7,387 282,384.9 291.5,380.6 300,374.5 307,366.7 312.2,357.6 315.5,347.6 316.6,337.2 315.5,326.8 312.2,316.9 307,307.8 300,300 290,296.8 279.6,295.7 269.2,296.8 259.3,300 250.2,305.2 242.4,312.2 236.2,320.7 232,330.3 229.8,340.5 229.8,351 232,361.2 236.2,370.8 242.4,379.3 250.2,386.3 259.3,391.5 269.2,394.8 279.6,395.9 290,394.8 300,391.5 309.1,386.3 316.9,379.3 323,370.8 327.3,361.2 329.4,351 329.4,340.5 327.3,330.3 323,320.7 316.9,312.2 309.1,305.2 300,300 289.5,300 279.3,302.2 269.7,306.4 261.2,312.6 254.2,320.4 249,329.4 245.8,339.4 244.7,349.8 245.8,360.2 249,370.2 254.2,379.3 261.2,387 269.7,393.2 279.3,397.5 289.5,399.6 300,399.6 310.2,397.5 319.8,393.2 328.3,387 335.3,379.3 340.5,370.2 343.8,360.2 344.9,349.8 343.8,339.4 340.5,329.4 335.3,320.4 328.3,312.6 319.8,306.4 310.2,302.2 300,300 290,303.2 281,308.5 273.2,315.5 267,324 262.8,333.5 260.6,343.8 260.6,354.2 262.8,364.5 267,374 273.2,382.5 281,389.5 290,394.8 300,398 310.4,399.1 320.8,398 330.8,394.8 339.9,389.5 347.6,382.5 353.8,374 358.1,364.5 360.2,354.2 360.2,343.8 358.1,333.5 353.8,324 347.6,315.5 339.9,308.5 330.8,303.2 320.8,300 310.4,298.9 300,300 291.5,306.2 284.5,313.9 279.3,323 276,333 275,343.4 276,353.8 279.3,363.8 284.5,372.8 291.5,380.6 300,386.8 309.6,391 319.8,393.2 330.3,393.2 340.5,391 350.1,386.8 358.6,380.6 365.6,372.8 370.8,363.8 374,353.8 375.1,343.4 374,333 370.8,323 365.6,313.9 358.6,306.2 350.1,300 340.5,295.7 330.3,293.6 319.8,293.6 309.6,295.7 300,300 293.8,308.5 289.6,318 287.4,328.3 287.4,338.8 289.6,349 293.8,358.6 300,367 307.8,374 316.9,379.3 326.8,382.5 337.2,383.6 347.6,382.5 357.6,379.3 366.7,374 374.5,367 380.6,358.6 384.9,349 387,338.8 387,328.3 384.9,318 380.6,308.5 374.5,300 366.7,293 357.6,287.8 347.6,284.5 337.2,283.4 326.8,284.5 316.9,287.8 307.8,293 300,300 296.8,310 295.7,320.4 296.8,330.8 300,340.7 305.2,349.8 312.2,357.6 320.7,363.8 330.3,368 340.5,370.2 351,370.2 361.2,368 370.8,363.8 379.3,357.6 386.3,349.8 391.5,340.7 394.8,330.8 395.9,320.4 394.8,310 391.5,300 386.3,290.9 379.3,283.1 370.8,277 361.2,272.7 351,270.6 340.5,270.6 330.3,272.7 320.7,277 312.2,283.1 305.2,290.9 300,300 300,310.5 302.2,320.7 306.4,330.3 312.6,338.8 320.4,345.8 329.4,351 339.4,354.2 349.8,355.3 360.2,354.2 370.2,351 379.3,345.8 387,338.8 393.2,330.3 397.5,320.7 399.6,310.5 399.6,300 397.5,289.8 393.2,280.2 387,271.7 379.3,264.7 370.2,259.5 360.2,256.2 349.8,255.1 339.4,256.2 329.4,259.5 320.4,264.7 312.6,271.7 306.4,280.2 302.2,289.8 300,300 303.2,310 308.5,319 315.5,326.8 324,333 333.5,337.2 343.8,339.4 354.2,339.4 364.5,337.2 374,333 382.5,326.8 389.5,319 394.8,310 398,300 399.1,289.6 398,279.2 394.8,269.2 389.5,260.1 382.5,252.4 374,246.2 364.5,241.9 354.2,239.8 343.8,239.8 333.5,241.9 324,246.2 315.5,252.4 308.5,260.1 303.2,269.2 300,279.2 298.9,289.6 300,300 306.2,308.5 313.9,315.5 323,320.7 333,324 343.4,325 353.8,324 363.8,320.7 372.8,315.5 380.6,308.5 386.8,300 391,290.4 393.2,280.2 393.2,269.7 391,259.5 386.8,249.9 380.6,241.4 372.8,234.4 363.8,229.2 353.8,226 343.4,224.9 333,226 323,229.2 313.9,234.4 306.2,241.4 300,249.9 295.7,259.5 293.6,269.7 293.6,280.2 295.7,290.4 300,300 308.5,306.2 318,310.4 328.3,312.6 338.8,312.6 349,310.4 358.6,306.2 367,300 374,292.2 379.3,283.1 382.5,273.2 383.6,262.8 382.5,252.4 379.3,242.4 374,233.3 367,225.5 358.6,219.4 349,215.1 338.8,213 328.3,213 318,215.1 308.5,219.4 300,225.5 293,233.3 287.8,242.4 284.5,252.4 283.4,262.8 284.5,273.2 287.8,283.1 293,292.2 300,300 310,303.2 320.4,304.3 330.8,303.2 340.7,300 349.8,294.8 357.6,287.8 363.8,279.3 368,269.7 370.2,259.5 370.2,249 368,238.8 363.8,229.2 357.6,220.7 349.8,213.7 340.7,208.5 330.8,205.2 320.4,204.1 310,205.2 300,208.5 290.9,213.7 283.1,220.7 277,229.2 272.7,238.8 270.6,249 270.6,259.5 272.7,269.7 277,279.3 283.1,287.8 290.9,294.8 300,300\" />'\n",
       "\n",
       "<g transform=\"rotate(-90.0,300.0,300.0) translate(300.0, 300.0)\">\n",
       "    <circle stroke=\"#63A375\" stroke-width=\"2\" fill=\"transparent\" r=\"5.5\" cx=\"0\" cy=\"0\"/>\n",
       "    <polygon points=\"0,12 2,9 -2,9\" style=\"fill:#63A375;stroke:#63A375;stroke-width:2\"/>\n",
       "</g>\n",
       "\n",
       "</svg>"
      ],
      "text/plain": [
       "<IPython.core.display.HTML object>"
      ]
     },
     "metadata": {},
     "output_type": "display_data"
    }
   ],
   "source": [
    "make_turtle(animate = True, delay = 0.001, width=600, height=600)\n",
    "\n",
    "# for _ in range(24):\n",
    "#     circle(30)\n",
    "#     left(15)\n",
    "\n",
    "def multicircle(num, size):\n",
    "    for i in range(num):\n",
    "        circle(size)\n",
    "        left(360 / num)\n",
    "\n",
    "multicircle(20, 50)\n",
    "\n",
    "draw()\n",
    "\n"
   ]
  },
  {
   "cell_type": "code",
   "execution_count": 1,
   "id": "7315d4d6-dd5b-4f74-a343-253654897097",
   "metadata": {},
   "outputs": [
    {
     "name": "stdout",
     "output_type": "stream",
     "text": [
      "pygame 2.6.1 (SDL 2.28.4, Python 3.11.11)\n",
      "Hello from the pygame community. https://www.pygame.org/contribute.html\n"
     ]
    },
    {
     "name": "stderr",
     "output_type": "stream",
     "text": [
      "2025-02-18 20:52:21.792 python[34729:9056189] +[IMKClient subclass]: chose IMKClient_Modern\n",
      "2025-02-18 20:52:21.792 python[34729:9056189] +[IMKInputSession subclass]: chose IMKInputSession_Modern\n"
     ]
    }
   ],
   "source": [
    "import pygame\n",
    "import sys\n",
    "import time\n",
    "\n",
    "# Initialize pygame\n",
    "pygame.init()\n",
    "\n",
    "# Constants\n",
    "WIDTH, HEIGHT = 800, 600\n",
    "BALL_RADIUS = 10\n",
    "PADDLE_WIDTH, PADDLE_HEIGHT = 10, 100\n",
    "WHITE = (255, 255, 255)\n",
    "BLACK = (0, 0, 0)\n",
    "FPS = 60\n",
    "BALL_SPEED_X, BALL_SPEED_Y = 5, 5\n",
    "PADDLE_SPEED = 10\n",
    "WINNING_SCORE = 5\n",
    "SPEED_INCREMENT = 0.1\n",
    "MAX_BALL_SPEED = 15\n",
    "\n",
    "# Create window\n",
    "screen = pygame.display.set_mode((WIDTH, HEIGHT))\n",
    "pygame.display.set_caption(\"Pong\")\n",
    "\n",
    "# Font for score\n",
    "font = pygame.font.Font(None, 36)\n",
    "\n",
    "# Paddle positions\n",
    "left_paddle = pygame.Rect(30, HEIGHT//2 - PADDLE_HEIGHT//2, PADDLE_WIDTH, PADDLE_HEIGHT)\n",
    "right_paddle = pygame.Rect(WIDTH - 40, HEIGHT//2 - PADDLE_HEIGHT//2, PADDLE_WIDTH, PADDLE_HEIGHT)\n",
    "ball = pygame.Rect(WIDTH//2 - BALL_RADIUS, HEIGHT//2 - BALL_RADIUS, BALL_RADIUS*2, BALL_RADIUS*2)\n",
    "\n",
    "# Ball velocity\n",
    "ball_dx, ball_dy = BALL_SPEED_X, BALL_SPEED_Y\n",
    "\n",
    "# Scores\n",
    "left_score = 0\n",
    "right_score = 0\n",
    "\n",
    "# Game loop\n",
    "running = True\n",
    "clock = pygame.time.Clock()\n",
    "while running:\n",
    "    screen.fill(BLACK)\n",
    "    pygame.draw.rect(screen, WHITE, left_paddle)\n",
    "    pygame.draw.rect(screen, WHITE, right_paddle)\n",
    "    pygame.draw.ellipse(screen, WHITE, ball)\n",
    "    pygame.draw.aaline(screen, WHITE, (WIDTH//2, 0), (WIDTH//2, HEIGHT))\n",
    "    \n",
    "    # Display scores\n",
    "    left_text = font.render(str(left_score), True, WHITE)\n",
    "    right_text = font.render(str(right_score), True, WHITE)\n",
    "    screen.blit(left_text, (WIDTH//4, 20))\n",
    "    screen.blit(right_text, (3 * WIDTH//4, 20))\n",
    "    \n",
    "    # Move ball\n",
    "    ball.x += ball_dx\n",
    "    ball.y += ball_dy\n",
    "    \n",
    "    # Ball collision with top and bottom walls\n",
    "    if ball.top <= 0 or ball.bottom >= HEIGHT:\n",
    "        ball_dy *= -1\n",
    "    \n",
    "    # Ball collision with paddles\n",
    "    if ball.colliderect(left_paddle) or ball.colliderect(right_paddle):\n",
    "        ball_dx *= -1\n",
    "        if abs(ball_dx) < MAX_BALL_SPEED:\n",
    "            ball_dx += SPEED_INCREMENT if ball_dx > 0 else -SPEED_INCREMENT\n",
    "        if abs(ball_dy) < MAX_BALL_SPEED:\n",
    "            ball_dy += SPEED_INCREMENT if ball_dy > 0 else -SPEED_INCREMENT\n",
    "    \n",
    "    # Ball out of bounds (score tracking and reset position)\n",
    "    if ball.left <= 0:\n",
    "        right_score += 1\n",
    "        ball.x, ball.y = WIDTH//2 - BALL_RADIUS, HEIGHT//2 - BALL_RADIUS\n",
    "        ball_dx, ball_dy = BALL_SPEED_X, BALL_SPEED_Y\n",
    "        ball_dx *= -1\n",
    "    if ball.right >= WIDTH:\n",
    "        left_score += 1\n",
    "        ball.x, ball.y = WIDTH//2 - BALL_RADIUS, HEIGHT//2 - BALL_RADIUS\n",
    "        ball_dx, ball_dy = BALL_SPEED_X, BALL_SPEED_Y\n",
    "        ball_dx *= -1\n",
    "    \n",
    "    # Check for winner\n",
    "    if left_score >= WINNING_SCORE or right_score >= WINNING_SCORE:\n",
    "        winner_text = font.render(\"Player Left Wins!\" if left_score >= WINNING_SCORE else \"Player Right Wins!\", True, WHITE)\n",
    "        screen.blit(winner_text, (WIDTH//2 - 100, HEIGHT//2))\n",
    "        pygame.display.flip()\n",
    "        pygame.time.delay(3000)\n",
    "        running = False\n",
    "    \n",
    "    # Paddle movement\n",
    "    keys = pygame.key.get_pressed()\n",
    "    if keys[pygame.K_w] and left_paddle.top > 0:\n",
    "        left_paddle.y -= PADDLE_SPEED\n",
    "    if keys[pygame.K_s] and left_paddle.bottom < HEIGHT:\n",
    "        left_paddle.y += PADDLE_SPEED\n",
    "    if keys[pygame.K_UP] and right_paddle.top > 0:\n",
    "        right_paddle.y -= PADDLE_SPEED\n",
    "    if keys[pygame.K_DOWN] and right_paddle.bottom < HEIGHT:\n",
    "        right_paddle.y += PADDLE_SPEED\n",
    "    \n",
    "    # Event handling\n",
    "    for event in pygame.event.get():\n",
    "        if event.type == pygame.QUIT:\n",
    "            running = False\n",
    "    \n",
    "    pygame.display.flip()\n",
    "    clock.tick(FPS)\n",
    "\n",
    "pygame.quit()\n",
    "exit()\n"
   ]
  },
  {
   "cell_type": "code",
   "execution_count": 1,
   "id": "a219d67e-f82a-4ca0-870e-41455c50fc67",
   "metadata": {},
   "outputs": [
    {
     "name": "stdout",
     "output_type": "stream",
     "text": [
      "192.168.1.129:50051\n"
     ]
    }
   ],
   "source": [
    "from ugot import ugot\n",
    "\n",
    "got = ugot.UGOT()\n",
    "\n",
    "got.initialize('192.168.1.129')"
   ]
  },
  {
   "cell_type": "code",
   "execution_count": 3,
   "id": "6821caea-17fe-4022-8fed-0b2276cb5ce6",
   "metadata": {},
   "outputs": [],
   "source": [
    "got.mechanical_arms_restory()"
   ]
  },
  {
   "cell_type": "code",
   "execution_count": 5,
   "id": "ae506987-abc8-499d-b3bd-b1767bd023e4",
   "metadata": {},
   "outputs": [],
   "source": [
    "got.mechanical_joint_control(angle1=0, angle2=0, angle3=0, duration=500)"
   ]
  },
  {
   "cell_type": "code",
   "execution_count": null,
   "id": "aba29662-68c0-4904-8a7b-d35df6b2befd",
   "metadata": {},
   "outputs": [],
   "source": []
  }
 ],
 "metadata": {
  "kernelspec": {
   "display_name": "Python [conda env:TTA]",
   "language": "python",
   "name": "conda-env-TTA-py"
  },
  "language_info": {
   "codemirror_mode": {
    "name": "ipython",
    "version": 3
   },
   "file_extension": ".py",
   "mimetype": "text/x-python",
   "name": "python",
   "nbconvert_exporter": "python",
   "pygments_lexer": "ipython3",
   "version": "3.11.11"
  }
 },
 "nbformat": 4,
 "nbformat_minor": 5
}
