{
 "cells": [
  {
   "cell_type": "code",
   "execution_count": null,
   "id": "5bfd01f5-4e11-463d-bad5-7a2c18f7bbb6",
   "metadata": {},
   "outputs": [],
   "source": [
    "pip install pygame"
   ]
  },
  {
   "cell_type": "code",
   "execution_count": 1,
   "id": "95af2199-f69c-4e6d-aaf4-ca550199c9cb",
   "metadata": {},
   "outputs": [
    {
     "name": "stdout",
     "output_type": "stream",
     "text": [
      "pygame 2.6.1 (SDL 2.28.4, Python 3.11.11)\n",
      "Hello from the pygame community. https://www.pygame.org/contribute.html\n"
     ]
    },
    {
     "name": "stderr",
     "output_type": "stream",
     "text": [
      "2025-02-23 16:48:18.470 python[28724:11110212] +[IMKClient subclass]: chose IMKClient_Modern\n",
      "2025-02-23 16:48:18.470 python[28724:11110212] +[IMKInputSession subclass]: chose IMKInputSession_Modern\n"
     ]
    }
   ],
   "source": [
    "# Base game\n",
    "\n",
    "import pygame\n",
    "import random\n",
    "\n",
    "# Initialize pygame\n",
    "pygame.init()\n",
    "\n",
    "# Constants\n",
    "WIDTH, HEIGHT = 600, 600\n",
    "WHITE = (255, 255, 255)\n",
    "BLACK = (0, 0, 0)\n",
    "RED = (255, 0, 0)\n",
    "PLAYER_SIZE = 30\n",
    "BULLET_SIZE = 10\n",
    "PLAYER_SPEED = 5\n",
    "BULLET_SPEED = 3\n",
    "\n",
    "# Setup screen\n",
    "screen = pygame.display.set_mode((WIDTH, HEIGHT))\n",
    "pygame.display.set_caption(\"Dodge the Bullets!\")\n",
    "\n",
    "# Player setup\n",
    "player = pygame.Rect(WIDTH//2, HEIGHT//2, PLAYER_SIZE, PLAYER_SIZE)\n",
    "\n",
    "# Bullet list\n",
    "bullets = []\n",
    "clock = pygame.time.Clock()\n",
    "running = True\n",
    "\n",
    "def spawn_bullet():\n",
    "    side = random.choice(['top', 'bottom', 'left', 'right'])\n",
    "    if side == 'top':\n",
    "        x, y = random.randint(0, WIDTH), 0\n",
    "        dx, dy = 0, BULLET_SPEED\n",
    "    elif side == 'bottom':\n",
    "        x, y = random.randint(0, WIDTH), HEIGHT\n",
    "        dx, dy = 0, -BULLET_SPEED\n",
    "    elif side == 'left':\n",
    "        x, y = 0, random.randint(0, HEIGHT)\n",
    "        dx, dy = BULLET_SPEED, 0\n",
    "    else:  # right\n",
    "        x, y = WIDTH, random.randint(0, HEIGHT)\n",
    "        dx, dy = -BULLET_SPEED, 0\n",
    "    bullets.append({'rect': pygame.Rect(x, y, BULLET_SIZE, BULLET_SIZE), 'dx': dx, 'dy': dy})\n",
    "\n",
    "# Game loop\n",
    "while running:\n",
    "    screen.fill(WHITE)\n",
    "    \n",
    "    # Handle events\n",
    "    for event in pygame.event.get():\n",
    "        if event.type == pygame.QUIT:\n",
    "            running = False\n",
    "\n",
    "    # Move player\n",
    "    keys = pygame.key.get_pressed()\n",
    "    if keys[pygame.K_LEFT] and player.x > 0:\n",
    "        player.x -= PLAYER_SPEED\n",
    "    if keys[pygame.K_RIGHT] and player.x < WIDTH - PLAYER_SIZE:\n",
    "        player.x += PLAYER_SPEED\n",
    "    if keys[pygame.K_UP] and player.y > 0:\n",
    "        player.y -= PLAYER_SPEED\n",
    "    if keys[pygame.K_DOWN] and player.y < HEIGHT - PLAYER_SIZE:\n",
    "        player.y += PLAYER_SPEED\n",
    "    \n",
    "    # Spawn bullets over time\n",
    "    if random.random() < 0.02:\n",
    "        spawn_bullet()\n",
    "    \n",
    "    # Move bullets\n",
    "    for bullet in bullets[:]:\n",
    "        bullet['rect'].x += bullet['dx']\n",
    "        bullet['rect'].y += bullet['dy']\n",
    "        \n",
    "        # Check collision\n",
    "        if player.colliderect(bullet['rect']):\n",
    "            running = False\n",
    "        \n",
    "        # Remove bullets out of bounds\n",
    "        if (bullet['rect'].x < -BULLET_SIZE or bullet['rect'].x > WIDTH or \n",
    "            bullet['rect'].y < -BULLET_SIZE or bullet['rect'].y > HEIGHT):\n",
    "            bullets.remove(bullet)\n",
    "    \n",
    "    # Draw player\n",
    "    pygame.draw.rect(screen, BLACK, player)\n",
    "    \n",
    "    # Draw bullets\n",
    "    for bullet in bullets:\n",
    "        pygame.draw.rect(screen, RED, bullet['rect'])\n",
    "    \n",
    "    # Refresh screen\n",
    "    pygame.display.flip()\n",
    "    clock.tick(60)\n",
    "\n",
    "pygame.quit()\n",
    "exit()\n"
   ]
  },
  {
   "cell_type": "code",
   "execution_count": null,
   "id": "3606fe34-58b1-4837-a281-e4311563018f",
   "metadata": {},
   "outputs": [],
   "source": []
  }
 ],
 "metadata": {
  "kernelspec": {
   "display_name": "Python [conda env:TTA]",
   "language": "python",
   "name": "conda-env-TTA-py"
  },
  "language_info": {
   "codemirror_mode": {
    "name": "ipython",
    "version": 3
   },
   "file_extension": ".py",
   "mimetype": "text/x-python",
   "name": "python",
   "nbconvert_exporter": "python",
   "pygments_lexer": "ipython3",
   "version": "3.11.11"
  }
 },
 "nbformat": 4,
 "nbformat_minor": 5
}
