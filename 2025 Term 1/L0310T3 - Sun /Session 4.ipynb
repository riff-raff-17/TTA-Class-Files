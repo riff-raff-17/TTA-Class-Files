{
 "cells": [
  {
   "cell_type": "code",
   "execution_count": 1,
   "id": "b73d6d75-04b5-4520-a6aa-edb2cea79400",
   "metadata": {},
   "outputs": [
    {
     "name": "stdout",
     "output_type": "stream",
     "text": [
      "192.168.1.235:50051\n"
     ]
    }
   ],
   "source": [
    "from ugot import ugot\n",
    "\n",
    "got = ugot.UGOT()\n",
    "\n",
    "got.initialize('192.168.1.235') #patrick's ip"
   ]
  },
  {
   "cell_type": "code",
   "execution_count": 5,
   "id": "80698f69-dd67-4cab-9471-a6607b68b9bc",
   "metadata": {},
   "outputs": [],
   "source": [
    "def normal():\n",
    "    got.transform_adaption_control(False)\n",
    "    \n",
    "    #Arm (1: left front arm; 2: left rear arm; 3: right rear arm; 4: right front arm)\n",
    "    #ODD number joints are NEGATIVE for DOWN\n",
    "    got.transform_arm_control(joint=1, position=-40, time=500) #NEGATIVE is DOWN\n",
    "    got.transform_arm_control(joint=4, position=40, time=500)#NEGATIVE is UP\n",
    "    got.transform_arm_control(joint=2, position=40, time=500) #NEGATIVE is UP\n",
    "    got.transform_arm_control(joint=3, position=-40, time=500) #NEGATIVE is DOWN\n",
    "\n",
    "def front_up():\n",
    "    got.transform_adaption_control(False)\n",
    "    \n",
    "    #Arm (1: left front arm; 2: left rear arm; 3: right rear arm; 4: right front arm)\n",
    "    #ODD number joints are NEGATIVE for DOWN\n",
    "    got.transform_arm_control(joint=1, position=40, time=500) #NEGATIVE is DOWN\n",
    "    got.transform_arm_control(joint=4, position=-40, time=500)#NEGATIVE is UP\n",
    "    got.transform_arm_control(joint=2, position=40, time=500) #NEGATIVE is UP\n",
    "    got.transform_arm_control(joint=3, position=-40, time=500) #NEGATIVE is DOWN\n",
    "\n",
    "\n",
    "def back_up():\n",
    "    got.transform_adaption_control(False)\n",
    "    \n",
    "    #Arm (1: left front arm; 2: left rear arm; 3: right rear arm; 4: right front arm)\n",
    "    #ODD number joints are NEGATIVE for DOWN\n",
    "    got.transform_arm_control(joint=1, position=-40, time=500) #NEGATIVE is DOWN\n",
    "    got.transform_arm_control(joint=4, position=40, time=500)#NEGATIVE is UP\n",
    "    got.transform_arm_control(joint=2, position=-40, time=500) #NEGATIVE is UP\n",
    "    got.transform_arm_control(joint=3, position=40, time=500) #NEGATIVE is DOWN\n",
    "\n",
    "def low():\n",
    "    got.transform_adaption_control(False)\n",
    "    \n",
    "    #Arm (1: left front arm; 2: left rear arm; 3: right rear arm; 4: right front arm)\n",
    "    #ODD number joints are NEGATIVE for DOWN\n",
    "    got.transform_arm_control(joint=1, position=-10, time=500) #NEGATIVE is DOWN\n",
    "    got.transform_arm_control(joint=4, position=10, time=500)#NEGATIVE is UP\n",
    "    got.transform_arm_control(joint=2, position=10, time=500) #NEGATIVE is UP\n",
    "    got.transform_arm_control(joint=3, position=-10, time=500) #NEGATIVE is DOWN\n",
    "\n",
    "low()"
   ]
  },
  {
   "cell_type": "code",
   "execution_count": null,
   "id": "ea652499-fe42-4da9-abb3-4dc2531ea034",
   "metadata": {},
   "outputs": [],
   "source": [
    "import time\n",
    "\n",
    "def climb():\n",
    "    front_up()\n",
    "    time.sleep(1)\n",
    "    got.transform_move_speed_times(direction=0, speed=30, times=20, unit=1)\n",
    "    time.sleep(1)\n",
    "    normal()\n",
    "    time.sleep(1)\n",
    "    back_up()\n",
    "    got.transform_move_speed_times(direction=0, speed=30, times=20, unit=1)\n",
    "    normal()\n",
    "    got.transform_move_speed_times(direction=0, speed=30, times=20, unit=1)"
   ]
  }
 ],
 "metadata": {
  "kernelspec": {
   "display_name": "Python [conda env:base] *",
   "language": "python",
   "name": "conda-base-py"
  },
  "language_info": {
   "codemirror_mode": {
    "name": "ipython",
    "version": 3
   },
   "file_extension": ".py",
   "mimetype": "text/x-python",
   "name": "python",
   "nbconvert_exporter": "python",
   "pygments_lexer": "ipython3",
   "version": "3.11.7"
  }
 },
 "nbformat": 4,
 "nbformat_minor": 5
}
