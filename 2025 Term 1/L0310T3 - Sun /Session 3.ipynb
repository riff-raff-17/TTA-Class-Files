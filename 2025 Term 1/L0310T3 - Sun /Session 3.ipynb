{
 "cells": [
  {
   "cell_type": "code",
   "execution_count": null,
   "id": "fdff429b-d935-4cd4-afb1-1a2c60382a76",
   "metadata": {},
   "outputs": [],
   "source": [
    "#Get all of the UGOT functions\n",
    "from ugot import ugot\n",
    "\n",
    "#Rename the UGOT functions for simplicity\n",
    "got = ugot.UGOT()\n",
    "\n",
    "#Connect to the UGOT\n",
    "got.initialize('192.168.1.195')"
   ]
  },
  {
   "cell_type": "code",
   "execution_count": null,
   "id": "9e9c5bee-3376-4e45-b604-7ec8851e635f",
   "metadata": {},
   "outputs": [],
   "source": [
    "got.show_light_rgb(lights=[0,1,2,3], red=0, green=0, blue=255)\n",
    "got.play_tone(tone = 'C5', beat = 2, wait=False)"
   ]
  },
  {
   "cell_type": "code",
   "execution_count": null,
   "id": "8b91268e-d5d3-46a2-8501-c277ecdae56b",
   "metadata": {},
   "outputs": [],
   "source": [
    "got.turn_off_lights()"
   ]
  },
  {
   "cell_type": "code",
   "execution_count": null,
   "id": "39ec9598-f56c-4f8f-862e-98d64b525ad8",
   "metadata": {},
   "outputs": [],
   "source": [
    "got.mecanum_translate_speed_times(angle = 0, speed = 30, times = 50, unit = 1)\n",
    "got.mecanum_translate_speed_times(angle = 90, speed = 30, times = 50, unit = 1)\n",
    "got.mecanum_translate_speed_times(angle = 180, speed = 30, times = 50, unit = 1)\n",
    "got.mecanum_translate_speed_times(angle = -90, speed = 30, times = 50, unit = 1)"
   ]
  },
  {
   "cell_type": "code",
   "execution_count": null,
   "id": "df55010c-145b-45a7-9293-4296a67646a3",
   "metadata": {},
   "outputs": [],
   "source": [
    "angles = [0, 90, 180, -90]\n",
    "\n",
    "for x in range(4):\n",
    "    got.mecanum_translate_speed_times(angle = angles[x], speed = 30, times = 50, unit = 1)"
   ]
  },
  {
   "cell_type": "code",
   "execution_count": null,
   "id": "b5c307cb-8dd1-49e0-8bfb-e35ff5253b80",
   "metadata": {},
   "outputs": [],
   "source": [
    "#turning\n",
    "#2 is left, 3 is right\n",
    "got.mecanum_turn_speed_times(turn = 3, speed = 45, times = 90, unit = 2)"
   ]
  },
  {
   "cell_type": "code",
   "execution_count": null,
   "id": "a303da1b-fc48-407d-b85a-dc5c742c6c8b",
   "metadata": {},
   "outputs": [],
   "source": [
    "got.mecanum_translate_speed_times(angle = 0, speed = 30, times = 50, unit = 1)\n",
    "got.mecanum_turn_speed_times(turn = 3, speed = 45, times = 90, unit = 2)\n",
    "got.mecanum_translate_speed_times(angle = 0, speed = 30, times = 50, unit = 1)\n",
    "got.mecanum_turn_speed_times(turn = 3, speed = 45, times = 90, unit = 2)\n",
    "got.mecanum_translate_speed_times(angle = 0, speed = 30, times = 50, unit = 1)\n",
    "got.mecanum_turn_speed_times(turn = 3, speed = 45, times = 90, unit = 2)\n",
    "got.mecanum_translate_speed_times(angle = 0, speed = 30, times = 50, unit = 1)\n",
    "got.mecanum_turn_speed_times(turn = 3, speed = 45, times = 90, unit = 2)"
   ]
  },
  {
   "cell_type": "code",
   "execution_count": null,
   "id": "7826bbfa-acdc-46fc-8e9f-72be9bd3889d",
   "metadata": {},
   "outputs": [],
   "source": [
    "#drawing a square\n",
    "\n",
    "for i in range(4):\n",
    "    got.mecanum_translate_speed_times(angle = 0, speed = 30, times = 50, unit = 1)\n",
    "    got.mecanum_turn_speed_times(turn = 3, speed = 45, times = 90, unit = 2)"
   ]
  },
  {
   "cell_type": "code",
   "execution_count": null,
   "id": "a55cafd6-6916-486b-948c-ec1b74b8674c",
   "metadata": {},
   "outputs": [],
   "source": [
    "#drawing a triangle\n",
    "\n",
    "for i in range(3):\n",
    "    got.mecanum_translate_speed_times(angle = 0, speed = 30, times = 50, unit = 1)\n",
    "    got.mecanum_turn_speed_times(turn = 3, speed = 45, times = 120, unit = 2)"
   ]
  },
  {
   "cell_type": "code",
   "execution_count": null,
   "id": "6f8c46c4-0653-4a0b-8bc5-c5ddfa221580",
   "metadata": {},
   "outputs": [],
   "source": [
    "#drawing a pentagon\n",
    "\n",
    "for i in range(5):\n",
    "    got.mecanum_translate_speed_times(angle = 0, speed = 30, times = 50, unit = 1)\n",
    "    got.mecanum_turn_speed_times(turn = 3, speed = 45, times = 72, unit = 2)"
   ]
  },
  {
   "cell_type": "code",
   "execution_count": null,
   "id": "41a0a525-1fb2-4328-840d-d5e0e5d307a7",
   "metadata": {},
   "outputs": [],
   "source": [
    "#drawing a hexagon\n",
    "\n",
    "for i in range(6):\n",
    "    got.mecanum_translate_speed_times(angle = 0, speed = 30, times = 50, unit = 1)\n",
    "    got.mecanum_turn_speed_times(turn = 3, speed = 45, times = 60, unit = 2)"
   ]
  },
  {
   "cell_type": "code",
   "execution_count": null,
   "id": "ccd2cfbd-bdaa-4a4e-b5e8-072d891b449e",
   "metadata": {},
   "outputs": [],
   "source": [
    "#drawing a octagon\n",
    "\n",
    "for i in range(8):\n",
    "    got.mecanum_translate_speed_times(angle = 0, speed = 30, times = 50, unit = 1)\n",
    "    got.mecanum_turn_speed_times(turn = 3, speed = 45, times = 45, unit = 2)"
   ]
  },
  {
   "cell_type": "markdown",
   "id": "f6d5a155-4c89-424f-afc9-593aa0c0787a",
   "metadata": {},
   "source": [
    "Triangle: 120 x 3 = 360\n",
    "Square: 90 x 4 = 360\n",
    "Pentagon: 72 x 5 = 360\n",
    "Hexagon: 60 x 6 = 360\n",
    "Octagon: 45 x 8 = 360"
   ]
  },
  {
   "cell_type": "code",
   "execution_count": null,
   "id": "5eb71445-d83d-496d-8b87-93e4fd8035e5",
   "metadata": {},
   "outputs": [],
   "source": [
    "def draw_shape(sides):\n",
    "    if sides < 3:\n",
    "        raise ValueError(\"The number of sides must be 3 or more to form a valid shape\")\n",
    "    \n",
    "    for i in range(sides):\n",
    "        turn_angle = int(360 / sides)\n",
    "        \n",
    "        got.mecanum_translate_speed_times(angle = 0, speed = 30, times = 50, unit = 1)\n",
    "        got.mecanum_turn_speed_times(turn = 3, speed = 45, times = turn_angle, unit = 2)\n",
    "\n",
    "draw_shape(3)"
   ]
  },
  {
   "cell_type": "code",
   "execution_count": null,
   "id": "4855c302-4fd5-42db-8d65-3d95737c6a8e",
   "metadata": {},
   "outputs": [],
   "source": []
  }
 ],
 "metadata": {
  "kernelspec": {
   "display_name": "Python [conda env:base] *",
   "language": "python",
   "name": "conda-base-py"
  },
  "language_info": {
   "codemirror_mode": {
    "name": "ipython",
    "version": 3
   },
   "file_extension": ".py",
   "mimetype": "text/x-python",
   "name": "python",
   "nbconvert_exporter": "python",
   "pygments_lexer": "ipython3",
   "version": "3.11.7"
  }
 },
 "nbformat": 4,
 "nbformat_minor": 5
}
