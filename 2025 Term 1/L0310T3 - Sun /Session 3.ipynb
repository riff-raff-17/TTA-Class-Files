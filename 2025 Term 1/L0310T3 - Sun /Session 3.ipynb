{
 "cells": [
  {
   "cell_type": "code",
   "execution_count": 6,
   "id": "fdff429b-d935-4cd4-afb1-1a2c60382a76",
   "metadata": {},
   "outputs": [
    {
     "name": "stdout",
     "output_type": "stream",
     "text": [
      "192.168.1.195:50051\n"
     ]
    }
   ],
   "source": [
    "#Get all of the UGOT functions\n",
    "from ugot import ugot\n",
    "\n",
    "#Rename the UGOT functions for simplicity\n",
    "got = ugot.UGOT()\n",
    "\n",
    "#Connect to the UGOT\n",
    "got.initialize('192.168.1.195')"
   ]
  },
  {
   "cell_type": "code",
   "execution_count": null,
   "id": "9e9c5bee-3376-4e45-b604-7ec8851e635f",
   "metadata": {},
   "outputs": [],
   "source": [
    "got.show_light_rgb(lights=[0,1,2,3], red=0, green=0, blue=255)\n",
    "got.play_tone(tone = 'C5', beat = 2, wait=False)"
   ]
  },
  {
   "cell_type": "code",
   "execution_count": null,
   "id": "8b91268e-d5d3-46a2-8501-c277ecdae56b",
   "metadata": {},
   "outputs": [],
   "source": [
    "got.turn_off_lights()"
   ]
  },
  {
   "cell_type": "code",
   "execution_count": null,
   "id": "39ec9598-f56c-4f8f-862e-98d64b525ad8",
   "metadata": {},
   "outputs": [],
   "source": [
    "got.mecanum_translate_speed_times(angle = 0, speed = 30, times = 50, unit = 1)\n",
    "got.mecanum_translate_speed_times(angle = 90, speed = 30, times = 50, unit = 1)\n",
    "got.mecanum_translate_speed_times(angle = 180, speed = 30, times = 50, unit = 1)\n",
    "got.mecanum_translate_speed_times(angle = -90, speed = 30, times = 50, unit = 1)"
   ]
  },
  {
   "cell_type": "code",
   "execution_count": 8,
   "id": "df55010c-145b-45a7-9293-4296a67646a3",
   "metadata": {},
   "outputs": [],
   "source": [
    "angles = [0, 90, 180, -90]\n",
    "\n",
    "for x in range(4):\n",
    "    got.mecanum_translate_speed_times(angle = angles[x], speed = 30, times = 50, unit = 1)"
   ]
  },
  {
   "cell_type": "code",
   "execution_count": null,
   "id": "b5c307cb-8dd1-49e0-8bfb-e35ff5253b80",
   "metadata": {},
   "outputs": [],
   "source": [
    "#turnin\n",
    "#2 is left, 3 is right\n",
    "got.mecanum_turn_speed_times(turn = 3, speed = 45, times = 90, unit = 2)"
   ]
  },
  {
   "cell_type": "code",
   "execution_count": null,
   "id": "a303da1b-fc48-407d-b85a-dc5c742c6c8b",
   "metadata": {},
   "outputs": [],
   "source": [
    "got.mecanum_translate_speed_times(angle = 0, speed = 30, times = 50, unit = 1)\n",
    "got.mecanum_turn_speed_times(turn = 3, speed = 45, times = 90, unit = 2)\n",
    "got.mecanum_translate_speed_times(angle = 0, speed = 30, times = 50, unit = 1)\n",
    "got.mecanum_turn_speed_times(turn = 3, speed = 45, times = 90, unit = 2)\n",
    "got.mecanum_translate_speed_times(angle = 0, speed = 30, times = 50, unit = 1)\n",
    "got.mecanum_turn_speed_times(turn = 3, speed = 45, times = 90, unit = 2)\n",
    "got.mecanum_translate_speed_times(angle = 0, speed = 30, times = 50, unit = 1)\n",
    "got.mecanum_turn_speed_times(turn = 3, speed = 45, times = 90, unit = 2)"
   ]
  },
  {
   "cell_type": "code",
   "execution_count": null,
   "id": "7826bbfa-acdc-46fc-8e9f-72be9bd3889d",
   "metadata": {},
   "outputs": [],
   "source": [
    "#drawing a square\n",
    "\n",
    "for i in range(4):\n",
    "    got.mecanum_translate_speed_times(angle = 0, speed = 30, times = 50, unit = 1)\n",
    "    got.mecanum_turn_speed_times(turn = 3, speed = 45, times = 90, unit = 2)"
   ]
  },
  {
   "cell_type": "code",
   "execution_count": null,
   "id": "a55cafd6-6916-486b-948c-ec1b74b8674c",
   "metadata": {},
   "outputs": [],
   "source": [
    "#drawing a triangle\n",
    "\n",
    "for i in range(3):\n",
    "    got.mecanum_translate_speed_times(angle = 0, speed = 30, times = 50, unit = 1)\n",
    "    got.mecanum_turn_speed_times(turn = 3, speed = 45, times = 120, unit = 2)"
   ]
  },
  {
   "cell_type": "code",
   "execution_count": null,
   "id": "6f8c46c4-0653-4a0b-8bc5-c5ddfa221580",
   "metadata": {},
   "outputs": [],
   "source": [
    "#drawing a pentagon\n",
    "\n",
    "for i in range(5):\n",
    "    got.mecanum_translate_speed_times(angle = 0, speed = 30, times = 50, unit = 1)\n",
    "    got.mecanum_turn_speed_times(turn = 3, speed = 45, times = 72, unit = 2)"
   ]
  },
  {
   "cell_type": "code",
   "execution_count": null,
   "id": "41a0a525-1fb2-4328-840d-d5e0e5d307a7",
   "metadata": {},
   "outputs": [],
   "source": [
    "#drawing a hexagon\n",
    "\n",
    "for i in range(6):\n",
    "    got.mecanum_translate_speed_times(angle = 0, speed = 30, times = 50, unit = 1)\n",
    "    got.mecanum_turn_speed_times(turn = 3, speed = 45, times = 60, unit = 2)"
   ]
  },
  {
   "cell_type": "code",
   "execution_count": null,
   "id": "ccd2cfbd-bdaa-4a4e-b5e8-072d891b449e",
   "metadata": {},
   "outputs": [],
   "source": [
    "#drawing a octagon\n",
    "\n",
    "for i in range(8):\n",
    "    got.mecanum_translate_speed_times(angle = 0, speed = 30, times = 50, unit = 1)\n",
    "    got.mecanum_turn_speed_times(turn = 3, speed = 45, times = 45, unit = 2)"
   ]
  },
  {
   "cell_type": "markdown",
   "id": "f6d5a155-4c89-424f-afc9-593aa0c0787a",
   "metadata": {},
   "source": [
    "Triangle: 120 x 3 = 360\n",
    "Square: 90 x 4 = 360\n",
    "Pentagon: 72 x 5 = 360\n",
    "Hexagon: 60 x 6 = 360\n",
    "Octagon: 45 x 8 = 360"
   ]
  },
  {
   "cell_type": "code",
   "execution_count": 12,
   "id": "5eb71445-d83d-496d-8b87-93e4fd8035e5",
   "metadata": {},
   "outputs": [
    {
     "ename": "KeyboardInterrupt",
     "evalue": "",
     "output_type": "error",
     "traceback": [
      "\u001b[0;31m---------------------------------------------------------------------------\u001b[0m",
      "\u001b[0;31mKeyboardInterrupt\u001b[0m                         Traceback (most recent call last)",
      "Cell \u001b[0;32mIn[12], line 11\u001b[0m\n\u001b[1;32m      8\u001b[0m         got\u001b[38;5;241m.\u001b[39mmecanum_translate_speed_times(angle \u001b[38;5;241m=\u001b[39m \u001b[38;5;241m0\u001b[39m, speed \u001b[38;5;241m=\u001b[39m \u001b[38;5;241m30\u001b[39m, times \u001b[38;5;241m=\u001b[39m \u001b[38;5;241m50\u001b[39m, unit \u001b[38;5;241m=\u001b[39m \u001b[38;5;241m1\u001b[39m)\n\u001b[1;32m      9\u001b[0m         got\u001b[38;5;241m.\u001b[39mmecanum_turn_speed_times(turn \u001b[38;5;241m=\u001b[39m \u001b[38;5;241m3\u001b[39m, speed \u001b[38;5;241m=\u001b[39m \u001b[38;5;241m45\u001b[39m, times \u001b[38;5;241m=\u001b[39m turn_angle, unit \u001b[38;5;241m=\u001b[39m \u001b[38;5;241m2\u001b[39m)\n\u001b[0;32m---> 11\u001b[0m draw_shape(\u001b[38;5;241m3\u001b[39m)\n",
      "Cell \u001b[0;32mIn[12], line 8\u001b[0m, in \u001b[0;36mdraw_shape\u001b[0;34m(sides)\u001b[0m\n\u001b[1;32m      5\u001b[0m \u001b[38;5;28;01mfor\u001b[39;00m i \u001b[38;5;129;01min\u001b[39;00m \u001b[38;5;28mrange\u001b[39m(sides):\n\u001b[1;32m      6\u001b[0m     turn_angle \u001b[38;5;241m=\u001b[39m \u001b[38;5;28mint\u001b[39m(\u001b[38;5;241m360\u001b[39m \u001b[38;5;241m/\u001b[39m sides)\n\u001b[0;32m----> 8\u001b[0m     got\u001b[38;5;241m.\u001b[39mmecanum_translate_speed_times(angle \u001b[38;5;241m=\u001b[39m \u001b[38;5;241m0\u001b[39m, speed \u001b[38;5;241m=\u001b[39m \u001b[38;5;241m30\u001b[39m, times \u001b[38;5;241m=\u001b[39m \u001b[38;5;241m50\u001b[39m, unit \u001b[38;5;241m=\u001b[39m \u001b[38;5;241m1\u001b[39m)\n\u001b[1;32m      9\u001b[0m     got\u001b[38;5;241m.\u001b[39mmecanum_turn_speed_times(turn \u001b[38;5;241m=\u001b[39m \u001b[38;5;241m3\u001b[39m, speed \u001b[38;5;241m=\u001b[39m \u001b[38;5;241m45\u001b[39m, times \u001b[38;5;241m=\u001b[39m turn_angle, unit \u001b[38;5;241m=\u001b[39m \u001b[38;5;241m2\u001b[39m)\n",
      "File \u001b[0;32m~/anaconda3/lib/python3.11/site-packages/ugot/ugot.py:818\u001b[0m, in \u001b[0;36mUGOT.mecanum_translate_speed_times\u001b[0;34m(self, angle, speed, times, unit)\u001b[0m\n\u001b[1;32m    816\u001b[0m     \u001b[38;5;28mself\u001b[39m\u001b[38;5;241m.\u001b[39mMODEL\u001b[38;5;241m.\u001b[39mmecanum_move_control(linear_speed\u001b[38;5;241m=\u001b[39mspeed, direction\u001b[38;5;241m=\u001b[39mangle, time\u001b[38;5;241m=\u001b[39mtimes)\n\u001b[1;32m    817\u001b[0m \u001b[38;5;28;01melif\u001b[39;00m unit \u001b[38;5;241m==\u001b[39m E_Model\u001b[38;5;241m.\u001b[39mUnit\u001b[38;5;241m.\u001b[39mmileage:\n\u001b[0;32m--> 818\u001b[0m     \u001b[38;5;28mself\u001b[39m\u001b[38;5;241m.\u001b[39mMODEL\u001b[38;5;241m.\u001b[39mmecanum_move_control(linear_speed\u001b[38;5;241m=\u001b[39mspeed, direction\u001b[38;5;241m=\u001b[39mangle, mileage\u001b[38;5;241m=\u001b[39mtimes)\n\u001b[1;32m    819\u001b[0m \u001b[38;5;28;01melse\u001b[39;00m:\n\u001b[1;32m    820\u001b[0m     \u001b[38;5;28mself\u001b[39m\u001b[38;5;241m.\u001b[39m__print_move_unit_m_error_msg(sys\u001b[38;5;241m.\u001b[39m_getframe()\u001b[38;5;241m.\u001b[39mf_code\u001b[38;5;241m.\u001b[39mco_name, unit)\n",
      "File \u001b[0;32m~/anaconda3/lib/python3.11/site-packages/ugot/src/model_client.py:63\u001b[0m, in \u001b[0;36mModelClient.mecanum_move_control\u001b[0;34m(self, linear_speed, direction, rotate_speed, time, mileage, target_angle, client_type)\u001b[0m\n\u001b[1;32m     60\u001b[0m \u001b[38;5;28;01mdef\u001b[39;00m \u001b[38;5;21mmecanum_move_control\u001b[39m(\u001b[38;5;28mself\u001b[39m, linear_speed\u001b[38;5;241m=\u001b[39m\u001b[38;5;241m0\u001b[39m, direction\u001b[38;5;241m=\u001b[39m\u001b[38;5;241m0\u001b[39m, rotate_speed\u001b[38;5;241m=\u001b[39m\u001b[38;5;241m0\u001b[39m, time\u001b[38;5;241m=\u001b[39m\u001b[38;5;241m0\u001b[39m, mileage\u001b[38;5;241m=\u001b[39m\u001b[38;5;241m0\u001b[39m, target_angle\u001b[38;5;241m=\u001b[39m\u001b[38;5;241m0\u001b[39m,\n\u001b[1;32m     61\u001b[0m                            client_type\u001b[38;5;241m=\u001b[39m\u001b[38;5;241m0\u001b[39m):\n\u001b[0;32m---> 63\u001b[0m     response \u001b[38;5;241m=\u001b[39m \u001b[38;5;28mself\u001b[39m\u001b[38;5;241m.\u001b[39mmodel_move_control(linear_speed, direction, rotate_speed, time, mileage, target_angle,\n\u001b[1;32m     64\u001b[0m                                         model_type\u001b[38;5;241m=\u001b[39mMODEL_TYPE_MECANUM, client_type\u001b[38;5;241m=\u001b[39mclient_type)\n\u001b[1;32m     65\u001b[0m     \u001b[38;5;28;01mreturn\u001b[39;00m response\n",
      "File \u001b[0;32m~/anaconda3/lib/python3.11/site-packages/ugot/src/model_client.py:56\u001b[0m, in \u001b[0;36mModelClient.model_move_control\u001b[0;34m(self, linear_speed, direction, rotate_speed, time, mileage, target_angle, model_type, client_type)\u001b[0m\n\u001b[1;32m     53\u001b[0m input_data\u001b[38;5;241m.\u001b[39mparams\u001b[38;5;241m.\u001b[39mmileage \u001b[38;5;241m=\u001b[39m mileage\n\u001b[1;32m     54\u001b[0m input_data\u001b[38;5;241m.\u001b[39mparams\u001b[38;5;241m.\u001b[39mtarget_angle \u001b[38;5;241m=\u001b[39m target_angle\n\u001b[0;32m---> 56\u001b[0m response \u001b[38;5;241m=\u001b[39m \u001b[38;5;28mself\u001b[39m\u001b[38;5;241m.\u001b[39mclient\u001b[38;5;241m.\u001b[39mmodelCommonControl(input_data)\n\u001b[1;32m     57\u001b[0m \u001b[38;5;28;01mreturn\u001b[39;00m response\n",
      "File \u001b[0;32m~/anaconda3/lib/python3.11/site-packages/grpc/_channel.py:1178\u001b[0m, in \u001b[0;36m_UnaryUnaryMultiCallable.__call__\u001b[0;34m(self, request, timeout, metadata, credentials, wait_for_ready, compression)\u001b[0m\n\u001b[1;32m   1166\u001b[0m \u001b[38;5;28;01mdef\u001b[39;00m \u001b[38;5;21m__call__\u001b[39m(\n\u001b[1;32m   1167\u001b[0m     \u001b[38;5;28mself\u001b[39m,\n\u001b[1;32m   1168\u001b[0m     request: Any,\n\u001b[0;32m   (...)\u001b[0m\n\u001b[1;32m   1173\u001b[0m     compression: Optional[grpc\u001b[38;5;241m.\u001b[39mCompression] \u001b[38;5;241m=\u001b[39m \u001b[38;5;28;01mNone\u001b[39;00m,\n\u001b[1;32m   1174\u001b[0m ) \u001b[38;5;241m-\u001b[39m\u001b[38;5;241m>\u001b[39m Any:\n\u001b[1;32m   1175\u001b[0m     (\n\u001b[1;32m   1176\u001b[0m         state,\n\u001b[1;32m   1177\u001b[0m         call,\n\u001b[0;32m-> 1178\u001b[0m     ) \u001b[38;5;241m=\u001b[39m \u001b[38;5;28mself\u001b[39m\u001b[38;5;241m.\u001b[39m_blocking(\n\u001b[1;32m   1179\u001b[0m         request, timeout, metadata, credentials, wait_for_ready, compression\n\u001b[1;32m   1180\u001b[0m     )\n\u001b[1;32m   1181\u001b[0m     \u001b[38;5;28;01mreturn\u001b[39;00m _end_unary_response_blocking(state, call, \u001b[38;5;28;01mFalse\u001b[39;00m, \u001b[38;5;28;01mNone\u001b[39;00m)\n",
      "File \u001b[0;32m~/anaconda3/lib/python3.11/site-packages/grpc/_channel.py:1162\u001b[0m, in \u001b[0;36m_UnaryUnaryMultiCallable._blocking\u001b[0;34m(self, request, timeout, metadata, credentials, wait_for_ready, compression)\u001b[0m\n\u001b[1;32m   1145\u001b[0m state\u001b[38;5;241m.\u001b[39mtarget \u001b[38;5;241m=\u001b[39m _common\u001b[38;5;241m.\u001b[39mdecode(\u001b[38;5;28mself\u001b[39m\u001b[38;5;241m.\u001b[39m_target)\n\u001b[1;32m   1146\u001b[0m call \u001b[38;5;241m=\u001b[39m \u001b[38;5;28mself\u001b[39m\u001b[38;5;241m.\u001b[39m_channel\u001b[38;5;241m.\u001b[39msegregated_call(\n\u001b[1;32m   1147\u001b[0m     cygrpc\u001b[38;5;241m.\u001b[39mPropagationConstants\u001b[38;5;241m.\u001b[39mGRPC_PROPAGATE_DEFAULTS,\n\u001b[1;32m   1148\u001b[0m     \u001b[38;5;28mself\u001b[39m\u001b[38;5;241m.\u001b[39m_method,\n\u001b[0;32m   (...)\u001b[0m\n\u001b[1;32m   1160\u001b[0m     \u001b[38;5;28mself\u001b[39m\u001b[38;5;241m.\u001b[39m_registered_call_handle,\n\u001b[1;32m   1161\u001b[0m )\n\u001b[0;32m-> 1162\u001b[0m event \u001b[38;5;241m=\u001b[39m call\u001b[38;5;241m.\u001b[39mnext_event()\n\u001b[1;32m   1163\u001b[0m _handle_event(event, state, \u001b[38;5;28mself\u001b[39m\u001b[38;5;241m.\u001b[39m_response_deserializer)\n\u001b[1;32m   1164\u001b[0m \u001b[38;5;28;01mreturn\u001b[39;00m state, call\n",
      "File \u001b[0;32msrc/python/grpcio/grpc/_cython/_cygrpc/channel.pyx.pxi:388\u001b[0m, in \u001b[0;36mgrpc._cython.cygrpc.SegregatedCall.next_event\u001b[0;34m()\u001b[0m\n",
      "File \u001b[0;32msrc/python/grpcio/grpc/_cython/_cygrpc/channel.pyx.pxi:213\u001b[0m, in \u001b[0;36mgrpc._cython.cygrpc._next_call_event\u001b[0;34m()\u001b[0m\n",
      "File \u001b[0;32m~/anaconda3/lib/python3.11/threading.py:271\u001b[0m, in \u001b[0;36mCondition.__enter__\u001b[0;34m(self)\u001b[0m\n\u001b[1;32m    268\u001b[0m     \u001b[38;5;28mself\u001b[39m\u001b[38;5;241m.\u001b[39m_lock\u001b[38;5;241m.\u001b[39m_at_fork_reinit()\n\u001b[1;32m    269\u001b[0m     \u001b[38;5;28mself\u001b[39m\u001b[38;5;241m.\u001b[39m_waiters\u001b[38;5;241m.\u001b[39mclear()\n\u001b[0;32m--> 271\u001b[0m \u001b[38;5;28;01mdef\u001b[39;00m \u001b[38;5;21m__enter__\u001b[39m(\u001b[38;5;28mself\u001b[39m):\n\u001b[1;32m    272\u001b[0m     \u001b[38;5;28;01mreturn\u001b[39;00m \u001b[38;5;28mself\u001b[39m\u001b[38;5;241m.\u001b[39m_lock\u001b[38;5;241m.\u001b[39m\u001b[38;5;21m__enter__\u001b[39m()\n\u001b[1;32m    274\u001b[0m \u001b[38;5;28;01mdef\u001b[39;00m \u001b[38;5;21m__exit__\u001b[39m(\u001b[38;5;28mself\u001b[39m, \u001b[38;5;241m*\u001b[39margs):\n",
      "\u001b[0;31mKeyboardInterrupt\u001b[0m: "
     ]
    }
   ],
   "source": [
    "def draw_shape(sides):\n",
    "    if sides < 3:\n",
    "        raise ValueError(\"The number of sides must be 3 or more to form a valid shape\")\n",
    "    \n",
    "    for i in range(sides):\n",
    "        turn_angle = int(360 / sides)\n",
    "        \n",
    "        got.mecanum_translate_speed_times(angle = 0, speed = 30, times = 50, unit = 1)\n",
    "        got.mecanum_turn_speed_times(turn = 3, speed = 45, times = turn_angle, unit = 2)\n",
    "\n",
    "draw_shape(3)"
   ]
  },
  {
   "cell_type": "code",
   "execution_count": null,
   "id": "4855c302-4fd5-42db-8d65-3d95737c6a8e",
   "metadata": {},
   "outputs": [],
   "source": []
  }
 ],
 "metadata": {
  "kernelspec": {
   "display_name": "Python [conda env:base] *",
   "language": "python",
   "name": "conda-base-py"
  },
  "language_info": {
   "codemirror_mode": {
    "name": "ipython",
    "version": 3
   },
   "file_extension": ".py",
   "mimetype": "text/x-python",
   "name": "python",
   "nbconvert_exporter": "python",
   "pygments_lexer": "ipython3",
   "version": "3.11.7"
  }
 },
 "nbformat": 4,
 "nbformat_minor": 5
}
