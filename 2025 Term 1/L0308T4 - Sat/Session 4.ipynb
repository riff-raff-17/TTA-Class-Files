{
 "cells": [
  {
   "cell_type": "code",
   "execution_count": null,
   "id": "f4ddba38-7990-4512-8768-e063131f50e4",
   "metadata": {},
   "outputs": [],
   "source": [
    "#Import UGOT packages\n",
    "from ugot import ugot\n",
    "\n",
    "#Rename functions\n",
    "got = ugot.UGOT()\n",
    "\n",
    "#Initialize UGOT\n",
    "got.initialize('192.168.1.235')"
   ]
  },
  {
   "cell_type": "code",
   "execution_count": 88,
   "id": "cfd56c9c-fb6f-4ea6-a033-11a11da3bb49",
   "metadata": {},
   "outputs": [],
   "source": [
    "got.transform_adaption_control(False)\n",
    "\n",
    "#Normal position\n",
    "#Arm (1: left front arm; 2: left rear arm; 3: right rear arm; 4: right front arm)\n",
    "def normal():\n",
    "    got.transform_arm_control(joint=1, position=-40, time=500) #NEGATIVE IS DOWN\n",
    "    got.transform_arm_control(joint=4, position=40, time=500) #POSITIVE IS DOWN\n",
    "    got.transform_arm_control(joint=2, position=40, time=500) #POSITIVE IS DOWN\n",
    "    got.transform_arm_control(joint=3, position=-40, time=500) #NEGATIVE IS DOWN\n",
    "\n",
    "def front_up():\n",
    "    got.transform_arm_control(joint=1, position=40, time=500) #NEGATIVE IS DOWN\n",
    "    got.transform_arm_control(joint=4, position=-40, time=500) #POSITIVE IS DOWN\n",
    "    got.transform_arm_control(joint=2, position=40, time=500) #POSITIVE IS DOWN\n",
    "    got.transform_arm_control(joint=3, position=-40, time=500) #NEGATIVE IS DOWN\n",
    "\n",
    "def back_up():\n",
    "    got.transform_arm_control(joint=1, position=-40, time=500) #NEGATIVE IS DOWN\n",
    "    got.transform_arm_control(joint=4, position=40, time=500) #POSITIVE IS DOWN\n",
    "    got.transform_arm_control(joint=2, position=-40, time=500) #POSITIVE IS DOWN\n",
    "    got.transform_arm_control(joint=3, position=40, time=500) #NEGATIVE IS DOWN\n",
    "\n",
    "def climb_obstacle():\n",
    "    got.transform_adaption_control(False)\n",
    "\n",
    "    front_up()\n",
    "    got.transform_move_speed_times(direction=0, speed=30, times=20, unit=1)\n",
    "    normal()\n",
    "    got.transform_move_speed_times(direction=0, speed=30, times=20, unit=1)\n",
    "    back_up()\n",
    "    got.transform_move_speed_times(direction=0, speed=30, times=20, unit=1)\n",
    "    normal()\n",
    "    got.transform_move_speed_times(direction=0, speed=30, times=20, unit=1)\n",
    "    got.transform_move_speed_times(direction=0, speed=30, times=20, unit=1)\n",
    "\n",
    "def under_bridge():\n",
    "    got.transform_arm_control(joint=1, position=-25, time=500) #NEGATIVE IS DOWN\n",
    "    got.transform_arm_control(joint=4, position=25, time=500) #POSITIVE IS DOWN\n",
    "    got.transform_arm_control(joint=2, position=25, time=500) #POSITIVE IS DOWN\n",
    "    got.transform_arm_control(joint=3, position=-25, time=500) #NEGATIVE IS DOWN\n",
    "    \n",
    "    got.transform_move_speed_times(direction=0, speed=30, times=100, unit=1) \n",
    "\n",
    "    got.transform_arm_control(joint=1, position=-90, time=500) #NEGATIVE IS DOWN\n",
    "    got.transform_arm_control(joint=4, position=90, time=500) #POSITIVE IS DOWN\n",
    "    got.transform_arm_control(joint=2, position=90, time=500) #POSITIVE IS DOWN\n",
    "    got.transform_arm_control(joint=3, position=-90, time=500) #NEGATIVE IS DOWN\n",
    "\n",
    "climb_obstacle()\n",
    "under_bridge()"
   ]
  },
  {
   "cell_type": "code",
   "execution_count": 76,
   "id": "7a1b2f57-26be-4ec4-90bf-a1cdf2f8a5e5",
   "metadata": {},
   "outputs": [],
   "source": [
    "normal()"
   ]
  },
  {
   "cell_type": "code",
   "execution_count": null,
   "id": "6765d2e2-aa14-4600-8495-e6b401db26bb",
   "metadata": {},
   "outputs": [],
   "source": [
    "front_up()"
   ]
  },
  {
   "cell_type": "code",
   "execution_count": null,
   "id": "24aa6cdd-ce44-4f79-8d00-20a9d212a391",
   "metadata": {},
   "outputs": [],
   "source": [
    "back_up()"
   ]
  },
  {
   "cell_type": "code",
   "execution_count": null,
   "id": "af80d07d-3dc5-43d7-83c4-43eff1c242bd",
   "metadata": {},
   "outputs": [],
   "source": [
    "got.transform_move_speed_times(direction=0, speed=30, times=20, unit=1)"
   ]
  },
  {
   "cell_type": "code",
   "execution_count": 106,
   "id": "f4f81168-bb0d-4c22-b26e-cdd9403ee787",
   "metadata": {},
   "outputs": [],
   "source": []
  },
  {
   "cell_type": "code",
   "execution_count": null,
   "id": "7ddbeb79-b9e9-4c67-9dc0-8f3484cca8f2",
   "metadata": {},
   "outputs": [],
   "source": []
  }
 ],
 "metadata": {
  "kernelspec": {
   "display_name": "Python [conda env:base] *",
   "language": "python",
   "name": "conda-base-py"
  },
  "language_info": {
   "codemirror_mode": {
    "name": "ipython",
    "version": 3
   },
   "file_extension": ".py",
   "mimetype": "text/x-python",
   "name": "python",
   "nbconvert_exporter": "python",
   "pygments_lexer": "ipython3",
   "version": "3.11.7"
  }
 },
 "nbformat": 4,
 "nbformat_minor": 5
}
