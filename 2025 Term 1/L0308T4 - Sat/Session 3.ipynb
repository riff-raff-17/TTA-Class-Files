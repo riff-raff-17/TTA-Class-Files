{
 "cells": [
  {
   "cell_type": "code",
   "execution_count": 2,
   "id": "5181bf6a-0fb7-4542-bd35-845e780a2005",
   "metadata": {},
   "outputs": [
    {
     "name": "stdout",
     "output_type": "stream",
     "text": [
      "192.168.1.191:50051\n"
     ]
    }
   ],
   "source": [
    "#import all of the UGOT functions\n",
    "from ugot import ugot\n",
    "\n",
    "#renaming the UGOT functions\n",
    "got = ugot.UGOT()\n",
    "\n",
    "#connect to the UGOT\n",
    "got.initialize('192.168.1.191')"
   ]
  },
  {
   "cell_type": "code",
   "execution_count": null,
   "id": "ecc6c2d8-8a16-4286-a78d-9d074682d81c",
   "metadata": {},
   "outputs": [],
   "source": [
    "#move forward 50 cm\n",
    "got.mecanum_translate_speed_times(angle = 0, speed = 25, times = 50, unit = 1)\n",
    "got.mecanum_translate_speed_times(angle = 90, speed = 25, times = 50, unit = 1)\n",
    "got.mecanum_translate_speed_times(angle = 180, speed = 25, times = 50, unit = 1)\n",
    "got.mecanum_translate_speed_times(angle = -90, speed = 25, times = 50, unit = 1)"
   ]
  },
  {
   "cell_type": "code",
   "execution_count": 4,
   "id": "d60ff3df-cbc1-49de-974e-cd25a9110c86",
   "metadata": {},
   "outputs": [
    {
     "name": "stdout",
     "output_type": "stream",
     "text": [
      "0\n",
      "1\n",
      "2\n",
      "3\n"
     ]
    }
   ],
   "source": [
    "angles = [0, 90, 180, -90]\n",
    "\n",
    "for i in range(4):\n",
    "    got.mecanum_translate_speed_times(angle = angles[i], speed = 25, times = 50, unit = 1)"
   ]
  },
  {
   "cell_type": "code",
   "execution_count": null,
   "id": "00e690f8-da1e-4380-953e-0ed89fff0119",
   "metadata": {},
   "outputs": [],
   "source": [
    "#turning: turn (int) – Direction (2: Left turn; 3: Right turn)\n",
    "#speed (int) – [5-280] Speed in degrees per second\n",
    "#times (int) – [0-360] Duration or range\n",
    "#unit (int) – Unit type (0: Move in seconds; 2: Move in degrees)\n",
    "got.mecanum_turn_speed_times(turn = 3, speed = 45, times = 90, unit = 2)"
   ]
  },
  {
   "cell_type": "code",
   "execution_count": null,
   "id": "f7949a81-e55d-43cb-8c57-f72b062f81ea",
   "metadata": {},
   "outputs": [],
   "source": [
    "for i in range(4):\n",
    "    got.mecanum_translate_speed_times(angle = x0, speed = 25, times = 50, unit = 1)\n",
    "    got.mecanum_turn_speed_times(turn = 3, speed = 45, times = 90, unit = 2)"
   ]
  },
  {
   "cell_type": "code",
   "execution_count": null,
   "id": "953c1a80-4118-4f2f-b49d-03fb7af03697",
   "metadata": {},
   "outputs": [],
   "source": [
    "def draw_square(sides):\n",
    "    angles = [0, 90, 180, -90]\n",
    "    \n",
    "    for i in range(sides):\n",
    "        got.mecanum_translate_speed_times(angle = angles[i % 4], speed = 25, times = 50, unit = 1)\n",
    "\n",
    "square()"
   ]
  },
  {
   "cell_type": "code",
   "execution_count": 10,
   "id": "9de1a9a8-df09-481e-aad7-208afdc7bd4a",
   "metadata": {},
   "outputs": [
    {
     "name": "stdout",
     "output_type": "stream",
     "text": [
      "0\n",
      "90\n",
      "180\n",
      "-90\n",
      "0\n",
      "90\n"
     ]
    }
   ],
   "source": [
    "angles = [0, 90, 180, -90]\n",
    "\n",
    "for i in range(6):\n",
    "    print(angles[i % 4])"
   ]
  },
  {
   "cell_type": "code",
   "execution_count": null,
   "id": "68b0778e-a09a-4d3a-b799-3b7579bf1fea",
   "metadata": {},
   "outputs": [],
   "source": []
  }
 ],
 "metadata": {
  "kernelspec": {
   "display_name": "Python [conda env:base] *",
   "language": "python",
   "name": "conda-base-py"
  },
  "language_info": {
   "codemirror_mode": {
    "name": "ipython",
    "version": 3
   },
   "file_extension": ".py",
   "mimetype": "text/x-python",
   "name": "python",
   "nbconvert_exporter": "python",
   "pygments_lexer": "ipython3",
   "version": "3.11.7"
  }
 },
 "nbformat": 4,
 "nbformat_minor": 5
}
