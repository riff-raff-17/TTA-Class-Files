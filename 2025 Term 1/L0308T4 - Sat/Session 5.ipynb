{
 "cells": [
  {
   "cell_type": "code",
   "execution_count": 109,
   "id": "a258b163-101b-43d0-9e9f-af8dd8bb590e",
   "metadata": {},
   "outputs": [
    {
     "name": "stdout",
     "output_type": "stream",
     "text": [
      "192.168.1.166:50051\n"
     ]
    }
   ],
   "source": [
    "from ugot import ugot\n",
    "got = ugot.UGOT()\n",
    "got.initialize('192.168.1.166')"
   ]
  },
  {
   "cell_type": "code",
   "execution_count": null,
   "id": "3cc8b6d7-74bb-4552-866a-2be54b6365e7",
   "metadata": {},
   "outputs": [],
   "source": [
    "import time\n",
    "\n",
    "while True:\n",
    "    distance = got.read_distance_data(51)\n",
    "    if distance == 250:\n",
    "        got.mecanum_translate_speed(angle=0, speed=30)\n",
    "        #print(f\"\\rDistance: {distance} cm \\nMax!\", end = \"\", flush = True)\n",
    "        got.show_light_rgb(lights=[0,1,2,3], red=0, green=255, blue=0)\n",
    "    elif distance < 20:\n",
    "        got.mecanum_stop()\n",
    "        got.show_light_rgb(lights=[0,1,2,3], red=255, green=0, blue=0)\n",
    "        got.play_sound('laser', wait=True)\n",
    "    else:\n",
    "        #print(f\"\\rDistance: {distance} cm\", end = \"\", flush = True)\n",
    "        got.mecanum_translate_speed(angle=0, speed=30)\n",
    "        got.turn_off_lights() "
   ]
  },
  {
   "cell_type": "code",
   "execution_count": 69,
   "id": "f4ed8fec-1b46-4cba-8308-4e3fdfa1b508",
   "metadata": {},
   "outputs": [],
   "source": [
    "        for i in range(5):\n",
    "            got.show_light_rgb(lights=[0,2], red=255, green=0, blue=0)\n",
    "            got.show_light_rgb(lights=[1,3], red=0, green=0, blue=255)\n",
    "            time.sleep(0.1)\n",
    "            got.show_light_rgb(lights=[1,3], red=255, green=0, blue=0)\n",
    "            got.show_light_rgb(lights=[0,2], red=0, green=0, blue=255)"
   ]
  },
  {
   "cell_type": "code",
   "execution_count": 97,
   "id": "7ecc8488-29f0-4f16-b387-2a61e805a73a",
   "metadata": {},
   "outputs": [],
   "source": [
    "got.play_sound('cat', wait=True)"
   ]
  },
  {
   "cell_type": "code",
   "execution_count": null,
   "id": "39b03f3d-610a-49c6-bc35-7252b5cbcfd0",
   "metadata": {},
   "outputs": [],
   "source": []
  }
 ],
 "metadata": {
  "kernelspec": {
   "display_name": "Python 3 (ipykernel)",
   "language": "python",
   "name": "python3"
  },
  "language_info": {
   "codemirror_mode": {
    "name": "ipython",
    "version": 3
   },
   "file_extension": ".py",
   "mimetype": "text/x-python",
   "name": "python",
   "nbconvert_exporter": "python",
   "pygments_lexer": "ipython3",
   "version": "3.11.11"
  }
 },
 "nbformat": 4,
 "nbformat_minor": 5
}
