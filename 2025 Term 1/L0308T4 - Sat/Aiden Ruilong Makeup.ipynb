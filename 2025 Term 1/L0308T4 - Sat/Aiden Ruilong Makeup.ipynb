{
 "cells": [
  {
   "cell_type": "code",
   "execution_count": 25,
   "id": "4405d32b-4c18-468f-8a1e-008a548ed953",
   "metadata": {},
   "outputs": [
    {
     "name": "stdout",
     "output_type": "stream",
     "text": [
      "192.168.1.199:50051\n"
     ]
    }
   ],
   "source": [
    "from ugot import ugot\n",
    "got = ugot.UGOT()\n",
    "got.initialize('192.168.1.199')"
   ]
  },
  {
   "cell_type": "code",
   "execution_count": 33,
   "id": "d09c9623-3fe8-4633-86f5-d22fdb85ed42",
   "metadata": {},
   "outputs": [],
   "source": [
    "def front_up():\n",
    "    #Turn OFF AI adaption \n",
    "    got.transform_adaption_control(False)\n",
    "\n",
    "    #Arm (1: left front arm; 2: left rear arm; 3: right rear arm; 4: right front arm)\n",
    "    got.transform_arm_control(joint = 1, position = 60, time = 500)\n",
    "    got.transform_arm_control(joint = 4, position = -60, time = 500)\n",
    "    got.transform_arm_control(joint = 2, position = 60, time = 500)\n",
    "    got.transform_arm_control(joint = 3, position = -60, time = 500)\n",
    "\n",
    "def reset():\n",
    "    #Turn OFF AI adaption \n",
    "    got.transform_adaption_control(False)\n",
    "\n",
    "    #Arm (1: left front arm; 2: left rear arm; 3: right rear arm; 4: right front arm)\n",
    "    got.transform_arm_control(joint = 1, position = -60, time = 500)\n",
    "    got.transform_arm_control(joint = 4, position = 60, time = 500)\n",
    "    got.transform_arm_control(joint = 2, position = 60, time = 500)\n",
    "    got.transform_arm_control(joint = 3, position = -60, time = 500)\n",
    "\n",
    "def back_up():\n",
    "    #Turn OFF AI adaption \n",
    "    got.transform_adaption_control(False)\n",
    "\n",
    "    #Arm (1: left front arm; 2: left rear arm; 3: right rear arm; 4: right front arm)\n",
    "    got.transform_arm_control(joint = 1, position = -60, time = 500)\n",
    "    got.transform_arm_control(joint = 4, position = 60, time = 500)\n",
    "    got.transform_arm_control(joint = 2, position = -60, time = 500)\n",
    "    got.transform_arm_control(joint = 3, position = 60, time = 500)\n",
    "\n",
    "#forward is easy\n",
    "#direction: 0 is forward, unit: 1 is cm\n",
    "def move_forward():\n",
    "    got.transform_move_speed_times(direction=0, speed=30, times=20, unit=1)\n",
    "\n",
    "#call it pls\n",
    "reset()"
   ]
  },
  {
   "cell_type": "code",
   "execution_count": null,
   "id": "5aece503-fb1b-43d8-a612-5a1112da8d69",
   "metadata": {},
   "outputs": [],
   "source": [
    "front_up()\n",
    "move_forward()\n",
    "reset()\n",
    "move_forward()\n",
    "back_up()\n",
    "move_forward()"
   ]
  }
 ],
 "metadata": {
  "kernelspec": {
   "display_name": "Python [conda env:base] *",
   "language": "python",
   "name": "conda-base-py"
  },
  "language_info": {
   "codemirror_mode": {
    "name": "ipython",
    "version": 3
   },
   "file_extension": ".py",
   "mimetype": "text/x-python",
   "name": "python",
   "nbconvert_exporter": "python",
   "pygments_lexer": "ipython3",
   "version": "3.11.7"
  }
 },
 "nbformat": 4,
 "nbformat_minor": 5
}
