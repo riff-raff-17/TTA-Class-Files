{
 "cells": [
  {
   "cell_type": "code",
   "execution_count": null,
   "id": "da35c9b7-012d-4137-8c65-cb08973f5af8",
   "metadata": {},
   "outputs": [],
   "source": [
    "from ugot import ugot\n",
    "import time\n",
    "got = ugot.UGOT()\n",
    "got.initialize('192.168.1.190')"
   ]
  },
  {
   "cell_type": "code",
   "execution_count": null,
   "id": "5d3193f9-22ee-45e7-8726-16f0aff7bba4",
   "metadata": {},
   "outputs": [],
   "source": [
    "#open da clamp\n",
    "got.mechanical_clamp_release()"
   ]
  },
  {
   "cell_type": "code",
   "execution_count": 197,
   "id": "b88a1177-4dfe-4f10-a500-acd702349b88",
   "metadata": {},
   "outputs": [
    {
     "name": "stdin",
     "output_type": "stream",
     "text": [
      "Enter your text here > ddd\n"
     ]
    }
   ],
   "source": []
  },
  {
   "cell_type": "code",
   "execution_count": 66,
   "id": "b0f143be-960d-40d8-92f3-644b2804e4e3",
   "metadata": {},
   "outputs": [],
   "source": [
    "#close da clamp\n",
    "got.mechanical_clamp_close()"
   ]
  },
  {
   "cell_type": "code",
   "execution_count": 70,
   "id": "17901cd7-dcba-4a8b-b988-03f5f04268f7",
   "metadata": {},
   "outputs": [],
   "source": [
    "#reset the position of my arms\n",
    "got.mechanical_arms_restory()"
   ]
  },
  {
   "cell_type": "code",
   "execution_count": 132,
   "id": "cb8f9a8a-5315-4364-abea-6ace688de3e0",
   "metadata": {},
   "outputs": [],
   "source": [
    "def clapping():\n",
    "    for i in range(20):\n",
    "        got.mechanical_clamp_release()\n",
    "        time.sleep(0.1)\n",
    "        got.mechanical_clamp_close()\n",
    "        time.sleep(0.1)"
   ]
  },
  {
   "cell_type": "code",
   "execution_count": 181,
   "id": "8ee11af1-68fb-418f-96d8-ed96e65db19b",
   "metadata": {},
   "outputs": [],
   "source": [
    "def pick_up():\n",
    "    got.mechanical_clamp_release()\n",
    "    time.sleep(1)\n",
    "    got.mechanical_joint_control(angle1=0, angle2=-25, angle3=-25, duration=200)\n",
    "    time.sleep(1)\n",
    "    got.mechanical_clamp_close()\n",
    "    time.sleep(1)\n",
    "    got.mechanical_joint_control(angle1=0, angle2=45, angle3=45, duration=200)"
   ]
  },
  {
   "cell_type": "code",
   "execution_count": 193,
   "id": "906eab8f-3dde-4e07-b1a2-a4f6caeeb41b",
   "metadata": {},
   "outputs": [],
   "source": [
    "distance = got.read_distance_data(21)\n",
    "got.mechanical_arms_restory()\n",
    "\n",
    "while distance > 20:\n",
    "    got.mecanum_translate_speed(angle=0, speed=15)\n",
    "    distance = got.read_distance_data(21)\n",
    "\n",
    "got.mecanum_stop()\n",
    "\n",
    "pick_up()"
   ]
  },
  {
   "cell_type": "code",
   "execution_count": 350,
   "id": "9252ca4f-2f9f-40df-9b14-7fb5e33410b1",
   "metadata": {},
   "outputs": [
    {
     "data": {
      "text/plain": [
       "1.202"
      ]
     },
     "execution_count": 350,
     "metadata": {},
     "output_type": "execute_result"
    }
   ],
   "source": [
    "import random\n",
    "\n",
    "sides = 'mana mana mana reroll x x'.split()\n",
    "rerolls = 2\n",
    "mana = 0\n",
    "\n",
    "trials = []\n",
    "\n",
    "for i in range(1000):\n",
    "\n",
    "    rerolls = 2\n",
    "    mana = 0\n",
    "    \n",
    "    while rerolls > 0:\n",
    "        roll = random.choice(sides)\n",
    "        rerolls -= 1\n",
    "        if roll == 'mana':\n",
    "            mana += 1\n",
    "        elif roll == 'reroll':\n",
    "            rerolls += 1\n",
    "\n",
    "    trials.append(mana)\n",
    "\n",
    "sum(trials) / float(len(trials))"
   ]
  },
  {
   "cell_type": "code",
   "execution_count": 204,
   "id": "537b4d1d-2a57-4052-bfc3-13dea1fce7c9",
   "metadata": {},
   "outputs": [
    {
     "data": {
      "text/plain": [
       "'x'"
      ]
     },
     "execution_count": 204,
     "metadata": {},
     "output_type": "execute_result"
    }
   ],
   "source": [
    "random.choice(sides)"
   ]
  },
  {
   "cell_type": "code",
   "execution_count": null,
   "id": "1a1f4a6a-cda4-4f16-8d93-373122690336",
   "metadata": {},
   "outputs": [],
   "source": []
  },
  {
   "cell_type": "code",
   "execution_count": null,
   "id": "5e03384b-2977-44c5-a1d8-8ca3eda5167f",
   "metadata": {},
   "outputs": [],
   "source": []
  }
 ],
 "metadata": {
  "kernelspec": {
   "display_name": "Python [conda env:TTA]",
   "language": "python",
   "name": "conda-env-TTA-py"
  },
  "language_info": {
   "codemirror_mode": {
    "name": "ipython",
    "version": 3
   },
   "file_extension": ".py",
   "mimetype": "text/x-python",
   "name": "python",
   "nbconvert_exporter": "python",
   "pygments_lexer": "ipython3",
   "version": "3.11.11"
  }
 },
 "nbformat": 4,
 "nbformat_minor": 5
}
