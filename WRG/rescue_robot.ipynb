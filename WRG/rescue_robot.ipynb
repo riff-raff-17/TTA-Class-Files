{
 "cells": [
  {
   "cell_type": "markdown",
   "id": "2195a6cd",
   "metadata": {},
   "source": [
    "## Connecting to the robot"
   ]
  },
  {
   "cell_type": "code",
   "execution_count": 16,
   "id": "5e222fbd",
   "metadata": {},
   "outputs": [
    {
     "name": "stdout",
     "output_type": "stream",
     "text": [
      "192.168.1.201:50051\n",
      "Connected\n"
     ]
    }
   ],
   "source": [
    "from ugot import ugot\n",
    "got = ugot.UGOT()\n",
    "got.initialize(\"192.168.1.201\")\n",
    "print(\"Connected\")\n",
    "stop()"
   ]
  },
  {
   "cell_type": "markdown",
   "id": "0fade53a",
   "metadata": {},
   "source": [
    "## Helper functions"
   ]
  },
  {
   "cell_type": "code",
   "execution_count": 15,
   "id": "f8d0bde9",
   "metadata": {},
   "outputs": [],
   "source": [
    "def forward(L_w, R_w):\n",
    "    got.turn_motor_speed(31, R_w)\n",
    "    got.turn_motor_speed(41, -L_w)\n",
    "\n",
    "def left(L_w, R_w):\n",
    "    got.turn_motor_speed(31, R_w)\n",
    "    got.turn_motor_speed(41, L_w)\n",
    "\n",
    "def right(L_w, R_w):\n",
    "    got.turn_motor_speed(31, -R_w)\n",
    "    got.turn_motor_speed(41, -L_w)\n",
    "\n",
    "def stop():\n",
    "    got.stop_all_servos()"
   ]
  },
  {
   "cell_type": "code",
   "execution_count": null,
   "id": "0df49025",
   "metadata": {},
   "outputs": [],
   "source": [
    "import time\n",
    "global_speed = 30\n",
    "\n",
    "forward(global_speed, global_speed)\n",
    "time.sleep(2)\n",
    "left(global_speed, global_speed)\n",
    "time.sleep(2)\n",
    "right(global_speed, global_speed)\n",
    "time.sleep(2)\n",
    "stop()"
   ]
  },
  {
   "cell_type": "code",
   "execution_count": null,
   "id": "3c5bb317",
   "metadata": {},
   "outputs": [],
   "source": [
    "num = \"five\"\n",
    "\n",
    "try:\n",
    "    number = int(num)\n",
    "    print(\"That is the number\", number)\n",
    "except ValueError:\n",
    "    print(\"Not a number!\")"
   ]
  },
  {
   "cell_type": "markdown",
   "id": "85465448",
   "metadata": {},
   "source": [
    "## Camera"
   ]
  },
  {
   "cell_type": "code",
   "execution_count": null,
   "id": "ff455d5e",
   "metadata": {},
   "outputs": [
    {
     "name": "stdout",
     "output_type": "stream",
     "text": [
      "All imports resolved\n",
      "Done\n"
     ]
    }
   ],
   "source": [
    "import numpy as np\n",
    "import cv2\n",
    "from IPython.display import display, clear_output\n",
    "from PIL import Image\n",
    "print(\"All imports resolved\")\n",
    "\n",
    "got.open_camera()\n",
    "\n",
    "try:\n",
    "    while True:\n",
    "        frame = got.read_camera_data()\n",
    "        if frame is not None:\n",
    "            nparr = np.frombuffer(frame, np.uint8)\n",
    "            img = cv2.imdecode(nparr, cv2.IMREAD_COLOR)\n",
    "\n",
    "            # Writing\n",
    "            cv2.putText(img, text=\"hello\", org=(50, 300), fontFace=cv2.FONT_HERSHEY_SIMPLEX,\n",
    "                        fontScale=1, color=(0, 255, 0), thickness=2)\n",
    "            \n",
    "            # Drawing\n",
    "            # cv2.line(image, start point, end point, color, thickness)\n",
    "            cv2.line(img, (300, 100), (500, 400), (0, 255, 0), 3)\n",
    "\n",
    "            # cv2.rectangle(image, start point, end point, color, thickness)\n",
    "            cv2.rectangle(img, (50, 50), (200, 200), (0, 255, 0), 3)\n",
    "\n",
    "            img_rgb = cv2.cvtColor(img, cv2.COLOR_BGR2RGB)\n",
    "\n",
    "            # Convert to PIL Image for display\n",
    "            img_pil = Image.fromarray(img_rgb)\n",
    "\n",
    "            # Clear previous output and display new frame\n",
    "            clear_output(wait=True)\n",
    "            display(img_pil)\n",
    "except KeyboardInterrupt:\n",
    "    print(\"Done\")\n",
    "    stop()"
   ]
  },
  {
   "cell_type": "markdown",
   "id": "6bb2cddf",
   "metadata": {},
   "source": [
    "## Line follow (no camera)"
   ]
  },
  {
   "cell_type": "code",
   "execution_count": null,
   "id": "b5bee05f",
   "metadata": {},
   "outputs": [],
   "source": [
    "got.load_models([\"line_recognition\"])\n",
    "# 0 for single track, 1 for double track\n",
    "got.set_track_recognition_line(0)\n",
    "\n",
    "global_speed = 25\n",
    "\n",
    "try:\n",
    "    while True:\n",
    "        # positive: right, negative: left, 0: middle\n",
    "        offset = got.get_single_track_total_info()[0]\n",
    "        rot = round(0.18 * offset)\n",
    "\n",
    "        if offset > 10: \n",
    "            left(-global_speed, rot + global_speed)\n",
    "        elif offset < 10:\n",
    "            right(abs(rot) + global_speed, -global_speed)\n",
    "        else:\n",
    "            forward(global_speed, global_speed)\n",
    "\n",
    "        frame = got.read_camera_data()\n",
    "        if frame is not None:\n",
    "            nparr = np.frombuffer(frame, np.uint8)\n",
    "            img = cv2.imdecode(nparr, cv2.IMREAD_COLOR)\n",
    "            img_rgb = cv2.cvtColor(img, cv2.COLOR_BGR2RGB)\n",
    "\n",
    "            # Convert to PIL Image for display\n",
    "            img_pil = Image.fromarray(img_rgb)\n",
    "\n",
    "            # Clear previous output and display new frame\n",
    "            clear_output(wait=True)\n",
    "            display(img_pil)\n",
    "except KeyboardInterrupt:\n",
    "    print(\"done\")\n",
    "    stop()"
   ]
  },
  {
   "cell_type": "code",
   "execution_count": null,
   "id": "9fa47d49",
   "metadata": {},
   "outputs": [],
   "source": [
    "# file management\n",
    "import os\n",
    "import sys\n",
    "from pathlib import Path\n",
    "\n",
    "# simple version\n",
    "# v1.0\n",
    "def delete_file(file_path):\n",
    "    if os.path.exists(file_path):\n",
    "        os.remove(file_path)\n",
    "        print(f\"Deleted file: {file_path}\")\n",
    "    else:\n",
    "        print(f\"Error: {file_path} does not exist\")\n",
    "\n",
    "delete_file(\"C:/Users/ryan/delete_this.py\")\n"
   ]
  },
  {
   "cell_type": "code",
   "execution_count": null,
   "id": "99a6bfa1",
   "metadata": {},
   "outputs": [],
   "source": []
  }
 ],
 "metadata": {
  "kernelspec": {
   "display_name": "TTA",
   "language": "python",
   "name": "python3"
  },
  "language_info": {
   "codemirror_mode": {
    "name": "ipython",
    "version": 3
   },
   "file_extension": ".py",
   "mimetype": "text/x-python",
   "name": "python",
   "nbconvert_exporter": "python",
   "pygments_lexer": "ipython3",
   "version": "3.12.9"
  }
 },
 "nbformat": 4,
 "nbformat_minor": 5
}
