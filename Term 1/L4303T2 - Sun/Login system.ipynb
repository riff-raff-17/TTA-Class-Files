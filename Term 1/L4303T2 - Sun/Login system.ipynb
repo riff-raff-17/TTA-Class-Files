{
 "cells": [
  {
   "cell_type": "code",
   "execution_count": 27,
   "id": "1ff5fd3a-441f-4d51-aa7f-35487da397d0",
   "metadata": {},
   "outputs": [
    {
     "name": "stdout",
     "output_type": "stream",
     "text": [
      "dict_keys(['Rafa', 'liteng', 'bad user'])\n",
      "dict_values(['1234', '123', 'bad password'])\n"
     ]
    },
    {
     "data": {
      "text/plain": [
       "{'Rafa': 'a good password', 'liteng': '123', 'Gabriel': '689'}"
      ]
     },
     "execution_count": 27,
     "metadata": {},
     "output_type": "execute_result"
    }
   ],
   "source": [
    "#Dictionary whee\n",
    "user_pass = {\"Rafa\":\"1234\",\n",
    "            \"liteng\":\"123\",\n",
    "            \"bad user\": \"bad password\"} #key: values\n",
    "\n",
    "#get keys\n",
    "print(user_pass.keys())\n",
    "\n",
    "#get values\n",
    "print(user_pass.values())\n",
    "\n",
    "#add items to a dictionary\n",
    "user_pass[\"Gabriel\"] = \"689\"\n",
    "\n",
    "#change items in a dictionary\n",
    "user_pass[\"Rafa\"] = \"a good password\"\n",
    "\n",
    "#delete items in a dictionary\n",
    "del user_pass[\"bad user\"]\n",
    "\n",
    "user_pass\n",
    "\n"
   ]
  },
  {
   "cell_type": "code",
   "execution_count": null,
   "id": "c1246753-d0a9-40ac-8c48-c5f016c7b2b0",
   "metadata": {},
   "outputs": [],
   "source": [
    "import getpass\n",
    "\n",
    "user_pass = {\"1\":\"1\"}\n",
    "\n",
    "#flags\n",
    "tries = 3\n",
    "logged_in = False\n",
    "\n",
    "while True:\n",
    "    create_or_nah = input(\"1) Create account \\n2)Sign in\\n\")\n",
    "\n",
    "    if create_or_nah == \"1\":\n",
    "        while True:\n",
    "            new_user = input(\"Enter new username >\")\n",
    "            if new_user in user_pass:\n",
    "                print(\"Sorry, that username is already taken :(\")\n",
    "            else:\n",
    "                break\n",
    "        new_pw = input(\"Enter new password >\")\n",
    "        \n",
    "        user_pass[new_user] = new_pw\n",
    "        print(\"New user added!\")\n",
    "        break\n",
    "\n",
    "    elif create_or_nah == \"2\":\n",
    "        break\n",
    "\n",
    "    else:\n",
    "        print(\"I don't recognize that command. Please enter 1 or 2, it's not that hard.\")\n",
    "\n",
    "while tries > 0 and logged_in == False:\n",
    "    user = input(\"Enter your username >\")\n",
    "    pw = getpass.getpass(\"Enter your password >\")\n",
    "    \n",
    "    if user in user_pass:\n",
    "        if user_pass[user] == pw:\n",
    "            logged_in = True\n",
    "            print(f\"Welcome, {user}\")\n",
    "        else:\n",
    "            print(\"Incorrect username or password. \\nPlease try again\")\n",
    "            tries -= 1\n",
    "    else:\n",
    "        print(\"Incorrect username or password \\nPlease try again\")\n",
    "        tries -= 1\n",
    "\n",
    "\n",
    "#____________________________________________________________________________________________________\n",
    "if logged_in == False:\n",
    "    print(\"You have entered an incorrect username or password too many times. \\\n",
    "Your computer will now self destruct.\")\n",
    "else:\n",
    "    while True:\n",
    "        action = input(\"What would you like to do?\\n1) add users\\n2) delete users\\n3) edit password\\n4) exit\\n\")\n",
    "\n",
    "        if action == \"1\":\n",
    "            new_user = input(\"Enter new username >\")\n",
    "            new_pw = input(\"Enter new password >\")\n",
    "            \n",
    "            user_pass[new_user] = new_pw\n",
    "            print(\"New user added!\")\n",
    "\n",
    "        elif action == \"2\":\n",
    "\n",
    "        \n",
    "\n"
   ]
  },
  {
   "cell_type": "code",
   "execution_count": null,
   "id": "a28ff8c6-985b-4791-9510-6392dc6282c9",
   "metadata": {},
   "outputs": [],
   "source": []
  },
  {
   "cell_type": "code",
   "execution_count": null,
   "id": "02d8a308-e5d3-41c0-b8b9-101348fb0759",
   "metadata": {},
   "outputs": [],
   "source": []
  }
 ],
 "metadata": {
  "kernelspec": {
   "display_name": "Python [conda env:base] *",
   "language": "python",
   "name": "conda-base-py"
  },
  "language_info": {
   "codemirror_mode": {
    "name": "ipython",
    "version": 3
   },
   "file_extension": ".py",
   "mimetype": "text/x-python",
   "name": "python",
   "nbconvert_exporter": "python",
   "pygments_lexer": "ipython3",
   "version": "3.11.7"
  }
 },
 "nbformat": 4,
 "nbformat_minor": 5
}
